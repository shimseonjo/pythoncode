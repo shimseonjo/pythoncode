{
 "cells": [
  {
   "cell_type": "markdown",
   "metadata": {
    "colab_type": "text",
    "id": "fTim-K-PxgkB"
   },
   "source": [
    "### 워드클라우드에 사용할 데이타 가져오기"
   ]
  },
  {
   "cell_type": "code",
   "execution_count": null,
   "metadata": {
    "colab": {
     "base_uri": "https://localhost:8080/",
     "height": 342
    },
    "colab_type": "code",
    "executionInfo": {
     "elapsed": 593,
     "status": "error",
     "timestamp": 1564891152145,
     "user": {
      "displayName": "Seonjo Shim",
      "photoUrl": "https://lh3.googleusercontent.com/-K04ddUSI0QE/AAAAAAAAAAI/AAAAAAAAAYA/ivFCOQGwxW4/s64/photo.jpg",
      "userId": "10881891191800414350"
     },
     "user_tz": -540
    },
    "id": "vpRftukpxgkJ",
    "outputId": "b1528e75-c10d-4667-f31c-7632f6aeecf4"
   },
   "outputs": [],
   "source": [
    "import pandas as pd\n",
    "df = pd.read_csv('news.csv', engine='python', encoding='utf-8')"
   ]
  },
  {
   "cell_type": "code",
   "execution_count": null,
   "metadata": {
    "colab": {},
    "colab_type": "code",
    "id": "cdQbFmiexgkK",
    "outputId": "109a54a7-c81b-447b-e316-1a63b3cf4849"
   },
   "outputs": [],
   "source": [
    "sample_title = df['title'][:2]\n",
    "sample_title"
   ]
  },
  {
   "cell_type": "code",
   "execution_count": null,
   "metadata": {
    "colab": {},
    "colab_type": "code",
    "id": "jvwM4utFxgkN",
    "outputId": "f64975a2-bc71-423f-b93b-747465458260"
   },
   "outputs": [],
   "source": [
    "sample_content = df['contents'][:2]\n",
    "sample_content"
   ]
  },
  {
   "cell_type": "markdown",
   "metadata": {
    "colab_type": "text",
    "id": "v5j73Rt2xgkQ"
   },
   "source": [
    "### 자신의 관심사에 맞는 단어로 데이터를 가져옵니다."
   ]
  },
  {
   "cell_type": "code",
   "execution_count": null,
   "metadata": {
    "colab": {},
    "colab_type": "code",
    "id": "aSbTN5EMxgkR"
   },
   "outputs": [],
   "source": [
    "import re\n",
    "p = r'.*(일본|여행|비행기|호텔).*'\n",
    "topic = df[df['title'].str.match(p)|df['contents'].str.match(p, flags=re.MULTILINE)]\n",
    "topic.shape"
   ]
  },
  {
   "cell_type": "code",
   "execution_count": null,
   "metadata": {
    "colab": {},
    "colab_type": "code",
    "id": "K6U7nTFzxgkT"
   },
   "outputs": [],
   "source": [
    "topic.head() # topic.tail() topic.sample(3)"
   ]
  },
  {
   "cell_type": "markdown",
   "metadata": {},
   "source": [
    "### 워드클라우드에서 제외하고 싶은 단어"
   ]
  },
  {
   "cell_type": "code",
   "execution_count": null,
   "metadata": {},
   "outputs": [],
   "source": [
    "stopwords_kr = ['하지만', '그리고', '그런데', '저는','제가','그럼', '이런', '저런', '합니다',\n",
    "                '많은', '많이', '정말', '너무','[',']','것으로','했습니다','했다','있다'] "
   ]
  },
  {
   "cell_type": "markdown",
   "metadata": {
    "colab_type": "text",
    "id": "h2ziw69axgkk"
   },
   "source": [
    "### 워드클라우드 작성 함수"
   ]
  },
  {
   "cell_type": "code",
   "execution_count": null,
   "metadata": {
    "colab": {},
    "colab_type": "code",
    "id": "QMzbaizmxgkn"
   },
   "outputs": [],
   "source": [
    "from wordcloud import WordCloud\n",
    "import matplotlib.pyplot as plt\n",
    "%matplotlib inline\n",
    "\n",
    "def displayWordCloud(data = None, backgroundcolor = 'white', width=800, height=600 ):\n",
    "    wordcloud = WordCloud(\n",
    "                        #font_path = '/Library/Fonts/NanumBarunGothic.ttf', \n",
    "                        font_path = '/Library/Fonts/CookieRun Black.ttf',\n",
    "                        stopwords = stopwords_kr,\n",
    "                        background_color = backgroundcolor, \n",
    "                        width = width, height = height).generate(data)\n",
    "    #print(wordcloud.words_)\n",
    "    plt.figure(figsize = (15 , 10))\n",
    "    plt.imshow(wordcloud)\n",
    "    plt.axis(\"off\")\n",
    "    plt.show() "
   ]
  },
  {
   "cell_type": "markdown",
   "metadata": {},
   "source": [
    "- list = str.split() : 문자열 => 리스트, 공백시 스페이스 기준\n",
    "- ' '.join( list ) : 리스트에서 문자열으로"
   ]
  },
  {
   "cell_type": "code",
   "execution_count": null,
   "metadata": {},
   "outputs": [],
   "source": [
    "%time displayWordCloud(' '.join(df['contents']))"
   ]
  },
  {
   "cell_type": "markdown",
   "metadata": {},
   "source": [
    "### soynlp이용하여 명사추출"
   ]
  },
  {
   "cell_type": "code",
   "execution_count": null,
   "metadata": {
    "colab": {},
    "colab_type": "code",
    "id": "74rI0cyrxgkr"
   },
   "outputs": [],
   "source": [
    "from soynlp.noun import LRNounExtractor"
   ]
  },
  {
   "cell_type": "code",
   "execution_count": null,
   "metadata": {
    "colab": {},
    "colab_type": "code",
    "id": "QZLpX8PNxgkt",
    "outputId": "be6066c4-0d10-4c85-a908-00317c5e4621"
   },
   "outputs": [],
   "source": [
    "%%time\n",
    "noun_extractor = LRNounExtractor(verbose=True)\n",
    "noun_extractor.train(df['contents'])\n",
    "nouns = noun_extractor.extract()"
   ]
  },
  {
   "cell_type": "code",
   "execution_count": null,
   "metadata": {
    "colab": {},
    "colab_type": "code",
    "id": "afmY5H_oxgkx",
    "outputId": "361966a1-ebc9-4de4-ec15-f8eb5426923f"
   },
   "outputs": [],
   "source": [
    "# 추출된 명사를 찍어봅니다.\n",
    "%time displayWordCloud(' '.join(nouns))"
   ]
  },
  {
   "cell_type": "markdown",
   "metadata": {
    "colab_type": "text",
    "id": "Y23EuK7Bxgkz"
   },
   "source": [
    "### 특정 이미지 형태로 워드 클라우드 그리기"
   ]
  },
  {
   "cell_type": "code",
   "execution_count": null,
   "metadata": {
    "colab": {},
    "colab_type": "code",
    "id": "fA-hyQbaxgkz"
   },
   "outputs": [],
   "source": [
    "# 이미지 파일위에 출력하기\n",
    "from PIL import Image\n",
    "import numpy"
   ]
  },
  {
   "cell_type": "code",
   "execution_count": null,
   "metadata": {
    "colab": {},
    "colab_type": "code",
    "id": "H21tFDRjxgk1"
   },
   "outputs": [],
   "source": [
    "img = Image.open('cloud.png')\n",
    "img_array=numpy.array(img)"
   ]
  },
  {
   "cell_type": "code",
   "execution_count": null,
   "metadata": {
    "colab": {},
    "colab_type": "code",
    "id": "2NIMO_UDxgk3",
    "outputId": "a693d970-b3b6-421b-81e1-fa8220bee449",
    "scrolled": true
   },
   "outputs": [],
   "source": [
    "wordcloud = WordCloud( font_path = '/Library/Fonts/CookieRun Black.ttf', \n",
    "                       stopwords = stopwords_kr,\n",
    "                       background_color = 'white', \n",
    "                       mask=img_array,\n",
    "                       width = 800, height = 600).generate(' '.join(nouns))\n",
    "plt.figure(figsize = (15 , 10))\n",
    "plt.imshow(wordcloud)\n",
    "plt.axis(\"off\")\n",
    "plt.show()  \n",
    "wordcloud.to_file(\"simple.png\")"
   ]
  }
 ],
 "metadata": {
  "colab": {
   "name": "soynlp-wordcloud.ipynb",
   "provenance": [],
   "version": "0.3.2"
  },
  "kernelspec": {
   "display_name": "Python 3",
   "language": "python",
   "name": "python3"
  },
  "language_info": {
   "codemirror_mode": {
    "name": "ipython",
    "version": 3
   },
   "file_extension": ".py",
   "mimetype": "text/x-python",
   "name": "python",
   "nbconvert_exporter": "python",
   "pygments_lexer": "ipython3",
   "version": "3.7.3"
  },
  "toc": {
   "base_numbering": 1,
   "nav_menu": {},
   "number_sections": true,
   "sideBar": true,
   "skip_h1_title": false,
   "title_cell": "Table of Contents",
   "title_sidebar": "Contents",
   "toc_cell": false,
   "toc_position": {},
   "toc_section_display": true,
   "toc_window_display": true
  }
 },
 "nbformat": 4,
 "nbformat_minor": 2
}
