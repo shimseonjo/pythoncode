{
 "cells": [
  {
   "cell_type": "markdown",
   "metadata": {
    "colab_type": "text",
    "id": "fTim-K-PxgkB"
   },
   "source": [
    "# 워드클라우드"
   ]
  },
  {
   "cell_type": "markdown",
   "metadata": {},
   "source": [
    "## 1. 데이타 가져오기"
   ]
  },
  {
   "cell_type": "code",
   "execution_count": null,
   "metadata": {},
   "outputs": [],
   "source": [
    "f=open('[박경리]_토지1.txt','r')\n",
    "setence=f.read()\n",
    "#print(setence)"
   ]
  },
  {
   "cell_type": "markdown",
   "metadata": {
    "colab_type": "text",
    "id": "h2ziw69axgkk"
   },
   "source": [
    "## 2. 워드클라우드 그리기"
   ]
  },
  {
   "cell_type": "code",
   "execution_count": null,
   "metadata": {
    "colab": {},
    "colab_type": "code",
    "id": "59lhwPQExgkl",
    "outputId": "acd27d96-5404-4fca-9317-6732481e12cb"
   },
   "outputs": [],
   "source": [
    "!pip install wordcloud"
   ]
  },
  {
   "cell_type": "markdown",
   "metadata": {},
   "source": [
    "- 워드클라우드에서 제외하고 싶은 단어"
   ]
  },
  {
   "cell_type": "code",
   "execution_count": null,
   "metadata": {},
   "outputs": [],
   "source": [
    "stopwords_kr = ['하지만', '그리고', '그런데', '저는','제가','그럼', '이런', '저런', '합니다',\n",
    "                '많은', '많이', '정말', '너무','[',']','것으로','했습니다','했다','있다'] "
   ]
  },
  {
   "cell_type": "markdown",
   "metadata": {},
   "source": [
    "- 워드클라우스 설정"
   ]
  },
  {
   "cell_type": "code",
   "execution_count": null,
   "metadata": {
    "colab": {},
    "colab_type": "code",
    "id": "QMzbaizmxgkn"
   },
   "outputs": [],
   "source": [
    "from wordcloud import WordCloud\n",
    "import matplotlib.pyplot as plt\n",
    "%matplotlib inline\n",
    "\n",
    "def displayWordCloud(data = None, backgroundcolor = 'white', width=800, height=600 ):\n",
    "    wordcloud = WordCloud(\n",
    "                        #font_path = '/Library/Fonts/NanumBarunGothic.ttf', \n",
    "                        font_path = '/Library/Fonts/CookieRun Black.ttf',\n",
    "                        stopwords = stopwords_kr,\n",
    "                        background_color = backgroundcolor, \n",
    "                        width = width, height = height).generate(data)\n",
    "    print(wordcloud.words_)\n",
    "    plt.figure(figsize = (15 , 10))\n",
    "    plt.imshow(wordcloud)\n",
    "    plt.axis(\"off\")\n",
    "    plt.show() "
   ]
  },
  {
   "cell_type": "code",
   "execution_count": null,
   "metadata": {},
   "outputs": [],
   "source": [
    "# 결과를 출력해 보면 불용어(STOPWORD)가 너무 많습니다.\n",
    "%time displayWordCloud(setence)"
   ]
  },
  {
   "cell_type": "markdown",
   "metadata": {},
   "source": [
    "## 3. 불용어 제거"
   ]
  },
  {
   "cell_type": "markdown",
   "metadata": {},
   "source": [
    "- 문장에서 명사를 추출합니다.\n",
    "- https://github.com/lovit/soynlp "
   ]
  },
  {
   "cell_type": "code",
   "execution_count": null,
   "metadata": {},
   "outputs": [],
   "source": [
    "!pip install soynlp\n",
    "!pip show soynlp"
   ]
  },
  {
   "cell_type": "code",
   "execution_count": null,
   "metadata": {
    "colab": {},
    "colab_type": "code",
    "id": "74rI0cyrxgkr"
   },
   "outputs": [],
   "source": [
    "from soynlp.noun import NewsNounExtractor"
   ]
  },
  {
   "cell_type": "code",
   "execution_count": null,
   "metadata": {
    "colab": {},
    "colab_type": "code",
    "id": "QZLpX8PNxgkt",
    "outputId": "be6066c4-0d10-4c85-a908-00317c5e4621"
   },
   "outputs": [],
   "source": [
    "%%time\n",
    "noun_extractor = NewsNounExtractor()\n",
    "nouns = noun_extractor.train_extract([setence])"
   ]
  },
  {
   "cell_type": "markdown",
   "metadata": {},
   "source": [
    "- list = str.split() : 문자열 => 리스트, 공백시 스페이스 기준\n",
    "- ' '.join( list ) : 리스트에서 문자열으로"
   ]
  },
  {
   "cell_type": "code",
   "execution_count": null,
   "metadata": {
    "colab": {},
    "colab_type": "code",
    "id": "afmY5H_oxgkx",
    "outputId": "361966a1-ebc9-4de4-ec15-f8eb5426923f"
   },
   "outputs": [],
   "source": [
    "# 추출된 명사를 찍어봅니다.\n",
    "%time displayWordCloud(' '.join(nouns))"
   ]
  },
  {
   "cell_type": "markdown",
   "metadata": {
    "colab_type": "text",
    "id": "Y23EuK7Bxgkz"
   },
   "source": [
    "## 4. 특정 이미지 형태로 워드 클라우드 그리기"
   ]
  },
  {
   "cell_type": "code",
   "execution_count": null,
   "metadata": {
    "colab": {},
    "colab_type": "code",
    "id": "fA-hyQbaxgkz"
   },
   "outputs": [],
   "source": [
    "# 이미지 파일위에 출력하기\n",
    "from PIL import Image\n",
    "import numpy"
   ]
  },
  {
   "cell_type": "code",
   "execution_count": null,
   "metadata": {
    "colab": {},
    "colab_type": "code",
    "id": "H21tFDRjxgk1"
   },
   "outputs": [],
   "source": [
    "img = Image.open('cloud.png')\n",
    "img_array=numpy.array(img)"
   ]
  },
  {
   "cell_type": "code",
   "execution_count": null,
   "metadata": {
    "colab": {},
    "colab_type": "code",
    "id": "2NIMO_UDxgk3",
    "outputId": "a693d970-b3b6-421b-81e1-fa8220bee449",
    "scrolled": true
   },
   "outputs": [],
   "source": [
    "wordcloud = WordCloud( font_path = '/Library/Fonts/CookieRun Black.ttf', \n",
    "                       stopwords = stopwords_kr,\n",
    "                       background_color = 'white', \n",
    "                       mask=img_array,\n",
    "                       width = 800, height = 600).generate(' '.join(nouns))\n",
    "plt.figure(figsize = (15 , 10))\n",
    "plt.imshow(wordcloud)\n",
    "plt.axis(\"off\")\n",
    "plt.show()  \n",
    "\n",
    "# 이미지로 결과 저정\n",
    "wordcloud.to_file(\"simple.png\")"
   ]
  }
 ],
 "metadata": {
  "colab": {
   "name": "soynlp-wordcloud.ipynb",
   "provenance": [],
   "version": "0.3.2"
  },
  "kernelspec": {
   "display_name": "Python 3",
   "language": "python",
   "name": "python3"
  },
  "language_info": {
   "codemirror_mode": {
    "name": "ipython",
    "version": 3
   },
   "file_extension": ".py",
   "mimetype": "text/x-python",
   "name": "python",
   "nbconvert_exporter": "python",
   "pygments_lexer": "ipython3",
   "version": "3.7.3"
  },
  "toc": {
   "base_numbering": 1,
   "nav_menu": {},
   "number_sections": true,
   "sideBar": true,
   "skip_h1_title": false,
   "title_cell": "Table of Contents",
   "title_sidebar": "Contents",
   "toc_cell": false,
   "toc_position": {},
   "toc_section_display": true,
   "toc_window_display": true
  }
 },
 "nbformat": 4,
 "nbformat_minor": 2
}
