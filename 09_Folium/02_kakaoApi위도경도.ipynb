{
 "cells": [
  {
   "cell_type": "markdown",
   "metadata": {},
   "source": [
    "http://icansoft.com/blog/getting-api-key-for-kakaotalk-web-share"
   ]
  },
  {
   "cell_type": "markdown",
   "metadata": {},
   "source": [
    "> 위 링크를 참조 하셔서 2단계 까지만 진행하셔도 됩니다. restAPI키를 KAKAO_API_KEY로 셋팅"
   ]
  },
  {
   "cell_type": "raw",
   "metadata": {},
   "source": [
    "61a529df8eb2309c76b7f467d0aedb3a\n",
    "\n",
    "curl -v -X GET \"https://dapi.kakao.com/v2/local/search/address.json\" \\\n",
    "--data-urlencode \"query=전북 삼성동 100\" \\\n",
    "-H \"Authorization: KakaoAK kkkkkkkkkkkkkkkkkkkkkkkkkkkkkkkk\""
   ]
  },
  {
   "cell_type": "code",
   "execution_count": 1,
   "metadata": {},
   "outputs": [],
   "source": [
    "import requests"
   ]
  },
  {
   "cell_type": "code",
   "execution_count": 8,
   "metadata": {},
   "outputs": [],
   "source": [
    "# API를 이용한 http통신을 통해서 획득\n",
    "# requests, urllib, beautifulSop, Selenium등등이 웹 크롤링 기술 대상 모듈이다.\n",
    "\n",
    "KAKAO_API_KEY='61a529df8eb2309c76b7f467d0aedb3a'\n",
    "url = '''\n",
    "https://dapi.kakao.com/v2/local/search/address.json?query={0}\n",
    "'''.format('대구 달서구')\n",
    "headers={'Authorization': 'KakaoAK {0}'.format(KAKAO_API_KEY)}\n",
    "res = requests.get(url, headers=headers)\n",
    "res = res.json()"
   ]
  },
  {
   "cell_type": "code",
   "execution_count": 9,
   "metadata": {},
   "outputs": [],
   "source": []
  },
  {
   "cell_type": "code",
   "execution_count": 10,
   "metadata": {},
   "outputs": [
    {
     "data": {
      "text/plain": [
       "{'documents': [{'address': {'address_name': '대구 달서구',\n",
       "    'b_code': '2729000000',\n",
       "    'h_code': '2729000000',\n",
       "    'main_address_no': '',\n",
       "    'mountain_yn': 'N',\n",
       "    'region_1depth_name': '대구',\n",
       "    'region_2depth_name': '달서구',\n",
       "    'region_3depth_h_name': '',\n",
       "    'region_3depth_name': '',\n",
       "    'sub_address_no': '',\n",
       "    'x': '128.532774031817',\n",
       "    'y': '35.8298871998368'},\n",
       "   'address_name': '대구 달서구',\n",
       "   'address_type': 'REGION',\n",
       "   'road_address': None,\n",
       "   'x': '128.532774031817',\n",
       "   'y': '35.8298871998368'}],\n",
       " 'meta': {'is_end': True, 'pageable_count': 1, 'total_count': 1}}"
      ]
     },
     "execution_count": 10,
     "metadata": {},
     "output_type": "execute_result"
    }
   ],
   "source": [
    "res"
   ]
  },
  {
   "cell_type": "code",
   "execution_count": 12,
   "metadata": {
    "collapsed": true,
    "jupyter": {
     "outputs_hidden": true
    }
   },
   "outputs": [
    {
     "data": {
      "text/plain": [
       "{'meta': {'total_count': 2},\n",
       " 'documents': [{'region_type': 'B',\n",
       "   'code': '4113510900',\n",
       "   'address_name': '경기도 성남시 분당구 삼평동',\n",
       "   'region_1depth_name': '경기도',\n",
       "   'region_2depth_name': '성남시 분당구',\n",
       "   'region_3depth_name': '삼평동',\n",
       "   'region_4depth_name': '',\n",
       "   'x': 127.1163593869371,\n",
       "   'y': 37.40612091848614},\n",
       "  {'region_type': 'H',\n",
       "   'code': '4113565500',\n",
       "   'address_name': '경기도 성남시 분당구 삼평동',\n",
       "   'region_1depth_name': '경기도',\n",
       "   'region_2depth_name': '성남시 분당구',\n",
       "   'region_3depth_name': '삼평동',\n",
       "   'region_4depth_name': '',\n",
       "   'x': 127.1163593869371,\n",
       "   'y': 37.40612091848614}]}"
      ]
     },
     "execution_count": 12,
     "metadata": {},
     "output_type": "execute_result"
    }
   ],
   "source": [
    "x='127.108622'\n",
    "y='37.4012191'\n",
    "\n",
    "KAKAO_API_KEY='61a529df8eb2309c76b7f467d0aedb3a'\n",
    "url = '''\n",
    "https://dapi.kakao.com/v2/local/geo/coord2regioncode.json?x={}8&y={}\n",
    "'''.format(x,y)\n",
    "headers={'Authorization': 'KakaoAK {0}'.format(KAKAO_API_KEY)}\n",
    "res = requests.get(url, headers=headers)\n",
    "res = res.json()\n",
    "res"
   ]
  },
  {
   "cell_type": "code",
   "execution_count": 15,
   "metadata": {
    "collapsed": true,
    "jupyter": {
     "outputs_hidden": true
    }
   },
   "outputs": [
    {
     "data": {
      "text/plain": [
       "{'documents': [{'address_name': '서울 강남구 삼성동 159',\n",
       "   'category_group_code': '',\n",
       "   'category_group_name': '',\n",
       "   'category_name': '가정,생활 > 문구,사무용품 > 디자인문구 > 카카오프렌즈',\n",
       "   'distance': '418',\n",
       "   'id': '26338954',\n",
       "   'phone': '02-6002-1880',\n",
       "   'place_name': '카카오프렌즈 스타필드 코엑스몰점',\n",
       "   'place_url': 'http://place.map.kakao.com/26338954',\n",
       "   'road_address_name': '서울 강남구 영동대로 513',\n",
       "   'x': '127.059028716089',\n",
       "   'y': '37.5120756277877'},\n",
       "  {'address_name': '서울 서초구 서초동 1305-7',\n",
       "   'category_group_code': '',\n",
       "   'category_group_name': '',\n",
       "   'category_name': '가정,생활 > 문구,사무용품 > 디자인문구 > 카카오프렌즈',\n",
       "   'distance': '3596',\n",
       "   'id': '653245473',\n",
       "   'phone': '02-6494-1100',\n",
       "   'place_name': '카카오프렌즈 강남플래그십스토어',\n",
       "   'place_url': 'http://place.map.kakao.com/653245473',\n",
       "   'road_address_name': '서울 서초구 강남대로 429',\n",
       "   'x': '127.025811882515',\n",
       "   'y': '37.5008934694709'},\n",
       "  {'address_name': '서울 송파구 신천동 29',\n",
       "   'category_group_code': '',\n",
       "   'category_group_name': '',\n",
       "   'category_name': '가정,생활 > 문구,사무용품 > 디자인문구 > 카카오프렌즈',\n",
       "   'distance': '3679',\n",
       "   'id': '27375630',\n",
       "   'phone': '02-3213-4514',\n",
       "   'place_name': '카카오프렌즈 롯데월드몰 잠실점',\n",
       "   'place_url': 'http://place.map.kakao.com/27375630',\n",
       "   'road_address_name': '서울 송파구 올림픽로 300',\n",
       "   'x': '127.104446099818',\n",
       "   'y': '37.5137525026039'},\n",
       "  {'address_name': '서울 송파구 신천동 29',\n",
       "   'category_group_code': '',\n",
       "   'category_group_name': '',\n",
       "   'category_name': '가정,생활 > 문구,사무용품 > 디자인문구 > 카카오프렌즈',\n",
       "   'distance': '3511',\n",
       "   'id': '763114469',\n",
       "   'phone': '02-3213-6743',\n",
       "   'place_name': '카카오프렌즈 롯데월드타워 면세점',\n",
       "   'place_url': 'http://place.map.kakao.com/763114469',\n",
       "   'road_address_name': '서울 송파구 올림픽로 300',\n",
       "   'x': '127.102493347363',\n",
       "   'y': '37.5125829083359'},\n",
       "  {'address_name': '서울 서초구 반포동 19-3',\n",
       "   'category_group_code': '',\n",
       "   'category_group_name': '',\n",
       "   'category_name': '가정,생활 > 문구,사무용품 > 디자인문구 > 카카오프렌즈',\n",
       "   'distance': '5267',\n",
       "   'id': '27255007',\n",
       "   'phone': '02-3479-1328',\n",
       "   'place_name': '카카오프렌즈 신세계백화점 강남점',\n",
       "   'place_url': 'http://place.map.kakao.com/27255007',\n",
       "   'road_address_name': '서울 서초구 신반포로 176',\n",
       "   'x': '127.004351994592',\n",
       "   'y': '37.5052714927176'},\n",
       "  {'address_name': '서울 중구 을지로7가 143',\n",
       "   'category_group_code': '',\n",
       "   'category_group_name': '',\n",
       "   'category_name': '가정,생활 > 문구,사무용품 > 디자인문구 > 카카오프렌즈',\n",
       "   'distance': '7507',\n",
       "   'id': '329600907',\n",
       "   'phone': '02-2231-3552',\n",
       "   'place_name': '카카오프렌즈 DDP동대문점',\n",
       "   'place_url': 'http://place.map.kakao.com/329600907',\n",
       "   'road_address_name': '서울 중구 을지로 281',\n",
       "   'x': '127.009865740324',\n",
       "   'y': '37.5672059407741'},\n",
       "  {'address_name': '서울 중구 남대문로2가 123',\n",
       "   'category_group_code': '',\n",
       "   'category_group_name': '',\n",
       "   'category_name': '가정,생활 > 문구,사무용품 > 디자인문구 > 카카오프렌즈',\n",
       "   'distance': '9014',\n",
       "   'id': '1044004404',\n",
       "   'phone': '02-2118-5150',\n",
       "   'place_name': '카카오프렌즈 롯데영플라자명동점',\n",
       "   'place_url': 'http://place.map.kakao.com/1044004404',\n",
       "   'road_address_name': '서울 중구 남대문로 67',\n",
       "   'x': '126.981682046205',\n",
       "   'y': '37.5635252637636'},\n",
       "  {'address_name': '서울 중구 충무로1가 52-5',\n",
       "   'category_group_code': '',\n",
       "   'category_group_name': '',\n",
       "   'category_name': '가정,생활 > 문구,사무용품 > 디자인문구 > 카카오프렌즈',\n",
       "   'distance': '8887',\n",
       "   'id': '1777071768',\n",
       "   'phone': '02-6370-4278',\n",
       "   'place_name': '카카오프렌즈 신세계면세 명동점',\n",
       "   'place_url': 'http://place.map.kakao.com/1777071768',\n",
       "   'road_address_name': '서울 중구 소공로 63',\n",
       "   'x': '126.981089600579',\n",
       "   'y': '37.5609663400347'},\n",
       "  {'address_name': '서울 용산구 한강로3가 40-999',\n",
       "   'category_group_code': '',\n",
       "   'category_group_name': '',\n",
       "   'category_name': '가정,생활 > 문구,사무용품 > 디자인문구 > 카카오프렌즈',\n",
       "   'distance': '8843',\n",
       "   'id': '26945558',\n",
       "   'phone': '02-490-3927',\n",
       "   'place_name': '카카오프렌즈 용산신라아이파크면세점',\n",
       "   'place_url': 'http://place.map.kakao.com/26945558',\n",
       "   'road_address_name': '서울 용산구 한강대로23길 55',\n",
       "   'x': '126.964665861534',\n",
       "   'y': '37.5296762726822'},\n",
       "  {'address_name': '서울 용산구 한강로3가 40-999',\n",
       "   'category_group_code': '',\n",
       "   'category_group_name': '',\n",
       "   'category_name': '가정,생활 > 문구,사무용품 > 디자인문구 > 카카오프렌즈',\n",
       "   'distance': '8853',\n",
       "   'id': '63582914',\n",
       "   'phone': '070-4821-0987',\n",
       "   'place_name': '카카오프렌즈 용산역 팝업스토어',\n",
       "   'place_url': 'http://place.map.kakao.com/63582914',\n",
       "   'road_address_name': '서울 용산구 한강대로23길 55',\n",
       "   'x': '126.96457868244',\n",
       "   'y': '37.5298150008031'},\n",
       "  {'address_name': '서울 용산구 동자동 43-205',\n",
       "   'category_group_code': '',\n",
       "   'category_group_name': '',\n",
       "   'category_name': '가정,생활 > 문구,사무용품 > 디자인문구 > 카카오프렌즈',\n",
       "   'distance': '9302',\n",
       "   'id': '1256445945',\n",
       "   'phone': '070-4821-0492',\n",
       "   'place_name': '카카오프렌즈 서울역점',\n",
       "   'place_url': 'http://place.map.kakao.com/1256445945',\n",
       "   'road_address_name': '서울 용산구 한강대로 405',\n",
       "   'x': '126.970586543568',\n",
       "   'y': '37.5546860417757'},\n",
       "  {'address_name': '서울 마포구 동교동 165-5',\n",
       "   'category_group_code': '',\n",
       "   'category_group_name': '',\n",
       "   'category_name': '가정,생활 > 문구,사무용품 > 디자인문구 > 카카오프렌즈',\n",
       "   'distance': '13132',\n",
       "   'id': '1786432255',\n",
       "   'phone': '02-6010-0104',\n",
       "   'place_name': '카카오프렌즈 홍대플래그십스토어',\n",
       "   'place_url': 'http://place.map.kakao.com/1786432255',\n",
       "   'road_address_name': '서울 마포구 양화로 162',\n",
       "   'x': '126.923919460392',\n",
       "   'y': '37.5563194254356'},\n",
       "  {'address_name': '서울 용산구 용산동2가 산 1-11',\n",
       "   'category_group_code': 'AT4',\n",
       "   'category_group_name': '관광명소',\n",
       "   'category_name': '여행 > 관광,명소 > 테마파크',\n",
       "   'distance': '7766',\n",
       "   'id': '1792487174',\n",
       "   'phone': '',\n",
       "   'place_name': '라이언치즈볼 어드벤처',\n",
       "   'place_url': 'http://place.map.kakao.com/1792487174',\n",
       "   'road_address_name': '',\n",
       "   'x': '126.98805298819559',\n",
       "   'y': '37.55106438588833'},\n",
       "  {'address_name': '서울 영등포구 영등포동4가 442',\n",
       "   'category_group_code': '',\n",
       "   'category_group_name': '',\n",
       "   'category_name': '가정,생활 > 문구,사무용품 > 디자인문구 > 카카오프렌즈',\n",
       "   'distance': '14128',\n",
       "   'id': '1411970905',\n",
       "   'phone': '02-2638-2750',\n",
       "   'place_name': '카카오프렌즈 타임스퀘어점',\n",
       "   'place_url': 'http://place.map.kakao.com/1411970905',\n",
       "   'road_address_name': '서울 영등포구 영중로 15',\n",
       "   'x': '126.90306008669398',\n",
       "   'y': '37.51710703022398'},\n",
       "  {'address_name': '서울 서대문구 창천동 30-33',\n",
       "   'category_group_code': '',\n",
       "   'category_group_name': '',\n",
       "   'category_name': '가정,생활 > 문구,사무용품 > 디자인문구 > 카카오프렌즈',\n",
       "   'distance': '12145',\n",
       "   'id': '26029863',\n",
       "   'phone': '02-3145-1722',\n",
       "   'place_name': '카카오프렌즈 현대백화점 신촌점',\n",
       "   'place_url': 'http://place.map.kakao.com/26029863',\n",
       "   'road_address_name': '서울 서대문구 신촌로 83',\n",
       "   'x': '126.935798501194',\n",
       "   'y': '37.5560525790381'}],\n",
       " 'meta': {'is_end': False,\n",
       "  'pageable_count': 20,\n",
       "  'same_name': {'keyword': '카카오프렌즈', 'region': [], 'selected_region': ''},\n",
       "  'total_count': 20}}"
      ]
     },
     "execution_count": 15,
     "metadata": {},
     "output_type": "execute_result"
    }
   ],
   "source": [
    "x='127.06283102249932'\n",
    "y='37.514322572335935'\n",
    "radius='20000'\n",
    "query='카카오프렌즈'\n",
    "KAKAO_API_KEY='61a529df8eb2309c76b7f467d0aedb3a'\n",
    "url = '''\n",
    "https://dapi.kakao.com/v2/local/search/keyword.json?y={}&x={}&radius={}&query={}\n",
    "'''.format(y,x,radius,query)\n",
    "headers={'Authorization': 'KakaoAK {0}'.format(KAKAO_API_KEY)}\n",
    "res = requests.get(url, headers=headers)\n",
    "res = res.json()\n",
    "res"
   ]
  },
  {
   "cell_type": "code",
   "execution_count": 24,
   "metadata": {},
   "outputs": [
    {
     "data": {
      "text/plain": [
       "{'documents': [],\n",
       " 'meta': {'is_end': True,\n",
       "  'pageable_count': 0,\n",
       "  'same_name': {'keyword': '비즈니스센터', 'region': [], 'selected_region': '대구광역시'},\n",
       "  'total_count': 0}}"
      ]
     },
     "execution_count": 24,
     "metadata": {},
     "output_type": "execute_result"
    }
   ],
   "source": [
    "query='대구시청'\n",
    "code='PO3'\n",
    "KAKAO_API_KEY='61a529df8eb2309c76b7f467d0aedb3a'\n",
    "url = '''\n",
    "https://dapi.kakao.com/v2/local/search/keyword.json?query={}&category_group_code={}\n",
    "'''.format(query,code)\n",
    "headers={'Authorization': 'KakaoAK {0}'.format(KAKAO_API_KEY)}\n",
    "res = requests.get(url, headers=headers)\n",
    "res = res.json()\n",
    "res"
   ]
  },
  {
   "cell_type": "code",
   "execution_count": 27,
   "metadata": {},
   "outputs": [
    {
     "data": {
      "text/plain": [
       "{'documents': [{'address_name': '대구 달서구 갈산동 264-7',\n",
       "   'category_group_code': 'CS2',\n",
       "   'category_group_name': '편의점',\n",
       "   'category_name': '가정,생활 > 편의점 > GS25',\n",
       "   'distance': '751',\n",
       "   'id': '12295202',\n",
       "   'phone': '053-583-7873',\n",
       "   'place_name': 'GS25 성서공단점',\n",
       "   'place_url': 'http://place.map.kakao.com/12295202',\n",
       "   'road_address_name': '대구 달서구 성서서로 176',\n",
       "   'x': '128.500164367034',\n",
       "   'y': '35.8406801074422'},\n",
       "  {'address_name': '대구 달서구 월암동 1-158',\n",
       "   'category_group_code': 'CS2',\n",
       "   'category_group_name': '편의점',\n",
       "   'category_name': '가정,생활 > 편의점 > GS25',\n",
       "   'distance': '987',\n",
       "   'id': '1609548108',\n",
       "   'phone': '',\n",
       "   'place_name': 'GS25 성서2공단점',\n",
       "   'place_url': 'http://place.map.kakao.com/1609548108',\n",
       "   'road_address_name': '대구 달서구 성서공단로22안길 16',\n",
       "   'x': '128.496114471085',\n",
       "   'y': '35.8341232948896'}],\n",
       " 'meta': {'is_end': True,\n",
       "  'pageable_count': 2,\n",
       "  'same_name': {'keyword': 'gs', 'region': [], 'selected_region': ''},\n",
       "  'total_count': 2}}"
      ]
     },
     "execution_count": 27,
     "metadata": {},
     "output_type": "execute_result"
    }
   ],
   "source": [
    "KAKAO_API_KEY='61a529df8eb2309c76b7f467d0aedb3a'\n",
    "\n",
    "query='대구비즈니스센터'\n",
    "url = '''\n",
    "https://dapi.kakao.com/v2/local/search/keyword.json?query={}\n",
    "'''.format(query)\n",
    "headers={'Authorization': 'KakaoAK {0}'.format(KAKAO_API_KEY)}\n",
    "res = requests.get(url, headers=headers)\n",
    "res = res.json()\n",
    "\n",
    "x=res['documents'][0]['x']\n",
    "y=res['documents'][0]['y']\n",
    "radius='1000'\n",
    "code='CS2'\n",
    "query='gs'\n",
    "url = '''\n",
    "https://dapi.kakao.com/v2/local/search/keyword.json?y={}&x={}&radius={}&category_group_code={}&query={}\n",
    "'''.format(y,x,radius,code,query)\n",
    "headers={'Authorization': 'KakaoAK {0}'.format(KAKAO_API_KEY)}\n",
    "res = requests.get(url, headers=headers)\n",
    "res = res.json()\n",
    "res"
   ]
  },
  {
   "cell_type": "code",
   "execution_count": null,
   "metadata": {},
   "outputs": [],
   "source": []
  },
  {
   "cell_type": "code",
   "execution_count": 6,
   "metadata": {},
   "outputs": [],
   "source": [
    "# 검색어를 던져서 응답 데이터중에 주소, 위도, 경도 질의어 리턴 함수\n",
    "def net_get_geo_coder(query):\n",
    "    KAKAO_API_KEY='c297f93a174b2f5aacb65b540688f704'\n",
    "    url = '''\n",
    "    https://dapi.kakao.com/v2/local/search/keyword.json?query={0}&category_group_code=PO3\n",
    "    '''.format(query)\n",
    "    headers={'Authorization': 'KakaoAK {0}'.format(KAKAO_API_KEY)}\n",
    "    # API 쿼리 수행\n",
    "    res = requests.get(url, headers=headers)\n",
    "    res = res.json()\n",
    "    # 데이터 추출 => 리턴 값이 하나 이상이면 튜플로 리턴이 된다!!!\n",
    "    # 데이터 리턴 : 주소, 위도, 경도, 질의어 순으로 튜플형태로 리턴\n",
    "    return res['documents'][0]['address_name'], res['documents'][0]['y'], res['documents'][0]['x'], res['documents'][0]['place_name']"
   ]
  },
  {
   "cell_type": "code",
   "execution_count": 7,
   "metadata": {},
   "outputs": [
    {
     "data": {
      "text/plain": [
       "('제주특별자치도 서귀포시 하효동 152-1', '33.2633027229827', '126.615561813032', '효돈동주민센터')"
      ]
     },
     "execution_count": 7,
     "metadata": {},
     "output_type": "execute_result"
    }
   ],
   "source": [
    "net_get_geo_coder('효돈동')"
   ]
  },
  {
   "cell_type": "code",
   "execution_count": null,
   "metadata": {},
   "outputs": [],
   "source": []
  }
 ],
 "metadata": {
  "kernelspec": {
   "display_name": "Python 3",
   "language": "python",
   "name": "python3"
  },
  "language_info": {
   "codemirror_mode": {
    "name": "ipython",
    "version": 3
   },
   "file_extension": ".py",
   "mimetype": "text/x-python",
   "name": "python",
   "nbconvert_exporter": "python",
   "pygments_lexer": "ipython3",
   "version": "3.7.6"
  }
 },
 "nbformat": 4,
 "nbformat_minor": 4
}
