{
 "cells": [
  {
   "cell_type": "code",
   "execution_count": 1,
   "metadata": {
    "collapsed": false
   },
   "outputs": [
    {
     "name": "stdout",
     "output_type": "stream",
     "text": [
      "x_data.shape =  (10, 1) , t_data.shape =  (10, 1)\n"
     ]
    }
   ],
   "source": [
    "import numpy as np\n",
    "\n",
    "x_data = np.array([2, 4, 6, 8, 10, 12, 14, 16, 18, 20]).reshape(10,1)   \n",
    "t_data = np.array([0, 0, 0, 0,  0,  0,  1,  1,  1,  1]).reshape(10,1)\n",
    "\n",
    "print(\"x_data.shape = \", x_data.shape, \", t_data.shape = \", t_data.shape)"
   ]
  },
  {
   "cell_type": "code",
   "execution_count": 2,
   "metadata": {
    "collapsed": false
   },
   "outputs": [
    {
     "name": "stdout",
     "output_type": "stream",
     "text": [
      "W =  [[0.88267191]] , W.shape =  (1, 1) , b =  [0.40204683] , b.shape =  (1,)\n"
     ]
    }
   ],
   "source": [
    "W = np.random.rand(1,1)  \n",
    "b = np.random.rand(1)  \n",
    "print(\"W = \", W, \", W.shape = \", W.shape, \", b = \", b, \", b.shape = \", b.shape)"
   ]
  },
  {
   "cell_type": "code",
   "execution_count": 3,
   "metadata": {
    "collapsed": true
   },
   "outputs": [],
   "source": [
    "# 최종출력은 y = sigmoid(Wx+b) 이며, 손실함수는 cross-entropy 로 나타냄\n",
    "\n",
    "def sigmoid(x):\n",
    "    return 1 / (1+np.exp(-x))\n",
    "\n",
    "def loss_func(x, t):\n",
    "    \n",
    "    delta = 1e-7    # log 무한대 발산 방지\n",
    "    \n",
    "    z = np.dot(x,W) + b\n",
    "    y = sigmoid(z)\n",
    "    \n",
    "    # cross-entropy \n",
    "    return  -np.sum( t*np.log(y + delta) + (1-t)*np.log((1 - y)+delta ) ) "
   ]
  },
  {
   "cell_type": "code",
   "execution_count": 4,
   "metadata": {
    "collapsed": true
   },
   "outputs": [],
   "source": [
    "def numerical_derivative(f, x):\n",
    "    delta_x = 1e-4 # 0.0001\n",
    "    grad = np.zeros_like(x)\n",
    "    \n",
    "    it = np.nditer(x, flags=['multi_index'], op_flags=['readwrite'])\n",
    "    \n",
    "    while not it.finished:\n",
    "        idx = it.multi_index        \n",
    "        tmp_val = x[idx]\n",
    "        x[idx] = float(tmp_val) + delta_x\n",
    "        fx1 = f(x) # f(x+delta_x)\n",
    "        \n",
    "        x[idx] = tmp_val - delta_x \n",
    "        fx2 = f(x) # f(x-delta_x)\n",
    "        grad[idx] = (fx1 - fx2) / (2*delta_x)\n",
    "        \n",
    "        x[idx] = tmp_val \n",
    "        it.iternext()   \n",
    "        \n",
    "    return grad"
   ]
  },
  {
   "cell_type": "code",
   "execution_count": 5,
   "metadata": {
    "collapsed": true
   },
   "outputs": [],
   "source": [
    "# 손실함수 값 계산 함수\n",
    "# 입력변수 x, t : numpy type\n",
    "def error_val(x, t):\n",
    "    delta = 1e-7    # log 무한대 발산 방지\n",
    "    \n",
    "    z = np.dot(x,W) + b\n",
    "    y = sigmoid(z)\n",
    "    \n",
    "    # cross-entropy \n",
    "    return  -np.sum( t*np.log(y + delta) + (1-t)*np.log((1 - y)+delta ) ) \n",
    "\n",
    "# 학습을 마친 후, 임의의 데이터에 대해 미래 값 예측 함수\n",
    "# 입력변수 x : numpy type\n",
    "def predict(x):\n",
    "    \n",
    "    z = np.dot(x,W) + b\n",
    "    y = sigmoid(z)\n",
    "    \n",
    "    if y >= 0.5:\n",
    "        result = 1  # True\n",
    "    else:\n",
    "        result = 0  # False\n",
    "    \n",
    "    return y, result"
   ]
  },
  {
   "cell_type": "code",
   "execution_count": 6,
   "metadata": {
    "collapsed": false
   },
   "outputs": [
    {
     "name": "stdout",
     "output_type": "stream",
     "text": [
      "Initial error value =  39.609160832668614 Initial W =  [[0.88267191]] \n",
      " , b =  [0.40204683]\n",
      "step =  0 error value =  22.08998558501596 W =  [[0.46658122]] , b =  [0.3457198]\n",
      "step =  400 error value =  2.7112899020268144 W =  [[0.2883743]] , b =  [-4.19777853]\n",
      "step =  800 error value =  1.7687311181366658 W =  [[0.45717995]] , b =  [-5.69196383]\n",
      "step =  1200 error value =  1.5092764486464743 W =  [[0.53361088]] , b =  [-6.7095576]\n",
      "step =  1600 error value =  1.3465978216767613 W =  [[0.59435392]] , b =  [-7.51609476]\n",
      "step =  2000 error value =  1.2316650068769381 W =  [[0.64553509]] , b =  [-8.1941989]\n",
      "step =  2400 error value =  1.1444532625855977 W =  [[0.69019961]] , b =  [-8.78492152]\n",
      "step =  2800 error value =  1.0750575128802342 W =  [[0.73009866]] , b =  [-9.31184835]\n",
      "step =  3200 error value =  1.017938075682251 W =  [[0.76633924]] , b =  [-9.78987339]\n",
      "step =  3600 error value =  0.9697187276177878 W =  [[0.79966946]] , b =  [-10.2290504]\n",
      "step =  4000 error value =  0.928206532552855 W =  [[0.83062062]] , b =  [-10.63651141]\n",
      "step =  4400 error value =  0.8919054073146438 W =  [[0.8595848]] , b =  [-11.01751419]\n",
      "step =  4800 error value =  0.8597539960948865 W =  [[0.88686038]] , b =  [-11.3760556]\n",
      "step =  5200 error value =  0.8309749766758424 W =  [[0.91268016]] , b =  [-11.71525106]\n",
      "step =  5600 error value =  0.8049837791183241 W =  [[0.93722961]] , b =  [-12.03758017]\n",
      "step =  6000 error value =  0.781330854709257 W =  [[0.96065909]] , b =  [-12.34505154]\n",
      "step =  6400 error value =  0.7596638157796238 W =  [[0.98309236]] , b =  [-12.63931706]\n",
      "step =  6800 error value =  0.7397018275783921 W =  [[1.00463264]] , b =  [-12.92175316]\n",
      "step =  7200 error value =  0.7212178191653443 W =  [[1.02536696]] , b =  [-13.19351991]\n",
      "step =  7600 error value =  0.7040258352307545 W =  [[1.04536949]] , b =  [-13.455605]\n",
      "step =  8000 error value =  0.6879718573049461 W =  [[1.06470398]] , b =  [-13.70885693]\n",
      "step =  8400 error value =  0.6729270207877754 W =  [[1.08342569]] , b =  [-13.9540105]\n",
      "step =  8800 error value =  0.6587825206105289 W =  [[1.10158281]] , b =  [-14.1917067]\n",
      "step =  9200 error value =  0.6454457290676171 W =  [[1.11921773]] , b =  [-14.42250832]\n",
      "step =  9600 error value =  0.6328371982465334 W =  [[1.13636787]] , b =  [-14.64691247]\n",
      "step =  10000 error value =  0.620888317705587 W =  [[1.15306649]] , b =  [-14.86536062]\n"
     ]
    }
   ],
   "source": [
    "learning_rate = 1e-2  # 발산하는 경우, 1e-3 ~ 1e-6 등으로 바꾸어서 실행\n",
    "\n",
    "f = lambda x : loss_func(x_data,t_data)  # f(x) = loss_func(x_data, t_data)\n",
    "\n",
    "print(\"Initial error value = \", error_val(x_data, t_data), \"Initial W = \", W, \"\\n\", \", b = \", b )\n",
    "\n",
    "for step in  range(10001):  \n",
    "    \n",
    "    W -= learning_rate * numerical_derivative(f, W)\n",
    "    \n",
    "    b -= learning_rate * numerical_derivative(f, b)\n",
    "    \n",
    "    if (step % 400 == 0):\n",
    "        print(\"step = \", step, \"error value = \", error_val(x_data, t_data), \"W = \", W, \", b = \",b )"
   ]
  },
  {
   "cell_type": "code",
   "execution_count": 7,
   "metadata": {
    "collapsed": false
   },
   "outputs": [
    {
     "name": "stdout",
     "output_type": "stream",
     "text": [
      "[[1.11265962e-05]] 0\n"
     ]
    }
   ],
   "source": [
    "(real_val, logical_val) = predict(3) \n",
    "\n",
    "print(real_val, logical_val)"
   ]
  },
  {
   "cell_type": "code",
   "execution_count": 8,
   "metadata": {
    "collapsed": false
   },
   "outputs": [
    {
     "name": "stdout",
     "output_type": "stream",
     "text": [
      "[[0.99130927]] 1\n"
     ]
    }
   ],
   "source": [
    "(real_val, logical_val) = predict(17) \n",
    "\n",
    "print(real_val, logical_val)"
   ]
  },
  {
   "cell_type": "code",
   "execution_count": null,
   "metadata": {
    "collapsed": true
   },
   "outputs": [],
   "source": []
  }
 ],
 "metadata": {
  "anaconda-cloud": {},
  "kernelspec": {
   "display_name": "Python [default]",
   "language": "python",
   "name": "python3"
  },
  "language_info": {
   "codemirror_mode": {
    "name": "ipython",
    "version": 3
   },
   "file_extension": ".py",
   "mimetype": "text/x-python",
   "name": "python",
   "nbconvert_exporter": "python",
   "pygments_lexer": "ipython3",
   "version": "3.5.2"
  }
 },
 "nbformat": 4,
 "nbformat_minor": 1
}
