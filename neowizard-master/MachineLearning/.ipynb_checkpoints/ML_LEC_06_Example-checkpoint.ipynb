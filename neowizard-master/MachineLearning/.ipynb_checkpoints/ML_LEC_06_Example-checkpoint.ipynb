{
 "cells": [
  {
   "cell_type": "code",
   "execution_count": 1,
   "metadata": {
    "collapsed": true
   },
   "outputs": [],
   "source": [
    "import numpy as np"
   ]
  },
  {
   "cell_type": "code",
   "execution_count": 2,
   "metadata": {
    "collapsed": false
   },
   "outputs": [
    {
     "data": {
      "text/plain": [
       "[[1, 0], [0, 1], [1, 1], [1, 1]]"
      ]
     },
     "execution_count": 2,
     "metadata": {},
     "output_type": "execute_result"
    }
   ],
   "source": [
    "# 리스트로 행렬 표현\n",
    "\n",
    "A = [ [1, 0], [0, 1] ]\n",
    "B = [ [1, 1], [1, 1] ] \n",
    "\n",
    "A + B    # 행렬 연산이 아닌 리스트 연산"
   ]
  },
  {
   "cell_type": "code",
   "execution_count": 3,
   "metadata": {
    "collapsed": false
   },
   "outputs": [
    {
     "data": {
      "text/plain": [
       "array([[2, 1],\n",
       "       [1, 2]])"
      ]
     },
     "execution_count": 3,
     "metadata": {},
     "output_type": "execute_result"
    }
   ],
   "source": [
    "# numpy matrix, 직관적임\n",
    "\n",
    "A = np.array([ [1, 0], [0, 1] ]) \n",
    "B = np.array([ [1, 1], [1, 1] ]) \n",
    "\n",
    "A + B    # 행렬 연산"
   ]
  },
  {
   "cell_type": "code",
   "execution_count": 4,
   "metadata": {
    "collapsed": false
   },
   "outputs": [
    {
     "name": "stdout",
     "output_type": "stream",
     "text": [
      "A == [1 2 3] , B ==  [4 5 6]\n",
      "A.shape == (3,) , B.shape == (3,)\n",
      "A.ndim == 1 , B.ndim == 1\n"
     ]
    }
   ],
   "source": [
    "A = np.array([1, 2, 3]) \n",
    "B = np.array([4, 5, 6]) \n",
    "\n",
    "# vector A, B 출력\n",
    "print(\"A ==\", A, \", B == \", B)\n",
    "\n",
    "# vector A, B 형상 출력 => shape\n",
    "print(\"A.shape ==\", A.shape, \", B.shape ==\", B.shape)\n",
    "\n",
    "# vector A, B 차원 출력 => ndim\n",
    "print(\"A.ndim ==\", A.ndim, \", B.ndim ==\", B.ndim)"
   ]
  },
  {
   "cell_type": "code",
   "execution_count": 5,
   "metadata": {
    "collapsed": false
   },
   "outputs": [
    {
     "name": "stdout",
     "output_type": "stream",
     "text": [
      "A + B == [5 7 9]\n",
      "A - B == [-3 -3 -3]\n",
      "A * B == [ 4 10 18]\n",
      "A / B == [0.25 0.4  0.5 ]\n"
     ]
    }
   ],
   "source": [
    "# vector 산술 연산\n",
    "\n",
    "print(\"A + B ==\", A+B)  \n",
    "print(\"A - B ==\", A-B)\n",
    "print(\"A * B ==\", A*B)\n",
    "print(\"A / B ==\", A/B)"
   ]
  },
  {
   "cell_type": "code",
   "execution_count": 6,
   "metadata": {
    "collapsed": false
   },
   "outputs": [
    {
     "name": "stdout",
     "output_type": "stream",
     "text": [
      "A.shape == (2, 3) , B.shape == (2, 3)\n",
      "A.ndim == 2 , B.ndim == 2\n"
     ]
    }
   ],
   "source": [
    "A = np.array([ [1, 2 ,3], [4, 5, 6] ]) \n",
    "B = np.array([ [-1, -2, -3], [-4, -5, -6] ])\n",
    "\n",
    "# matrix A, B 형상 출력 => shape\n",
    "print(\"A.shape ==\", A.shape, \", B.shape ==\", B.shape)\n",
    "\n",
    "# matrix A, B 차원 출력 => ndim\n",
    "print(\"A.ndim ==\", A.ndim, \", B.ndim ==\", B.ndim) "
   ]
  },
  {
   "cell_type": "code",
   "execution_count": 7,
   "metadata": {
    "collapsed": false
   },
   "outputs": [
    {
     "name": "stdout",
     "output_type": "stream",
     "text": [
      "C.shape == (3,)\n",
      "C.shape == (1, 3)\n"
     ]
    }
   ],
   "source": [
    "# vector 생성\n",
    "\n",
    "C = np.array([1, 2, 3]) \n",
    "\n",
    "# vector C형상 출력 => shape\n",
    "print(\"C.shape ==\", C.shape) \n",
    "\n",
    "# vector를 (1,3) 행렬로 형 변환\n",
    "C = C.reshape(1, 3)  \n",
    "\n",
    "print(\"C.shape ==\", C.shape) "
   ]
  },
  {
   "cell_type": "code",
   "execution_count": null,
   "metadata": {
    "collapsed": true
   },
   "outputs": [],
   "source": []
  }
 ],
 "metadata": {
  "anaconda-cloud": {},
  "kernelspec": {
   "display_name": "Python [default]",
   "language": "python",
   "name": "python3"
  },
  "language_info": {
   "codemirror_mode": {
    "name": "ipython",
    "version": 3
   },
   "file_extension": ".py",
   "mimetype": "text/x-python",
   "name": "python",
   "nbconvert_exporter": "python",
   "pygments_lexer": "ipython3",
   "version": "3.5.2"
  }
 },
 "nbformat": 4,
 "nbformat_minor": 1
}
