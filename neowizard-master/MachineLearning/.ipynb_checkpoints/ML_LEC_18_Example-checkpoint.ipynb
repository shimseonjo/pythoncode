{
 "cells": [
  {
   "cell_type": "code",
   "execution_count": 1,
   "metadata": {
    "collapsed": false
   },
   "outputs": [],
   "source": [
    "import numpy as np\n",
    "\n",
    "# sigmoid 함수\n",
    "def sigmoid(x):\n",
    "    return 1 / (1+np.exp(-x))\n",
    "\n",
    "# 수치미분 함수\n",
    "def numerical_derivative(f, x):\n",
    "    delta_x = 1e-4 # 0.0001\n",
    "    grad = np.zeros_like(x)\n",
    "    \n",
    "    it = np.nditer(x, flags=['multi_index'], op_flags=['readwrite'])\n",
    "    \n",
    "    while not it.finished:\n",
    "        idx = it.multi_index        \n",
    "        tmp_val = x[idx]\n",
    "        x[idx] = float(tmp_val) + delta_x\n",
    "        fx1 = f(x) # f(x+delta_x)\n",
    "        \n",
    "        x[idx] = tmp_val - delta_x \n",
    "        fx2 = f(x) # f(x-delta_x)\n",
    "        grad[idx] = (fx1 - fx2) / (2*delta_x)\n",
    "        \n",
    "        x[idx] = tmp_val \n",
    "        it.iternext()   \n",
    "        \n",
    "    return grad"
   ]
  },
  {
   "cell_type": "code",
   "execution_count": 2,
   "metadata": {
    "collapsed": true
   },
   "outputs": [],
   "source": [
    "# LogicGate Class\n",
    "\n",
    "class LogicGate:\n",
    "    \n",
    "    def __init__(self, gate_name, xdata, tdata):  # xdata, tdata => numpy.array(...)\n",
    "        \n",
    "        self.name = gate_name\n",
    "        \n",
    "        # 입력 데이터, 정답 데이터 초기화\n",
    "        self.__xdata = xdata.reshape(4,2)\n",
    "        self.__tdata = tdata.reshape(4,1)\n",
    "        \n",
    "        # 가중치 W, 바이어스 b 초기화\n",
    "        self.__W = np.random.rand(2,1)  # weight, 2 X 1 matrix\n",
    "        self.__b = np.random.rand(1)\n",
    "                        \n",
    "        # 학습률 learning rate 초기화\n",
    "        self.__learning_rate = 1e-2\n",
    "        \n",
    "    # 손실함수\n",
    "    def __loss_func(self):\n",
    "        \n",
    "        delta = 1e-7    # log 무한대 발산 방지\n",
    "    \n",
    "        z = np.dot(self.__xdata, self.__W) + self.__b\n",
    "        y = sigmoid(z)\n",
    "    \n",
    "        # cross-entropy \n",
    "        return  -np.sum( self.__tdata*np.log(y + delta) + (1-self.__tdata)*np.log((1 - y)+delta ) )      \n",
    "    \n",
    "    # 손실 값 계산\n",
    "    def error_val(self):\n",
    "        \n",
    "        delta = 1e-7    # log 무한대 발산 방지\n",
    "    \n",
    "        z = np.dot(self.__xdata, self.__W) + self.__b\n",
    "        y = sigmoid(z)\n",
    "    \n",
    "        # cross-entropy \n",
    "        return  -np.sum( self.__tdata*np.log(y + delta) + (1-self.__tdata)*np.log((1 - y)+delta ) )\n",
    "\n",
    "    # 수치미분을 이용하여 손실함수가 최소가 될때 까지 학습하는 함수\n",
    "    def train(self):\n",
    "        \n",
    "        f = lambda x : self.__loss_func()\n",
    "        \n",
    "        print(\"Initial error value = \", self.error_val())\n",
    "        \n",
    "        for step in  range(8001):\n",
    "            \n",
    "            self.__W -= self.__learning_rate * numerical_derivative(f, self.__W)\n",
    "    \n",
    "            self.__b -= self.__learning_rate * numerical_derivative(f, self.__b)\n",
    "    \n",
    "            if (step % 400 == 0):\n",
    "                print(\"step = \", step, \"error value = \", self.error_val())\n",
    "                \n",
    "                \n",
    "    # 미래 값 예측 함수\n",
    "    def predict(self, input_data):\n",
    "        \n",
    "        z = np.dot(input_data, self.__W) + self.__b\n",
    "        y = sigmoid(z)\n",
    "    \n",
    "        if y > 0.5:\n",
    "            result = 1  # True\n",
    "        else:\n",
    "            result = 0  # False\n",
    "    \n",
    "        return y, result"
   ]
  },
  {
   "cell_type": "code",
   "execution_count": 3,
   "metadata": {
    "collapsed": false
   },
   "outputs": [
    {
     "name": "stdout",
     "output_type": "stream",
     "text": [
      "Initial error value =  4.378434755804813\n",
      "step =  0 error value =  4.323975469624348\n",
      "step =  400 error value =  1.511232096524671\n",
      "step =  800 error value =  1.1288558671397086\n",
      "step =  1200 error value =  0.9100073988570064\n",
      "step =  1600 error value =  0.7648225937091255\n",
      "step =  2000 error value =  0.6601449671405903\n",
      "step =  2400 error value =  0.5806123987086874\n",
      "step =  2800 error value =  0.5179600160379154\n",
      "step =  3200 error value =  0.4672695923828218\n",
      "step =  3600 error value =  0.4253985758749814\n",
      "step =  4000 error value =  0.39023082731975833\n",
      "step =  4400 error value =  0.3602828757529404\n",
      "step =  4800 error value =  0.3344810671385727\n",
      "step =  5200 error value =  0.31202788973197276\n",
      "step =  5600 error value =  0.29231797322896713\n",
      "step =  6000 error value =  0.27488325818378434\n",
      "step =  6400 error value =  0.25935605592951194\n",
      "step =  6800 error value =  0.2454434866039873\n",
      "step =  7200 error value =  0.23290937960253996\n",
      "step =  7600 error value =  0.22156119937439256\n",
      "step =  8000 error value =  0.21124043398561418\n"
     ]
    }
   ],
   "source": [
    "xdata = np.array([ [0, 0], [0, 1], [1, 0], [1, 1] ])\n",
    "tdata = np.array([0, 0, 0, 1])\n",
    "\n",
    "AND_obj = LogicGate(\"AND_GATE\", xdata, tdata)\n",
    "\n",
    "AND_obj.train()"
   ]
  },
  {
   "cell_type": "code",
   "execution_count": 4,
   "metadata": {
    "collapsed": false
   },
   "outputs": [
    {
     "name": "stdout",
     "output_type": "stream",
     "text": [
      "AND_GATE \n",
      "\n",
      "[0 0]  =  0 \n",
      "\n",
      "[0 1]  =  0 \n",
      "\n",
      "[1 0]  =  0 \n",
      "\n",
      "[1 1]  =  1 \n",
      "\n"
     ]
    }
   ],
   "source": [
    "# AND Gate prediction\n",
    "print(AND_obj.name, \"\\n\")\n",
    "\n",
    "test_data = np.array([ [0, 0], [0, 1], [1, 0], [1, 1] ])\n",
    "\n",
    "for input_data in test_data:\n",
    "    (sigmoid_val, logical_val) = AND_obj.predict(input_data) \n",
    "    print(input_data, \" = \", logical_val, \"\\n\")  "
   ]
  },
  {
   "cell_type": "code",
   "execution_count": 5,
   "metadata": {
    "collapsed": false
   },
   "outputs": [
    {
     "name": "stdout",
     "output_type": "stream",
     "text": [
      "Initial error value =  1.8545487528885525\n",
      "step =  0 error value =  1.847608629672963\n",
      "step =  400 error value =  1.076137111415067\n",
      "step =  800 error value =  0.7847319825422889\n",
      "step =  1200 error value =  0.6121419836556934\n",
      "step =  1600 error value =  0.49897449198263505\n",
      "step =  2000 error value =  0.4195092458905461\n",
      "step =  2400 error value =  0.36090654325188426\n",
      "step =  2800 error value =  0.31606013729008753\n",
      "step =  3200 error value =  0.28072965394954946\n",
      "step =  3600 error value =  0.25223569121071615\n",
      "step =  4000 error value =  0.22880670214067464\n",
      "step =  4400 error value =  0.20922730373717657\n",
      "step =  4800 error value =  0.19263758814294105\n",
      "step =  5200 error value =  0.1784130454916005\n",
      "step =  5600 error value =  0.1660898158124261\n",
      "step =  6000 error value =  0.15531656221873044\n",
      "step =  6400 error value =  0.14582256824683695\n",
      "step =  6800 error value =  0.13739604459359128\n",
      "step =  7200 error value =  0.12986904288775086\n",
      "step =  7600 error value =  0.12310675240697148\n",
      "step =  8000 error value =  0.1169997691905759\n"
     ]
    }
   ],
   "source": [
    "xdata = np.array([ [0, 0], [0, 1], [1, 0], [1, 1] ])\n",
    "tdata = np.array([0, 1, 1, 1])\n",
    "\n",
    "OR_obj = LogicGate(\"OR_GATE\", xdata, tdata)\n",
    "\n",
    "OR_obj.train() "
   ]
  },
  {
   "cell_type": "code",
   "execution_count": 6,
   "metadata": {
    "collapsed": false
   },
   "outputs": [
    {
     "name": "stdout",
     "output_type": "stream",
     "text": [
      "OR_GATE \n",
      "\n",
      "[0 0]  =  0 \n",
      "\n",
      "[0 1]  =  1 \n",
      "\n",
      "[1 0]  =  1 \n",
      "\n",
      "[1 1]  =  1 \n",
      "\n"
     ]
    }
   ],
   "source": [
    "# OR Gate prediction\n",
    "print(OR_obj.name, \"\\n\")\n",
    "\n",
    "test_data = np.array([ [0, 0], [0, 1], [1, 0], [1, 1] ])\n",
    "\n",
    "for input_data in test_data:\n",
    "    (sigmoid_val, logical_val) = OR_obj.predict(input_data) \n",
    "    print(input_data, \" = \", logical_val, \"\\n\")  "
   ]
  },
  {
   "cell_type": "code",
   "execution_count": 7,
   "metadata": {
    "collapsed": false
   },
   "outputs": [
    {
     "name": "stdout",
     "output_type": "stream",
     "text": [
      "Initial error value =  2.860101680554843\n",
      "step =  0 error value =  2.8546482819337395\n",
      "step =  400 error value =  1.6702717401108194\n",
      "step =  800 error value =  1.2084083238125034\n",
      "step =  1200 error value =  0.9590497546482248\n",
      "step =  1600 error value =  0.7986764496433242\n",
      "step =  2000 error value =  0.6851434216475715\n",
      "step =  2400 error value =  0.5999102498178273\n",
      "step =  2800 error value =  0.5333367899062607\n",
      "step =  3200 error value =  0.47981914510118373\n",
      "step =  3600 error value =  0.43583633130592525\n",
      "step =  4000 error value =  0.3990470495376749\n",
      "step =  4400 error value =  0.36782597236775316\n",
      "step =  4800 error value =  0.34100597290205525\n",
      "step =  5200 error value =  0.3177256862029017\n",
      "step =  5600 error value =  0.29733480961094483\n",
      "step =  6000 error value =  0.27933286933020285\n",
      "step =  6400 error value =  0.2633282915699354\n",
      "step =  6800 error value =  0.24901027031908157\n",
      "step =  7200 error value =  0.23612896319750643\n",
      "step =  7600 error value =  0.22448125827415322\n",
      "step =  8000 error value =  0.21390035731972795\n"
     ]
    }
   ],
   "source": [
    "xdata = np.array([ [0, 0], [0, 1], [1, 0], [1, 1] ])\n",
    "tdata = np.array([1, 1, 1, 0])\n",
    "\n",
    "NAND_obj = LogicGate(\"NAND_GATE\", xdata, tdata)\n",
    "\n",
    "NAND_obj.train()"
   ]
  },
  {
   "cell_type": "code",
   "execution_count": 8,
   "metadata": {
    "collapsed": false
   },
   "outputs": [
    {
     "name": "stdout",
     "output_type": "stream",
     "text": [
      "NAND_GATE \n",
      "\n",
      "[0 0]  =  1 \n",
      "\n",
      "[0 1]  =  1 \n",
      "\n",
      "[1 0]  =  1 \n",
      "\n",
      "[1 1]  =  0 \n",
      "\n"
     ]
    }
   ],
   "source": [
    "# NAND Gate prediction\n",
    "print(NAND_obj.name, \"\\n\")\n",
    "\n",
    "test_data = np.array([ [0, 0], [0, 1], [1, 0], [1, 1] ])\n",
    "\n",
    "for input_data in test_data:\n",
    "    (sigmoid_val, logical_val) = NAND_obj.predict(input_data) \n",
    "    print(input_data, \" = \", logical_val, \"\\n\")  "
   ]
  },
  {
   "cell_type": "code",
   "execution_count": 9,
   "metadata": {
    "collapsed": false
   },
   "outputs": [
    {
     "name": "stdout",
     "output_type": "stream",
     "text": [
      "Initial error value =  2.9090572435449644\n",
      "step =  0 error value =  2.905070516281247\n",
      "step =  400 error value =  2.7737277558209903\n",
      "step =  800 error value =  2.772910460347367\n",
      "step =  1200 error value =  2.7726792777489284\n",
      "step =  1600 error value =  2.7726138058515457\n",
      "step =  2000 error value =  2.772595257023993\n",
      "step =  2400 error value =  2.7725900009136835\n",
      "step =  2800 error value =  2.772588511359309\n",
      "step =  3200 error value =  2.7725880892062738\n",
      "step =  3600 error value =  2.7725879695614246\n",
      "step =  4000 error value =  2.7725879356517846\n",
      "step =  4400 error value =  2.7725879260410897\n",
      "step =  4800 error value =  2.7725879233172126\n",
      "step =  5200 error value =  2.7725879225452066\n",
      "step =  5600 error value =  2.7725879223264025\n",
      "step =  6000 error value =  2.772587922264389\n",
      "step =  6400 error value =  2.772587922246813\n",
      "step =  6800 error value =  2.7725879222418315\n",
      "step =  7200 error value =  2.7725879222404197\n",
      "step =  7600 error value =  2.77258792224002\n",
      "step =  8000 error value =  2.7725879222399064\n"
     ]
    }
   ],
   "source": [
    "xdata = np.array([ [0, 0], [0, 1], [1, 0], [1, 1] ])\n",
    "tdata = np.array([0, 1, 1, 0])\n",
    "\n",
    "\n",
    "XOR_obj = LogicGate(\"XOR_GATE\", xdata, tdata)\n",
    "\n",
    "# XOR Gate 를 보면, 손실함수 값이 2.7 근처에서 더 이상 감소하지 않는것을 볼수 있음\n",
    "XOR_obj.train()"
   ]
  },
  {
   "cell_type": "code",
   "execution_count": 10,
   "metadata": {
    "collapsed": false
   },
   "outputs": [
    {
     "name": "stdout",
     "output_type": "stream",
     "text": [
      "XOR_GATE \n",
      "\n",
      "[0 0]  =  0 \n",
      "\n",
      "[0 1]  =  0 \n",
      "\n",
      "[1 0]  =  0 \n",
      "\n",
      "[1 1]  =  1 \n",
      "\n"
     ]
    }
   ],
   "source": [
    "# XOR Gate prediction => 예측이 되지 않음\n",
    "print(XOR_obj.name, \"\\n\")\n",
    "\n",
    "test_data = np.array([ [0, 0], [0, 1], [1, 0], [1, 1] ])\n",
    "\n",
    "for input_data in test_data:\n",
    "    (sigmoid_val, logical_val) = XOR_obj.predict(input_data) \n",
    "    print(input_data, \" = \", logical_val, \"\\n\")  "
   ]
  },
  {
   "cell_type": "code",
   "execution_count": 11,
   "metadata": {
    "collapsed": false
   },
   "outputs": [
    {
     "name": "stdout",
     "output_type": "stream",
     "text": [
      "[0 0]  =  0\n",
      "\n",
      "[0 1]  =  1\n",
      "\n",
      "[1 0]  =  1\n",
      "\n",
      "[1 1]  =  0\n",
      "\n"
     ]
    }
   ],
   "source": [
    "# XOR 을 NAND + OR => AND 조합으로 계산함\n",
    "input_data = np.array([ [0, 0], [0, 1], [1, 0], [1, 1] ])\n",
    "\n",
    "s1 = []    # NAND 출력\n",
    "s2 = []    # OR 출력\n",
    "\n",
    "new_input_data = []  # AND 입력\n",
    "final_output = []    # AND 출력\n",
    "\n",
    "for index in range(len(input_data)):\n",
    "    \n",
    "    s1 = NAND_obj.predict(input_data[index])  # NAND 출력\n",
    "    s2 = OR_obj.predict(input_data[index])    # OR 출력\n",
    "    \n",
    "    new_input_data.append(s1[-1])    # AND 입력\n",
    "    new_input_data.append(s2[-1])    # AND 입력\n",
    "    \n",
    "    (sigmoid_val, logical_val) = AND_obj.predict(np.array(new_input_data))\n",
    "    \n",
    "    final_output.append(logical_val)    # AND 출력, 즉 XOR 출력    \n",
    "    new_input_data = []    # AND 입력 초기화\n",
    "\n",
    "\n",
    "for index in range(len(input_data)):    \n",
    "    print(input_data[index], \" = \", final_output[index], end='')\n",
    "    print(\"\\n\")"
   ]
  },
  {
   "cell_type": "code",
   "execution_count": null,
   "metadata": {
    "collapsed": true
   },
   "outputs": [],
   "source": []
  }
 ],
 "metadata": {
  "anaconda-cloud": {},
  "kernelspec": {
   "display_name": "Python [default]",
   "language": "python",
   "name": "python3"
  },
  "language_info": {
   "codemirror_mode": {
    "name": "ipython",
    "version": 3
   },
   "file_extension": ".py",
   "mimetype": "text/x-python",
   "name": "python",
   "nbconvert_exporter": "python",
   "pygments_lexer": "ipython3",
   "version": "3.5.2"
  }
 },
 "nbformat": 4,
 "nbformat_minor": 1
}
