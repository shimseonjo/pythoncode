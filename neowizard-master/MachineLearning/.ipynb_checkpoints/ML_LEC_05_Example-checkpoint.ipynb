{
 "cells": [
  {
   "cell_type": "code",
   "execution_count": 1,
   "metadata": {
    "collapsed": false
   },
   "outputs": [
    {
     "name": "stdout",
     "output_type": "stream",
     "text": [
      "PARK is initialized\n",
      "KIM is initialized\n",
      "PARK is working in ABCDEF\n",
      "KIM is sleeping\n",
      "current person object is  PARK ,  KIM\n",
      "Person count == 2\n",
      "2\n"
     ]
    }
   ],
   "source": [
    "class Person:\n",
    "    \n",
    "    count = 0    # class variable\n",
    "    \n",
    "    def __init__(self, name):\n",
    "        self.name = name\n",
    "        Person.count += 1    # class 변수 count 증가\n",
    "        print(self.name + \" is initialized\")\n",
    "        \n",
    "    def work(self, company):\n",
    "        print(self.name + \" is working in \" + company) \n",
    "        \n",
    "    def sleep(self):\n",
    "        print(self.name + \" is sleeping\")\n",
    "    \n",
    "    @classmethod\n",
    "    def getCount(cls):    # class method\n",
    "        return cls.count\n",
    "    \n",
    "# Person instance 2개 생성\n",
    "obj1 = Person(\"PARK\")\n",
    "obj2 = Person(\"KIM\") \n",
    "\n",
    "# method call\n",
    "obj1.work(\"ABCDEF\")\n",
    "\n",
    "obj2.sleep() \n",
    "\n",
    "# 속성에 직접 접근. 기본적으로 파이썬에서는 모두 public\n",
    "print(\"current person object is \", obj1.name, \", \", obj2.name) \n",
    "\n",
    "# class method 호출\n",
    "print(\"Person count ==\", Person.getCount() )\n",
    "\n",
    "# class variable direct access\n",
    "print(Person.count) "
   ]
  },
  {
   "cell_type": "code",
   "execution_count": 2,
   "metadata": {
    "collapsed": false
   },
   "outputs": [
    {
     "name": "stdout",
     "output_type": "stream",
     "text": [
      "initialized with PARK ,KIM\n",
      "PARK\n",
      "PARK KIM\n",
      "('PARK', 'KIM')\n"
     ]
    },
    {
     "ename": "AttributeError",
     "evalue": "'PrivateMemberTest' object has no attribute '__printNames'",
     "output_type": "error",
     "traceback": [
      "\u001b[0;31m---------------------------------------------------------------------------\u001b[0m",
      "\u001b[0;31mAttributeError\u001b[0m                            Traceback (most recent call last)",
      "\u001b[0;32m<ipython-input-2-bb55048fba43>\u001b[0m in \u001b[0;36m<module>\u001b[0;34m()\u001b[0m\n\u001b[1;32m     19\u001b[0m \u001b[0mprint\u001b[0m\u001b[1;33m(\u001b[0m\u001b[0mobj\u001b[0m\u001b[1;33m.\u001b[0m\u001b[0mname1\u001b[0m\u001b[1;33m)\u001b[0m\u001b[1;33m\u001b[0m\u001b[0m\n\u001b[1;32m     20\u001b[0m \u001b[0mprint\u001b[0m\u001b[1;33m(\u001b[0m\u001b[0mobj\u001b[0m\u001b[1;33m.\u001b[0m\u001b[0mgetNames\u001b[0m\u001b[1;33m(\u001b[0m\u001b[1;33m)\u001b[0m\u001b[1;33m)\u001b[0m\u001b[1;33m\u001b[0m\u001b[0m\n\u001b[0;32m---> 21\u001b[0;31m \u001b[0mprint\u001b[0m\u001b[1;33m(\u001b[0m\u001b[0mobj\u001b[0m\u001b[1;33m.\u001b[0m\u001b[0m__printNames\u001b[0m\u001b[1;33m(\u001b[0m\u001b[1;33m)\u001b[0m\u001b[1;33m)\u001b[0m  \u001b[1;31m# error 발생\u001b[0m\u001b[1;33m\u001b[0m\u001b[0m\n\u001b[0m\u001b[1;32m     22\u001b[0m \u001b[0mprint\u001b[0m\u001b[1;33m(\u001b[0m\u001b[0mobj\u001b[0m\u001b[1;33m.\u001b[0m\u001b[0m__name2\u001b[0m\u001b[1;33m)\u001b[0m         \u001b[1;31m# error 발생\u001b[0m\u001b[1;33m\u001b[0m\u001b[0m\n",
      "\u001b[0;31mAttributeError\u001b[0m: 'PrivateMemberTest' object has no attribute '__printNames'"
     ]
    }
   ],
   "source": [
    "class PrivateMemberTest:\n",
    "    \n",
    "    def __init__(self, name1, name2):\n",
    "        \n",
    "        self.name1 = name1\n",
    "        self.__name2 = name2    # private member variable\n",
    "        print(\"initialized with \" + name1 + \" ,\" + name2) \n",
    "        \n",
    "    def getNames(self):\n",
    "        self.__printNames()\n",
    "        return  self.name1, self.__name2\n",
    "    \n",
    "    def __printNames(self):    # private member method\n",
    "        print(self.name1, self.__name2)  \n",
    "    \n",
    "# 인스턴스 생성\n",
    "obj = PrivateMemberTest(\"PARK\", \"KIM\") \n",
    "\n",
    "print(obj.name1) \n",
    "print(obj.getNames())\n",
    "print(obj.__printNames())  # error 발생\n",
    "print(obj.__name2)         # error 발생"
   ]
  },
  {
   "cell_type": "code",
   "execution_count": 3,
   "metadata": {
    "collapsed": false
   },
   "outputs": [
    {
     "name": "stdout",
     "output_type": "stream",
     "text": [
      "PARK is initialized\n",
      "PARK is working in ABCDEF\n",
      "PARK is sleeping\n",
      "current person object is  PARK\n"
     ]
    }
   ],
   "source": [
    "class Person:\n",
    "    \n",
    "    def __init__(self, name):\n",
    "        self.name = name\n",
    "        print(self.name + \" is initialized\")\n",
    "        \n",
    "    def work(self, company):\n",
    "        print(self.name + \" is working in \" + company) \n",
    "        \n",
    "    def sleep(self):\n",
    "        print(self.name + \" is sleeping\")\n",
    "    \n",
    "# Person instance 2개 생성\n",
    "obj = Person(\"PARK\")\n",
    "\n",
    "# method call\n",
    "obj.work(\"ABCDEF\")\n",
    "obj.sleep() \n",
    "\n",
    "# 속성에 직접 접근. 기본적으로 파이썬에서는 모두 public\n",
    "print(\"current person object is \", obj.name) "
   ]
  },
  {
   "cell_type": "code",
   "execution_count": 4,
   "metadata": {
    "collapsed": false
   },
   "outputs": [
    {
     "name": "stdout",
     "output_type": "stream",
     "text": [
      "[def]  LEE\n",
      "[SameTest]  LEE\n",
      "[def]  KIM\n",
      "[SameTest]  KIM\n"
     ]
    }
   ],
   "source": [
    "def print_name(name):\n",
    "    \n",
    "    print(\"[def] \", name)    \n",
    "    \n",
    "class SameTest:\n",
    "    \n",
    "    def __init__(self):\n",
    "        # 아무것도 않하기 때문에 pass\n",
    "        pass\n",
    "        \n",
    "    # 외부 함수와 동일한 이름으로 method 정의\n",
    "    def print_name(self, name):\n",
    "        print(\"[SameTest] \", name)\n",
    "        \n",
    "    def call_test(self):\n",
    "        \n",
    "        # 외부 함수 호출\n",
    "        print_name(\"KIM\")\n",
    "        \n",
    "        # 클래스 내부 method 호출\n",
    "        self.print_name(\"KIM\")\n",
    "        \n",
    "\n",
    "# create SameTest object\n",
    "obj = SameTest() \n",
    "\n",
    "# call function print_name\n",
    "print_name(\"LEE\")\n",
    "\n",
    "# call method print_name\n",
    "obj.print_name(\"LEE\")\n",
    "\n",
    "# call method call_test\n",
    "obj.call_test() "
   ]
  },
  {
   "cell_type": "code",
   "execution_count": 5,
   "metadata": {
    "collapsed": true
   },
   "outputs": [],
   "source": [
    "def calc(list_data):\n",
    "    \n",
    "    sum = 0\n",
    "    \n",
    "    try:\n",
    "        sum = list_data[0] + list_data[1] + list_data[2] \n",
    "        \n",
    "        if sum < 0:\n",
    "            raise Exception(\"Sum is minus\")\n",
    "            \n",
    "    except IndexError as err:\n",
    "        print(str(err)) \n",
    "    except Exception as err:\n",
    "        print(str(err))\n",
    "    finally:\n",
    "        print(sum)"
   ]
  },
  {
   "cell_type": "code",
   "execution_count": 6,
   "metadata": {
    "collapsed": false
   },
   "outputs": [
    {
     "name": "stdout",
     "output_type": "stream",
     "text": [
      "list index out of range\n",
      "0\n"
     ]
    }
   ],
   "source": [
    "calc([1, 2])  # index error 발생"
   ]
  },
  {
   "cell_type": "code",
   "execution_count": 7,
   "metadata": {
    "collapsed": false
   },
   "outputs": [
    {
     "name": "stdout",
     "output_type": "stream",
     "text": [
      "Sum is minus\n",
      "-97\n"
     ]
    }
   ],
   "source": [
    "calc([1, 2, -100])  # 인위적인 exception 발생"
   ]
  },
  {
   "cell_type": "code",
   "execution_count": 8,
   "metadata": {
    "collapsed": true
   },
   "outputs": [],
   "source": [
    "# 일반적인 방법\n",
    "\n",
    "f = open(\"./file_test\", 'w')\n",
    "\n",
    "f.write(\"Hello, Python !!!\")\n",
    "\n",
    "f.close() "
   ]
  },
  {
   "cell_type": "code",
   "execution_count": 9,
   "metadata": {
    "collapsed": true
   },
   "outputs": [],
   "source": [
    "# with 구문을 사용한 방법\n",
    "# with 블록을 벗어나는 순간 파일 객체 f가 자동으로 close 됨.\n",
    "\n",
    "with  open(\"./file_test\", 'w')  as f:\n",
    "    f.write(\"Hello, Python !!!\") "
   ]
  },
  {
   "cell_type": "code",
   "execution_count": null,
   "metadata": {
    "collapsed": true
   },
   "outputs": [],
   "source": []
  }
 ],
 "metadata": {
  "anaconda-cloud": {},
  "kernelspec": {
   "display_name": "Python [default]",
   "language": "python",
   "name": "python3"
  },
  "language_info": {
   "codemirror_mode": {
    "name": "ipython",
    "version": 3
   },
   "file_extension": ".py",
   "mimetype": "text/x-python",
   "name": "python",
   "nbconvert_exporter": "python",
   "pygments_lexer": "ipython3",
   "version": "3.5.2"
  }
 },
 "nbformat": 4,
 "nbformat_minor": 1
}
