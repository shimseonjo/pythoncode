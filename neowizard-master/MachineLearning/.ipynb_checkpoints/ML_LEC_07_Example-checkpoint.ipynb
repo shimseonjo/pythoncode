{
 "cells": [
  {
   "cell_type": "code",
   "execution_count": 1,
   "metadata": {
    "collapsed": false
   },
   "outputs": [
    {
     "name": "stdout",
     "output_type": "stream",
     "text": [
      "A.shape == (2, 3) , B.shape == (3, 2)\n",
      "C.shape == (2, 2)\n",
      "[[-22 -28]\n",
      " [-49 -64]]\n"
     ]
    }
   ],
   "source": [
    "import numpy as np\n",
    "\n",
    "A = np.array([ [1, 2, 3], [4, 5, 6] ])  # 2X3 행렬\n",
    "B = np.array([ [-1, -2], [-3, -4], [-5, -6] ])  # 3X2 행렬\n",
    "\n",
    "# (2X3) dot porduct (3X2) == (2X2) 행렬\n",
    "C = np.dot(A, B)  # 행렬 곱 수행\n",
    "\n",
    "# matrix A, B 형상 출력 => shape\n",
    "print(\"A.shape ==\", A.shape, \", B.shape ==\", B.shape)\n",
    "print(\"C.shape ==\", C.shape)\n",
    "print(C)"
   ]
  },
  {
   "cell_type": "code",
   "execution_count": 2,
   "metadata": {
    "collapsed": false
   },
   "outputs": [
    {
     "name": "stdout",
     "output_type": "stream",
     "text": [
      "[[6 7]\n",
      " [8 9]]\n"
     ]
    }
   ],
   "source": [
    "# scalar broadcast\n",
    "\n",
    "A = np.array([ [1, 2], [3, 4] ]) \n",
    "b = 5\n",
    "\n",
    "print(A+b)"
   ]
  },
  {
   "cell_type": "code",
   "execution_count": 3,
   "metadata": {
    "collapsed": false
   },
   "outputs": [
    {
     "name": "stdout",
     "output_type": "stream",
     "text": [
      "[[5 7]\n",
      " [7 9]]\n"
     ]
    }
   ],
   "source": [
    "# matrix broadcast\n",
    "\n",
    "C = np.array([ [1, 2], [3, 4] ]) \n",
    "D = np.array([4, 5])\n",
    "\n",
    "print(C+D) "
   ]
  },
  {
   "cell_type": "code",
   "execution_count": 4,
   "metadata": {
    "collapsed": false
   },
   "outputs": [
    {
     "name": "stdout",
     "output_type": "stream",
     "text": [
      "A.shape == (3, 2) , B.shape == (2, 3)\n",
      "[[1 2]\n",
      " [3 4]\n",
      " [5 6]]\n",
      "[[1 3 5]\n",
      " [2 4 6]]\n"
     ]
    }
   ],
   "source": [
    "# 전치행렬\n",
    "\n",
    "A = np.array([ [1, 2], [3, 4], [5, 6] ])  # 3X2행렬\n",
    "\n",
    "B = A.T    # A의 전치행렬, 2X3 행렬\n",
    "\n",
    "print(\"A.shape ==\", A.shape, \", B.shape ==\", B.shape)\n",
    "print(A)\n",
    "print(B) "
   ]
  },
  {
   "cell_type": "code",
   "execution_count": 5,
   "metadata": {
    "collapsed": false
   },
   "outputs": [
    {
     "name": "stdout",
     "output_type": "stream",
     "text": [
      "C.shape == (5,) , D.shape == (5,)\n",
      "E.shape == (1, 5) . F.shape == (5, 1)\n",
      "[[1]\n",
      " [2]\n",
      " [3]\n",
      " [4]\n",
      " [5]]\n"
     ]
    }
   ],
   "source": [
    "# vector 전치행렬\n",
    "\n",
    "C = np.array([1, 2, 3, 4, 5])  # vector, matrix 아님\n",
    "D = C.T      # C 는 vector 이므로 transpose 않됨\n",
    "\n",
    "E = C.reshape(1, 5)    #  1X5 matrix\n",
    "F = E.T    # E 의 전치행렬\n",
    "\n",
    "print(\"C.shape ==\", C.shape, \", D.shape ==\", D.shape)\n",
    "print(\"E.shape ==\", E.shape, \". F.shape ==\", F.shape)\n",
    "print(F)  "
   ]
  },
  {
   "cell_type": "code",
   "execution_count": 6,
   "metadata": {
    "collapsed": false
   },
   "outputs": [
    {
     "name": "stdout",
     "output_type": "stream",
     "text": [
      "A.shape == (3, 2)\n",
      "[[10 20]\n",
      " [30 40]\n",
      " [50 60]]\n"
     ]
    }
   ],
   "source": [
    "# reshape\n",
    "\n",
    "A = np.array([10, 20, 30, 40, 50, 60]).reshape(3, 2)\n",
    "\n",
    "print(\"A.shape ==\", A.shape)\n",
    "print(A)"
   ]
  },
  {
   "cell_type": "code",
   "execution_count": 7,
   "metadata": {
    "collapsed": false
   },
   "outputs": [
    {
     "name": "stdout",
     "output_type": "stream",
     "text": [
      "A[0, 0] == 10 , A[0][0] == 10\n",
      "A[2, 1] == 60 , A[2][1] == 60\n",
      "A[0:-1, 1:2] == [[20]\n",
      " [40]]\n",
      "A[ :, 0] == [10 30 50]\n",
      "A[ :, :] == [[10 20]\n",
      " [30 40]\n",
      " [50 60]]\n"
     ]
    }
   ],
   "source": [
    "# indexing / slicing\n",
    "\n",
    "print(\"A[0, 0] ==\", A[0, 0], \", A[0][0] ==\", A[0][0])\n",
    "print(\"A[2, 1] ==\", A[2, 1], \", A[2][1] ==\", A[2][1]) \n",
    "\n",
    "print(\"A[0:-1, 1:2] ==\", A[0:-1, 1:2]) \n",
    "\n",
    "print(\"A[ :, 0] ==\", A[:, 0]) \n",
    "print(\"A[ :, :] ==\", A[:, :]) "
   ]
  },
  {
   "cell_type": "code",
   "execution_count": 8,
   "metadata": {
    "collapsed": false
   },
   "outputs": [
    {
     "name": "stdout",
     "output_type": "stream",
     "text": [
      "[[10 20 30 40]\n",
      " [50 60 70 80]] \n",
      "\n",
      "A.shape == (2, 4) \n",
      "\n",
      "current value =>  10\n",
      "current value =>  20\n",
      "current value =>  30\n",
      "current value =>  40\n",
      "current value =>  50\n",
      "current value =>  60\n",
      "current value =>  70\n",
      "current value =>  80\n"
     ]
    }
   ],
   "source": [
    "# iterator 예제\n",
    "\n",
    "A = np.array([ [10, 20, 30, 40], [50, 60, 70, 80] ]) \n",
    "\n",
    "print(A, \"\\n\") \n",
    "print(\"A.shape ==\", A.shape, \"\\n\") \n",
    "\n",
    "# 행렬 A 의 itrator 생성\n",
    "\n",
    "it = np.nditer(A, flags=['multi_index'], op_flags=['readwrite']) \n",
    "\n",
    "while not it.finished:\n",
    "    \n",
    "    idx = it.multi_index\n",
    "    \n",
    "    print(\"current value => \", A[idx]) \n",
    "    \n",
    "    it.iternext()"
   ]
  },
  {
   "cell_type": "code",
   "execution_count": null,
   "metadata": {
    "collapsed": true
   },
   "outputs": [],
   "source": []
  }
 ],
 "metadata": {
  "anaconda-cloud": {},
  "kernelspec": {
   "display_name": "Python [default]",
   "language": "python",
   "name": "python3"
  },
  "language_info": {
   "codemirror_mode": {
    "name": "ipython",
    "version": 3
   },
   "file_extension": ".py",
   "mimetype": "text/x-python",
   "name": "python",
   "nbconvert_exporter": "python",
   "pygments_lexer": "ipython3",
   "version": "3.5.2"
  }
 },
 "nbformat": 4,
 "nbformat_minor": 1
}
