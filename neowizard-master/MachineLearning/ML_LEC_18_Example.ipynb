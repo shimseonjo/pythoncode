{
 "cells": [
  {
   "cell_type": "code",
   "execution_count": 1,
   "metadata": {
    "collapsed": false,
    "jupyter": {
     "outputs_hidden": false
    }
   },
   "outputs": [],
   "source": [
    "import numpy as np\n",
    "\n",
    "# sigmoid 함수\n",
    "def sigmoid(x):\n",
    "    return 1 / (1+np.exp(-x))\n",
    "\n",
    "# 수치미분 함수\n",
    "def numerical_derivative(f, x):\n",
    "    delta_x = 1e-4 # 0.0001\n",
    "    grad = np.zeros_like(x)\n",
    "    \n",
    "    it = np.nditer(x, flags=['multi_index'], op_flags=['readwrite'])\n",
    "    \n",
    "    while not it.finished:\n",
    "        idx = it.multi_index        \n",
    "        tmp_val = x[idx]\n",
    "        x[idx] = float(tmp_val) + delta_x\n",
    "        fx1 = f(x) # f(x+delta_x)\n",
    "        \n",
    "        x[idx] = tmp_val - delta_x \n",
    "        fx2 = f(x) # f(x-delta_x)\n",
    "        grad[idx] = (fx1 - fx2) / (2*delta_x)\n",
    "        \n",
    "        x[idx] = tmp_val \n",
    "        it.iternext()   \n",
    "        \n",
    "    return grad"
   ]
  },
  {
   "cell_type": "code",
   "execution_count": 3,
   "metadata": {},
   "outputs": [],
   "source": [
    "# LogicGate Class\n",
    "\n",
    "class LogicGate:\n",
    "    \n",
    "    def __init__(self, gate_name, xdata, tdata):  # xdata, tdata => numpy.array(...)\n",
    "        \n",
    "        self.name = gate_name\n",
    "        \n",
    "        # 입력 데이터, 정답 데이터 초기화\n",
    "        self.__xdata = xdata.reshape(4,2)\n",
    "        self.__tdata = tdata.reshape(4,1)\n",
    "        \n",
    "        # 가중치 W, 바이어스 b 초기화\n",
    "        self.__W = np.random.rand(2,1)  # weight, 2 X 1 matrix\n",
    "        self.__b = np.random.rand(1)\n",
    "                        \n",
    "        # 학습률 learning rate 초기화\n",
    "        self.__learning_rate = 1e-2\n",
    "        \n",
    "    # 손실함수\n",
    "    def __loss_func(self):\n",
    "        \n",
    "        delta = 1e-7    # log 무한대 발산 방지\n",
    "    \n",
    "        z = np.dot(self.__xdata, self.__W) + self.__b\n",
    "        y = sigmoid(z)\n",
    "    \n",
    "        # cross-entropy \n",
    "        return  -np.sum( self.__tdata*np.log(y + delta) + (1-self.__tdata)*np.log((1 - y)+delta ) )      \n",
    "    \n",
    "    # 손실 값 계산\n",
    "    def error_val(self):\n",
    "        \n",
    "        delta = 1e-7    # log 무한대 발산 방지\n",
    "    \n",
    "        z = np.dot(self.__xdata, self.__W) + self.__b\n",
    "        y = sigmoid(z)\n",
    "    \n",
    "        # cross-entropy \n",
    "        return  -np.sum( self.__tdata*np.log(y + delta) + (1-self.__tdata)*np.log((1 - y)+delta ) )\n",
    "\n",
    "    # 수치미분을 이용하여 손실함수가 최소가 될때 까지 학습하는 함수\n",
    "    def train(self):\n",
    "        \n",
    "        f = lambda x : self.__loss_func()\n",
    "        \n",
    "        print(\"Initial error value = \", self.error_val())\n",
    "        \n",
    "        for step in  range(8001):\n",
    "            \n",
    "            self.__W -= self.__learning_rate * numerical_derivative(f, self.__W)\n",
    "    \n",
    "            self.__b -= self.__learning_rate * numerical_derivative(f, self.__b)\n",
    "    \n",
    "            if (step % 400 == 0):\n",
    "                print(\"step = \", step, \"error value = \", self.error_val())\n",
    "                \n",
    "                \n",
    "    # 미래 값 예측 함수\n",
    "    def predict(self, input_data):\n",
    "        \n",
    "        z = np.dot(input_data, self.__W) + self.__b\n",
    "        y = sigmoid(z)\n",
    "    \n",
    "        if y > 0.5:\n",
    "            result = 1  # True\n",
    "        else:\n",
    "            result = 0  # False\n",
    "    \n",
    "        return y, result"
   ]
  },
  {
   "cell_type": "code",
   "execution_count": 4,
   "metadata": {
    "collapsed": false,
    "jupyter": {
     "outputs_hidden": false
    }
   },
   "outputs": [
    {
     "name": "stdout",
     "output_type": "stream",
     "text": [
      "Initial error value =  3.87189614416236\n",
      "step =  0 error value =  3.8290613456355285\n",
      "step =  400 error value =  1.5472644381890523\n",
      "step =  800 error value =  1.1478164614712822\n",
      "step =  1200 error value =  0.9219666487783601\n",
      "step =  1600 error value =  0.773170228380784\n",
      "step =  2000 error value =  0.6663476567778215\n",
      "step =  2400 error value =  0.585419886895292\n",
      "step =  2800 error value =  0.5218015984941872\n",
      "step =  3200 error value =  0.4704116270784027\n",
      "step =  3600 error value =  0.4280163692671116\n",
      "step =  4000 error value =  0.3924450589115024\n",
      "step =  4400 error value =  0.36217960375245506\n",
      "step =  4800 error value =  0.3361234349012342\n",
      "step =  5200 error value =  0.3134633321338242\n",
      "step =  5600 error value =  0.29358283992556594\n",
      "step =  6000 error value =  0.2760058829626352\n",
      "step =  6400 error value =  0.2603588540252483\n",
      "step =  6800 error value =  0.24634442354044006\n",
      "step =  7200 error value =  0.23372302204483467\n",
      "step =  7600 error value =  0.2222994810945681\n",
      "step =  8000 error value =  0.21191322345926494\n"
     ]
    }
   ],
   "source": [
    "xdata = np.array([ [0, 0], [0, 1], [1, 0], [1, 1] ])\n",
    "tdata = np.array([0, 0, 0, 1])\n",
    "\n",
    "AND_obj = LogicGate(\"AND_GATE\", xdata, tdata)\n",
    "\n",
    "AND_obj.train()"
   ]
  },
  {
   "cell_type": "code",
   "execution_count": 7,
   "metadata": {
    "collapsed": false,
    "jupyter": {
     "outputs_hidden": false
    }
   },
   "outputs": [
    {
     "name": "stdout",
     "output_type": "stream",
     "text": [
      "AND_GATE \n",
      "\n",
      "[0 0]  =  [0.00037347] 0 \n",
      "\n",
      "[0 1]  =  [0.05993759] 0 \n",
      "\n",
      "[1 0]  =  [0.05993974] 0 \n",
      "\n",
      "[1 1]  =  [0.91583433] 1 \n",
      "\n"
     ]
    }
   ],
   "source": [
    "# AND Gate prediction\n",
    "print(AND_obj.name, \"\\n\")\n",
    "\n",
    "test_data = np.array([ [0, 0], [0, 1], [1, 0], [1, 1] ])\n",
    "\n",
    "for input_data in test_data:\n",
    "    (sigmoid_val, logical_val) = AND_obj.predict(input_data) \n",
    "    print(input_data, \" = \", sigmoid_val, logical_val, \"\\n\")  "
   ]
  },
  {
   "cell_type": "code",
   "execution_count": 8,
   "metadata": {
    "collapsed": false,
    "jupyter": {
     "outputs_hidden": false
    }
   },
   "outputs": [
    {
     "name": "stdout",
     "output_type": "stream",
     "text": [
      "Initial error value =  1.8354987074486349\n",
      "step =  0 error value =  1.8321271321722086\n",
      "step =  400 error value =  1.1411611542544624\n",
      "step =  800 error value =  0.8200178431125235\n",
      "step =  1200 error value =  0.6339984380140804\n",
      "step =  1600 error value =  0.513750681724652\n",
      "step =  2000 error value =  0.4301153677278492\n",
      "step =  2400 error value =  0.3688594411271438\n",
      "step =  2800 error value =  0.3222264189260756\n",
      "step =  3200 error value =  0.2856392131360178\n",
      "step =  3600 error value =  0.2562299618579968\n",
      "step =  4000 error value =  0.23211509173502304\n",
      "step =  4400 error value =  0.21200934091078838\n",
      "step =  4800 error value =  0.19500745181817397\n",
      "step =  5200 error value =  0.18045448821164145\n",
      "step =  5600 error value =  0.16786558804773738\n",
      "step =  6000 error value =  0.15687455681491813\n",
      "step =  6400 error value =  0.14719993873845286\n",
      "step =  6800 error value =  0.13862203317711294\n",
      "step =  7200 error value =  0.13096696439531788\n",
      "step =  7600 error value =  0.12409541301152377\n",
      "step =  8000 error value =  0.11789449844044239\n"
     ]
    }
   ],
   "source": [
    "xdata = np.array([ [0, 0], [0, 1], [1, 0], [1, 1] ])\n",
    "tdata = np.array([0, 1, 1, 1])\n",
    "\n",
    "OR_obj = LogicGate(\"OR_GATE\", xdata, tdata)\n",
    "\n",
    "OR_obj.train() "
   ]
  },
  {
   "cell_type": "code",
   "execution_count": 10,
   "metadata": {
    "collapsed": false,
    "jupyter": {
     "outputs_hidden": false
    }
   },
   "outputs": [
    {
     "name": "stdout",
     "output_type": "stream",
     "text": [
      "OR_GATE \n",
      "\n",
      "[0 0]  =  [0.0640742] 0 \n",
      "\n",
      "[0 1]  =  [0.9744518] 1 \n",
      "\n",
      "[1 0]  =  [0.97457988] 1 \n",
      "\n",
      "[1 1]  =  [0.99995319] 1 \n",
      "\n"
     ]
    }
   ],
   "source": [
    "# OR Gate prediction\n",
    "print(OR_obj.name, \"\\n\")\n",
    "\n",
    "test_data = np.array([ [0, 0], [0, 1], [1, 0], [1, 1] ])\n",
    "\n",
    "for input_data in test_data:\n",
    "    (sigmoid_val, logical_val) = OR_obj.predict(input_data) \n",
    "    print(input_data, \" = \", sigmoid_val, logical_val, \"\\n\")  "
   ]
  },
  {
   "cell_type": "code",
   "execution_count": 11,
   "metadata": {
    "collapsed": false,
    "jupyter": {
     "outputs_hidden": false
    }
   },
   "outputs": [
    {
     "name": "stdout",
     "output_type": "stream",
     "text": [
      "Initial error value =  3.016369194737334\n",
      "step =  0 error value =  3.0110004851194656\n",
      "step =  400 error value =  1.7315791571232308\n",
      "step =  800 error value =  1.2382415479166153\n",
      "step =  1200 error value =  0.977102928091718\n",
      "step =  1600 error value =  0.8109828591839887\n",
      "step =  2000 error value =  0.6941513898864193\n",
      "step =  2400 error value =  0.6068199361902182\n",
      "step =  2800 error value =  0.538816097017133\n",
      "step =  3200 error value =  0.484274183673449\n",
      "step =  3600 error value =  0.43953042285108734\n",
      "step =  4000 error value =  0.40215939591707406\n",
      "step =  4400 error value =  0.3704832093962748\n",
      "step =  4800 error value =  0.34330033238511143\n",
      "step =  5200 error value =  0.31972602968830793\n",
      "step =  5600 error value =  0.2990936311751099\n",
      "step =  6000 error value =  0.28089090316304527\n",
      "step =  6400 error value =  0.2647176365896073\n",
      "step =  6800 error value =  0.2502565642874539\n",
      "step =  7200 error value =  0.23725292937996856\n",
      "step =  7600 error value =  0.22549982721738654\n",
      "step =  8000 error value =  0.21482749446089\n"
     ]
    }
   ],
   "source": [
    "xdata = np.array([ [0, 0], [0, 1], [1, 0], [1, 1] ])\n",
    "tdata = np.array([1, 1, 1, 0])\n",
    "\n",
    "NAND_obj = LogicGate(\"NAND_GATE\", xdata, tdata)\n",
    "\n",
    "NAND_obj.train()"
   ]
  },
  {
   "cell_type": "code",
   "execution_count": 14,
   "metadata": {
    "collapsed": false,
    "jupyter": {
     "outputs_hidden": false
    }
   },
   "outputs": [
    {
     "name": "stdout",
     "output_type": "stream",
     "text": [
      "NAND_GATE \n",
      "\n",
      "[0 0]  =  [0.99961043] 1 \n",
      "\n",
      "[0 1]  =  [0.93927297] 1 \n",
      "\n",
      "[1 0]  =  [0.93927078] 1 \n",
      "\n",
      "[1 1]  =  [0.08528035] 0 \n",
      "\n"
     ]
    }
   ],
   "source": [
    "# NAND Gate prediction\n",
    "print(NAND_obj.name, \"\\n\")\n",
    "\n",
    "test_data = np.array([ [0, 0], [0, 1], [1, 0], [1, 1] ])\n",
    "\n",
    "for input_data in test_data:\n",
    "    (sigmoid_val, logical_val) = NAND_obj.predict(input_data) \n",
    "    print(input_data, \" = \",sigmoid_val,  logical_val, \"\\n\")  "
   ]
  },
  {
   "cell_type": "code",
   "execution_count": 15,
   "metadata": {
    "collapsed": false,
    "jupyter": {
     "outputs_hidden": false
    }
   },
   "outputs": [
    {
     "name": "stdout",
     "output_type": "stream",
     "text": [
      "Initial error value =  2.914734145753466\n",
      "step =  0 error value =  2.9104795793301967\n",
      "step =  400 error value =  2.772788519509934\n",
      "step =  800 error value =  2.772637019698026\n",
      "step =  1200 error value =  2.7726008069134473\n",
      "step =  1600 error value =  2.7725914348989513\n",
      "step =  2000 error value =  2.772588899020577\n",
      "step =  2400 error value =  2.772588196545225\n",
      "step =  2800 error value =  2.7725879996417335\n",
      "step =  3200 error value =  2.772587944131052\n",
      "step =  3600 error value =  2.7725879284380714\n",
      "step =  4000 error value =  2.7725879239957294\n",
      "step =  4400 error value =  2.7725879227374\n",
      "step =  4800 error value =  2.7725879223808594\n",
      "step =  5200 error value =  2.772587922279821\n",
      "step =  5600 error value =  2.772587922251187\n",
      "step =  6000 error value =  2.772587922243071\n",
      "step =  6400 error value =  2.7725879222407714\n",
      "step =  6800 error value =  2.7725879222401195\n",
      "step =  7200 error value =  2.7725879222399348\n",
      "step =  7600 error value =  2.772587922239882\n",
      "step =  8000 error value =  2.7725879222398673\n"
     ]
    }
   ],
   "source": [
    "xdata = np.array([ [0, 0], [0, 1], [1, 0], [1, 1] ])\n",
    "tdata = np.array([0, 1, 1, 0])\n",
    "\n",
    "\n",
    "XOR_obj = LogicGate(\"XOR_GATE\", xdata, tdata)\n",
    "\n",
    "# XOR Gate 를 보면, 손실함수 값이 2.7 근처에서 더 이상 감소하지 않는것을 볼수 있음\n",
    "XOR_obj.train()"
   ]
  },
  {
   "cell_type": "code",
   "execution_count": 16,
   "metadata": {
    "collapsed": false,
    "jupyter": {
     "outputs_hidden": false
    }
   },
   "outputs": [
    {
     "name": "stdout",
     "output_type": "stream",
     "text": [
      "XOR_GATE \n",
      "\n",
      "[0 0]  =  [0.49999996] 0 \n",
      "\n",
      "[0 1]  =  [0.49999999] 0 \n",
      "\n",
      "[1 0]  =  [0.49999999] 0 \n",
      "\n",
      "[1 1]  =  [0.50000003] 1 \n",
      "\n"
     ]
    }
   ],
   "source": [
    "# XOR Gate prediction => 예측이 되지 않음\n",
    "print(XOR_obj.name, \"\\n\")\n",
    "\n",
    "test_data = np.array([ [0, 0], [0, 1], [1, 0], [1, 1] ])\n",
    "\n",
    "for input_data in test_data:\n",
    "    (sigmoid_val, logical_val) = XOR_obj.predict(input_data) \n",
    "    print(input_data, \" = \", sigmoid_val,logical_val, \"\\n\")  "
   ]
  },
  {
   "cell_type": "code",
   "execution_count": 17,
   "metadata": {
    "collapsed": false,
    "jupyter": {
     "outputs_hidden": false
    }
   },
   "outputs": [
    {
     "name": "stdout",
     "output_type": "stream",
     "text": [
      "[0 0]  =  0\n",
      "\n",
      "[0 1]  =  1\n",
      "\n",
      "[1 0]  =  1\n",
      "\n",
      "[1 1]  =  0\n",
      "\n"
     ]
    }
   ],
   "source": [
    "# XOR 을 NAND + OR => AND 조합으로 계산함\n",
    "input_data = np.array([ [0, 0], [0, 1], [1, 0], [1, 1] ])\n",
    "\n",
    "s1 = []    # NAND 출력\n",
    "s2 = []    # OR 출력\n",
    "\n",
    "new_input_data = []  # AND 입력\n",
    "final_output = []    # AND 출력\n",
    "\n",
    "for index in range(len(input_data)):\n",
    "    \n",
    "    s1 = NAND_obj.predict(input_data[index])  # NAND 출력\n",
    "    s2 = OR_obj.predict(input_data[index])    # OR 출력\n",
    "    \n",
    "    new_input_data.append(s1[-1])    # AND 입력\n",
    "    new_input_data.append(s2[-1])    # AND 입력\n",
    "    \n",
    "    (sigmoid_val, logical_val) = AND_obj.predict(np.array(new_input_data))\n",
    "    \n",
    "    final_output.append(logical_val)    # AND 출력, 즉 XOR 출력    \n",
    "    new_input_data = []    # AND 입력 초기화\n",
    "\n",
    "\n",
    "for index in range(len(input_data)):    \n",
    "    print(input_data[index], \" = \", final_output[index], end='')\n",
    "    print(\"\\n\")"
   ]
  },
  {
   "cell_type": "code",
   "execution_count": null,
   "metadata": {
    "collapsed": true,
    "jupyter": {
     "outputs_hidden": true
    }
   },
   "outputs": [],
   "source": []
  }
 ],
 "metadata": {
  "anaconda-cloud": {},
  "kernelspec": {
   "display_name": "Python 3",
   "language": "python",
   "name": "python3"
  },
  "language_info": {
   "codemirror_mode": {
    "name": "ipython",
    "version": 3
   },
   "file_extension": ".py",
   "mimetype": "text/x-python",
   "name": "python",
   "nbconvert_exporter": "python",
   "pygments_lexer": "ipython3",
   "version": "3.7.6"
  }
 },
 "nbformat": 4,
 "nbformat_minor": 4
}
