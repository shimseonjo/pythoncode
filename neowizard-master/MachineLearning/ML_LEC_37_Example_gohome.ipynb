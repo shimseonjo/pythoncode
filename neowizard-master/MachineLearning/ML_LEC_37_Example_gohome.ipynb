{
 "cells": [
  {
   "cell_type": "code",
   "execution_count": 1,
   "metadata": {
    "collapsed": true
   },
   "outputs": [],
   "source": [
    "import tensorflow as tf\n",
    "import numpy as np\n",
    "\n",
    "# 'gohome'  Data Creation\n",
    "idx2char = ['g', 'o', 'h', 'm', 'e']  # g = 0, o = 1, h = 2, m = 3, e = 4\n",
    "\n",
    "x_data = [[0, 1, 2, 1, 3]]   # gohom\n",
    "\n",
    "x_one_hot = [[[1, 0, 0, 0],   # g 0\n",
    "              [0, 1, 0, 0],   # o 1\n",
    "              [0, 0, 1, 0],   # h 2\n",
    "              [0, 1, 0, 0],   # o 1\n",
    "              [0, 0, 0, 1]]]  # m 3\n",
    "\n",
    "t_data = [[1, 2, 1, 3, 4]]    # ohome\n",
    "\n",
    "num_classes = 5      # 정답 크기, 즉 one-hot 으로 나타내는 크기\n",
    "input_dim = 4        # one-hot size, 즉 입력값은 0부터 3까지 총 4가지임\n",
    "hidden_size = 5      # output from the RNN. 5 to directly predict one-hot\n",
    "batch_size = 1       # one sentence\n",
    "sequence_length = 5  # 입력으로 들어가는 문장 길이 gohom == 5\n",
    "learning_rate = 0.1\n",
    "\n",
    "X = tf.placeholder(tf.float32, [None, sequence_length, input_dim])  \n",
    "T = tf.placeholder(tf.int32, [None, sequence_length])  "
   ]
  },
  {
   "cell_type": "code",
   "execution_count": 2,
   "metadata": {
    "collapsed": false
   },
   "outputs": [
    {
     "name": "stdout",
     "output_type": "stream",
     "text": [
      "WARNING:tensorflow:From <ipython-input-2-481c3a456450>:1: BasicRNNCell.__init__ (from tensorflow.python.ops.rnn_cell_impl) is deprecated and will be removed in a future version.\n",
      "Instructions for updating:\n",
      "This class is equivalent as tf.keras.layers.SimpleRNNCell, and will be replaced by that in Tensorflow 2.0.\n"
     ]
    }
   ],
   "source": [
    "cell = tf.contrib.rnn.BasicRNNCell(num_units=hidden_size)  # BasicRNNCell(rnn_size)\n",
    "\n",
    "initial_state = cell.zero_state(batch_size, tf.float32)\n",
    "\n",
    "outputs, _states = tf.nn.dynamic_rnn(cell, X, initial_state=initial_state, dtype=tf.float32)\n",
    "\n",
    "weights = tf.ones([batch_size, sequence_length])\n",
    "\n",
    "seq_loss = tf.contrib.seq2seq.sequence_loss(logits=outputs, targets=T, weights=weights)\n",
    "\n",
    "loss = tf.reduce_mean(seq_loss)\n",
    "\n",
    "train = tf.train.AdamOptimizer(learning_rate=learning_rate).minimize(loss)"
   ]
  },
  {
   "cell_type": "code",
   "execution_count": 3,
   "metadata": {
    "collapsed": false
   },
   "outputs": [
    {
     "name": "stdout",
     "output_type": "stream",
     "text": [
      "step =  0 , loss =  1.7871441 , prediction =  [[2 1 1 1 1]] , target =  [[1, 2, 1, 3, 4]]\n",
      "\tPrediction =  hoooo\n",
      "step =  400 , loss =  0.44935045 , prediction =  [[1 2 1 3 4]] , target =  [[1, 2, 1, 3, 4]]\n",
      "\tPrediction =  ohome\n",
      "step =  800 , loss =  0.44436932 , prediction =  [[1 2 1 3 4]] , target =  [[1, 2, 1, 3, 4]]\n",
      "\tPrediction =  ohome\n",
      "step =  1200 , loss =  0.44205984 , prediction =  [[1 2 1 3 4]] , target =  [[1, 2, 1, 3, 4]]\n",
      "\tPrediction =  ohome\n",
      "step =  1600 , loss =  0.44067255 , prediction =  [[1 2 1 3 4]] , target =  [[1, 2, 1, 3, 4]]\n",
      "\tPrediction =  ohome\n",
      "step =  2000 , loss =  0.4396987 , prediction =  [[1 2 1 3 4]] , target =  [[1, 2, 1, 3, 4]]\n",
      "\tPrediction =  ohome\n"
     ]
    }
   ],
   "source": [
    "y = prediction = tf.argmax(outputs, axis=2)\n",
    "\n",
    "with tf.Session() as sess:\n",
    "    \n",
    "    sess.run(tf.global_variables_initializer())\n",
    "    \n",
    "    for step in range(2001):\n",
    "        \n",
    "        loss_val, _ = sess.run([loss, train], feed_dict={X: x_one_hot, T: t_data})\n",
    "        result = sess.run(y, feed_dict={X: x_one_hot})\n",
    "        \n",
    "        if step % 400 ==0:\n",
    "            print(\"step = \", step, \", loss = \", loss_val, \", prediction = \", result, \", target = \", t_data)\n",
    "\n",
    "            # print char using dic\n",
    "            result_str = [idx2char[c] for c in np.squeeze(result)]\n",
    "            \n",
    "            print(\"\\tPrediction = \", ''.join(result_str))"
   ]
  },
  {
   "cell_type": "code",
   "execution_count": null,
   "metadata": {
    "collapsed": true
   },
   "outputs": [],
   "source": []
  }
 ],
 "metadata": {
  "anaconda-cloud": {},
  "kernelspec": {
   "display_name": "Python [default]",
   "language": "python",
   "name": "python3"
  },
  "language_info": {
   "codemirror_mode": {
    "name": "ipython",
    "version": 3
   },
   "file_extension": ".py",
   "mimetype": "text/x-python",
   "name": "python",
   "nbconvert_exporter": "python",
   "pygments_lexer": "ipython3",
   "version": "3.5.2"
  }
 },
 "nbformat": 4,
 "nbformat_minor": 1
}
