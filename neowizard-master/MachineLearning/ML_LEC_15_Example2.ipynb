{
 "cells": [
  {
   "cell_type": "code",
   "execution_count": 3,
   "metadata": {
    "collapsed": false
   },
   "outputs": [
    {
     "name": "stdout",
     "output_type": "stream",
     "text": [
      "x_data.ndim =  2 , x_data.shape =  (25, 3)\n",
      "t_data.ndim =  2 , t_data.shape =  (25, 1)\n"
     ]
    }
   ],
   "source": [
    "import numpy as np\n",
    "\n",
    "loaded_data = np.loadtxt('./data-01-test-score.csv', delimiter=',', dtype=np.float32)\n",
    "\n",
    "x_data = loaded_data[ :, 0:-1]\n",
    "t_data = loaded_data[ :, [-1]]\n",
    "\n",
    "# 데이터 차원 및 shape 확인\n",
    "print(\"x_data.ndim = \", x_data.ndim, \", x_data.shape = \", x_data.shape)\n",
    "print(\"t_data.ndim = \", t_data.ndim, \", t_data.shape = \", t_data.shape) "
   ]
  },
  {
   "cell_type": "code",
   "execution_count": 2,
   "metadata": {
    "collapsed": false
   },
   "outputs": [
    {
     "name": "stdout",
     "output_type": "stream",
     "text": [
      "W =  [[0.04946736]\n",
      " [0.00916638]\n",
      " [0.56439521]] , W.shape =  (3, 1) , b =  [0.34662569] , b.shape =  (1,)\n"
     ]
    }
   ],
   "source": [
    "W = np.random.rand(3,1)  # 3X1 행렬\n",
    "b = np.random.rand(1)  \n",
    "print(\"W = \", W, \", W.shape = \", W.shape, \", b = \", b, \", b.shape = \", b.shape)"
   ]
  },
  {
   "cell_type": "code",
   "execution_count": 3,
   "metadata": {
    "collapsed": true
   },
   "outputs": [],
   "source": [
    "def loss_func(x, t):\n",
    "    y = np.dot(x,W) + b\n",
    "    \n",
    "    return ( np.sum( (t - y)**2 ) ) / ( len(x) )"
   ]
  },
  {
   "cell_type": "code",
   "execution_count": 4,
   "metadata": {
    "collapsed": true
   },
   "outputs": [],
   "source": [
    "def numerical_derivative(f, x):\n",
    "    delta_x = 1e-4 # 0.0001\n",
    "    grad = np.zeros_like(x)\n",
    "    \n",
    "    it = np.nditer(x, flags=['multi_index'], op_flags=['readwrite'])\n",
    "    \n",
    "    while not it.finished:\n",
    "        idx = it.multi_index        \n",
    "        tmp_val = x[idx]\n",
    "        x[idx] = float(tmp_val) + delta_x\n",
    "        fx1 = f(x) # f(x+delta_x)\n",
    "        \n",
    "        x[idx] = tmp_val - delta_x \n",
    "        fx2 = f(x) # f(x-delta_x)\n",
    "        grad[idx] = (fx1 - fx2) / (2*delta_x)\n",
    "        \n",
    "        x[idx] = tmp_val \n",
    "        it.iternext()   \n",
    "        \n",
    "    return grad"
   ]
  },
  {
   "cell_type": "code",
   "execution_count": 5,
   "metadata": {
    "collapsed": false
   },
   "outputs": [],
   "source": [
    "# 손실함수 값 계산 함수\n",
    "# 입력변수 x, t : numpy type\n",
    "def error_val(x, t):\n",
    "    y = np.dot(x,W) + b\n",
    "    \n",
    "    return ( np.sum( (t - y)**2 ) ) / ( len(x) )\n",
    "\n",
    "# 학습을 마친 후, 임의의 데이터에 대해 미래 값 예측 함수\n",
    "# 입력변수 x : numpy type\n",
    "def predict(x):\n",
    "    y = np.dot(x,W) + b\n",
    "    \n",
    "    return y"
   ]
  },
  {
   "cell_type": "code",
   "execution_count": 6,
   "metadata": {
    "collapsed": false
   },
   "outputs": [
    {
     "name": "stdout",
     "output_type": "stream",
     "text": [
      "Initial error value =  12612.552489005942 Initial W =  [[0.04946736]\n",
      " [0.00916638]\n",
      " [0.56439521]] \n",
      " , b =  [0.34662569]\n",
      "step =  0 error value =  4667.485325027743 W =  [[0.22884158]\n",
      " [0.18957711]\n",
      " [0.74902839]] , b =  [0.34797584]\n",
      "step =  400 error value =  6.516038270751993 W =  [[0.49272251]\n",
      " [0.47382228]\n",
      " [1.04522003]] , b =  [0.34945336]\n",
      "step =  800 error value =  6.4501684406560855 W =  [[0.47964981]\n",
      " [0.47799457]\n",
      " [1.05385525]] , b =  [0.34882266]\n",
      "step =  1200 error value =  6.396649123184944 W =  [[0.46783145]\n",
      " [0.48195151]\n",
      " [1.061482  ]] , b =  [0.34818207]\n",
      "step =  1600 error value =  6.35311106562369 W =  [[0.45714635]\n",
      " [0.48568404]\n",
      " [1.06822679]] , b =  [0.34753274]\n",
      "step =  2000 error value =  6.31765365396927 W =  [[0.44748521]\n",
      " [0.48918877]\n",
      " [1.07419911]] , b =  [0.34687568]\n",
      "step =  2400 error value =  6.288748220628605 W =  [[0.43874941]\n",
      " [0.49246669]\n",
      " [1.07949388]] , b =  [0.34621178]\n",
      "step =  2800 error value =  6.265162397701323 W =  [[0.43084988]\n",
      " [0.49552202]\n",
      " [1.08419348]] , b =  [0.34554182]\n",
      "step =  3200 error value =  6.245900647226594 W =  [[0.42370621]\n",
      " [0.49836145]\n",
      " [1.08836955]] , b =  [0.34486649]\n",
      "step =  3600 error value =  6.230157297812982 W =  [[0.41724578]\n",
      " [0.50099336]\n",
      " [1.09208444]] , b =  [0.34418639]\n",
      "step =  4000 error value =  6.21727930347684 W =  [[0.41140298]\n",
      " [0.50342734]\n",
      " [1.09539256]] , b =  [0.34350205]\n",
      "step =  4400 error value =  6.206736600072426 W =  [[0.40611856]\n",
      " [0.5056737 ]\n",
      " [1.0983414 ]] , b =  [0.34281395]\n",
      "step =  4800 error value =  6.198098428320745 W =  [[0.40133898]\n",
      " [0.50774317]\n",
      " [1.10097251]] , b =  [0.3421225]\n",
      "step =  5200 error value =  6.191014364108381 W =  [[0.39701586]\n",
      " [0.50964661]\n",
      " [1.10332228]] , b =  [0.34142807]\n",
      "step =  5600 error value =  6.18519907825465 W =  [[0.39310548]\n",
      " [0.51139482]\n",
      " [1.10542264]] , b =  [0.34073099]\n",
      "step =  6000 error value =  6.180420062497554 W =  [[0.38956834]\n",
      " [0.5129984 ]\n",
      " [1.10730164]] , b =  [0.34003155]\n",
      "step =  6400 error value =  6.176487722933351 W =  [[0.38636872]\n",
      " [0.5144676 ]\n",
      " [1.10898395]] , b =  [0.33933002]\n",
      "step =  6800 error value =  6.173247368989568 W =  [[0.38347434]\n",
      " [0.51581229]\n",
      " [1.11049132]] , b =  [0.33862661]\n",
      "step =  7200 error value =  6.170572724377186 W =  [[0.38085603]\n",
      " [0.51704184]\n",
      " [1.11184291]] , b =  [0.33792154]\n",
      "step =  7600 error value =  6.168360663162613 W =  [[0.37848739]\n",
      " [0.51816518]\n",
      " [1.11305567]] , b =  [0.33721499]\n",
      "step =  8000 error value =  6.16652693420177 W =  [[0.37634459]\n",
      " [0.51919067]\n",
      " [1.11414458]] , b =  [0.33650712]\n",
      "step =  8400 error value =  6.165002684499958 W =  [[0.37440604]\n",
      " [0.52012619]\n",
      " [1.11512291]] , b =  [0.33579807]\n",
      "step =  8800 error value =  6.163731629484813 W =  [[0.37265225]\n",
      " [0.52097911]\n",
      " [1.11600242]] , b =  [0.33508799]\n",
      "step =  9200 error value =  6.162667747895536 W =  [[0.3710656 ]\n",
      " [0.52175625]\n",
      " [1.11679356]] , b =  [0.33437698]\n",
      "step =  9600 error value =  6.161773402669903 W =  [[0.36963011]\n",
      " [0.522464  ]\n",
      " [1.1175056 ]] , b =  [0.33366515]\n",
      "step =  10000 error value =  6.1610178081486735 W =  [[0.36833139]\n",
      " [0.52310825]\n",
      " [1.11814679]] , b =  [0.33295259]\n"
     ]
    }
   ],
   "source": [
    "learning_rate = 1e-5  # 1e-2, 1e-3 은 손실함수 값 발산\n",
    "\n",
    "f = lambda x : loss_func(x_data,t_data)\n",
    "\n",
    "print(\"Initial error value = \", error_val(x_data, t_data), \"Initial W = \", W, \"\\n\", \", b = \", b )\n",
    "\n",
    "for step in  range(10001):  \n",
    "    \n",
    "    W -= learning_rate * numerical_derivative(f, W)\n",
    "    \n",
    "    b -= learning_rate * numerical_derivative(f, b)\n",
    "    \n",
    "    if (step % 400 == 0):\n",
    "        print(\"step = \", step, \"error value = \", error_val(x_data, t_data), \"W = \", W, \", b = \",b )"
   ]
  },
  {
   "cell_type": "code",
   "execution_count": 7,
   "metadata": {
    "collapsed": false
   },
   "outputs": [
    {
     "data": {
      "text/plain": [
       "array([179.00059026])"
      ]
     },
     "execution_count": 7,
     "metadata": {},
     "output_type": "execute_result"
    }
   ],
   "source": [
    "test_data = np.array([100, 98, 81])\n",
    "\n",
    "predict(test_data) "
   ]
  }
 ],
 "metadata": {
  "anaconda-cloud": {},
  "kernelspec": {
   "display_name": "Python [default]",
   "language": "python",
   "name": "python3"
  },
  "language_info": {
   "codemirror_mode": {
    "name": "ipython",
    "version": 3
   },
   "file_extension": ".py",
   "mimetype": "text/x-python",
   "name": "python",
   "nbconvert_exporter": "python",
   "pygments_lexer": "ipython3",
   "version": "3.5.2"
  }
 },
 "nbformat": 4,
 "nbformat_minor": 1
}
