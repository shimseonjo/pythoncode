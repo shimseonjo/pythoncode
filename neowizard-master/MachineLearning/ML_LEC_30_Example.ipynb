{
 "cells": [
  {
   "cell_type": "code",
   "execution_count": 1,
   "metadata": {
    "collapsed": false
   },
   "outputs": [
    {
     "name": "stdout",
     "output_type": "stream",
     "text": [
      "loaded_data =  (759, 9)\n",
      "x_data =  (759, 8) , t_data =  (759, 1)\n"
     ]
    }
   ],
   "source": [
    "import tensorflow as tf\n",
    "import numpy as np\n",
    "\n",
    "loaded_data = np.loadtxt('./diabetes.csv', delimiter=',')\n",
    "\n",
    "x_data = loaded_data[ :, 0:-1]\n",
    "t_data = loaded_data[ :, [-1]]\n",
    "\n",
    "print(\"loaded_data = \", loaded_data.shape)\n",
    "print(\"x_data = \", x_data.shape, \", t_data = \", t_data.shape)"
   ]
  },
  {
   "cell_type": "code",
   "execution_count": 2,
   "metadata": {
    "collapsed": true
   },
   "outputs": [],
   "source": [
    "X = tf.placeholder(tf.float32, [None, 8])  # 8개 입력노드\n",
    "T = tf.placeholder(tf.float32, [None, 1])  # 1개 정답노드\n",
    "\n",
    "W = tf.Variable(tf.random_normal([8, 1]))  # 8X1 가중치노드\n",
    "b = tf.Variable(tf.random_normal([1]))     # 1개 바이어스 노드"
   ]
  },
  {
   "cell_type": "code",
   "execution_count": 3,
   "metadata": {
    "collapsed": true
   },
   "outputs": [],
   "source": [
    "z = tf.matmul(X, W) + b  # 선형회귀 값 z\n",
    "\n",
    "y = tf.sigmoid(z)    # 시그모이드로 계산 값\n",
    "\n",
    "# 손실함수는 Cross-Entropy \n",
    "loss = -tf.reduce_mean( T*tf.log(y) + (1-T)*tf.log(1-y) ) "
   ]
  },
  {
   "cell_type": "code",
   "execution_count": 4,
   "metadata": {
    "collapsed": true
   },
   "outputs": [],
   "source": [
    "learning_rate = 0.01    # 학습율\n",
    "\n",
    "optimizer = tf.train.GradientDescentOptimizer(learning_rate)\n",
    "\n",
    "train = optimizer.minimize(loss)  "
   ]
  },
  {
   "cell_type": "code",
   "execution_count": 5,
   "metadata": {
    "collapsed": true
   },
   "outputs": [],
   "source": [
    "# 정확성 검사, True if y > 0.5 else False\n",
    "\n",
    "# y shape 은 (759X8) (8X1) = 759X1, 즉 759개의 모든 데이터에 대해 y > 0.5 검사함\n",
    "# 그러므로 predicted 또한 759 개의 1 또는 0 을 가짐\n",
    "predicted = tf.cast(y > 0.5, dtype=tf.float32)  \n",
    "\n",
    "\n",
    "# predicted 와 T 같으면 True 를 리턴하므로 cast 에 의해서 1로 강제 변환, 그렇지 않으면 0으로 변환해서\n",
    "# accuracy 는 총 759 개의 1 또는 0 을 가짐. 이것을 전체 갯수 759로 나눔\n",
    "accuracy = tf.reduce_mean(tf.cast(tf.equal(predicted, T), dtype=tf.float32))"
   ]
  },
  {
   "cell_type": "code",
   "execution_count": 6,
   "metadata": {
    "collapsed": false
   },
   "outputs": [
    {
     "name": "stdout",
     "output_type": "stream",
     "text": [
      "step =  0 , loss_val =  0.92555255\n",
      "step =  500 , loss_val =  0.67882293\n",
      "step =  1000 , loss_val =  0.62958205\n",
      "step =  1500 , loss_val =  0.5949444\n",
      "step =  2000 , loss_val =  0.56981456\n",
      "step =  2500 , loss_val =  0.55138016\n",
      "step =  3000 , loss_val =  0.5376486\n",
      "step =  3500 , loss_val =  0.5272398\n",
      "step =  4000 , loss_val =  0.5192049\n",
      "step =  4500 , loss_val =  0.51289123\n",
      "step =  5000 , loss_val =  0.50784457\n",
      "step =  5500 , loss_val =  0.50374615\n",
      "step =  6000 , loss_val =  0.50036854\n",
      "step =  6500 , loss_val =  0.49754745\n",
      "step =  7000 , loss_val =  0.49516234\n",
      "step =  7500 , loss_val =  0.49312377\n",
      "step =  8000 , loss_val =  0.4913638\n",
      "step =  8500 , loss_val =  0.48983097\n",
      "step =  9000 , loss_val =  0.4884849\n",
      "step =  9500 , loss_val =  0.48729452\n",
      "step =  10000 , loss_val =  0.48623472\n",
      "step =  10500 , loss_val =  0.4852855\n",
      "step =  11000 , loss_val =  0.48443082\n",
      "step =  11500 , loss_val =  0.48365733\n",
      "step =  12000 , loss_val =  0.48295435\n",
      "step =  12500 , loss_val =  0.4823126\n",
      "step =  13000 , loss_val =  0.48172465\n",
      "step =  13500 , loss_val =  0.48118404\n",
      "step =  14000 , loss_val =  0.48068535\n",
      "step =  14500 , loss_val =  0.48022395\n",
      "step =  15000 , loss_val =  0.47979587\n",
      "step =  15500 , loss_val =  0.47939777\n",
      "step =  16000 , loss_val =  0.47902656\n",
      "step =  16500 , loss_val =  0.4786796\n",
      "step =  17000 , loss_val =  0.47835478\n",
      "step =  17500 , loss_val =  0.47805002\n",
      "step =  18000 , loss_val =  0.4777636\n",
      "step =  18500 , loss_val =  0.47749394\n",
      "step =  19000 , loss_val =  0.47723967\n",
      "step =  19500 , loss_val =  0.4769996\n",
      "step =  20000 , loss_val =  0.47677252\n",
      "\n",
      "y_val.shape =  (759, 1) , predicted_val =  (759, 1)\n",
      "\n",
      "Accuracy =  0.77470356\n"
     ]
    }
   ],
   "source": [
    "with  tf.Session()  as sess:\n",
    "    \n",
    "    sess.run(tf.global_variables_initializer())  # 변수 노드(tf.Variable) 초기화\n",
    "\n",
    "    for step in range(20001):\n",
    "      \n",
    "        loss_val, _ = sess.run([loss, train], feed_dict={X: x_data, T: t_data})    \n",
    "        \n",
    "        \n",
    "        if step % 500 == 0:\n",
    "            print(\"step = \", step, \", loss_val = \", loss_val)             \n",
    "    \n",
    "    # Accuracy 확인\n",
    "    y_val, predicted_val, accuracy_val = sess.run([y, predicted, accuracy], feed_dict={X: x_data, T: t_data})\n",
    "    \n",
    "    \n",
    "    print(\"\\ny_val.shape = \", y_val.shape, \", predicted_val = \", predicted_val.shape)    \n",
    "    print(\"\\nAccuracy = \", accuracy_val)"
   ]
  },
  {
   "cell_type": "code",
   "execution_count": null,
   "metadata": {
    "collapsed": true
   },
   "outputs": [],
   "source": []
  }
 ],
 "metadata": {
  "anaconda-cloud": {},
  "kernelspec": {
   "display_name": "Python [default]",
   "language": "python",
   "name": "python3"
  },
  "language_info": {
   "codemirror_mode": {
    "name": "ipython",
    "version": 3
   },
   "file_extension": ".py",
   "mimetype": "text/x-python",
   "name": "python",
   "nbconvert_exporter": "python",
   "pygments_lexer": "ipython3",
   "version": "3.5.2"
  }
 },
 "nbformat": 4,
 "nbformat_minor": 1
}
