{
 "cells": [
  {
   "cell_type": "code",
   "execution_count": 23,
   "metadata": {
    "collapsed": false
   },
   "outputs": [
    {
     "name": "stdout",
     "output_type": "stream",
     "text": [
      "step =  0 , W1 =  [-0.45137885] , b1 =  [1.2115546]\n",
      "step =  0 , W2 =  [[ 0.5276252  -0.19593444]] , b2 =  [[ 1.0040597  -0.63668317]]\n",
      "step =  1 , W1 =  [-1.4513788] , b1 =  [0.21155465]\n",
      "step =  1 , W2 =  [[-0.4723748 -1.1959344]] , b2 =  [[ 0.00405967 -1.6366832 ]]\n",
      "step =  2 , W1 =  [-3.4513788] , b1 =  [-1.7884454]\n",
      "step =  2 , W2 =  [[-2.472375  -3.1959343]] , b2 =  [[-1.9959403 -3.6366832]]\n"
     ]
    }
   ],
   "source": [
    "import tensorflow as tf\n",
    "\n",
    "# 값이 계속 업데이트되는 변수노드 정의\n",
    "W1 = tf.Variable(tf.random_normal([1]))  # W1 = np.random.rand(1) 비슷함\n",
    "b1 = tf.Variable(tf.random_normal([1]))  # b1 = np.random.rand(1) 비슷함\n",
    "\n",
    "W2 = tf.Variable(tf.random_normal([1,2]))  # W2 = np.random.rand(1,2) 비슷함\n",
    "b2 = tf.Variable(tf.random_normal([1,2]))  # b2 = np.random.rand(1,2) 비슷함\n",
    "\n",
    "# 세션 생성\n",
    "sess = tf.Session()  \n",
    "\n",
    "# 변수노드 값 초기화. 변수노드를 정의했다면 반드시 필요함\n",
    "sess.run(tf.global_variables_initializer())\n",
    "\n",
    "\n",
    "for step in range(3):    \n",
    "    \n",
    "    W1 = W1 - step    # W1 변수노드 업데이트\n",
    "    b1 = b1 - step    # b1 변수노드 업데이트\n",
    "    \n",
    "    W2 = W2 - step    # W2 변수노드 업데이트\n",
    "    b2 = b2 - step    # b2 변수노드 업데이트\n",
    "    \n",
    "    print(\"step = \", step, \", W1 = \", sess.run(W1), \", b1 = \", sess.run(b1))\n",
    "    print(\"step = \", step, \", W2 = \", sess.run(W2), \", b2 = \", sess.run(b2))\n",
    "\n",
    "# 세션 close\n",
    "sess.close()   "
   ]
  },
  {
   "cell_type": "code",
   "execution_count": null,
   "metadata": {
    "collapsed": true
   },
   "outputs": [],
   "source": []
  }
 ],
 "metadata": {
  "anaconda-cloud": {},
  "kernelspec": {
   "display_name": "Python [default]",
   "language": "python",
   "name": "python3"
  },
  "language_info": {
   "codemirror_mode": {
    "name": "ipython",
    "version": 3
   },
   "file_extension": ".py",
   "mimetype": "text/x-python",
   "name": "python",
   "nbconvert_exporter": "python",
   "pygments_lexer": "ipython3",
   "version": "3.5.2"
  }
 },
 "nbformat": 4,
 "nbformat_minor": 1
}
