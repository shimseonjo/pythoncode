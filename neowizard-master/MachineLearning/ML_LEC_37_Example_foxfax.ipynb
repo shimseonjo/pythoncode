{
 "cells": [
  {
   "cell_type": "code",
   "execution_count": 1,
   "metadata": {
    "collapsed": true
   },
   "outputs": [],
   "source": [
    "import tensorflow as tf\n",
    "import numpy as np\n",
    "\n",
    "# 'foxfax' Data Creation\n",
    "idx2char = ['f', 'o', 'x', 'a']  # f = 0, o = 1, x = 2, a = 3\n",
    "\n",
    "x_data = [[0, 1, 2, 0, 3]]   # foxfa\n",
    "\n",
    "x_one_hot = [[[1, 0, 0, 0],   # f 0\n",
    "              [0, 1, 0, 0],   # o 1\n",
    "              [0, 0, 1, 0],   # x 2\n",
    "              [1, 0, 0, 0],   # f 0\n",
    "              [0, 0, 0, 1]]]  # a 3\n",
    "\n",
    "t_data = [[1, 2, 0, 3, 2]]    # oxfax\n",
    "\n",
    "num_classes = 5    # 정답 크기 len('oxgax'), 즉 one-hot 으로 나타내는 크기\n",
    "input_dim = 4      # one-hot size\n",
    "hidden_size = 5    # output from the RNN. 5 to directly predict one-hot\n",
    "batch_size = 1     # one sentence\n",
    "sequence_length = 5  # foxfa == 5\n",
    "learning_rate = 0.1\n",
    "\n",
    "X = tf.placeholder(tf.float32, [None, sequence_length, input_dim])  # X one-hot\n",
    "T = tf.placeholder(tf.int32, [None, sequence_length])  # T label"
   ]
  },
  {
   "cell_type": "code",
   "execution_count": 2,
   "metadata": {
    "collapsed": false
   },
   "outputs": [
    {
     "name": "stdout",
     "output_type": "stream",
     "text": [
      "WARNING:tensorflow:From <ipython-input-2-481c3a456450>:1: BasicRNNCell.__init__ (from tensorflow.python.ops.rnn_cell_impl) is deprecated and will be removed in a future version.\n",
      "Instructions for updating:\n",
      "This class is equivalent as tf.keras.layers.SimpleRNNCell, and will be replaced by that in Tensorflow 2.0.\n"
     ]
    }
   ],
   "source": [
    "cell = tf.contrib.rnn.BasicRNNCell(num_units=hidden_size)  # BasicRNNCell(rnn_size)\n",
    "\n",
    "initial_state = cell.zero_state(batch_size, tf.float32)\n",
    "\n",
    "outputs, _states = tf.nn.dynamic_rnn(cell, X, initial_state=initial_state, dtype=tf.float32)\n",
    "\n",
    "weights = tf.ones([batch_size, sequence_length])\n",
    "\n",
    "seq_loss = tf.contrib.seq2seq.sequence_loss(logits=outputs, targets=T, weights=weights)\n",
    "\n",
    "loss = tf.reduce_mean(seq_loss)\n",
    "\n",
    "train = tf.train.AdamOptimizer(learning_rate=learning_rate).minimize(loss)"
   ]
  },
  {
   "cell_type": "code",
   "execution_count": 3,
   "metadata": {
    "collapsed": false
   },
   "outputs": [
    {
     "name": "stdout",
     "output_type": "stream",
     "text": [
      "step =  0 , loss =  1.4270073 , prediction =  [[1 2 0 3 2]] , target =  [[1, 2, 0, 3, 2]]\n",
      "\tPrediction =  oxfax\n",
      "step =  400 , loss =  0.43297115 , prediction =  [[1 2 0 3 2]] , target =  [[1, 2, 0, 3, 2]]\n",
      "\tPrediction =  oxfax\n",
      "step =  800 , loss =  0.4327716 , prediction =  [[1 2 0 3 2]] , target =  [[1, 2, 0, 3, 2]]\n",
      "\tPrediction =  oxfax\n",
      "step =  1200 , loss =  0.4327157 , prediction =  [[1 2 0 3 2]] , target =  [[1, 2, 0, 3, 2]]\n",
      "\tPrediction =  oxfax\n",
      "step =  1600 , loss =  0.43269163 , prediction =  [[1 2 0 3 2]] , target =  [[1, 2, 0, 3, 2]]\n",
      "\tPrediction =  oxfax\n",
      "step =  2000 , loss =  0.43267885 , prediction =  [[1 2 0 3 2]] , target =  [[1, 2, 0, 3, 2]]\n",
      "\tPrediction =  oxfax\n"
     ]
    }
   ],
   "source": [
    "y = prediction = tf.argmax(outputs, axis=2)\n",
    "\n",
    "with tf.Session() as sess:\n",
    "    \n",
    "    sess.run(tf.global_variables_initializer())\n",
    "    \n",
    "    for step in range(2001):\n",
    "        \n",
    "        loss_val, _ = sess.run([loss, train], feed_dict={X: x_one_hot, T: t_data})\n",
    "        result = sess.run(prediction, feed_dict={X: x_one_hot})\n",
    "        \n",
    "        if step % 400 ==0:\n",
    "            print(\"step = \", step, \", loss = \", loss_val, \", prediction = \", result, \", target = \", t_data)\n",
    "\n",
    "            # print char using dic           \n",
    "            result_str = [idx2char[c] for c in np.squeeze(result)]\n",
    "            \n",
    "            print(\"\\tPrediction = \", ''.join(result_str))"
   ]
  },
  {
   "cell_type": "code",
   "execution_count": null,
   "metadata": {
    "collapsed": true
   },
   "outputs": [],
   "source": []
  }
 ],
 "metadata": {
  "anaconda-cloud": {},
  "kernelspec": {
   "display_name": "Python [default]",
   "language": "python",
   "name": "python3"
  },
  "language_info": {
   "codemirror_mode": {
    "name": "ipython",
    "version": 3
   },
   "file_extension": ".py",
   "mimetype": "text/x-python",
   "name": "python",
   "nbconvert_exporter": "python",
   "pygments_lexer": "ipython3",
   "version": "3.5.2"
  }
 },
 "nbformat": 4,
 "nbformat_minor": 1
}
