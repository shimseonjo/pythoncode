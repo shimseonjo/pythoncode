{
 "cells": [
  {
   "cell_type": "code",
   "execution_count": 3,
   "metadata": {
    "collapsed": false
   },
   "outputs": [
    {
     "name": "stdout",
     "output_type": "stream",
     "text": [
      "[0, 1, 4, 9, 16]\n"
     ]
    }
   ],
   "source": [
    "list_data = [ x**2  for x in range(5) ] \n",
    "\n",
    "print(list_data)"
   ]
  },
  {
   "cell_type": "code",
   "execution_count": 4,
   "metadata": {
    "collapsed": false
   },
   "outputs": [
    {
     "name": "stdout",
     "output_type": "stream",
     "text": [
      "all_data == [[1, 10], [2, 15], [3, 30], [4, 55]]\n",
      "x_data == [1, 2, 3, 4]\n",
      "y_data == [10, 15, 30, 55]\n"
     ]
    }
   ],
   "source": [
    "raw_data = [ [1, 10], [2, 15], [3, 30], [4, 55] ] \n",
    "\n",
    "all_data = [ x  for x in raw_data ] \n",
    "x_data = [ x[0]  for x in raw_data ]\n",
    "y_data = [ x[1]  for x in raw_data ] \n",
    "\n",
    "print(\"all_data ==\", all_data) \n",
    "print(\"x_data ==\", x_data)\n",
    "print(\"y_data ==\", y_data) "
   ]
  },
  {
   "cell_type": "code",
   "execution_count": null,
   "metadata": {
    "collapsed": true
   },
   "outputs": [],
   "source": []
  }
 ],
 "metadata": {
  "kernelspec": {
   "display_name": "Python [default]",
   "language": "python",
   "name": "python3"
  },
  "language_info": {
   "codemirror_mode": {
    "name": "ipython",
    "version": 3
   },
   "file_extension": ".py",
   "mimetype": "text/x-python",
   "name": "python",
   "nbconvert_exporter": "python",
   "pygments_lexer": "ipython3",
   "version": "3.5.2"
  }
 },
 "nbformat": 4,
 "nbformat_minor": 1
}
