{
 "cells": [
  {
   "cell_type": "code",
   "execution_count": 1,
   "metadata": {
    "collapsed": true
   },
   "outputs": [],
   "source": [
    "import tensorflow as tf\n",
    "import numpy as np\n",
    "\n",
    "# Data Creation\n",
    "idx2char = ['h', 'i', 'e', 'l', 'o']  # h = 0, i = 1, e = 2, l = 3, o = 4\n",
    "\n",
    "x_data = [[0, 1, 0, 2, 3, 3]]   # hihell\n",
    "\n",
    "x_one_hot = [[[1, 0, 0, 0, 0],   # h 0\n",
    "              [0, 1, 0, 0, 0],   # i 1\n",
    "              [1, 0, 0, 0, 0],   # h 0\n",
    "              [0, 0, 1, 0, 0],   # e 2\n",
    "              [0, 0, 0, 1, 0],   # l 3\n",
    "              [0, 0, 0, 1, 0]]]  # l 3\n",
    "\n",
    "t_data = [[1, 0, 2, 3, 3, 4]]    # ihello\n",
    "\n",
    "num_classes = 5\n",
    "input_dim = 5  # one-hot size, 즉 고유한 캐릭터 종류는 h, i, e, l, o 총 5개임\n",
    "hidden_size = 5  # output from the RNN. 5 to directly predict one-hot\n",
    "batch_size = 1   # one sentence\n",
    "sequence_length = 6  # |ihello| == 6\n",
    "learning_rate = 0.1\n",
    "\n",
    "X = tf.placeholder(tf.float32, [None, sequence_length, input_dim])  # X one-hot\n",
    "T = tf.placeholder(tf.int32, [None, sequence_length])  # T label"
   ]
  },
  {
   "cell_type": "code",
   "execution_count": 2,
   "metadata": {
    "collapsed": false
   },
   "outputs": [
    {
     "name": "stdout",
     "output_type": "stream",
     "text": [
      "WARNING:tensorflow:From <ipython-input-2-4a4c4cdd95e1>:1: BasicLSTMCell.__init__ (from tensorflow.python.ops.rnn_cell_impl) is deprecated and will be removed in a future version.\n",
      "Instructions for updating:\n",
      "This class is deprecated, please use tf.nn.rnn_cell.LSTMCell, which supports all the feature this cell currently has. Please replace the existing code with tf.nn.rnn_cell.LSTMCell(name='basic_lstm_cell').\n"
     ]
    }
   ],
   "source": [
    "cell = tf.contrib.rnn.BasicLSTMCell(num_units=hidden_size)  # BasicLSTMCell(rnn_size)\n",
    "\n",
    "initial_state = cell.zero_state(batch_size, tf.float32)\n",
    "\n",
    "outputs, _states = tf.nn.dynamic_rnn(cell, X, initial_state=initial_state, dtype=tf.float32)\n",
    "\n",
    "weights = tf.ones([batch_size, sequence_length])\n",
    "\n",
    "seq_loss = tf.contrib.seq2seq.sequence_loss(logits=outputs, targets=T, weights=weights)\n",
    "\n",
    "loss = tf.reduce_mean(seq_loss)\n",
    "\n",
    "train = tf.train.AdamOptimizer(learning_rate=learning_rate).minimize(loss)"
   ]
  },
  {
   "cell_type": "code",
   "execution_count": 3,
   "metadata": {
    "collapsed": false
   },
   "outputs": [
    {
     "name": "stdout",
     "output_type": "stream",
     "text": [
      "step =  0 , loss =  1.662204 , prediction =  [[3 0 3 3 3 3]] , label =   [[1, 0, 2, 3, 3, 4]]\n",
      "\tPrediction =  lhllll\n",
      "step =  400 , loss =  0.6360836 , prediction =  [[1 0 2 3 3 4]] , label =   [[1, 0, 2, 3, 3, 4]]\n",
      "\tPrediction =  ihello\n",
      "step =  800 , loss =  0.6323561 , prediction =  [[1 0 2 3 3 4]] , label =   [[1, 0, 2, 3, 3, 4]]\n",
      "\tPrediction =  ihello\n",
      "step =  1200 , loss =  0.63059086 , prediction =  [[1 0 2 3 3 4]] , label =   [[1, 0, 2, 3, 3, 4]]\n",
      "\tPrediction =  ihello\n",
      "step =  1600 , loss =  0.62945956 , prediction =  [[1 0 2 3 3 4]] , label =   [[1, 0, 2, 3, 3, 4]]\n",
      "\tPrediction =  ihello\n",
      "step =  2000 , loss =  0.62862897 , prediction =  [[1 0 2 3 3 4]] , label =   [[1, 0, 2, 3, 3, 4]]\n",
      "\tPrediction =  ihello\n"
     ]
    }
   ],
   "source": [
    "y = prediction = tf.argmax(outputs, axis=2)\n",
    "\n",
    "with tf.Session() as sess:\n",
    "    \n",
    "    sess.run(tf.global_variables_initializer())\n",
    "    \n",
    "    for i in range(2001):\n",
    "        \n",
    "        loss_val, _ = sess.run([loss, train], feed_dict={X: x_one_hot, T: t_data})\n",
    "        result = sess.run(y, feed_dict={X: x_one_hot})\n",
    "        \n",
    "        if i % 400 ==0:\n",
    "            print(\"step = \", i, \", loss = \", loss_val, \", prediction = \", result, \", label =  \", t_data)\n",
    "\n",
    "            # print char using dic\n",
    "            result_str = [idx2char[c] for c in np.squeeze(result)]\n",
    "            print(\"\\tPrediction = \", ''.join(result_str))"
   ]
  },
  {
   "cell_type": "code",
   "execution_count": null,
   "metadata": {
    "collapsed": true
   },
   "outputs": [],
   "source": []
  }
 ],
 "metadata": {
  "anaconda-cloud": {},
  "kernelspec": {
   "display_name": "Python [default]",
   "language": "python",
   "name": "python3"
  },
  "language_info": {
   "codemirror_mode": {
    "name": "ipython",
    "version": 3
   },
   "file_extension": ".py",
   "mimetype": "text/x-python",
   "name": "python",
   "nbconvert_exporter": "python",
   "pygments_lexer": "ipython3",
   "version": "3.5.2"
  }
 },
 "nbformat": 4,
 "nbformat_minor": 1
}
