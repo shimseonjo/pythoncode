{
 "cells": [
  {
   "cell_type": "markdown",
   "metadata": {},
   "source": [
    "### ML_LEC_41_Colab_Example 는 일반 PC가 아닌\n",
    "### Google Colab (https://colab.research.google.com/) 에서 실행한 예제임"
   ]
  },
  {
   "cell_type": "code",
   "execution_count": 0,
   "metadata": {
    "colab": {
     "base_uri": "https://localhost:8080/",
     "height": 36
    },
    "colab_type": "code",
    "collapsed": false,
    "executionInfo": {
     "elapsed": 2098,
     "status": "ok",
     "timestamp": 1565191567433,
     "user": {
      "displayName": "SungHo Park",
      "photoUrl": "https://lh3.googleusercontent.com/-LVEx-EoYqD8/AAAAAAAAAAI/AAAAAAAAACU/gAJcaaGz0n0/s64/photo.jpg",
      "userId": "10197638097211969274"
     },
     "user_tz": -540
    },
    "id": "TzVzzFdNB50N",
    "outputId": "a74c6a94-3856-4081-c964-4595dfc0d943"
   },
   "outputs": [
    {
     "name": "stdout",
     "output_type": "stream",
     "text": [
      "Ubuntu 18.04.2 LTS\n"
     ]
    }
   ],
   "source": [
    "# Colab OS 종류\n",
    "!cat /etc/issue.net"
   ]
  },
  {
   "cell_type": "code",
   "execution_count": 0,
   "metadata": {
    "colab": {
     "base_uri": "https://localhost:8080/",
     "height": 204
    },
    "colab_type": "code",
    "collapsed": false,
    "executionInfo": {
     "elapsed": 1643,
     "status": "ok",
     "timestamp": 1565191628549,
     "user": {
      "displayName": "SungHo Park",
      "photoUrl": "https://lh3.googleusercontent.com/-LVEx-EoYqD8/AAAAAAAAAAI/AAAAAAAAACU/gAJcaaGz0n0/s64/photo.jpg",
      "userId": "10197638097211969274"
     },
     "user_tz": -540
    },
    "id": "f9v-gF_7CMM7",
    "outputId": "a6ddb3b5-9b14-48b0-ebce-cd2d9486219e"
   },
   "outputs": [
    {
     "name": "stdout",
     "output_type": "stream",
     "text": [
      "processor\t: 0\n",
      "vendor_id\t: GenuineIntel\n",
      "cpu family\t: 6\n",
      "model\t\t: 63\n",
      "model name\t: Intel(R) Xeon(R) CPU @ 2.30GHz\n",
      "stepping\t: 0\n",
      "microcode\t: 0x1\n",
      "cpu MHz\t\t: 2300.000\n",
      "cache size\t: 46080 KB\n",
      "physical id\t: 0\n"
     ]
    }
   ],
   "source": [
    "# Colab CPU 사양\n",
    "!head /proc/cpuinfo"
   ]
  },
  {
   "cell_type": "code",
   "execution_count": 0,
   "metadata": {
    "colab": {
     "base_uri": "https://localhost:8080/",
     "height": 73
    },
    "colab_type": "code",
    "collapsed": false,
    "executionInfo": {
     "elapsed": 1633,
     "status": "ok",
     "timestamp": 1565191649400,
     "user": {
      "displayName": "SungHo Park",
      "photoUrl": "https://lh3.googleusercontent.com/-LVEx-EoYqD8/AAAAAAAAAAI/AAAAAAAAACU/gAJcaaGz0n0/s64/photo.jpg",
      "userId": "10197638097211969274"
     },
     "user_tz": -540
    },
    "id": "jA9qDBBSsOAl",
    "outputId": "f3936c9e-df34-41c8-d7c0-73e170dc0e44"
   },
   "outputs": [
    {
     "name": "stdout",
     "output_type": "stream",
     "text": [
      "MemTotal:       13335276 kB\n",
      "MemFree:        11295956 kB\n",
      "MemAvailable:   12667176 kB\n"
     ]
    }
   ],
   "source": [
    "# 메모리 사양\n",
    "!head -n 3 /proc/meminfo"
   ]
  },
  {
   "cell_type": "code",
   "execution_count": 0,
   "metadata": {
    "colab": {
     "base_uri": "https://localhost:8080/",
     "height": 167
    },
    "colab_type": "code",
    "collapsed": false,
    "executionInfo": {
     "elapsed": 1778,
     "status": "ok",
     "timestamp": 1565191662095,
     "user": {
      "displayName": "SungHo Park",
      "photoUrl": "https://lh3.googleusercontent.com/-LVEx-EoYqD8/AAAAAAAAAAI/AAAAAAAAACU/gAJcaaGz0n0/s64/photo.jpg",
      "userId": "10197638097211969274"
     },
     "user_tz": -540
    },
    "id": "rvg4g8F7sTGp",
    "outputId": "6cd92208-c614-4239-9295-389bb9c008ba"
   },
   "outputs": [
    {
     "name": "stdout",
     "output_type": "stream",
     "text": [
      "Filesystem      Size  Used Avail Use% Mounted on\n",
      "overlay          49G   26G   22G  55% /\n",
      "tmpfs           6.4G     0  6.4G   0% /dev\n",
      "tmpfs           6.4G     0  6.4G   0% /sys/fs/cgroup\n",
      "tmpfs           6.4G  8.0K  6.4G   1% /var/colab\n",
      "/dev/sda1        55G   27G   29G  49% /etc/hosts\n",
      "shm             6.0G  4.0K  6.0G   1% /dev/shm\n",
      "tmpfs           6.4G     0  6.4G   0% /sys/firmware\n"
     ]
    }
   ],
   "source": [
    "# 디스크 사양\n",
    "!df -h"
   ]
  },
  {
   "cell_type": "code",
   "execution_count": 0,
   "metadata": {
    "colab": {
     "base_uri": "https://localhost:8080/",
     "height": 36
    },
    "colab_type": "code",
    "collapsed": false,
    "executionInfo": {
     "elapsed": 1688,
     "status": "ok",
     "timestamp": 1565191744548,
     "user": {
      "displayName": "SungHo Park",
      "photoUrl": "https://lh3.googleusercontent.com/-LVEx-EoYqD8/AAAAAAAAAAI/AAAAAAAAACU/gAJcaaGz0n0/s64/photo.jpg",
      "userId": "10197638097211969274"
     },
     "user_tz": -540
    },
    "id": "pcnsIzousWKs",
    "outputId": "732df126-b14b-4c1c-d803-3579a8be2447"
   },
   "outputs": [
    {
     "name": "stdout",
     "output_type": "stream",
     "text": [
      "/content\n"
     ]
    }
   ],
   "source": [
    "# 현재 디렉토리 확인\n",
    "!pwd"
   ]
  },
  {
   "cell_type": "code",
   "execution_count": 0,
   "metadata": {
    "colab": {
     "base_uri": "https://localhost:8080/",
     "height": 111
    },
    "colab_type": "code",
    "collapsed": false,
    "executionInfo": {
     "elapsed": 1582,
     "status": "ok",
     "timestamp": 1565191755630,
     "user": {
      "displayName": "SungHo Park",
      "photoUrl": "https://lh3.googleusercontent.com/-LVEx-EoYqD8/AAAAAAAAAAI/AAAAAAAAACU/gAJcaaGz0n0/s64/photo.jpg",
      "userId": "10197638097211969274"
     },
     "user_tz": -540
    },
    "id": "_3DE4jVTsmrH",
    "outputId": "6adda78c-aa99-4836-9e9b-d0f2f2229fc3"
   },
   "outputs": [
    {
     "name": "stdout",
     "output_type": "stream",
     "text": [
      "total 16\n",
      "drwxr-xr-x 1 root root 4096 Aug  1 16:08 .\n",
      "drwxr-xr-x 1 root root 4096 Aug  7 15:20 ..\n",
      "drwxr-xr-x 1 root root 4096 Aug  2 16:06 .config\n",
      "drwxr-xr-x 1 root root 4096 Aug  2 16:06 sample_data\n"
     ]
    }
   ],
   "source": [
    "!ls -al"
   ]
  },
  {
   "cell_type": "code",
   "execution_count": 0,
   "metadata": {
    "colab": {
     "base_uri": "https://localhost:8080/",
     "height": 36
    },
    "colab_type": "code",
    "collapsed": false,
    "executionInfo": {
     "elapsed": 1720,
     "status": "ok",
     "timestamp": 1565192666524,
     "user": {
      "displayName": "SungHo Park",
      "photoUrl": "https://lh3.googleusercontent.com/-LVEx-EoYqD8/AAAAAAAAAAI/AAAAAAAAACU/gAJcaaGz0n0/s64/photo.jpg",
      "userId": "10197638097211969274"
     },
     "user_tz": -540
    },
    "id": "d3ffX2f2stDF",
    "outputId": "15769cfe-b589-4f5d-b643-fd6ed818598e"
   },
   "outputs": [
    {
     "name": "stdout",
     "output_type": "stream",
     "text": [
      "Python 3.6.8\n"
     ]
    }
   ],
   "source": [
    "# Python 버전 확인\n",
    "!python --version"
   ]
  },
  {
   "cell_type": "code",
   "execution_count": 0,
   "metadata": {
    "colab": {
     "base_uri": "https://localhost:8080/",
     "height": 36
    },
    "colab_type": "code",
    "collapsed": false,
    "executionInfo": {
     "elapsed": 1977,
     "status": "ok",
     "timestamp": 1565192706935,
     "user": {
      "displayName": "SungHo Park",
      "photoUrl": "https://lh3.googleusercontent.com/-LVEx-EoYqD8/AAAAAAAAAAI/AAAAAAAAACU/gAJcaaGz0n0/s64/photo.jpg",
      "userId": "10197638097211969274"
     },
     "user_tz": -540
    },
    "id": "6kylW89mwLZ-",
    "outputId": "ea070cb6-6a68-4dc7-fc6b-85560b9bbd75"
   },
   "outputs": [
    {
     "name": "stdout",
     "output_type": "stream",
     "text": [
      "1.14.0\n"
     ]
    }
   ],
   "source": [
    "# TensorFlow 버전 확인\n",
    "import tensorflow as tf\n",
    "\n",
    "print(tf.__version__)"
   ]
  },
  {
   "cell_type": "code",
   "execution_count": 0,
   "metadata": {
    "colab": {
     "base_uri": "https://localhost:8080/",
     "height": 131
    },
    "colab_type": "code",
    "collapsed": false,
    "executionInfo": {
     "elapsed": 4779,
     "status": "ok",
     "timestamp": 1565192746190,
     "user": {
      "displayName": "SungHo Park",
      "photoUrl": "https://lh3.googleusercontent.com/-LVEx-EoYqD8/AAAAAAAAAAI/AAAAAAAAACU/gAJcaaGz0n0/s64/photo.jpg",
      "userId": "10197638097211969274"
     },
     "user_tz": -540
    },
    "id": "9XNDk0ACwVNO",
    "outputId": "fb4680fa-ae36-4939-a70f-36525ffad2ca"
   },
   "outputs": [
    {
     "name": "stdout",
     "output_type": "stream",
     "text": [
      "Requirement already satisfied: tensorflow-hub in /usr/local/lib/python3.6/dist-packages (0.5.0)\n",
      "Requirement already satisfied: numpy>=1.12.0 in /usr/local/lib/python3.6/dist-packages (from tensorflow-hub) (1.16.4)\n",
      "Requirement already satisfied: protobuf>=3.4.0 in /usr/local/lib/python3.6/dist-packages (from tensorflow-hub) (3.7.1)\n",
      "Requirement already satisfied: six>=1.10.0 in /usr/local/lib/python3.6/dist-packages (from tensorflow-hub) (1.12.0)\n",
      "Requirement already satisfied: setuptools in /usr/local/lib/python3.6/dist-packages (from protobuf>=3.4.0->tensorflow-hub) (41.0.1)\n"
     ]
    }
   ],
   "source": [
    "# 필요한 라이브러리 설치\n",
    "!pip install tensorflow-hub"
   ]
  },
  {
   "cell_type": "code",
   "execution_count": 0,
   "metadata": {
    "colab": {
     "base_uri": "https://localhost:8080/",
     "height": 167
    },
    "colab_type": "code",
    "collapsed": false,
    "executionInfo": {
     "elapsed": 3826,
     "status": "ok",
     "timestamp": 1565192789093,
     "user": {
      "displayName": "SungHo Park",
      "photoUrl": "https://lh3.googleusercontent.com/-LVEx-EoYqD8/AAAAAAAAAAI/AAAAAAAAACU/gAJcaaGz0n0/s64/photo.jpg",
      "userId": "10197638097211969274"
     },
     "user_tz": -540
    },
    "id": "ZmcPO-7aweG6",
    "outputId": "3155b700-59b2-4aaa-b6eb-cacb148c559c"
   },
   "outputs": [
    {
     "name": "stdout",
     "output_type": "stream",
     "text": [
      "Requirement already satisfied: keras in /usr/local/lib/python3.6/dist-packages (2.2.4)\n",
      "Requirement already satisfied: numpy>=1.9.1 in /usr/local/lib/python3.6/dist-packages (from keras) (1.16.4)\n",
      "Requirement already satisfied: scipy>=0.14 in /usr/local/lib/python3.6/dist-packages (from keras) (1.3.0)\n",
      "Requirement already satisfied: pyyaml in /usr/local/lib/python3.6/dist-packages (from keras) (3.13)\n",
      "Requirement already satisfied: h5py in /usr/local/lib/python3.6/dist-packages (from keras) (2.8.0)\n",
      "Requirement already satisfied: keras-applications>=1.0.6 in /usr/local/lib/python3.6/dist-packages (from keras) (1.0.8)\n",
      "Requirement already satisfied: keras-preprocessing>=1.0.5 in /usr/local/lib/python3.6/dist-packages (from keras) (1.1.0)\n",
      "Requirement already satisfied: six>=1.9.0 in /usr/local/lib/python3.6/dist-packages (from keras) (1.12.0)\n"
     ]
    }
   ],
   "source": [
    "# 필요한 라이브러리 설치\n",
    "!pip install keras"
   ]
  },
  {
   "cell_type": "code",
   "execution_count": 0,
   "metadata": {
    "colab": {},
    "colab_type": "code",
    "collapsed": true,
    "id": "2m_dsFj7woz3"
   },
   "outputs": [],
   "source": []
  }
 ],
 "metadata": {
  "colab": {
   "collapsed_sections": [],
   "name": "ML_LEC_41_Example.ipynb",
   "provenance": [],
   "version": "0.3.2"
  },
  "kernelspec": {
   "display_name": "Python [default]",
   "language": "python",
   "name": "python3"
  },
  "language_info": {
   "codemirror_mode": {
    "name": "ipython",
    "version": 3
   },
   "file_extension": ".py",
   "mimetype": "text/x-python",
   "name": "python",
   "nbconvert_exporter": "python",
   "pygments_lexer": "ipython3",
   "version": "3.5.2"
  }
 },
 "nbformat": 4,
 "nbformat_minor": 0
}
