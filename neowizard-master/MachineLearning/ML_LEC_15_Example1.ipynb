{
 "cells": [
  {
   "cell_type": "code",
   "execution_count": 1,
   "metadata": {
    "collapsed": false,
    "jupyter": {
     "outputs_hidden": false
    }
   },
   "outputs": [
    {
     "name": "stdout",
     "output_type": "stream",
     "text": [
      "x_data.shape =  (5, 1) , t_data.shape =  (5, 1)\n"
     ]
    }
   ],
   "source": [
    "import numpy as np\n",
    "\n",
    "x_data = np.array([1, 2, 3, 4, 5]).reshape(5,1)\n",
    "t_data = np.array([2, 3, 4, 5, 6]).reshape(5,1) \n",
    "\n",
    "# raw_data = [ [1, 2], [2, 3], [3, 4], [4, 5], [5, 6] ]\n",
    "\n",
    "print(\"x_data.shape = \", x_data.shape, \", t_data.shape = \", t_data.shape)"
   ]
  },
  {
   "cell_type": "code",
   "execution_count": 2,
   "metadata": {
    "collapsed": false,
    "jupyter": {
     "outputs_hidden": false
    }
   },
   "outputs": [
    {
     "name": "stdout",
     "output_type": "stream",
     "text": [
      "W =  [[0.2732017]] , W.shape =  (1, 1) , b =  [0.09227294] , b.shape =  (1,)\n"
     ]
    }
   ],
   "source": [
    "W = np.random.rand(1,1)  \n",
    "b = np.random.rand(1)  \n",
    "print(\"W = \", W, \", W.shape = \", W.shape, \", b = \", b, \", b.shape = \", b.shape)"
   ]
  },
  {
   "cell_type": "code",
   "execution_count": 3,
   "metadata": {
    "collapsed": true,
    "jupyter": {
     "outputs_hidden": true
    }
   },
   "outputs": [],
   "source": [
    "def loss_func(x, t):\n",
    "    y = np.dot(x,W) + b\n",
    "    \n",
    "    return ( np.sum( (t - y)**2 ) ) / ( len(x) )"
   ]
  },
  {
   "cell_type": "code",
   "execution_count": 4,
   "metadata": {
    "collapsed": true,
    "jupyter": {
     "outputs_hidden": true
    }
   },
   "outputs": [],
   "source": [
    "def numerical_derivative(f, x):\n",
    "    delta_x = 1e-4 # 0.0001\n",
    "    grad = np.zeros_like(x)\n",
    "    \n",
    "    it = np.nditer(x, flags=['multi_index'], op_flags=['readwrite'])\n",
    "    \n",
    "    while not it.finished:\n",
    "        idx = it.multi_index        \n",
    "        tmp_val = x[idx]\n",
    "        x[idx] = float(tmp_val) + delta_x\n",
    "        fx1 = f(x) # f(x+delta_x)\n",
    "        \n",
    "        x[idx] = tmp_val - delta_x \n",
    "        fx2 = f(x) # f(x-delta_x)\n",
    "        grad[idx] = (fx1 - fx2) / (2*delta_x)\n",
    "        \n",
    "        x[idx] = tmp_val \n",
    "        it.iternext()   \n",
    "        \n",
    "    return grad"
   ]
  },
  {
   "cell_type": "code",
   "execution_count": 5,
   "metadata": {
    "collapsed": true,
    "jupyter": {
     "outputs_hidden": true
    }
   },
   "outputs": [],
   "source": [
    "# 손실함수 값 계산 함수\n",
    "# 입력변수 x, t : numpy type\n",
    "def error_val(x, t):\n",
    "    y = np.dot(x,W) + b\n",
    "    \n",
    "    return ( np.sum( (t - y)**2 ) ) / ( len(x) )\n",
    "\n",
    "# 학습을 마친 후, 임의의 데이터에 대해 미래 값 예측 함수\n",
    "# 입력변수 x : numpy type\n",
    "def predict(x):\n",
    "    y = np.dot(x,W) + b\n",
    "    \n",
    "    return y"
   ]
  },
  {
   "cell_type": "code",
   "execution_count": 6,
   "metadata": {
    "collapsed": false,
    "jupyter": {
     "outputs_hidden": false
    }
   },
   "outputs": [
    {
     "name": "stdout",
     "output_type": "stream",
     "text": [
      "Initial error value =  10.592968748813842 Initial W =  [[0.2732017]] \n",
      " , b =  [0.09227294]\n",
      "step =  0 error value =  6.266690386931802 W =  [[0.48756095]] , b =  [0.14117383]\n",
      "step =  400 error value =  0.005786135131648475 W =  [[1.04939591]] , b =  [0.82170873]\n",
      "step =  800 error value =  0.00036918962887293644 W =  [[1.01247732]] , b =  [0.95496392]\n",
      "step =  1200 error value =  2.3556480961155766e-05 W =  [[1.00315175]] , b =  [0.98862396]\n",
      "step =  1600 error value =  1.5030427505977267e-06 W =  [[1.00079613]] , b =  [0.99712643]\n",
      "step =  2000 error value =  9.590301343600435e-08 W =  [[1.0002011]] , b =  [0.99927414]\n",
      "step =  2400 error value =  6.119179233183848e-09 W =  [[1.0000508]] , b =  [0.99981665]\n",
      "step =  2800 error value =  3.9043981149672865e-10 W =  [[1.00001283]] , b =  [0.99995369]\n",
      "step =  3200 error value =  2.4912368244540766e-11 W =  [[1.00000324]] , b =  [0.9999883]\n",
      "step =  3600 error value =  1.5895563762901447e-12 W =  [[1.00000082]] , b =  [0.99999704]\n",
      "step =  4000 error value =  1.0142309418873663e-13 W =  [[1.00000021]] , b =  [0.99999925]\n",
      "step =  4400 error value =  6.47139300050711e-15 W =  [[1.00000005]] , b =  [0.99999981]\n",
      "step =  4800 error value =  4.1291314988795884e-16 W =  [[1.00000001]] , b =  [0.99999995]\n",
      "step =  5200 error value =  2.6346300518077734e-17 W =  [[1.]] , b =  [0.99999999]\n",
      "step =  5600 error value =  1.6810500947427351e-18 W =  [[1.]] , b =  [1.]\n",
      "step =  6000 error value =  1.0726078493820177e-19 W =  [[1.]] , b =  [1.]\n",
      "step =  6400 error value =  6.843883715700545e-21 W =  [[1.]] , b =  [1.]\n",
      "step =  6800 error value =  4.3667795502983015e-22 W =  [[1.]] , b =  [1.]\n",
      "step =  7200 error value =  2.78642287501308e-23 W =  [[1.]] , b =  [1.]\n",
      "step =  7600 error value =  1.778809318272735e-24 W =  [[1.]] , b =  [1.]\n",
      "step =  8000 error value =  1.1392673972938486e-25 W =  [[1.]] , b =  [1.]\n"
     ]
    }
   ],
   "source": [
    "learning_rate = 1e-2  # 발산하는 경우, 1e-3 ~ 1e-6 등으로 바꾸어서 실행\n",
    "\n",
    "f = lambda x : loss_func(x_data,t_data)\n",
    "\n",
    "print(\"Initial error value = \", error_val(x_data, t_data), \"Initial W = \", W, \"\\n\", \", b = \", b )\n",
    "\n",
    "for step in  range(8001):  \n",
    "    \n",
    "    W -= learning_rate * numerical_derivative(f, W)\n",
    "    \n",
    "    b -= learning_rate * numerical_derivative(f, b)\n",
    "    \n",
    "    if (step % 400 == 0):\n",
    "        print(\"step = \", step, \"error value = \", error_val(x_data, t_data), \"W = \", W, \", b = \",b )"
   ]
  },
  {
   "cell_type": "code",
   "execution_count": 7,
   "metadata": {
    "collapsed": false,
    "jupyter": {
     "outputs_hidden": false
    }
   },
   "outputs": [
    {
     "data": {
      "text/plain": [
       "array([[44.]])"
      ]
     },
     "execution_count": 7,
     "metadata": {},
     "output_type": "execute_result"
    }
   ],
   "source": [
    "predict(43) "
   ]
  }
 ],
 "metadata": {
  "anaconda-cloud": {},
  "kernelspec": {
   "display_name": "Python 3",
   "language": "python",
   "name": "python3"
  },
  "language_info": {
   "codemirror_mode": {
    "name": "ipython",
    "version": 3
   },
   "file_extension": ".py",
   "mimetype": "text/x-python",
   "name": "python",
   "nbconvert_exporter": "python",
   "pygments_lexer": "ipython3",
   "version": "3.7.6"
  }
 },
 "nbformat": 4,
 "nbformat_minor": 4
}
