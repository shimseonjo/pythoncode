{
 "cells": [
  {
   "cell_type": "code",
<<<<<<< HEAD
   "execution_count": 13,
=======
   "execution_count": 1,
>>>>>>> d769cb123a52941c69196f683023e630dbfa9958
   "metadata": {
    "collapsed": false,
    "jupyter": {
     "outputs_hidden": false
    }
   },
   "outputs": [
    {
     "name": "stdout",
     "output_type": "stream",
     "text": [
      "x_data.shape =  (5, 1) , t_data.shape =  (5, 1)\n"
     ]
    }
   ],
   "source": [
    "import numpy as np\n",
    "\n",
    "x_data = np.array([1, 2, 3, 4, 5]).reshape(5,1)\n",
    "t_data = np.array([2, 3, 4, 5, 6]).reshape(5,1) \n",
    "print(\"x_data.shape = \", x_data.shape, \", t_data.shape = \", t_data.shape)"
   ]
  },
  {
   "cell_type": "code",
<<<<<<< HEAD
   "execution_count": 14,
=======
   "execution_count": 7,
>>>>>>> d769cb123a52941c69196f683023e630dbfa9958
   "metadata": {
    "collapsed": false,
    "jupyter": {
     "outputs_hidden": false
    }
   },
   "outputs": [],
   "source": [
    "raw_data = [ [1, 2], [2, 3], [3, 4], [4, 5], [5, 6] ]"
   ]
  },
  {
   "cell_type": "code",
   "execution_count": 15,
   "metadata": {},
   "outputs": [
    {
     "data": {
      "text/plain": [
       "list"
      ]
     },
     "execution_count": 15,
     "metadata": {},
     "output_type": "execute_result"
    }
   ],
   "source": [
    "type(raw_data)"
   ]
  },
  {
   "cell_type": "code",
   "execution_count": 16,
   "metadata": {},
   "outputs": [
    {
     "name": "stdout",
     "output_type": "stream",
     "text": [
<<<<<<< HEAD
      "<class 'numpy.ndarray'>\n",
      "[[1]\n",
      " [2]\n",
      " [3]\n",
      " [4]\n",
      " [5]]\n",
      "[[2]\n",
      " [3]\n",
      " [4]\n",
      " [5]\n",
      " [6]]\n",
      "(5, 1)\n",
      "(5, 1)\n"
     ]
    }
   ],
   "source": [
    "raw_data=np.array(raw_data)\n",
    "print(type(raw_data))\n",
    "print(raw_data[:,:1])\n",
    "print(raw_data[:,-1:])\n",
    "print(raw_data[:,:1].shape)\n",
    "print(raw_data[:,-1:].shape)"
   ]
  },
  {
   "cell_type": "code",
   "execution_count": 17,
   "metadata": {
    "collapsed": false,
    "jupyter": {
     "outputs_hidden": false
    }
   },
   "outputs": [
    {
     "name": "stdout",
     "output_type": "stream",
     "text": [
      "W =  [[0.51921424]] , W.shape =  (1, 1) , b =  [0.89671562] , b.shape =  (1,)\n",
      "2 1\n"
=======
      "W =  [[0.07935835]] , W.shape =  (1, 1) , b =  [0.06126558] , b.shape =  (1,)\n"
>>>>>>> d769cb123a52941c69196f683023e630dbfa9958
     ]
    }
   ],
   "source": [
    "W = np.random.rand(1,1)  \n",
    "b = np.random.rand(1)  \n",
    "print(\"W = \", W, \", W.shape = \", W.shape, \", b = \", b, \", b.shape = \", b.shape)\n",
    "print(W.ndim, b.ndim)"
   ]
  },
  {
   "cell_type": "code",
<<<<<<< HEAD
   "execution_count": 18,
=======
   "execution_count": 3,
>>>>>>> d769cb123a52941c69196f683023e630dbfa9958
   "metadata": {},
   "outputs": [],
   "source": [
    "def loss_func(x, t):\n",
    "    y = np.dot(x,W) + b\n",
    "    \n",
    "    return ( np.sum( (t - y)**2 ) ) / ( len(x) )"
   ]
  },
  {
   "cell_type": "code",
<<<<<<< HEAD
   "execution_count": 19,
=======
   "execution_count": 4,
>>>>>>> d769cb123a52941c69196f683023e630dbfa9958
   "metadata": {},
   "outputs": [],
   "source": [
    "def numerical_derivative(f, x):\n",
    "    delta_x = 1e-4 # 0.0001\n",
    "    grad = np.zeros_like(x)\n",
    "    \n",
    "    it = np.nditer(x, flags=['multi_index'], op_flags=['readwrite'])\n",
    "    \n",
    "    while not it.finished:\n",
    "        idx = it.multi_index        \n",
    "        tmp_val = x[idx]\n",
    "        x[idx] = float(tmp_val) + delta_x\n",
    "        fx1 = f(x) # f(x+delta_x)\n",
    "        \n",
    "        x[idx] = tmp_val - delta_x \n",
    "        fx2 = f(x) # f(x-delta_x)\n",
    "        grad[idx] = (fx1 - fx2) / (2*delta_x)\n",
    "        \n",
    "        x[idx] = tmp_val \n",
    "        it.iternext()   \n",
    "        \n",
    "    return grad"
   ]
  },
  {
   "cell_type": "code",
<<<<<<< HEAD
   "execution_count": 20,
=======
   "execution_count": 5,
>>>>>>> d769cb123a52941c69196f683023e630dbfa9958
   "metadata": {},
   "outputs": [],
   "source": [
    "# 손실함수 값 계산 함수\n",
    "# 입력변수 x, t : numpy type\n",
    "def error_val(x, t):\n",
    "    y = np.dot(x,W) + b\n",
    "    \n",
    "    return ( np.sum( (t - y)**2 ) ) / ( len(x) )\n",
    "\n",
    "# 학습을 마친 후, 임의의 데이터에 대해 미래 값 예측 함수\n",
    "# 입력변수 x : numpy type\n",
    "def predict(x):\n",
    "    y = np.dot(x,W) + b\n",
    "    \n",
    "    return y"
   ]
  },
  {
   "cell_type": "code",
<<<<<<< HEAD
   "execution_count": 21,
   "metadata": {},
=======
   "execution_count": 18,
   "metadata": {
    "collapsed": false,
    "jupyter": {
     "outputs_hidden": false
    }
   },
>>>>>>> d769cb123a52941c69196f683023e630dbfa9958
   "outputs": [
    {
     "name": "stdout",
     "output_type": "stream",
     "text": [
<<<<<<< HEAD
      "Initial error value =  2.8513179950045187 Initial W =  [[0.51921424]] , b =  [0.89671562]\n",
      "step =  0 error value =  1.6775487391719746 W =  [[0.63118417]] , b =  [0.92091026]\n",
      "step =  500 error value =  1.9430833880891866e-09 W =  [[0.99997138]] , b =  [1.00010332]\n",
      "step =  1000 error value =  6.231141153871308e-11 W =  [[0.99999487]] , b =  [1.0000185]\n",
      "step =  1500 error value =  1.9982220167495316e-12 W =  [[0.99999908]] , b =  [1.00000331]\n",
      "step =  2000 error value =  6.407961477020201e-14 W =  [[0.99999984]] , b =  [1.00000059]\n",
      "step =  2500 error value =  2.05492534179119e-15 W =  [[0.99999997]] , b =  [1.00000011]\n",
      "step =  3000 error value =  6.589800401673169e-17 W =  [[0.99999999]] , b =  [1.00000002]\n",
      "step =  3500 error value =  2.113239588633766e-18 W =  [[1.]] , b =  [1.]\n",
      "step =  4000 error value =  6.776819033772658e-20 W =  [[1.]] , b =  [1.]\n",
      "step =  4500 error value =  2.173198653875139e-21 W =  [[1.]] , b =  [1.]\n",
      "step =  5000 error value =  6.969249380238854e-23 W =  [[1.]] , b =  [1.]\n",
      "step =  5500 error value =  2.2357924569196956e-24 W =  [[1.]] , b =  [1.]\n",
      "step =  6000 error value =  7.216578447052338e-26 W =  [[1.]] , b =  [1.]\n",
      "step =  6500 error value =  2.4632970626431314e-27 W =  [[1.]] , b =  [1.]\n",
      "step =  7000 error value =  2.14412394039071e-28 W =  [[1.]] , b =  [1.]\n",
      "step =  7500 error value =  2.14412394039071e-28 W =  [[1.]] , b =  [1.]\n",
      "step =  8000 error value =  2.14412394039071e-28 W =  [[1.]] , b =  [1.]\n"
=======
      "W =  [[0.85413242]] , W.shape =  (1, 1) , b =  [0.00916284] , b.shape =  (1,)\n"
     ]
    }
   ],
   "source": [
    "W = np.random.rand(1,1)  \n",
    "b = np.random.rand(1)  \n",
    "print(\"W = \", W, \", W.shape = \", W.shape, \", b = \", b, \", b.shape = \", b.shape)"
   ]
  },
  {
   "cell_type": "code",
   "execution_count": 19,
   "metadata": {
    "collapsed": false,
    "jupyter": {
     "outputs_hidden": false
    }
   },
   "outputs": [
    {
     "name": "stdout",
     "output_type": "stream",
     "text": [
      "Initial error value =  2.0829952557249354 Initial W =  [[0.85413242]] , b =  [0.00916284]\n",
      "step =  0 error value =  1.2844763091877986 W =  [[0.94567352]] , b =  [0.03223917]\n",
      "step =  400 error value =  0.009449700496251026 W =  [[1.06312563]] , b =  [0.77215221]\n",
      "step =  800 error value =  0.0006029467580334806 W =  [[1.01594543]] , b =  [0.94244603]\n",
      "step =  1200 error value =  3.847156776738877e-05 W =  [[1.00402779]] , b =  [0.98546196]\n",
      "step =  1600 error value =  2.454713466422133e-06 W =  [[1.00101741]] , b =  [0.99632772]\n",
      "step =  2000 error value =  1.5662523135713517e-07 W =  [[1.000257]] , b =  [0.99907239]\n",
      "step =  2400 error value =  9.99361572468513e-09 W =  [[1.00006492]] , b =  [0.99976569]\n",
      "step =  2800 error value =  6.376517652256191e-10 W =  [[1.0000164]] , b =  [0.99994081]\n",
      "step =  3200 error value =  4.0685952406263974e-11 W =  [[1.00000414]] , b =  [0.99998505]\n",
      "step =  3600 error value =  2.5960042975513458e-12 W =  [[1.00000105]] , b =  [0.99999622]\n",
      "step =  4000 error value =  1.656404218961948e-13 W =  [[1.00000026]] , b =  [0.99999905]\n",
      "step =  4400 error value =  1.0568838198887325e-14 W =  [[1.00000007]] , b =  [0.99999976]\n",
      "step =  4800 error value =  6.743543602135978e-16 W =  [[1.00000002]] , b =  [0.99999994]\n",
      "step =  5200 error value =  4.302779659135119e-17 W =  [[1.]] , b =  [0.99999998]\n",
      "step =  5600 error value =  2.74542869762147e-18 W =  [[1.]] , b =  [1.]\n",
      "step =  6000 error value =  1.7517488000969664e-19 W =  [[1.]] , b =  [1.]\n",
      "step =  6400 error value =  1.117720220820235e-20 W =  [[1.]] , b =  [1.]\n",
      "step =  6800 error value =  7.131785760502395e-22 W =  [[1.]] , b =  [1.]\n",
      "step =  7200 error value =  4.5507489042811836e-23 W =  [[1.]] , b =  [1.]\n",
      "step =  7600 error value =  2.905929322588402e-24 W =  [[1.]] , b =  [1.]\n",
      "step =  8000 error value =  1.8628559790646108e-25 W =  [[1.]] , b =  [1.]\n"
>>>>>>> d769cb123a52941c69196f683023e630dbfa9958
     ]
    }
   ],
   "source": [
    "learning_rate = 1e-2  # 발산하는 경우, 1e-3 ~ 1e-6 등으로 바꾸어서 실행\n",
    "\n",
    "f = lambda x : loss_func(x_data,t_data)\n",
    "\n",
    "print(\"Initial error value = \", error_val(x_data, t_data), \"Initial W = \", W, \", b = \", b )\n",
    "\n",
    "for step in  range(8001):  \n",
    "    \n",
    "    W -= learning_rate * numerical_derivative(f, W)\n",
    "    \n",
    "    b -= learning_rate * numerical_derivative(f, b)\n",
    "    \n",
    "    if (step % 500 == 0):\n",
    "        print(\"step = \", step, \"error value = \", error_val(x_data, t_data), \"W = \", W, \", b = \",b )"
   ]
  },
  {
   "cell_type": "code",
<<<<<<< HEAD
   "execution_count": 22,
=======
   "execution_count": 17,
>>>>>>> d769cb123a52941c69196f683023e630dbfa9958
   "metadata": {
    "collapsed": false,
    "jupyter": {
     "outputs_hidden": false
    }
   },
   "outputs": [
    {
     "data": {
      "text/plain": [
       "array([[57.]])"
      ]
     },
<<<<<<< HEAD
     "execution_count": 22,
=======
     "execution_count": 17,
>>>>>>> d769cb123a52941c69196f683023e630dbfa9958
     "metadata": {},
     "output_type": "execute_result"
    }
   ],
   "source": [
    "predict(56) "
   ]
  },
  {
   "cell_type": "code",
   "execution_count": null,
   "metadata": {},
   "outputs": [],
   "source": []
  }
 ],
 "metadata": {
  "anaconda-cloud": {},
  "kernelspec": {
   "display_name": "Python 3",
   "language": "python",
   "name": "python3"
  },
  "language_info": {
   "codemirror_mode": {
    "name": "ipython",
    "version": 3
   },
   "file_extension": ".py",
   "mimetype": "text/x-python",
   "name": "python",
   "nbconvert_exporter": "python",
   "pygments_lexer": "ipython3",
   "version": "3.7.6"
  }
 },
 "nbformat": 4,
 "nbformat_minor": 4
}
