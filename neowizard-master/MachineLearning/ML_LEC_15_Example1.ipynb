{
 "cells": [
  {
   "cell_type": "code",
   "execution_count": 9,
   "metadata": {
    "collapsed": false,
    "jupyter": {
     "outputs_hidden": false
    }
   },
   "outputs": [
    {
     "name": "stdout",
     "output_type": "stream",
     "text": [
      "x_data.shape =  (5, 1) , t_data.shape =  (5, 1)\n"
     ]
    }
   ],
   "source": [
    "import numpy as np\n",
    "\n",
    "x_data = np.array([1, 2, 3, 4, 5]).reshape(5,1)\n",
    "t_data = np.array([2, 3, 4, 5, 6]).reshape(5,1) \n",
    "\n",
    "# raw_data = [ [1, 2], [2, 3], [3, 4], [4, 5], [5, 6] ]\n",
    "\n",
    "print(\"x_data.shape = \", x_data.shape, \", t_data.shape = \", t_data.shape)"
   ]
  },
  {
   "cell_type": "code",
   "execution_count": 10,
   "metadata": {
    "collapsed": false,
    "jupyter": {
     "outputs_hidden": false
    }
   },
   "outputs": [
    {
     "name": "stdout",
     "output_type": "stream",
     "text": [
      "W =  [[0.06127899]] , W.shape =  (1, 1) , b =  [0.24277486] , b.shape =  (1,)\n"
     ]
    }
   ],
   "source": [
    "W = np.random.rand(1,1)  \n",
    "b = np.random.rand(1)  \n",
    "print(\"W = \", W, \", W.shape = \", W.shape, \", b = \", b, \", b.shape = \", b.shape)"
   ]
  },
  {
   "cell_type": "code",
   "execution_count": 11,
   "metadata": {},
   "outputs": [],
   "source": [
    "def loss_func(x, t):\n",
    "    y = np.dot(x,W) + b\n",
    "    \n",
    "    return ( np.sum( (t - y)**2 ) ) / ( len(x) )"
   ]
  },
  {
   "cell_type": "code",
   "execution_count": 12,
   "metadata": {},
   "outputs": [],
   "source": [
    "def numerical_derivative(f, x):\n",
    "    delta_x = 1e-4 # 0.0001\n",
    "    grad = np.zeros_like(x)\n",
    "    \n",
    "    it = np.nditer(x, flags=['multi_index'], op_flags=['readwrite'])\n",
    "    \n",
    "    while not it.finished:\n",
    "        idx = it.multi_index        \n",
    "        tmp_val = x[idx]\n",
    "        x[idx] = float(tmp_val) + delta_x\n",
    "        fx1 = f(x) # f(x+delta_x)\n",
    "        \n",
    "        x[idx] = tmp_val - delta_x \n",
    "        fx2 = f(x) # f(x-delta_x)\n",
    "        grad[idx] = (fx1 - fx2) / (2*delta_x)\n",
    "        \n",
    "        x[idx] = tmp_val \n",
    "        it.iternext()   \n",
    "        \n",
    "    return grad"
   ]
  },
  {
   "cell_type": "code",
   "execution_count": 13,
   "metadata": {},
   "outputs": [],
   "source": [
    "# 손실함수 값 계산 함수\n",
    "# 입력변수 x, t : numpy type\n",
    "def error_val(x, t):\n",
    "    y = np.dot(x,W) + b\n",
    "    \n",
    "    return ( np.sum( (t - y)**2 ) ) / ( len(x) )\n",
    "\n",
    "# 학습을 마친 후, 임의의 데이터에 대해 미래 값 예측 함수\n",
    "# 입력변수 x : numpy type\n",
    "def predict(x):\n",
    "    y = np.dot(x,W) + b\n",
    "    \n",
    "    return y"
   ]
  },
  {
   "cell_type": "code",
   "execution_count": 14,
   "metadata": {
    "collapsed": false,
    "jupyter": {
     "outputs_hidden": false
    }
   },
   "outputs": [
    {
     "name": "stdout",
     "output_type": "stream",
     "text": [
      "Initial error value =  14.531497341731026 Initial W =  [[0.06127899]] , b =  [0.24277486]\n",
      "step =  0 error value =  8.567424324572617 W =  [[0.31323112]] , b =  [0.2991255]\n",
      "step =  400 error value =  0.0031556619621834585 W =  [[1.03647892]] , b =  [0.86833176]\n",
      "step =  800 error value =  0.00020134988937508912 W =  [[1.00921451]] , b =  [0.96674082]\n",
      "step =  1200 error value =  1.2847313317205923e-05 W =  [[1.00232757]] , b =  [0.99159879]\n",
      "step =  1600 error value =  8.197345426051741e-07 W =  [[1.00058794]] , b =  [0.99787787]\n",
      "step =  2000 error value =  5.230391006658732e-08 W =  [[1.00014851]] , b =  [0.99946395]\n",
      "step =  2400 error value =  3.3372986815317288e-09 W =  [[1.00003751]] , b =  [0.9998646]\n",
      "step =  2800 error value =  2.129393859004111e-10 W =  [[1.00000948]] , b =  [0.9999658]\n",
      "step =  3200 error value =  1.358679171083491e-11 W =  [[1.00000239]] , b =  [0.99999136]\n",
      "step =  3600 error value =  8.669176353436028e-13 W =  [[1.0000006]] , b =  [0.99999782]\n",
      "step =  4000 error value =  5.531447034379199e-14 W =  [[1.00000015]] , b =  [0.99999945]\n",
      "step =  4400 error value =  3.529390218991019e-15 W =  [[1.00000004]] , b =  [0.99999986]\n",
      "step =  4800 error value =  2.251959625896013e-16 W =  [[1.00000001]] , b =  [0.99999996]\n",
      "step =  5200 error value =  1.4368836600933026e-17 W =  [[1.]] , b =  [0.99999999]\n",
      "step =  5600 error value =  9.168174860014702e-19 W =  [[1.]] , b =  [1.]\n",
      "step =  6000 error value =  5.849842421894404e-20 W =  [[1.]] , b =  [1.]\n",
      "step =  6400 error value =  3.732523315847544e-21 W =  [[1.]] , b =  [1.]\n",
      "step =  6800 error value =  2.381576491942223e-22 W =  [[1.]] , b =  [1.]\n",
      "step =  7200 error value =  1.5196071454178155e-23 W =  [[1.]] , b =  [1.]\n",
      "step =  7600 error value =  9.71206142905894e-25 W =  [[1.]] , b =  [1.]\n",
      "step =  8000 error value =  6.227887241625266e-26 W =  [[1.]] , b =  [1.]\n"
     ]
    }
   ],
   "source": [
    "learning_rate = 1e-2  # 발산하는 경우, 1e-3 ~ 1e-6 등으로 바꾸어서 실행\n",
    "\n",
    "f = lambda x : loss_func(x_data,t_data)\n",
    "\n",
    "print(\"Initial error value = \", error_val(x_data, t_data), \"Initial W = \", W, \", b = \", b )\n",
    "\n",
    "for step in  range(8001):  \n",
    "    \n",
    "    W -= learning_rate * numerical_derivative(f, W)\n",
    "    \n",
    "    b -= learning_rate * numerical_derivative(f, b)\n",
    "    \n",
    "    if (step % 400 == 0):\n",
    "        print(\"step = \", step, \"error value = \", error_val(x_data, t_data), \"W = \", W, \", b = \",b )"
   ]
  },
  {
   "cell_type": "code",
   "execution_count": 15,
   "metadata": {
    "collapsed": false,
    "jupyter": {
     "outputs_hidden": false
    }
   },
   "outputs": [
    {
     "data": {
      "text/plain": [
       "array([[44.]])"
      ]
     },
     "execution_count": 15,
     "metadata": {},
     "output_type": "execute_result"
    }
   ],
   "source": [
    "predict(43) "
   ]
  },
  {
   "cell_type": "code",
   "execution_count": null,
   "metadata": {},
   "outputs": [],
   "source": []
  }
 ],
 "metadata": {
  "anaconda-cloud": {},
  "kernelspec": {
   "display_name": "Python 3",
   "language": "python",
   "name": "python3"
  },
  "language_info": {
   "codemirror_mode": {
    "name": "ipython",
    "version": 3
   },
   "file_extension": ".py",
   "mimetype": "text/x-python",
   "name": "python",
   "nbconvert_exporter": "python",
   "pygments_lexer": "ipython3",
   "version": "3.7.6"
  }
 },
 "nbformat": 4,
 "nbformat_minor": 4
}
