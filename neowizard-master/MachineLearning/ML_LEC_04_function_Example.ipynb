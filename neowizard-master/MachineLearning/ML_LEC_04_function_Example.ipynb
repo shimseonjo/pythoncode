{
 "cells": [
  {
   "cell_type": "code",
   "execution_count": 1,
   "metadata": {
    "collapsed": false
   },
   "outputs": [
    {
     "name": "stdout",
     "output_type": "stream",
     "text": [
      "30\n"
     ]
    }
   ],
   "source": [
    "def sum(x, y):\n",
    "    \n",
    "    s = x + y\n",
    "    return s\n",
    "\n",
    "result = sum(10, 20) \n",
    "print(result) "
   ]
  },
  {
   "cell_type": "code",
   "execution_count": 2,
   "metadata": {
    "collapsed": false
   },
   "outputs": [
    {
     "name": "stdout",
     "output_type": "stream",
     "text": [
      "101 102 103\n"
     ]
    }
   ],
   "source": [
    "def multi_ret_func(x):\n",
    "    \n",
    "    return x+1, x+2, x+3   # return (x+1, x+2, x+3)\n",
    "\n",
    "x = 100\n",
    "y1, y2, y3 = multi_ret_func(x)  # (y1, y2, y3) = multi_ret_func(x) \n",
    "\n",
    "print(y1, y2, y3) "
   ]
  },
  {
   "cell_type": "code",
   "execution_count": 3,
   "metadata": {
    "collapsed": false
   },
   "outputs": [
    {
     "name": "stdout",
     "output_type": "stream",
     "text": [
      "name == DAVE\n",
      "name == DAVE\n"
     ]
    }
   ],
   "source": [
    "# 파이썬 default parameter\n",
    "\n",
    "def print_name(name, count=2):\n",
    "    \n",
    "    for i in range(count):\n",
    "        print(\"name ==\", name) \n",
    "        \n",
    "print_name(\"DAVE\")    # print_name(\"DAVE\", 5) "
   ]
  },
  {
   "cell_type": "code",
   "execution_count": 4,
   "metadata": {
    "collapsed": false
   },
   "outputs": [
    {
     "name": "stdout",
     "output_type": "stream",
     "text": [
      "x == 1 , test_list == [1, 2, 3, 100]\n"
     ]
    }
   ],
   "source": [
    "# mutable,  immutable parameter\n",
    "\n",
    "def mutable_immutable_func(int_x, input_list):\n",
    "    \n",
    "    int_x += 1\n",
    "    input_list.append(100) \n",
    "    \n",
    "x = 1\n",
    "test_list = [ 1, 2, 3 ] \n",
    "\n",
    "mutable_immutable_func(x, test_list)\n",
    "\n",
    "print(\"x ==\", x, \", test_list ==\", test_list) "
   ]
  },
  {
   "cell_type": "code",
   "execution_count": null,
   "metadata": {
    "collapsed": true
   },
   "outputs": [],
   "source": []
  }
 ],
 "metadata": {
  "anaconda-cloud": {},
  "kernelspec": {
   "display_name": "Python [default]",
   "language": "python",
   "name": "python3"
  },
  "language_info": {
   "codemirror_mode": {
    "name": "ipython",
    "version": 3
   },
   "file_extension": ".py",
   "mimetype": "text/x-python",
   "name": "python",
   "nbconvert_exporter": "python",
   "pygments_lexer": "ipython3",
   "version": "3.5.2"
  }
 },
 "nbformat": 4,
 "nbformat_minor": 1
}
