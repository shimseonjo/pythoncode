{
 "cells": [
  {
   "cell_type": "code",
   "execution_count": 1,
   "metadata": {
    "collapsed": false
   },
   "outputs": [
    {
     "name": "stdout",
     "output_type": "stream",
     "text": [
      "100\n",
      "101\n",
      "102\n"
     ]
    }
   ],
   "source": [
    "# lambda 함수 선언\n",
    "\n",
    "f = lambda x : x+100\n",
    "\n",
    "for i in range(3):\n",
    "    print(f(i))"
   ]
  },
  {
   "cell_type": "code",
   "execution_count": 2,
   "metadata": {
    "collapsed": false
   },
   "outputs": [
    {
     "name": "stdout",
     "output_type": "stream",
     "text": [
      "input1 == 100 ,  input2 == 200\n",
      "hello python\n"
     ]
    }
   ],
   "source": [
    "# lambda 에서 입력값을 반드시 이용할 필요는 없음\n",
    "\n",
    "def print_hello():\n",
    "    \n",
    "    print(\"hello python\")\n",
    "       \n",
    "def test_lambda(s, t):\n",
    "    \n",
    "    print(\"input1 ==\", s, \",  input2 ==\", t)\n",
    "    \n",
    "s = 100    # 생각해보기 => s, t 선언 및 값 할당이 없으면 error  \n",
    "t = 200\n",
    "\n",
    "fx = lambda x, y : test_lambda(s, t)    # fx(x,y) = test_lambda(s, t)\n",
    "fy = lambda x, y : print_hello()        # fy(x,y) = print_hello() \n",
    "\n",
    "\n",
    "fx(500, 1000)     # fx(500, 1000) = test_lambda(s, t) \n",
    "fy(300, 600)      # fy(300, 600)  = print_hello() "
   ]
  },
  {
   "cell_type": "code",
   "execution_count": null,
   "metadata": {
    "collapsed": true
   },
   "outputs": [],
   "source": []
  }
 ],
 "metadata": {
  "anaconda-cloud": {},
  "kernelspec": {
   "display_name": "Python [default]",
   "language": "python",
   "name": "python3"
  },
  "language_info": {
   "codemirror_mode": {
    "name": "ipython",
    "version": 3
   },
   "file_extension": ".py",
   "mimetype": "text/x-python",
   "name": "python",
   "nbconvert_exporter": "python",
   "pygments_lexer": "ipython3",
   "version": "3.5.2"
  }
 },
 "nbformat": 4,
 "nbformat_minor": 1
}
