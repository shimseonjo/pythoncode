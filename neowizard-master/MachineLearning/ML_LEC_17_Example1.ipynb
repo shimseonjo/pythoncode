{
 "cells": [
  {
   "cell_type": "code",
   "execution_count": 1,
   "metadata": {
    "collapsed": false,
    "jupyter": {
     "outputs_hidden": false
    }
   },
   "outputs": [
    {
     "name": "stdout",
     "output_type": "stream",
     "text": [
      "x_data.shape =  (10, 1) , t_data.shape =  (10, 1)\n"
     ]
    }
   ],
   "source": [
    "import numpy as np\n",
    "\n",
    "x_data = np.array([2, 4, 6, 8, 10, 12, 14, 16, 18, 20]).reshape(10,1)   \n",
    "t_data = np.array([0, 0, 0, 0,  0,  0,  1,  1,  1,  1]).reshape(10,1)\n",
    "\n",
    "print(\"x_data.shape = \", x_data.shape, \", t_data.shape = \", t_data.shape)"
   ]
  },
  {
   "cell_type": "code",
   "execution_count": 2,
   "metadata": {
    "collapsed": false,
    "jupyter": {
     "outputs_hidden": false
    }
   },
   "outputs": [
    {
     "name": "stdout",
     "output_type": "stream",
     "text": [
      "W =  [[0.10099929]] , W.shape =  (1, 1) , b =  [0.62194545] , b.shape =  (1,)\n"
     ]
    }
   ],
   "source": [
    "W = np.random.rand(1,1)  \n",
    "b = np.random.rand(1)  \n",
    "print(\"W = \", W, \", W.shape = \", W.shape, \", b = \", b, \", b.shape = \", b.shape)"
   ]
  },
  {
   "cell_type": "code",
   "execution_count": 3,
   "metadata": {},
   "outputs": [],
   "source": [
    "# 최종출력은 y = sigmoid(Wx+b) 이며, 손실함수는 cross-entropy 로 나타냄\n",
    "\n",
    "def sigmoid(x):\n",
    "    return 1 / (1+np.exp(-x))\n",
    "\n",
    "def loss_func(x, t):\n",
    "    \n",
    "    delta = 1e-7    # log 무한대 발산 방지\n",
    "    \n",
    "    z = np.dot(x,W) + b\n",
    "    y = sigmoid(z)\n",
    "    \n",
    "    # cross-entropy \n",
    "    return  -np.sum( t*np.log(y + delta) + (1-t)*np.log((1 - y)+delta ) ) "
   ]
  },
  {
   "cell_type": "code",
   "execution_count": 4,
   "metadata": {},
   "outputs": [],
   "source": [
    "def numerical_derivative(f, x):\n",
    "    delta_x = 1e-4 # 0.0001\n",
    "    grad = np.zeros_like(x)\n",
    "    \n",
    "    it = np.nditer(x, flags=['multi_index'], op_flags=['readwrite'])\n",
    "    \n",
    "    while not it.finished:\n",
    "        idx = it.multi_index        \n",
    "        tmp_val = x[idx]\n",
    "        x[idx] = float(tmp_val) + delta_x\n",
    "        fx1 = f(x) # f(x+delta_x)\n",
    "        \n",
    "        x[idx] = tmp_val - delta_x \n",
    "        fx2 = f(x) # f(x-delta_x)\n",
    "        grad[idx] = (fx1 - fx2) / (2*delta_x)\n",
    "        \n",
    "        x[idx] = tmp_val \n",
    "        it.iternext()   \n",
    "        \n",
    "    return grad"
   ]
  },
  {
   "cell_type": "code",
   "execution_count": 5,
   "metadata": {},
   "outputs": [],
   "source": [
    "# 손실함수 값 계산 함수\n",
    "# 입력변수 x, t : numpy type\n",
    "def error_val(x, t):\n",
    "    delta = 1e-7    # log 무한대 발산 방지\n",
    "    \n",
    "    z = np.dot(x,W) + b\n",
    "    y = sigmoid(z)\n",
    "    \n",
    "    # cross-entropy \n",
    "    return  -np.sum( t*np.log(y + delta) + (1-t)*np.log((1 - y)+delta ) ) \n",
    "\n",
    "# 학습을 마친 후, 임의의 데이터에 대해 미래 값 예측 함수\n",
    "# 입력변수 x : numpy type\n",
    "def predict(x):\n",
    "    \n",
    "    z = np.dot(x,W) + b\n",
    "    y = sigmoid(z)\n",
    "    \n",
    "    if y >= 0.5:\n",
    "        result = 1  # True\n",
    "    else:\n",
    "        result = 0  # False\n",
    "    \n",
    "    return y, result"
   ]
  },
  {
   "cell_type": "code",
   "execution_count": 6,
   "metadata": {},
   "outputs": [
    {
     "name": "stdout",
     "output_type": "stream",
     "text": [
      "Initial error value =  9.818468842628313 Initial W =  [[0.10099929]] \n",
      " , b =  [0.62194545]\n",
      "step =  0 error value =  12.93998811995666 W =  [[-0.18109677]] , b =  [0.63721072]\n",
      "step =  400 error value =  2.7824968737228772 W =  [[0.28102187]] , b =  [-4.13248083]\n",
      "step =  800 error value =  1.7790484405715883 W =  [[0.45454294]] , b =  [-5.65680106]\n",
      "step =  1200 error value =  1.515235524620395 W =  [[0.53160211]] , b =  [-6.68285218]\n",
      "step =  1600 error value =  1.3506169353320345 W =  [[0.59270096]] , b =  [-7.49417243]\n",
      "step =  2000 error value =  1.2346254302775457 W =  [[0.64411413]] , b =  [-8.17539003]\n",
      "step =  2400 error value =  1.146760887931209 W =  [[0.68894336]] , b =  [-8.76831937]\n",
      "step =  2800 error value =  1.0769284663999816 W =  [[0.72896621]] , b =  [-9.29690219]\n",
      "step =  3200 error value =  1.0194994274221485 W =  [[0.76530372]] , b =  [-9.77622191]\n",
      "step =  3600 error value =  0.9710507759099558 W =  [[0.7987122]] , b =  [-10.21644284]\n",
      "step =  4000 error value =  0.9293628836658281 W =  [[0.82972807]] , b =  [-10.62476608]\n",
      "step =  4400 error value =  0.8929234285482385 W =  [[0.8587468]] , b =  [-11.00649487]\n",
      "step =  4800 error value =  0.8606606602815751 W =  [[0.8860691]] , b =  [-11.36565734]\n",
      "step =  5200 error value =  0.8317903222138605 W =  [[0.91192941]] , b =  [-11.70539115]\n",
      "step =  5600 error value =  0.8057230566186642 W =  [[0.93651441]] , b =  [-12.02819214]\n",
      "step =  6000 error value =  0.7820059119341604 W =  [[0.95997539]] , b =  [-12.33608113]\n",
      "step =  6400 error value =  0.7602840212872655 W =  [[0.98243678]] , b =  [-12.63071934]\n",
      "step =  6800 error value =  0.7402747045228921 W =  [[1.00400236]] , b =  [-12.91349046]\n",
      "step =  7200 error value =  0.721749491099843 W =  [[1.02475958]] , b =  [-13.18556032]\n",
      "step =  7600 error value =  0.7045213465514141 W =  [[1.04478296]] , b =  [-13.44792122]\n",
      "step =  8000 error value =  0.688435408044765 W =  [[1.06413654]] , b =  [-13.70142542]\n",
      "step =  8400 error value =  0.673362141614741 W =  [[1.08287579]] , b =  [-13.9468108]\n",
      "step =  8800 error value =  0.6591922052684851 W =  [[1.10104911]] , b =  [-14.18472088]\n",
      "step =  9200 error value =  0.645832536000367 W =  [[1.11869904]] , b =  [-14.41572061]\n",
      "step =  9600 error value =  0.633203329555895 W =  [[1.13586313]] , b =  [-14.64030889]\n",
      "step =  10000 error value =  0.6212356811999669 W =  [[1.15257478]] , b =  [-14.85892873]\n"
     ]
    }
   ],
   "source": [
    "learning_rate = 1e-2  # 발산하는 경우, 1e-3 ~ 1e-6 등으로 바꾸어서 실행\n",
    "\n",
    "f = lambda x : loss_func(x_data,t_data)  # f(x) = loss_func(x_data, t_data)\n",
    "\n",
    "print(\"Initial error value = \", error_val(x_data, t_data), \"Initial W = \", W, \"\\n\", \", b = \", b )\n",
    "\n",
    "for step in  range(10001):  \n",
    "    \n",
    "    W -= learning_rate * numerical_derivative(f, W)\n",
    "    \n",
    "    b -= learning_rate * numerical_derivative(f, b)\n",
    "    \n",
    "    if (step % 400 == 0):\n",
    "        print(\"step = \", step, \"error value = \", error_val(x_data, t_data), \"W = \", W, \", b = \",b )"
   ]
  },
  {
   "cell_type": "code",
   "execution_count": 7,
   "metadata": {
    "collapsed": false,
    "jupyter": {
     "outputs_hidden": false
    }
   },
   "outputs": [
    {
     "name": "stdout",
     "output_type": "stream",
     "text": [
      "[[1.11818841e-05]] 0\n"
     ]
    }
   ],
   "source": [
    "(real_val, logical_val) = predict(3) \n",
    "\n",
    "print(real_val, logical_val)"
   ]
  },
  {
   "cell_type": "code",
   "execution_count": 12,
   "metadata": {
    "collapsed": false,
    "jupyter": {
     "outputs_hidden": false
    }
   },
   "outputs": [
    {
     "name": "stdout",
     "output_type": "stream",
     "text": [
      "[[0.99129265]] 1\n"
     ]
    }
   ],
   "source": [
    "(real_val, logical_val) = predict(17) \n",
    "\n",
    "print(real_val, logical_val)"
   ]
  },
  {
   "cell_type": "code",
   "execution_count": null,
   "metadata": {
    "collapsed": true,
    "jupyter": {
     "outputs_hidden": true
    }
   },
   "outputs": [],
   "source": []
  }
 ],
 "metadata": {
  "anaconda-cloud": {},
  "kernelspec": {
   "display_name": "Python 3",
   "language": "python",
   "name": "python3"
  },
  "language_info": {
   "codemirror_mode": {
    "name": "ipython",
    "version": 3
   },
   "file_extension": ".py",
   "mimetype": "text/x-python",
   "name": "python",
   "nbconvert_exporter": "python",
   "pygments_lexer": "ipython3",
   "version": "3.7.6"
  }
 },
 "nbformat": 4,
 "nbformat_minor": 4
}
