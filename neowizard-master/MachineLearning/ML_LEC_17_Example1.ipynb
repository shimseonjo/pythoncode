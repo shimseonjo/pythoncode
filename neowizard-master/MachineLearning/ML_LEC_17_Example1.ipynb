{
 "cells": [
  {
   "cell_type": "code",
   "execution_count": 1,
   "metadata": {
    "collapsed": false,
    "jupyter": {
     "outputs_hidden": false
    }
   },
   "outputs": [
    {
     "name": "stdout",
     "output_type": "stream",
     "text": [
      "x_data.shape =  (10, 1) , t_data.shape =  (10, 1)\n"
     ]
    }
   ],
   "source": [
    "import numpy as np\n",
    "\n",
    "x_data = np.array([2, 4, 6, 8, 10, 12, 14, 16, 18, 20]).reshape(10,1)   \n",
    "t_data = np.array([0, 0, 0, 0,  0,  0,  1,  1,  1,  1]).reshape(10,1)\n",
    "\n",
    "print(\"x_data.shape = \", x_data.shape, \", t_data.shape = \", t_data.shape)"
   ]
  },
  {
   "cell_type": "code",
   "execution_count": 2,
   "metadata": {
    "collapsed": false,
    "jupyter": {
     "outputs_hidden": false
    }
   },
   "outputs": [
    {
     "name": "stdout",
     "output_type": "stream",
     "text": [
      "W =  [[0.41904822]] , W.shape =  (1, 1) , b =  [0.56355419] , b.shape =  (1,)\n"
     ]
    }
   ],
   "source": [
    "W = np.random.rand(1,1)  \n",
    "b = np.random.rand(1)  \n",
    "print(\"W = \", W, \", W.shape = \", W.shape, \", b = \", b, \", b.shape = \", b.shape)"
   ]
  },
  {
   "cell_type": "code",
   "execution_count": 3,
   "metadata": {},
   "outputs": [],
   "source": [
    "# 최종출력은 y = sigmoid(Wx+b) 이며, 손실함수는 cross-entropy 로 나타냄\n",
    "\n",
    "def sigmoid(x):\n",
    "    return 1 / (1+np.exp(-x))\n",
    "\n",
    "def loss_func(x, t):\n",
    "    \n",
    "    delta = 1e-7    # log 무한대 발산 방지\n",
    "    \n",
    "    z = np.dot(x,W) + b\n",
    "    y = sigmoid(z)\n",
    "    \n",
    "    # cross-entropy \n",
    "    return  -np.sum( t*np.log(y + delta) + (1-t)*np.log((1 - y)+delta ) ) "
   ]
  },
  {
   "cell_type": "code",
   "execution_count": 4,
   "metadata": {},
   "outputs": [],
   "source": [
    "def numerical_derivative(f, x):\n",
    "    delta_x = 1e-4 # 0.0001\n",
    "    grad = np.zeros_like(x)\n",
    "    \n",
    "    it = np.nditer(x, flags=['multi_index'], op_flags=['readwrite'])\n",
    "    \n",
    "    while not it.finished:\n",
    "        idx = it.multi_index        \n",
    "        tmp_val = x[idx]\n",
    "        x[idx] = float(tmp_val) + delta_x\n",
    "        fx1 = f(x) # f(x+delta_x)\n",
    "        \n",
    "        x[idx] = tmp_val - delta_x \n",
    "        fx2 = f(x) # f(x-delta_x)\n",
    "        grad[idx] = (fx1 - fx2) / (2*delta_x)\n",
    "        \n",
    "        x[idx] = tmp_val \n",
    "        it.iternext()   \n",
    "        \n",
    "    return grad"
   ]
  },
  {
   "cell_type": "code",
   "execution_count": 5,
   "metadata": {},
   "outputs": [],
   "source": [
    "# 손실함수 값 계산 함수\n",
    "# 입력변수 x, t : numpy type\n",
    "def error_val(x, t):\n",
    "    delta = 1e-7    # log 무한대 발산 방지\n",
    "    \n",
    "    z = np.dot(x,W) + b\n",
    "    y = sigmoid(z)\n",
    "    \n",
    "    # cross-entropy \n",
    "    return  -np.sum( t*np.log(y + delta) + (1-t)*np.log((1 - y)+delta ) ) \n",
    "\n",
    "# 학습을 마친 후, 임의의 데이터에 대해 미래 값 예측 함수\n",
    "# 입력변수 x : numpy type\n",
    "def predict(x):\n",
    "    \n",
    "    z = np.dot(x,W) + b\n",
    "    y = sigmoid(z)\n",
    "    \n",
    "    if y >= 0.5:\n",
    "        result = 1  # True\n",
    "    else:\n",
    "        result = 0  # False\n",
    "    \n",
    "    return y, result"
   ]
  },
  {
   "cell_type": "code",
   "execution_count": 6,
   "metadata": {
    "collapsed": false,
    "jupyter": {
     "outputs_hidden": false
    }
   },
   "outputs": [
    {
     "name": "stdout",
     "output_type": "stream",
     "text": [
      "Initial error value =  21.382377540769188 Initial W =  [[0.41904822]] , b =  [0.56355419]\n",
      "step =  0 error value =  7.870678801381185 W =  [[0.0127753]] , b =  [0.53666511]\n",
      "step =  400 error value =  3.091894705323655 W =  [[0.43422455]] , b =  [-4.16056213]\n",
      "step =  800 error value =  1.77645284644075 W =  [[0.45520386]] , b =  [-5.66561431]\n",
      "step =  1200 error value =  1.513739931119485 W =  [[0.53210497]] , b =  [-6.68953766]\n",
      "step =  1600 error value =  1.3496094957602294 W =  [[0.59311449]] , b =  [-7.49965704]\n",
      "step =  2000 error value =  1.233883936207763 W =  [[0.64446949]] , b =  [-8.18009388]\n",
      "step =  2400 error value =  1.1461831995126068 W =  [[0.68925745]] , b =  [-8.77247027]\n",
      "step =  2800 error value =  1.0764602683657238 W =  [[0.72924929]] , b =  [-9.30063835]\n",
      "step =  3200 error value =  1.0191088151868881 W =  [[0.76556253]] , b =  [-9.77963396]\n",
      "step =  3600 error value =  0.9707176022964685 W =  [[0.79895143]] , b =  [-10.21959363]\n",
      "step =  4000 error value =  0.9290737059045345 W =  [[0.82995111]] , b =  [-10.62770113]\n",
      "step =  4400 error value =  0.8926688801332072 W =  [[0.8589562]] , b =  [-11.0092483]\n",
      "step =  4800 error value =  0.8604339825715998 W =  [[0.88626681]] , b =  [-11.36825544]\n",
      "step =  5200 error value =  0.8315864956167835 W =  [[0.91211698]] , b =  [-11.70785461]\n",
      "step =  5600 error value =  0.8055382618243873 W =  [[0.9366931]] , b =  [-12.0305376]\n",
      "step =  6000 error value =  0.78183718246067 W =  [[0.96014619]] , b =  [-12.33832217]\n",
      "step =  6400 error value =  0.7601290118356657 W =  [[0.98260056]] , b =  [-12.63286721]\n",
      "step =  6800 error value =  0.7401315320709074 W =  [[1.00415981]] , b =  [-12.91555457]\n",
      "step =  7200 error value =  0.7216166231585516 W =  [[1.0249113]] , b =  [-13.18754866]\n",
      "step =  7600 error value =  0.704397520862552 W =  [[1.04492948]] , b =  [-13.44984062]\n",
      "step =  8000 error value =  0.6883195737535736 W =  [[1.06427828]] , b =  [-13.70328177]\n",
      "step =  8400 error value =  0.6732534154323315 W =  [[1.08301315]] , b =  [-13.94860921]\n",
      "step =  8800 error value =  0.6590898383004076 W =  [[1.10118242]] , b =  [-14.18646584]\n",
      "step =  9200 error value =  0.6457358882972721 W =  [[1.1188286]] , b =  [-14.41741606]\n",
      "step =  9600 error value =  0.6331118503430962 W =  [[1.13598921]] , b =  [-14.64195832]\n",
      "step =  10000 error value =  0.6211488933427783 W =  [[1.15269759]] , b =  [-14.86053526]\n"
     ]
    }
   ],
   "source": [
    "learning_rate = 1e-2  # 발산하는 경우, 1e-3 ~ 1e-6 등으로 바꾸어서 실행\n",
    "\n",
    "f = lambda x : loss_func(x_data,t_data)  # f(x) = loss_func(x_data, t_data)\n",
    "\n",
    "print(\"Initial error value = \", error_val(x_data, t_data), \"Initial W = \", W, \", b = \", b )\n",
    "\n",
    "for step in  range(10001):  \n",
    "    \n",
    "    W -= learning_rate * numerical_derivative(f, W)\n",
    "    \n",
    "    b -= learning_rate * numerical_derivative(f, b)\n",
    "    \n",
    "    if (step % 400 == 0):\n",
    "        print(\"step = \", step, \"error value = \", error_val(x_data, t_data), \"W = \", W, \", b = \",b )"
   ]
  },
  {
   "cell_type": "code",
   "execution_count": 7,
   "metadata": {
    "collapsed": false,
    "jupyter": {
     "outputs_hidden": false
    }
   },
   "outputs": [
    {
     "name": "stdout",
     "output_type": "stream",
     "text": [
      "[[1.11680488e-05]] 0\n"
     ]
    }
   ],
   "source": [
    "(real_val, logical_val) = predict(3) \n",
    "\n",
    "print(real_val, logical_val)"
   ]
  },
  {
   "cell_type": "code",
   "execution_count": 8,
   "metadata": {
    "collapsed": false,
    "jupyter": {
     "outputs_hidden": false
    }
   },
   "outputs": [
    {
     "name": "stdout",
     "output_type": "stream",
     "text": [
      "[[0.99129681]] 1\n"
     ]
    }
   ],
   "source": [
    "(real_val, logical_val) = predict(17) \n",
    "\n",
    "print(real_val, logical_val)"
   ]
  },
  {
   "cell_type": "code",
   "execution_count": null,
   "metadata": {
    "collapsed": true,
    "jupyter": {
     "outputs_hidden": true
    }
   },
   "outputs": [],
   "source": []
  }
 ],
 "metadata": {
  "anaconda-cloud": {},
  "kernelspec": {
   "display_name": "Python 3",
   "language": "python",
   "name": "python3"
  },
  "language_info": {
   "codemirror_mode": {
    "name": "ipython",
    "version": 3
   },
   "file_extension": ".py",
   "mimetype": "text/x-python",
   "name": "python",
   "nbconvert_exporter": "python",
   "pygments_lexer": "ipython3",
   "version": "3.7.6"
  }
 },
 "nbformat": 4,
 "nbformat_minor": 4
}
