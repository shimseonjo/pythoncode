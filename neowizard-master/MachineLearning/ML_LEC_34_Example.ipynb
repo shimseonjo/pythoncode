{
 "cells": [
  {
   "cell_type": "code",
   "execution_count": 2,
   "metadata": {
    "collapsed": false
   },
   "outputs": [
    {
     "name": "stdout",
     "output_type": "stream",
     "text": [
      "Extracting MNIST_data/train-images-idx3-ubyte.gz\n",
      "Extracting MNIST_data/train-labels-idx1-ubyte.gz\n",
      "Extracting MNIST_data/t10k-images-idx3-ubyte.gz\n",
      "Extracting MNIST_data/t10k-labels-idx1-ubyte.gz\n",
      "\n",
      " 55000 10000 5000\n",
      "\n",
      "train image shape =  (55000, 784)\n",
      "train label shape =  (55000, 10)\n",
      "test image shape =  (10000, 784)\n",
      "test label shape =  (10000, 10)\n"
     ]
    }
   ],
   "source": [
    "import tensorflow as tf\n",
    "from tensorflow.examples.tutorials.mnist import input_data\n",
    "import numpy as np\n",
    "from datetime import datetime      # datetime.now() 를 이용하여 학습 경과 시간 측정\n",
    "\n",
    "# read_data_sets() 를 통해 데이터를 객체형태로 받아오고\n",
    "# one_hot 옵션을 통해 정답(label) 을 one-hot 인코딩된 형태로 받아옴\n",
    "\n",
    "mnist = input_data.read_data_sets(\"MNIST_data/\", one_hot=True)\n",
    "\n",
    "# mnist 데이터 셋은 train, test, validation 3개의 데이터 셋으로 구성되어 있으며.\n",
    "# num_examples 값을 통해 데이터의 갯수 확인 가능함\n",
    "\n",
    "print(\"\\n\", mnist.train.num_examples, mnist.test.num_examples, mnist.validation.num_examples)\n",
    "\n",
    "# 데이터는 784(28x28)개의 픽셀을 가지는 이미지와\n",
    "# 10(0~9)개 클래스를 가지는 one-hot 인코딩된 레이블(정답)을 가지고 있음\n",
    "\n",
    "print(\"\\ntrain image shape = \", np.shape(mnist.train.images))\n",
    "print(\"train label shape = \", np.shape(mnist.train.labels))\n",
    "print(\"test image shape = \", np.shape(mnist.test.images))\n",
    "print(\"test label shape = \", np.shape(mnist.test.labels))"
   ]
  },
  {
   "cell_type": "code",
   "execution_count": 3,
   "metadata": {
    "collapsed": true
   },
   "outputs": [],
   "source": [
    "# Hyper-Parameter\n",
    "learning_rate = 0.001  # 학습율\n",
    "epochs = 30            # 반복횟수\n",
    "batch_size = 100      # 한번에 입력으로 주어지는 MNIST 개수"
   ]
  },
  {
   "cell_type": "code",
   "execution_count": 4,
   "metadata": {
    "collapsed": false
   },
   "outputs": [],
   "source": [
    "# 입력과 정답을 위한 플레이스홀더 정의\n",
    "X = tf.placeholder(tf.float32, [None, 784])  \n",
    "\n",
    "T = tf.placeholder(tf.float32, [None, 10])  \n",
    "\n",
    "# 입력층의 출력 값. 컨볼루션 연산을 위해 reshape 시킴\n",
    "A1 = X_img = tf.reshape(X, [-1, 28, 28, 1])   # image 28 X 28 X 1 (black/white)"
   ]
  },
  {
   "cell_type": "code",
   "execution_count": 5,
   "metadata": {
    "collapsed": false
   },
   "outputs": [],
   "source": [
    "# 1번째 컨볼루션 층\n",
    "# 3X3 크기를 가지는 32개의 필터를 적용\n",
    "\n",
    "F2 = tf.Variable(tf.random_normal([3, 3, 1, 32], stddev=0.01))  \n",
    "b2 = tf.Variable(tf.constant(0.1, shape=[32]))   \n",
    "\n",
    "# 1번째 컨볼루션 연산을 통해 28 X 28 X1  => 28 X 28 X 32 \n",
    "C2 = tf.nn.conv2d(A1, F2, strides=[1, 1, 1, 1], padding='SAME')\n",
    "\n",
    "# relu\n",
    "Z2 = tf.nn.relu(C2+b2)\n",
    "\n",
    "# 1번째 max pooling을 통해 28 X 28 X 32  => 14 X 14 X 32 \n",
    "A2 = P2 = tf.nn.max_pool(Z2, ksize=[1, 2, 2, 1], strides=[1, 2, 2, 1], padding='SAME')"
   ]
  },
  {
   "cell_type": "code",
   "execution_count": 6,
   "metadata": {
    "collapsed": true
   },
   "outputs": [],
   "source": [
    "# 2번째 컨볼루션 층\n",
    "F3 = tf.Variable(tf.random_normal([3, 3, 32, 64], stddev=0.01))  \n",
    "b3 = tf.Variable(tf.constant(0.1, shape=[64]))   \n",
    "\n",
    "# 2번째 컨볼루션 연산을 통해 14 X 14 X 32 => 14 X 14 X 64 \n",
    "C3 = tf.nn.conv2d(A2, F3, strides=[1, 1, 1, 1], padding='SAME')\n",
    "\n",
    "# relu\n",
    "Z3 = tf.nn.relu(C3+b3)\n",
    "\n",
    "# 2번째 max pooling을 통해 14 X 14 X 64 => 7 X 7 X 64\n",
    "A3 = P3 = tf.nn.max_pool(Z3, ksize=[1, 2, 2, 1], strides=[1, 2, 2, 1], padding='SAME')"
   ]
  },
  {
   "cell_type": "code",
   "execution_count": 7,
   "metadata": {
    "collapsed": true
   },
   "outputs": [],
   "source": [
    "# 3번째 컨볼루션 층\n",
    "F4 = tf.Variable(tf.random_normal([3, 3, 64, 128], stddev=0.01))  \n",
    "b4 = tf.Variable(tf.constant(0.1, shape=[128]))   \n",
    "\n",
    "# 3번째 컨볼루션 연산을 통해 7 X 7 X 64 => 7 X 7 X 128\n",
    "C4 = tf.nn.conv2d(A3, F4, strides=[1, 1, 1, 1], padding='SAME')\n",
    "\n",
    "# relu\n",
    "Z4 = tf.nn.relu(C4+b4)\n",
    "\n",
    "# 3번째 max pooling을 통해 7 X 7 X 128 => 4 X 4 X 128\n",
    "A4 = P4 = tf.nn.max_pool(Z4, ksize=[1, 2, 2, 1], strides=[1, 2, 2, 1], padding='SAME')"
   ]
  },
  {
   "cell_type": "code",
   "execution_count": 8,
   "metadata": {
    "collapsed": true
   },
   "outputs": [],
   "source": [
    "# 4X4 크기를 가진 128개의 activation map을 flatten 시킴\n",
    "A4_flat = P4_flat = tf.reshape(A4, [-1, 128*4*4])"
   ]
  },
  {
   "cell_type": "code",
   "execution_count": 9,
   "metadata": {
    "collapsed": false
   },
   "outputs": [],
   "source": [
    "# 출력층\n",
    "W5 = tf.Variable(tf.random_normal([128*4*4, 10], stddev=0.01))\n",
    "b5 = tf.Variable(tf.random_normal([10]))\n",
    "\n",
    "# 출력층 선형회귀  값 Z5, 즉 softmax 에 들어가는 입력 값\n",
    "Z5 = logits = tf.matmul(A4_flat, W5) + b5    # 선형회귀 값 Z5\n",
    "\n",
    "y = A5 = tf.nn.softmax(Z5)"
   ]
  },
  {
   "cell_type": "code",
   "execution_count": 10,
   "metadata": {
    "collapsed": false
   },
   "outputs": [],
   "source": [
    "loss = tf.reduce_mean( tf.nn.softmax_cross_entropy_with_logits_v2(logits=Z5, labels=T) )\n",
    "\n",
    "optimizer = tf.train.AdamOptimizer(learning_rate)\n",
    "\n",
    "train = optimizer.minimize(loss)  "
   ]
  },
  {
   "cell_type": "code",
   "execution_count": 11,
   "metadata": {
    "collapsed": false
   },
   "outputs": [],
   "source": [
    "# batch_size X 10 데이터에 대해 argmax를 통해 행단위로 비교함\n",
    "predicted_val = tf.equal( tf.argmax(A5, 1), tf.argmax(T, 1) )\n",
    "\n",
    "# batch_size X 10 의 True, False 를 1 또는 0 으로 변환\n",
    "accuracy = tf.reduce_mean(tf.cast(predicted_val, dtype=tf.float32))"
   ]
  },
  {
   "cell_type": "code",
   "execution_count": 14,
   "metadata": {
    "collapsed": false
   },
   "outputs": [
    {
     "name": "stdout",
     "output_type": "stream",
     "text": [
      "epochs =  0 , step =  0 , loss_val =  2.5725806\n",
      "epochs =  0 , step =  100 , loss_val =  0.9440416\n",
      "epochs =  0 , step =  200 , loss_val =  0.29754728\n",
      "epochs =  0 , step =  300 , loss_val =  0.20721953\n",
      "epochs =  0 , step =  400 , loss_val =  0.05222447\n",
      "epochs =  0 , step =  500 , loss_val =  0.15466481\n",
      "epochs =  1 , step =  0 , loss_val =  0.2165325\n",
      "epochs =  1 , step =  100 , loss_val =  0.040386807\n",
      "epochs =  1 , step =  200 , loss_val =  0.041228823\n",
      "epochs =  1 , step =  300 , loss_val =  0.032075956\n",
      "epochs =  1 , step =  400 , loss_val =  0.04529638\n",
      "epochs =  1 , step =  500 , loss_val =  0.10478928\n",
      "epochs =  2 , step =  0 , loss_val =  0.048590433\n",
      "epochs =  2 , step =  100 , loss_val =  0.022088354\n",
      "epochs =  2 , step =  200 , loss_val =  0.03669894\n",
      "epochs =  2 , step =  300 , loss_val =  0.08382333\n",
      "epochs =  2 , step =  400 , loss_val =  0.057698313\n",
      "epochs =  2 , step =  500 , loss_val =  0.01676171\n",
      "epochs =  3 , step =  0 , loss_val =  0.0066336966\n",
      "epochs =  3 , step =  100 , loss_val =  0.005780343\n",
      "epochs =  3 , step =  200 , loss_val =  0.06336546\n",
      "epochs =  3 , step =  300 , loss_val =  0.017333467\n",
      "epochs =  3 , step =  400 , loss_val =  0.044530567\n",
      "epochs =  3 , step =  500 , loss_val =  0.0054129087\n",
      "epochs =  4 , step =  0 , loss_val =  0.016154496\n",
      "epochs =  4 , step =  100 , loss_val =  0.043147292\n",
      "epochs =  4 , step =  200 , loss_val =  0.008565197\n",
      "epochs =  4 , step =  300 , loss_val =  0.020742636\n",
      "epochs =  4 , step =  400 , loss_val =  0.010646327\n",
      "epochs =  4 , step =  500 , loss_val =  0.043553963\n",
      "epochs =  5 , step =  0 , loss_val =  0.005141548\n",
      "epochs =  5 , step =  100 , loss_val =  0.0038618594\n",
      "epochs =  5 , step =  200 , loss_val =  0.0010670623\n",
      "epochs =  5 , step =  300 , loss_val =  0.013530545\n",
      "epochs =  5 , step =  400 , loss_val =  0.046781093\n",
      "epochs =  5 , step =  500 , loss_val =  0.003284465\n",
      "epochs =  6 , step =  0 , loss_val =  0.03140855\n",
      "epochs =  6 , step =  100 , loss_val =  0.0038701852\n",
      "epochs =  6 , step =  200 , loss_val =  0.008212325\n",
      "epochs =  6 , step =  300 , loss_val =  0.002418935\n",
      "epochs =  6 , step =  400 , loss_val =  0.0021509456\n",
      "epochs =  6 , step =  500 , loss_val =  0.00046808616\n",
      "epochs =  7 , step =  0 , loss_val =  0.0007320789\n",
      "epochs =  7 , step =  100 , loss_val =  0.0072474843\n",
      "epochs =  7 , step =  200 , loss_val =  0.0007281299\n",
      "epochs =  7 , step =  300 , loss_val =  0.009945692\n",
      "epochs =  7 , step =  400 , loss_val =  0.0075975684\n",
      "epochs =  7 , step =  500 , loss_val =  0.0017433302\n",
      "epochs =  8 , step =  0 , loss_val =  0.038157333\n",
      "epochs =  8 , step =  100 , loss_val =  0.008033444\n",
      "epochs =  8 , step =  200 , loss_val =  0.0028990542\n",
      "epochs =  8 , step =  300 , loss_val =  0.0030117324\n",
      "epochs =  8 , step =  400 , loss_val =  0.015791075\n",
      "epochs =  8 , step =  500 , loss_val =  0.0059771407\n",
      "epochs =  9 , step =  0 , loss_val =  0.003947181\n",
      "epochs =  9 , step =  100 , loss_val =  0.0006773847\n",
      "epochs =  9 , step =  200 , loss_val =  0.00054296624\n",
      "epochs =  9 , step =  300 , loss_val =  0.006818588\n",
      "epochs =  9 , step =  400 , loss_val =  0.10398564\n",
      "epochs =  9 , step =  500 , loss_val =  0.0045111747\n",
      "epochs =  10 , step =  0 , loss_val =  0.0034213425\n",
      "epochs =  10 , step =  100 , loss_val =  0.0002600553\n",
      "epochs =  10 , step =  200 , loss_val =  0.018871196\n",
      "epochs =  10 , step =  300 , loss_val =  0.002077851\n",
      "epochs =  10 , step =  400 , loss_val =  0.0050736875\n",
      "epochs =  10 , step =  500 , loss_val =  0.019464018\n",
      "epochs =  11 , step =  0 , loss_val =  0.0014533466\n",
      "epochs =  11 , step =  100 , loss_val =  0.0005055644\n",
      "epochs =  11 , step =  200 , loss_val =  0.0019370163\n",
      "epochs =  11 , step =  300 , loss_val =  0.02006015\n",
      "epochs =  11 , step =  400 , loss_val =  0.030563032\n",
      "epochs =  11 , step =  500 , loss_val =  0.013448082\n",
      "epochs =  12 , step =  0 , loss_val =  0.046202898\n",
      "epochs =  12 , step =  100 , loss_val =  0.0009183677\n",
      "epochs =  12 , step =  200 , loss_val =  0.0092423465\n",
      "epochs =  12 , step =  300 , loss_val =  0.0002336931\n",
      "epochs =  12 , step =  400 , loss_val =  0.010355733\n",
      "epochs =  12 , step =  500 , loss_val =  0.022394197\n",
      "epochs =  13 , step =  0 , loss_val =  0.00011703445\n",
      "epochs =  13 , step =  100 , loss_val =  4.6795914e-05\n",
      "epochs =  13 , step =  200 , loss_val =  0.042531375\n",
      "epochs =  13 , step =  300 , loss_val =  0.0035593882\n",
      "epochs =  13 , step =  400 , loss_val =  0.0021672905\n",
      "epochs =  13 , step =  500 , loss_val =  0.00014534645\n",
      "epochs =  14 , step =  0 , loss_val =  0.0018372146\n",
      "epochs =  14 , step =  100 , loss_val =  0.0002353258\n",
      "epochs =  14 , step =  200 , loss_val =  0.0073493146\n",
      "epochs =  14 , step =  300 , loss_val =  0.0006670493\n",
      "epochs =  14 , step =  400 , loss_val =  0.0025615476\n",
      "epochs =  14 , step =  500 , loss_val =  0.04003537\n",
      "epochs =  15 , step =  0 , loss_val =  0.002936752\n",
      "epochs =  15 , step =  100 , loss_val =  0.0042185015\n",
      "epochs =  15 , step =  200 , loss_val =  3.3405697e-05\n",
      "epochs =  15 , step =  300 , loss_val =  2.5784311e-06\n",
      "epochs =  15 , step =  400 , loss_val =  0.00985845\n",
      "epochs =  15 , step =  500 , loss_val =  0.009618808\n",
      "epochs =  16 , step =  0 , loss_val =  0.007051221\n",
      "epochs =  16 , step =  100 , loss_val =  0.0005167382\n",
      "epochs =  16 , step =  200 , loss_val =  0.03047951\n",
      "epochs =  16 , step =  300 , loss_val =  0.006646707\n",
      "epochs =  16 , step =  400 , loss_val =  0.0013214696\n",
      "epochs =  16 , step =  500 , loss_val =  3.8577542e-05\n",
      "epochs =  17 , step =  0 , loss_val =  0.0016007917\n",
      "epochs =  17 , step =  100 , loss_val =  3.702622e-05\n",
      "epochs =  17 , step =  200 , loss_val =  0.0012504843\n",
      "epochs =  17 , step =  300 , loss_val =  0.0006235947\n",
      "epochs =  17 , step =  400 , loss_val =  0.00010993105\n",
      "epochs =  17 , step =  500 , loss_val =  0.0006897176\n",
      "epochs =  18 , step =  0 , loss_val =  0.006615583\n",
      "epochs =  18 , step =  100 , loss_val =  0.00039168715\n",
      "epochs =  18 , step =  200 , loss_val =  0.002545493\n",
      "epochs =  18 , step =  300 , loss_val =  0.003567815\n",
      "epochs =  18 , step =  400 , loss_val =  0.00012863145\n",
      "epochs =  18 , step =  500 , loss_val =  0.00019096569\n",
      "epochs =  19 , step =  0 , loss_val =  0.0039061853\n",
      "epochs =  19 , step =  100 , loss_val =  0.0028292194\n",
      "epochs =  19 , step =  200 , loss_val =  0.0008320632\n",
      "epochs =  19 , step =  300 , loss_val =  5.582135e-05\n",
      "epochs =  19 , step =  400 , loss_val =  0.00034174032\n",
      "epochs =  19 , step =  500 , loss_val =  4.8849247e-06\n",
      "epochs =  20 , step =  0 , loss_val =  0.0034369326\n",
      "epochs =  20 , step =  100 , loss_val =  0.039478876\n",
      "epochs =  20 , step =  200 , loss_val =  0.0038389019\n",
      "epochs =  20 , step =  300 , loss_val =  0.00018239913\n",
      "epochs =  20 , step =  400 , loss_val =  0.000643962\n",
      "epochs =  20 , step =  500 , loss_val =  0.01965649\n",
      "epochs =  21 , step =  0 , loss_val =  9.4285824e-05\n",
      "epochs =  21 , step =  100 , loss_val =  0.002072377\n",
      "epochs =  21 , step =  200 , loss_val =  0.00015806762\n",
      "epochs =  21 , step =  300 , loss_val =  6.0080263e-05\n",
      "epochs =  21 , step =  400 , loss_val =  1.2272394e-05\n",
      "epochs =  21 , step =  500 , loss_val =  3.1018957e-05\n",
      "epochs =  22 , step =  0 , loss_val =  0.00026791694\n",
      "epochs =  22 , step =  100 , loss_val =  0.0004894288\n",
      "epochs =  22 , step =  200 , loss_val =  0.002785016\n",
      "epochs =  22 , step =  300 , loss_val =  8.227113e-06\n",
      "epochs =  22 , step =  400 , loss_val =  7.022325e-05\n",
      "epochs =  22 , step =  500 , loss_val =  0.004179654\n",
      "epochs =  23 , step =  0 , loss_val =  5.0306096e-07\n",
      "epochs =  23 , step =  100 , loss_val =  0.0006315183\n",
      "epochs =  23 , step =  200 , loss_val =  0.00027797636\n",
      "epochs =  23 , step =  300 , loss_val =  0.0012667172\n",
      "epochs =  23 , step =  400 , loss_val =  0.025127511\n",
      "epochs =  23 , step =  500 , loss_val =  4.5299265e-07\n",
      "epochs =  24 , step =  0 , loss_val =  0.0017054966\n",
      "epochs =  24 , step =  100 , loss_val =  8.2707236e-05\n",
      "epochs =  24 , step =  200 , loss_val =  0.012584851\n",
      "epochs =  24 , step =  300 , loss_val =  0.00087065756\n",
      "epochs =  24 , step =  400 , loss_val =  0.009353228\n",
      "epochs =  24 , step =  500 , loss_val =  0.00029117375\n",
      "epochs =  25 , step =  0 , loss_val =  1.10468545e-05\n",
      "epochs =  25 , step =  100 , loss_val =  0.010531697\n",
      "epochs =  25 , step =  200 , loss_val =  7.495355e-05\n",
      "epochs =  25 , step =  300 , loss_val =  6.551466e-05\n",
      "epochs =  25 , step =  400 , loss_val =  6.5191107e-06\n",
      "epochs =  25 , step =  500 , loss_val =  0.010138418\n",
      "epochs =  26 , step =  0 , loss_val =  5.694191e-06\n",
      "epochs =  26 , step =  100 , loss_val =  7.081409e-05\n",
      "epochs =  26 , step =  200 , loss_val =  2.9656214e-06\n",
      "epochs =  26 , step =  300 , loss_val =  1.48449935e-05\n",
      "epochs =  26 , step =  400 , loss_val =  9.375205e-05\n",
      "epochs =  26 , step =  500 , loss_val =  0.0014953283\n",
      "epochs =  27 , step =  0 , loss_val =  1.6714586e-05\n",
      "epochs =  27 , step =  100 , loss_val =  3.606917e-05\n",
      "epochs =  27 , step =  200 , loss_val =  1.7842744e-05\n",
      "epochs =  27 , step =  300 , loss_val =  0.022114271\n",
      "epochs =  27 , step =  400 , loss_val =  2.3754244e-05\n",
      "epochs =  27 , step =  500 , loss_val =  6.964647e-06\n",
      "epochs =  28 , step =  0 , loss_val =  0.0018375281\n",
      "epochs =  28 , step =  100 , loss_val =  0.00012769409\n",
      "epochs =  28 , step =  200 , loss_val =  3.3423694e-06\n",
      "epochs =  28 , step =  300 , loss_val =  2.9660943e-05\n",
      "epochs =  28 , step =  400 , loss_val =  0.03690663\n",
      "epochs =  28 , step =  500 , loss_val =  0.0043931804\n",
      "epochs =  29 , step =  0 , loss_val =  5.602699e-05\n",
      "epochs =  29 , step =  100 , loss_val =  8.3386985e-06\n",
      "epochs =  29 , step =  200 , loss_val =  0.00037518778\n",
      "epochs =  29 , step =  300 , loss_val =  0.000119125296\n",
      "epochs =  29 , step =  400 , loss_val =  0.00037379275\n",
      "epochs =  29 , step =  500 , loss_val =  0.013534739\n",
      "\n",
      "elapsed time =  1:09:38.672000\n",
      "\n",
      "Accuracy =  0.9925\n"
     ]
    }
   ],
   "source": [
    "with  tf.Session()  as sess:\n",
    "    \n",
    "    sess.run(tf.global_variables_initializer())  # 변수 노드(tf.Variable) 초기화\n",
    "    \n",
    "    start_time = datetime.now()\n",
    "    \n",
    "    for i in range(epochs):    # 30 번 반복수행\n",
    "        \n",
    "        total_batch = int(mnist.train.num_examples / batch_size)  # 55,000 / 100\n",
    "\n",
    "        for step in range(total_batch):\n",
    "            \n",
    "            batch_x_data, batch_t_data = mnist.train.next_batch(batch_size)\n",
    "      \n",
    "            loss_val, _ = sess.run([loss, train], feed_dict={X: batch_x_data, T: batch_t_data})    \n",
    "        \n",
    "            if step % 100 == 0:\n",
    "                print(\"epochs = \", i, \", step = \", step, \", loss_val = \", loss_val)             \n",
    "    \n",
    "    end_time = datetime.now() \n",
    "    \n",
    "    print(\"\\nelapsed time = \", end_time - start_time) \n",
    "    \n",
    "    # Accuracy 확인\n",
    "    test_x_data = mnist.test.images    # 10000 X 784\n",
    "    test_t_data = mnist.test.labels    # 10000 X 10\n",
    "    \n",
    "    accuracy_val = sess.run(accuracy, feed_dict={X: test_x_data, T: test_t_data})\n",
    "    \n",
    "    print(\"\\nAccuracy = \", accuracy_val)"
   ]
  },
  {
   "cell_type": "code",
   "execution_count": null,
   "metadata": {
    "collapsed": true
   },
   "outputs": [],
   "source": []
  }
 ],
 "metadata": {
  "anaconda-cloud": {},
  "kernelspec": {
   "display_name": "Python [default]",
   "language": "python",
   "name": "python3"
  },
  "language_info": {
   "codemirror_mode": {
    "name": "ipython",
    "version": 3
   },
   "file_extension": ".py",
   "mimetype": "text/x-python",
   "name": "python",
   "nbconvert_exporter": "python",
   "pygments_lexer": "ipython3",
   "version": "3.5.2"
  }
 },
 "nbformat": 4,
 "nbformat_minor": 1
}
