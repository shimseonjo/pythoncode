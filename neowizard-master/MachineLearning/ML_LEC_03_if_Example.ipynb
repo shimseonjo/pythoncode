{
 "cells": [
  {
   "cell_type": "code",
   "execution_count": 1,
   "metadata": {
    "collapsed": false
   },
   "outputs": [
    {
     "name": "stdout",
     "output_type": "stream",
     "text": [
      "a == 1\n",
      "positive number\n"
     ]
    }
   ],
   "source": [
    "a = 1\n",
    "\n",
    "if a > 0:\n",
    "    print(\"a ==\", a)\n",
    "    print(\"positive number\")\n",
    "elif a == 0:\n",
    "    print(\"a ==\", a)\n",
    "    print(\"zero\")\n",
    "else:\n",
    "    print(\"a ==\", a)\n",
    "    print(\"negative number\")    "
   ]
  },
  {
   "cell_type": "code",
   "execution_count": 6,
   "metadata": {
    "collapsed": false
   },
   "outputs": [
    {
     "name": "stdout",
     "output_type": "stream",
     "text": [
      "45 is not in list_data\n",
      "key1 is in dict_data\n"
     ]
    }
   ],
   "source": [
    "list_data = [ 10, 20, 30, 40, 50 ] \n",
    "dict_data = { 'key1': 1, 'key2' : 2 } \n",
    "\n",
    "if 45  in  list_data:\n",
    "    print(\"45 is in list_data\")\n",
    "else:\n",
    "    print(\"45 is not in list_data\") \n",
    "    \n",
    "\n",
    "if 'key1'  in dict_data:\n",
    "    print(\"key1 is in dict_data\") \n",
    "else:\n",
    "    print(\"key1 is not in dict_data\") "
   ]
  },
  {
   "cell_type": "code",
   "execution_count": null,
   "metadata": {
    "collapsed": true
   },
   "outputs": [],
   "source": []
  }
 ],
 "metadata": {
  "anaconda-cloud": {},
  "kernelspec": {
   "display_name": "Python [default]",
   "language": "python",
   "name": "python3"
  },
  "language_info": {
   "codemirror_mode": {
    "name": "ipython",
    "version": 3
   },
   "file_extension": ".py",
   "mimetype": "text/x-python",
   "name": "python",
   "nbconvert_exporter": "python",
   "pygments_lexer": "ipython3",
   "version": "3.5.2"
  }
 },
 "nbformat": 4,
 "nbformat_minor": 1
}
