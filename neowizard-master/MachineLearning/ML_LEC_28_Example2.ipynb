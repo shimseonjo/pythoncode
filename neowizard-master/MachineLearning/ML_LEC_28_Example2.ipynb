{
 "cells": [
  {
   "cell_type": "code",
   "execution_count": 2,
   "metadata": {
    "collapsed": false
   },
   "outputs": [
    {
     "name": "stdout",
     "output_type": "stream",
     "text": [
      "4.0\n",
      "[4. 6.]\n",
      "400.0\n",
      "[400. 600.]\n"
     ]
    }
   ],
   "source": [
    "import tensorflow as tf\n",
    "\n",
    "# 플레이스홀더 노드 정의\n",
    "a = tf.placeholder(tf.float32)\n",
    "b = tf.placeholder(tf.float32)\n",
    "c = a + b\n",
    "\n",
    "\n",
    "# 세션 (session) 을 만들고 플레이스홀더 노드를 통해 값 입력받음\n",
    "sess = tf.Session()  \n",
    "\n",
    "print(sess.run(c, feed_dict={a: 1.0, b: 3.0}))\n",
    "print(sess.run(c, feed_dict={a: [1.0, 2.0], b: [3.0, 4.0]}))\n",
    "\n",
    "# 연산 추가\n",
    "d = 100 * c\n",
    "\n",
    "print(sess.run(d, feed_dict={a: 1.0, b: 3.0}))\n",
    "print(sess.run(d, feed_dict={a: [1.0, 2.0], b: [3.0, 4.0]}))\n",
    "\n",
    "\n",
    "# 세션 close\n",
    "sess.close()   "
   ]
  },
  {
   "cell_type": "code",
   "execution_count": null,
   "metadata": {
    "collapsed": true
   },
   "outputs": [],
   "source": []
  }
 ],
 "metadata": {
  "anaconda-cloud": {},
  "kernelspec": {
   "display_name": "Python [default]",
   "language": "python",
   "name": "python3"
  },
  "language_info": {
   "codemirror_mode": {
    "name": "ipython",
    "version": 3
   },
   "file_extension": ".py",
   "mimetype": "text/x-python",
   "name": "python",
   "nbconvert_exporter": "python",
   "pygments_lexer": "ipython3",
   "version": "3.5.2"
  }
 },
 "nbformat": 4,
 "nbformat_minor": 1
}
