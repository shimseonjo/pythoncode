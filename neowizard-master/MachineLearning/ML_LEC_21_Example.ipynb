{
 "cells": [
  {
   "cell_type": "code",
   "execution_count": 1,
   "metadata": {
    "collapsed": false
   },
   "outputs": [],
   "source": [
    "import numpy as np\n",
    "\n",
    "# 수치미분 함수\n",
    "\n",
    "def numerical_derivative(f, x):\n",
    "    delta_x = 1e-4 # 0.0001\n",
    "    grad = np.zeros_like(x)\n",
    "    \n",
    "    it = np.nditer(x, flags=['multi_index'], op_flags=['readwrite'])\n",
    "    \n",
    "    while not it.finished:\n",
    "        idx = it.multi_index        \n",
    "        tmp_val = x[idx]\n",
    "        x[idx] = float(tmp_val) + delta_x\n",
    "        fx1 = f(x) # f(x+delta_x)\n",
    "        \n",
    "        x[idx] = tmp_val - delta_x \n",
    "        fx2 = f(x) # f(x-delta_x)\n",
    "        grad[idx] = (fx1 - fx2) / (2*delta_x)\n",
    "        \n",
    "        x[idx] = tmp_val \n",
    "        it.iternext()   \n",
    "        \n",
    "    return grad\n",
    "\n",
    "# sigmoid 함수\n",
    "\n",
    "def sigmoid(x):\n",
    "    return 1 / (1+np.exp(-x))"
   ]
  },
  {
   "cell_type": "code",
   "execution_count": 2,
   "metadata": {
    "collapsed": true
   },
   "outputs": [],
   "source": [
    "class LogicGate:\n",
    "        \n",
    "    def __init__(self, gate_name, xdata, tdata):\n",
    "        \n",
    "        self.name = gate_name\n",
    "        \n",
    "        # 입력 데이터, 정답 데이터 초기화\n",
    "        self.__xdata = xdata.reshape(4,2)  # 4개의 입력데이터 x1, x2 에 대하여 batch 처리 행렬\n",
    "        self.__tdata = tdata.reshape(4,1)  # 4개의 입력데이터 x1, x2 에 대한 각각의 계산 값 행렬\n",
    "        \n",
    "        # 2층 hidden layer unit : 6개 가정,  가중치 W2, 바이어스 b2 초기화\n",
    "        self.__W2 = np.random.rand(2,6)  # weight, 2 X 6 matrix\n",
    "        self.__b2 = np.random.rand(6)\n",
    "        \n",
    "        # 3층 output layer unit : 1 개 , 가중치 W3, 바이어스 b3 초기화\n",
    "        self.__W3 = np.random.rand(6,1)\n",
    "        self.__b3 = np.random.rand(1)\n",
    "                        \n",
    "        # 학습률 learning rate 초기화\n",
    "        self.__learning_rate = 1e-2\n",
    "    \n",
    "        print(self.name + \" object is created\")\n",
    "            \n",
    "    def feed_forward(self):        # feed forward 를 통하여 손실함수(cross-entropy) 값 계산\n",
    "        \n",
    "        delta = 1e-7    # log 무한대 발산 방지\n",
    "    \n",
    "        z2 = np.dot(self.__xdata, self.__W2) + self.__b2  # 은닉층의 선형회귀 값\n",
    "        a2 = sigmoid(z2)                                  # 은닉층의 출력\n",
    "        \n",
    "        z3 = np.dot(a2, self.__W3) + self.__b3            # 출력층의 선형회귀 값\n",
    "        y = a3 = sigmoid(z3)                              # 출력층의 출력\n",
    "    \n",
    "        # cross-entropy \n",
    "        return  -np.sum( self.__tdata*np.log(y + delta) + (1-self.__tdata)*np.log((1 - y)+delta ) )    \n",
    "    \n",
    "    def loss_val(self):          # 외부 출력을 위한 손실함수(cross-entropy) 값 계산 \n",
    "        \n",
    "        delta = 1e-7    # log 무한대 발산 방지\n",
    "    \n",
    "        z2 = np.dot(self.__xdata, self.__W2) + self.__b2  # 은닉층의 선형회귀 값\n",
    "        a2 = sigmoid(z2)                                  # 은닉층의 출력\n",
    "        \n",
    "        z3 = np.dot(a2, self.__W3) + self.__b3            # 출력층의 선형회귀 값\n",
    "        y = a3 = sigmoid(z3)                              # 출력층의 출력\n",
    "    \n",
    "        # cross-entropy \n",
    "        return  -np.sum( self.__tdata*np.log(y + delta) + (1-self.__tdata)*np.log((1 - y)+delta ) )\n",
    "    \n",
    "    \n",
    "    # 수치미분을 이용하여 손실함수가 최소가 될때 까지 학습하는 함수\n",
    "    def train(self):\n",
    "        \n",
    "        f = lambda x : self.feed_forward()\n",
    "        \n",
    "        print(\"Initial loss value = \", self.loss_val())\n",
    "        \n",
    "        for step in  range(10001):\n",
    "            \n",
    "            self.__W2 -= self.__learning_rate * numerical_derivative(f, self.__W2)\n",
    "    \n",
    "            self.__b2 -= self.__learning_rate * numerical_derivative(f, self.__b2)\n",
    "        \n",
    "            self.__W3 -= self.__learning_rate * numerical_derivative(f, self.__W3)\n",
    "    \n",
    "            self.__b3 -= self.__learning_rate * numerical_derivative(f, self.__b3)\n",
    "    \n",
    "            if (step % 400 == 0):\n",
    "                print(\"step = \", step, \"  , loss value = \", self.loss_val())\n",
    "                \n",
    "    \n",
    "    # query, 즉 미래 값 예측 함수\n",
    "    def predict(self, xdata):\n",
    "        \n",
    "        z2 = np.dot(xdata, self.__W2) + self.__b2         # 은닉층의 선형회귀 값\n",
    "        a2 = sigmoid(z2)                                  # 은닉층의 출력\n",
    "        \n",
    "        z3 = np.dot(a2, self.__W3) + self.__b3            # 출력층의 선형회귀 값\n",
    "        y = a3 = sigmoid(z3)                              # 출력층의 출력\n",
    "    \n",
    "        if y > 0.5:\n",
    "            result = 1  # True\n",
    "        else:\n",
    "            result = 0  # False\n",
    "    \n",
    "        return y, result"
   ]
  },
  {
   "cell_type": "code",
   "execution_count": 3,
   "metadata": {
    "collapsed": false
   },
   "outputs": [
    {
     "name": "stdout",
     "output_type": "stream",
     "text": [
      "AND object is created\n",
      "Initial loss value =  5.840535083615841\n",
      "step =  0   , loss value =  5.609765588483416\n",
      "step =  400   , loss value =  2.1798903442341677\n",
      "step =  800   , loss value =  2.0414073565518867\n",
      "step =  1200   , loss value =  1.8038596110891651\n",
      "step =  1600   , loss value =  1.4594878833873433\n",
      "step =  2000   , loss value =  1.1051360149810563\n",
      "step =  2400   , loss value =  0.8191922068974415\n",
      "step =  2800   , loss value =  0.6087451807882351\n",
      "step =  3200   , loss value =  0.4597443838168551\n",
      "step =  3600   , loss value =  0.355547517191774\n",
      "step =  4000   , loss value =  0.2821274816300895\n",
      "step =  4400   , loss value =  0.22939701486032674\n",
      "step =  4800   , loss value =  0.19061975646466078\n",
      "step =  5200   , loss value =  0.16140541149859416\n",
      "step =  5600   , loss value =  0.13888741685510447\n",
      "step =  6000   , loss value =  0.12116685079709516\n",
      "step =  6400   , loss value =  0.10696061539071057\n",
      "step =  6800   , loss value =  0.09538290302835775\n",
      "step =  7200   , loss value =  0.08580901468276729\n",
      "step =  7600   , loss value =  0.07778936951639162\n",
      "step =  8000   , loss value =  0.07099424332176993\n",
      "step =  8400   , loss value =  0.06517756633206837\n",
      "step =  8800   , loss value =  0.06015274310051932\n",
      "step =  9200   , loss value =  0.05577619547777847\n",
      "step =  9600   , loss value =  0.05193595964898424\n",
      "step =  10000   , loss value =  0.048543650909784054\n"
     ]
    }
   ],
   "source": [
    "# AND Gate 객체 생성 및 training\n",
    "\n",
    "xdata = np.array([ [0, 0], [0, 1], [1, 0], [1, 1] ])\n",
    "tdata = np.array([0, 0, 0, 1])\n",
    "\n",
    "and_obj = LogicGate(\"AND\", xdata, tdata)\n",
    "\n",
    "and_obj.train()"
   ]
  },
  {
   "cell_type": "code",
   "execution_count": 4,
   "metadata": {
    "collapsed": false
   },
   "outputs": [
    {
     "name": "stdout",
     "output_type": "stream",
     "text": [
      "(array([0.00016536]), 0)\n",
      "(array([0.01178067]), 0)\n",
      "(array([0.01262846]), 0)\n",
      "(array([0.97646224]), 1)\n"
     ]
    }
   ],
   "source": [
    "# AND Gate prediction\n",
    "\n",
    "test_data = np.array([ [0, 0], [0, 1], [1, 0], [1, 1] ])\n",
    "\n",
    "for data in test_data:\n",
    "    print(and_obj.predict(data))"
   ]
  },
  {
   "cell_type": "code",
   "execution_count": 5,
   "metadata": {
    "collapsed": false
   },
   "outputs": [
    {
     "name": "stdout",
     "output_type": "stream",
     "text": [
      "OR object is created\n",
      "Initial loss value =  2.212689045234357\n",
      "step =  0   , loss value =  2.205296614482455\n",
      "step =  400   , loss value =  1.850717689070251\n",
      "step =  800   , loss value =  1.5625889130500852\n",
      "step =  1200   , loss value =  1.2050453333027324\n",
      "step =  1600   , loss value =  0.8687662489159175\n",
      "step =  2000   , loss value =  0.6133910439311466\n",
      "step =  2400   , loss value =  0.4406193227780353\n",
      "step =  2800   , loss value =  0.32749945295615634\n",
      "step =  3200   , loss value =  0.2524174189546395\n",
      "step =  3600   , loss value =  0.2009843512760078\n",
      "step =  4000   , loss value =  0.16449106306587105\n",
      "step =  4400   , loss value =  0.13772631930228027\n",
      "step =  4800   , loss value =  0.1175112541530571\n",
      "step =  5200   , loss value =  0.10184861915309637\n",
      "step =  5600   , loss value =  0.08944330575807852\n",
      "step =  6000   , loss value =  0.07942961190851269\n",
      "step =  6400   , loss value =  0.07121244149688043\n",
      "step =  6800   , loss value =  0.06437222163993897\n",
      "step =  7200   , loss value =  0.05860632373442547\n",
      "step =  7600   , loss value =  0.05369197071078598\n",
      "step =  8000   , loss value =  0.04946213962256315\n",
      "step =  8400   , loss value =  0.04578953191411178\n",
      "step =  8800   , loss value =  0.042575676450663694\n",
      "step =  9200   , loss value =  0.03974337323817614\n",
      "step =  9600   , loss value =  0.037231357637230636\n",
      "step =  10000   , loss value =  0.034990469368792194\n"
     ]
    }
   ],
   "source": [
    "# OR Gate 객체 생성 및 training\n",
    "\n",
    "xdata = np.array([ [0, 0], [0, 1], [1, 0], [1, 1] ])\n",
    "tdata = np.array([0, 1, 1, 1])\n",
    "\n",
    "or_obj = LogicGate(\"OR\", xdata, tdata)\n",
    "\n",
    "or_obj.train()"
   ]
  },
  {
   "cell_type": "code",
   "execution_count": 6,
   "metadata": {
    "collapsed": false
   },
   "outputs": [
    {
     "name": "stdout",
     "output_type": "stream",
     "text": [
      "(array([0.02001798]), 0)\n",
      "(array([0.99232183]), 1)\n",
      "(array([0.99326034]), 1)\n",
      "(array([0.9997005]), 1)\n"
     ]
    }
   ],
   "source": [
    "# OR Gate prediction\n",
    "\n",
    "test_data = np.array([ [0, 0], [0, 1], [1, 0], [1, 1] ])\n",
    "\n",
    "for data in test_data:\n",
    "    print(or_obj.predict(data))"
   ]
  },
  {
   "cell_type": "code",
   "execution_count": 7,
   "metadata": {
    "collapsed": false
   },
   "outputs": [
    {
     "name": "stdout",
     "output_type": "stream",
     "text": [
      "NAND object is created\n",
      "Initial loss value =  3.4170137330312635\n",
      "step =  0   , loss value =  3.381093254650571\n",
      "step =  400   , loss value =  2.2386783059972633\n",
      "step =  800   , loss value =  2.1139924601907\n",
      "step =  1200   , loss value =  1.9075415363518984\n",
      "step =  1600   , loss value =  1.5688825378040516\n",
      "step =  2000   , loss value =  1.2105932613685404\n",
      "step =  2400   , loss value =  0.907113365111014\n",
      "step =  2800   , loss value =  0.6699365259160734\n",
      "step =  3200   , loss value =  0.4983401738158731\n",
      "step =  3600   , loss value =  0.37874383964013475\n",
      "step =  4000   , loss value =  0.29566804193504925\n",
      "step =  4400   , loss value =  0.23705341732544227\n",
      "step =  4800   , loss value =  0.19470802798004483\n",
      "step =  5200   , loss value =  0.16332229548883437\n",
      "step =  5600   , loss value =  0.13947740846939255\n",
      "step =  6000   , loss value =  0.12094605452592225\n",
      "step =  6400   , loss value =  0.10624859200671379\n",
      "step =  6800   , loss value =  0.09438000388711615\n",
      "step =  7200   , loss value =  0.08464214929284655\n",
      "step =  7600   , loss value =  0.07653948589186119\n",
      "step =  8000   , loss value =  0.06971310148302831\n",
      "step =  8400   , loss value =  0.06389814853363629\n",
      "step =  8800   , loss value =  0.058895818924435586\n",
      "step =  9200   , loss value =  0.05455452397864564\n",
      "step =  9600   , loss value =  0.05075701548230266\n",
      "step =  10000   , loss value =  0.04741141410810264\n"
     ]
    }
   ],
   "source": [
    "# NAND Gate 객체 생성 및 training\n",
    "\n",
    "xdata = np.array([ [0, 0], [0, 1], [1, 0], [1, 1] ])\n",
    "tdata = np.array([1, 1, 1, 0])\n",
    "\n",
    "nand_obj = LogicGate(\"NAND\", xdata, tdata)\n",
    "\n",
    "nand_obj.train()"
   ]
  },
  {
   "cell_type": "code",
   "execution_count": 8,
   "metadata": {
    "collapsed": false
   },
   "outputs": [
    {
     "name": "stdout",
     "output_type": "stream",
     "text": [
      "(array([0.99979674]), 1)\n",
      "(array([0.98785916]), 1)\n",
      "(array([0.98800973]), 1)\n",
      "(array([0.02266976]), 0)\n"
     ]
    }
   ],
   "source": [
    "# NAND Gate prediction\n",
    "\n",
    "test_data = np.array([ [0, 0], [0, 1], [1, 0], [1, 1] ])\n",
    "\n",
    "for data in test_data:\n",
    "    print(nand_obj.predict(data))"
   ]
  },
  {
   "cell_type": "code",
   "execution_count": 9,
   "metadata": {
    "collapsed": false
   },
   "outputs": [
    {
     "name": "stdout",
     "output_type": "stream",
     "text": [
      "XOR object is created\n",
      "Initial loss value =  4.735661084753321\n",
      "step =  0   , loss value =  4.634876112146108\n",
      "step =  400   , loss value =  2.775446295400008\n",
      "step =  800   , loss value =  2.773263452948909\n",
      "step =  1200   , loss value =  2.770917880220277\n",
      "step =  1600   , loss value =  2.768128698254033\n",
      "step =  2000   , loss value =  2.7645063286566858\n",
      "step =  2400   , loss value =  2.7594693342625365\n",
      "step =  2800   , loss value =  2.7521284652590445\n",
      "step =  3200   , loss value =  2.741147600024205\n",
      "step =  3600   , loss value =  2.7246269916546204\n",
      "step =  4000   , loss value =  2.7000762411013386\n",
      "step =  4400   , loss value =  2.6644912889238883\n",
      "step =  4800   , loss value =  2.6145288972361405\n",
      "step =  5200   , loss value =  2.5470986640337303\n",
      "step =  5600   , loss value =  2.460951291588692\n",
      "step =  6000   , loss value =  2.358547548152943\n",
      "step =  6400   , loss value =  2.2456247222985573\n",
      "step =  6800   , loss value =  2.127871832523778\n",
      "step =  7200   , loss value =  2.007800434630348\n",
      "step =  7600   , loss value =  1.8839207937411317\n",
      "step =  8000   , loss value =  1.7518375989798356\n",
      "step =  8400   , loss value =  1.6071395629609737\n",
      "step =  8800   , loss value =  1.44991085325998\n",
      "step =  9200   , loss value =  1.2871190506030352\n",
      "step =  9600   , loss value =  1.1292858728978399\n",
      "step =  10000   , loss value =  0.9849821204749392\n"
     ]
    }
   ],
   "source": [
    "# XOR Gate 객체 생성\n",
    "\n",
    "xdata = np.array([ [0, 0], [0, 1], [1, 0], [1, 1] ])\n",
    "tdata = np.array([0, 1, 1, 0])\n",
    "\n",
    "\n",
    "xor_obj = LogicGate(\"XOR\", xdata, tdata)\n",
    "\n",
    "xor_obj.train()"
   ]
  },
  {
   "cell_type": "code",
   "execution_count": 10,
   "metadata": {
    "collapsed": false
   },
   "outputs": [
    {
     "name": "stdout",
     "output_type": "stream",
     "text": [
      "(array([0.0833791]), 0)\n",
      "(array([0.81125073]), 1)\n",
      "(array([0.7467601]), 1)\n",
      "(array([0.32748571]), 0)\n"
     ]
    }
   ],
   "source": [
    "test_data = np.array([ [0, 0], [0, 1], [1, 0], [1, 1] ])\n",
    "\n",
    "for data in test_data:\n",
    "    print(xor_obj.predict(data))"
   ]
  },
  {
   "cell_type": "code",
   "execution_count": null,
   "metadata": {
    "collapsed": true
   },
   "outputs": [],
   "source": []
  }
 ],
 "metadata": {
  "anaconda-cloud": {},
  "kernelspec": {
   "display_name": "Python [default]",
   "language": "python",
   "name": "python3"
  },
  "language_info": {
   "codemirror_mode": {
    "name": "ipython",
    "version": 3
   },
   "file_extension": ".py",
   "mimetype": "text/x-python",
   "name": "python",
   "nbconvert_exporter": "python",
   "pygments_lexer": "ipython3",
   "version": "3.5.2"
  }
 },
 "nbformat": 4,
 "nbformat_minor": 1
}
