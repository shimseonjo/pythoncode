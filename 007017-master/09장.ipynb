{
 "cells": [
  {
   "cell_type": "code",
   "execution_count": 1,
   "metadata": {},
   "outputs": [],
   "source": [
    "# 환경 설정\n",
    "from mlwpy import *\n",
    "%matplotlib inline\n",
    "\n",
    "diabetes = datasets.load_diabetes()\n",
    "\n",
    "d_tts = skms.train_test_split(diabetes.data,\n",
    "                              diabetes.target, \n",
    "                              test_size=.25,\n",
    "                              random_state=42)\n",
    "\n",
    "(diabetes_train_ftrs, diabetes_test_ftrs, \n",
    " diabetes_train_tgt,  diabetes_test_tgt) = d_tts"
   ]
  },
  {
   "cell_type": "code",
   "execution_count": 2,
   "metadata": {},
   "outputs": [
    {
     "name": "stdout",
     "output_type": "stream",
     "text": [
      "6.3 17.15\n"
     ]
    }
   ],
   "source": [
    "weights = np.array([3.5, -2.1, .7])\n",
    "print(np.sum(np.abs(weights)),\n",
    "      np.sum(weights**2))"
   ]
  },
  {
   "cell_type": "code",
   "execution_count": 3,
   "metadata": {},
   "outputs": [
    {
     "name": "stdout",
     "output_type": "stream",
     "text": [
      "[0.   1.   1.   0.25 0.25 0.   1.   1.   0.25 0.25]\n",
      "5.0\n"
     ]
    }
   ],
   "source": [
    "x_1 = np.arange(10)\n",
    "m, b = 3, 2\n",
    "w = np.array([m,b])\n",
    "\n",
    "x = np.c_[x_1, np.repeat(1.0, 10)] # 플러스원 트릭\n",
    "\n",
    "errors = np.tile(np.array([0.0, 1.0, 1.0, .5, .5]), 2)\n",
    "\n",
    "print(errors * errors)\n",
    "print(np.dot(errors, errors))\n",
    "\n",
    "y_true = rdot(w,x)\n",
    "y_msr  = y_true + errors\n",
    "\n",
    "D = (x,y_msr)"
   ]
  },
  {
   "cell_type": "code",
   "execution_count": 4,
   "metadata": {},
   "outputs": [
    {
     "data": {
      "image/png": "[encoded data removed]",
      "text/plain": [
       "<Figure size 288x216 with 1 Axes>"
      ]
     },
     "metadata": {
      "needs_background": "light"
     },
     "output_type": "display_data"
    }
   ],
   "source": [
    "fig, ax = plt.subplots(1,1,figsize=(4,3))\n",
    "ax.plot(x_1, y_true, 'r', label='true')\n",
    "ax.plot(x_1, y_msr , 'b', label='noisy')\n",
    "ax.legend();"
   ]
  },
  {
   "cell_type": "code",
   "execution_count": 5,
   "metadata": {},
   "outputs": [],
   "source": [
    "def sq_diff(a,b):\n",
    "    return (a-b)**2"
   ]
  },
  {
   "cell_type": "code",
   "execution_count": 6,
   "metadata": {},
   "outputs": [
    {
     "data": {
      "text/plain": [
       "5.0"
      ]
     },
     "execution_count": 6,
     "metadata": {},
     "output_type": "execute_result"
    }
   ],
   "source": [
    "predictions = rdot(w,x)\n",
    "np.sum(sq_diff(predictions, y_msr))"
   ]
  },
  {
   "cell_type": "code",
   "execution_count": 7,
   "metadata": {},
   "outputs": [
    {
     "name": "stdout",
     "output_type": "stream",
     "text": [
      "Sum(abs) complexity: 11.3\n",
      "Sum(sqr) complexity: 22.15\n"
     ]
    }
   ],
   "source": [
    "predictions = rdot(w,x)\n",
    "\n",
    "loss = np.sum(sq_diff(predictions, y_msr))\n",
    "\n",
    "complexity_1 = np.sum(np.abs(weights))\n",
    "complexity_2 = np.sum(weights**2) # == np.dot(weights, weights)\n",
    "\n",
    "cost_1 = loss + complexity_1\n",
    "cost_2 = loss + complexity_2\n",
    "\n",
    "print(\"Sum(abs) complexity:\", cost_1)\n",
    "print(\"Sum(sqr) complexity:\", cost_2)"
   ]
  },
  {
   "cell_type": "code",
   "execution_count": 8,
   "metadata": {},
   "outputs": [
    {
     "data": {
      "text/plain": [
       "8.15"
      ]
     },
     "execution_count": 8,
     "metadata": {},
     "output_type": "execute_result"
    }
   ],
   "source": [
    "predictions = rdot(w,x)\n",
    "errors = np.sum(sq_diff(predictions, y_msr))\n",
    "complexity_1 = np.sum(np.abs(weights))\n",
    "\n",
    "C = .5\n",
    "cost = errors + C * complexity_1\n",
    "cost"
   ]
  },
  {
   "cell_type": "code",
   "execution_count": 9,
   "metadata": {},
   "outputs": [
    {
     "name": "stdout",
     "output_type": "stream",
     "text": [
      "Lasso \n",
      "Train MSE: 3947.899897977698 \n",
      " Test MSE: 3433.1524588051197\n",
      "Ridge \n",
      "Train MSE: 3461.739515097773 \n",
      " Test MSE: 3105.468750907886\n"
     ]
    }
   ],
   "source": [
    "models = [linear_model.Lasso(),            # L1 정규화; C=1.0\n",
    "          linear_model.Ridge()]            # L2 정규화; C=1.0\n",
    "\n",
    "for model in models:\n",
    "    model.fit(diabetes_train_ftrs, diabetes_train_tgt)\n",
    "    train_preds = model.predict(diabetes_train_ftrs)\n",
    "    test_preds  = model.predict(diabetes_test_ftrs)\n",
    "    print(get_model_name(model), \n",
    "          \"\\nTrain MSE:\",metrics.mean_squared_error(diabetes_train_tgt, \n",
    "                                                    train_preds), \n",
    "          \"\\n Test MSE:\", metrics.mean_squared_error(diabetes_test_tgt,  \n",
    "                                                     test_preds))"
   ]
  },
  {
   "cell_type": "code",
   "execution_count": 10,
   "metadata": {},
   "outputs": [
    {
     "data": {
      "image/png": "[encoded data removed]",
      "text/plain": [
       "<Figure size 288x216 with 1 Axes>"
      ]
     },
     "metadata": {
      "needs_background": "light"
     },
     "output_type": "display_data"
    }
   ],
   "source": [
    "#  여기서는 작은 오차를 무시하지 않습니다.\n",
    "error = np.linspace(-4, 4, 100)\n",
    "loss = np.abs(error)\n",
    "\n",
    "fig, ax = plt.subplots(1,1,figsize=(4,3))\n",
    "ax.plot(error, loss)\n",
    "\n",
    "ax.set_xlabel('Raw Error')\n",
    "ax.set_ylabel('Abs Loss');"
   ]
  },
  {
   "cell_type": "code",
   "execution_count": 11,
   "metadata": {},
   "outputs": [
    {
     "name": "stdout",
     "output_type": "stream",
     "text": [
      "0.0\n"
     ]
    }
   ],
   "source": [
    "an_error = .75\n",
    "abs_error = abs(an_error)\n",
    "if abs_error < 1.0:\n",
    "    the_loss = 0.0\n",
    "else:\n",
    "    the_loss = abs_error\n",
    "print(the_loss)"
   ]
  },
  {
   "cell_type": "code",
   "execution_count": 12,
   "metadata": {},
   "outputs": [
    {
     "name": "stdout",
     "output_type": "stream",
     "text": [
      "0.0\n"
     ]
    }
   ],
   "source": [
    "an_error = 0.75\n",
    "adj_error = abs(an_error) - 1.0\n",
    "if adj_error < 0.0:\n",
    "    the_loss = 0.0\n",
    "else:\n",
    "    the_loss = adj_error\n",
    "print(the_loss)"
   ]
  },
  {
   "cell_type": "code",
   "execution_count": 13,
   "metadata": {},
   "outputs": [
    {
     "data": {
      "image/png": "[encoded data removed]",
      "text/plain": [
       "<Figure size 288x216 with 1 Axes>"
      ]
     },
     "metadata": {
      "needs_background": "light"
     },
     "output_type": "display_data"
    }
   ],
   "source": [
    "error = np.linspace(-4, 4, 100)\n",
    "\n",
    "# 오차를 1.0까지 무시합니다… 더 큰 값을 취합니다.\n",
    "loss = np.maximum(np.abs(error) - 1.0, \n",
    "                  np.zeros_like(error))\n",
    "\n",
    "fig, ax = plt.subplots(1,1,figsize=(4,3))\n",
    "ax.plot(error, loss)\n",
    "\n",
    "ax.set_xlabel(\"Raw Error\")\n",
    "ax.set_ylabel(\"Hinge Loss\");"
   ]
  },
  {
   "cell_type": "code",
   "execution_count": 14,
   "metadata": {},
   "outputs": [
    {
     "data": {
      "image/png": "[encoded data removed]",
      "text/plain": [
       "<Figure size 288x216 with 1 Axes>"
      ]
     },
     "metadata": {
      "needs_background": "light"
     },
     "output_type": "display_data"
    }
   ],
   "source": [
    "threshold = 2.5\n",
    "\n",
    "xs = np.linspace(-5,5,100)\n",
    "ys_true = 3 * xs + 2\n",
    "\n",
    "fig, ax = plt.subplots(1,1,figsize=(4,3))\n",
    "ax.plot(xs, ys_true)\n",
    "ax.fill_between(xs, ys_true-threshold, ys_true+threshold, \n",
    "                 color=(1.0,0,0,.25))\n",
    "\n",
    "ax.set_xlabel('Input Feature')\n",
    "ax.set_ylabel('Output Target');"
   ]
  },
  {
   "cell_type": "code",
   "execution_count": 15,
   "metadata": {},
   "outputs": [
    {
     "data": {
      "image/png": "[encoded data removed]",
      "text/plain": [
       "<Figure size 288x216 with 1 Axes>"
      ]
     },
     "metadata": {
      "needs_background": "light"
     },
     "output_type": "display_data"
    }
   ],
   "source": [
    "threshold = 2.5\n",
    "\n",
    "xs = np.linspace(-5,5,100)\n",
    "ys = 3 * xs + 2 + np.random.normal(0, 1.5, 100)\n",
    "\n",
    "fig, ax = plt.subplots(1,1,figsize=(4,3))\n",
    "ax.plot(xs, ys, 'o',  color=(0,0,1.0,.5))\n",
    "ax.fill_between(xs, ys_true - threshold, ys_true + threshold, \n",
    "                 color=(1.0,0,0,.25));"
   ]
  },
  {
   "cell_type": "code",
   "execution_count": 16,
   "metadata": {},
   "outputs": [],
   "source": [
    "# 이 시나리오를 위한 하이퍼 파라미터입니다.\n",
    "C, epsilon = 1.0, .25\n",
    "\n",
    "# 파라미터\n",
    "weights = np.array([1.3])"
   ]
  },
  {
   "cell_type": "code",
   "execution_count": 17,
   "metadata": {},
   "outputs": [],
   "source": [
    "# 예측, 오차, 손실\n",
    "predictions = rdot(weights, xs.reshape(-1, 1))\n",
    "errors = ys - predictions\n",
    "\n",
    "loss_sse   = np.sum(errors ** 2)\n",
    "loss_sae   = np.sum(np.abs(errors))\n",
    "loss_hinge = np.sum(np.max(np.abs(errors) - epsilon, 0))"
   ]
  },
  {
   "cell_type": "code",
   "execution_count": 18,
   "metadata": {},
   "outputs": [],
   "source": [
    "# 정규화에 사용하는 복잡도 페널티\n",
    "complexity_saw = np.sum(np.abs(weights))\n",
    "complexity_ssw = np.sum(weights**2)"
   ]
  },
  {
   "cell_type": "code",
   "execution_count": 19,
   "metadata": {},
   "outputs": [],
   "source": [
    "# 비용\n",
    "cost_gof_regression   = loss_sse   + 0.0\n",
    "cost_L1pen_regression = loss_sse   + C * complexity_saw\n",
    "cost_L2pen_regression = loss_sse   + C * complexity_ssw\n",
    "cost_sv_regression    = loss_hinge + C * complexity_ssw"
   ]
  },
  {
   "cell_type": "code",
   "execution_count": 20,
   "metadata": {},
   "outputs": [
    {
     "name": "stdout",
     "output_type": "stream",
     "text": [
      "5516.346206774444\n",
      "5527.520141195904\n"
     ]
    }
   ],
   "source": [
    "svrs = [svm.SVR(gamma='auto'),   # 기본 epsilon=0.1 \n",
    "        svm.NuSVR(gamma='auto')] # 기본 nu=0.5\n",
    "\n",
    "for model in svrs:\n",
    "    preds = (model.fit(diabetes_train_ftrs, diabetes_train_tgt)\n",
    "                  .predict(diabetes_test_ftrs))\n",
    "    print(metrics.mean_squared_error(diabetes_test_tgt, preds))"
   ]
  },
  {
   "cell_type": "code",
   "execution_count": 21,
   "metadata": {},
   "outputs": [
    {
     "data": {
      "image/png": "[encoded data removed]",
      "text/plain": [
       "<Figure size 288x216 with 1 Axes>"
      ]
     },
     "metadata": {
      "needs_background": "light"
     },
     "output_type": "display_data"
    }
   ],
   "source": [
    "raw_bill = np.linspace(.5, 10.0, 100)\n",
    "collected = np.round(raw_bill)\n",
    "\n",
    "fig, ax = plt.subplots(1,1,figsize=(4,3))\n",
    "ax.plot(raw_bill, collected, '.')\n",
    "ax.set_xlabel(\"raw cost\")\n",
    "ax.set_ylabel(\"bill\");"
   ]
  },
  {
   "cell_type": "code",
   "execution_count": 22,
   "metadata": {},
   "outputs": [
    {
     "data": {
      "image/png": "[encoded data removed]",
      "text/plain": [
       "<Figure size 288x216 with 1 Axes>"
      ]
     },
     "metadata": {
      "needs_background": "light"
     },
     "output_type": "display_data"
    }
   ],
   "source": [
    "fig, ax = plt.subplots(1,1,figsize=(4,3))\n",
    "ax.plot([0,3],   [0,0],\n",
    "        [3,8],   [5,5],\n",
    "        [8,12],  [2,2],\n",
    "        [12,15], [9,9])\n",
    "ax.set_xticks([3,8,12]);"
   ]
  },
  {
   "cell_type": "code",
   "execution_count": 23,
   "metadata": {},
   "outputs": [],
   "source": [
    "from sklearn.base import BaseEstimator, RegressorMixin\n",
    "from sklearn.utils.validation import (check_X_y, \n",
    "                                      check_array, \n",
    "                                      check_is_fitted)\n",
    "\n",
    "class PiecewiseConstantRegression(BaseEstimator, RegressorMixin):\n",
    "    def __init__(self, cut_points=None):\n",
    "        self.cut_points = cut_points\n",
    "\n",
    "    def fit(self, X, y):\n",
    "        X, y = check_X_y(X,y)\n",
    "        assert X.shape[1] == 1 # 특성 하나만 허용합니다.\n",
    "        \n",
    "        if self.cut_points is None:\n",
    "            n = (len(X) // 10) + 1\n",
    "            qtiles = np.linspace(0.0, 1.0, n+2)[1:-1]\n",
    "            self.cut_points =  np.percentile(X, qtiles, axis=1)\n",
    "        else:\n",
    "            # 분기점이 제대로 정렬되어있는지, X의 범위안에 있는지 확인합니다.\n",
    "            assert np.all(self.cut_points[:-1] < self.cut_points[1:])\n",
    "            assert (X.min() < self.cut_points[0] and \n",
    "                    self.cut_points[-1] < X.max())\n",
    "\n",
    "        recoded_X = self._recode(X)\n",
    "        # _inner 모델은 인터셉트 없이 학습하지만, \n",
    "        # 우리의 조각별 모델은 상수 항을 가지고 있습니다. (노트를 참조하세요)\n",
    "        self.coeffs_ = (linear_model.LinearRegression(fit_intercept=False)\n",
    "                                    .fit(recoded_X, y).coef_)\n",
    "    def _recode(self, X):\n",
    "        cp = self.cut_points\n",
    "        n_pieces = len(cp) + 1\n",
    "        recoded_X = np.eye(n_pieces)[np.searchsorted(cp, X.flat)]\n",
    "        return recoded_X\n",
    "    \n",
    "    def predict(self, X):\n",
    "        check_is_fitted(self, 'coeffs_')\n",
    "        X = check_array(X) \n",
    "        recoded_X = self._recode(X)\n",
    "        return rdot(self.coeffs_, recoded_X)"
   ]
  },
  {
   "cell_type": "code",
   "execution_count": 24,
   "metadata": {},
   "outputs": [
    {
     "data": {
      "image/png": "[encoded data removed]",
      "text/plain": [
       "<Figure size 288x216 with 1 Axes>"
      ]
     },
     "metadata": {
      "needs_background": "light"
     },
     "output_type": "display_data"
    }
   ],
   "source": [
    "ftr = np.random.randint(0,10,(100,1)).astype(np.float64)\n",
    "cp = np.array([3,7])\n",
    "tgt = np.searchsorted(cp, ftr.flat) + 1\n",
    "\n",
    "fig, ax = plt.subplots(1,1,figsize=(4,3))\n",
    "ax.plot(ftr, tgt, '.');"
   ]
  },
  {
   "cell_type": "code",
   "execution_count": 25,
   "metadata": {},
   "outputs": [
    {
     "name": "stdout",
     "output_type": "stream",
     "text": [
      "Predictions equal target? True\n"
     ]
    }
   ],
   "source": [
    "# 데이터를 만드는데 사용했던 분할점을 그대로 사용합니다.\n",
    "model = PiecewiseConstantRegression(cut_points=np.array([3, 7]))\n",
    "model.fit(ftr, tgt)\n",
    "preds = model.predict(ftr)\n",
    "print(\"Predictions equal target?\", np.allclose(preds, tgt))"
   ]
  },
  {
   "cell_type": "code",
   "execution_count": 26,
   "metadata": {},
   "outputs": [
    {
     "name": "stdout",
     "output_type": "stream",
     "text": [
      "DecisionTreeRegressor  1 4341\n",
      "DecisionTreeRegressor  3 3593\n",
      "DecisionTreeRegressor  5 4312\n",
      "DecisionTreeRegressor 10 5190\n"
     ]
    }
   ],
   "source": [
    "dtrees = [tree.DecisionTreeRegressor(max_depth=md) for md in [1, 3, 5, 10]]\n",
    "\n",
    "for model in dtrees:\n",
    "    preds = (model.fit(diabetes_train_ftrs, diabetes_train_tgt)\n",
    "                  .predict(diabetes_test_ftrs))\n",
    "    mse = metrics.mean_squared_error(diabetes_test_tgt, preds)\n",
    "    fmt = \"{} {:2d} {:4.0f}\"\n",
    "    print(fmt.format(get_model_name(model),\n",
    "                     model.get_params()['max_depth'],\n",
    "                     mse))"
   ]
  },
  {
   "cell_type": "code",
   "execution_count": 27,
   "metadata": {},
   "outputs": [],
   "source": [
    "student_df = pd.read_csv('data/portugese_student_numeric.csv')\n",
    "student_ftrs = student_df[student_df.columns[:-1]]\n",
    "student_tgt  = student_df['G3']"
   ]
  },
  {
   "cell_type": "code",
   "execution_count": 28,
   "metadata": {},
   "outputs": [],
   "source": [
    "student_tts = skms.train_test_split(student_ftrs, student_tgt)\n",
    "\n",
    "(student_train_ftrs, student_test_ftrs,\n",
    " student_train_tgt,  student_test_tgt) = student_tts"
   ]
  },
  {
   "cell_type": "code",
   "execution_count": 29,
   "metadata": {},
   "outputs": [],
   "source": [
    "old_school = [linear_model.LinearRegression(),\n",
    "              neighbors.KNeighborsRegressor(n_neighbors=3),\n",
    "              neighbors.KNeighborsRegressor(n_neighbors=10)]"
   ]
  },
  {
   "cell_type": "code",
   "execution_count": 30,
   "metadata": {},
   "outputs": [],
   "source": [
    "# L1, L2 정규화를 사용합니다. 둘다 C=1.0을 적용합니다.\n",
    "penalized_lr = [linear_model.Lasso(), \n",
    "                linear_model.Ridge()]\n",
    "\n",
    "# 기본 설정을 사용합니다. epsilon=.1 & nu=.5\n",
    "svrs = [svm.SVR(), svm.NuSVR()] \n",
    "\n",
    "dtrees = [tree.DecisionTreeRegressor(max_depth=md) for md in [1, 3, 5, 10]]\n",
    "\n",
    "reg_models = old_school + penalized_lr + svrs + dtrees"
   ]
  },
  {
   "cell_type": "code",
   "execution_count": 31,
   "metadata": {},
   "outputs": [],
   "source": [
    "def rms_error(actual, predicted):\n",
    "    ' 평균 오차 제곱근 함수 (RMSE) '\n",
    "    # 작은 값이 더 좋습니다.\n",
    "    mse = metrics.mean_squared_error(actual, predicted)    \n",
    "    return np.sqrt(mse)\n",
    "rms_scorer = metrics.make_scorer(rms_error)"
   ]
  },
  {
   "cell_type": "code",
   "execution_count": 32,
   "metadata": {},
   "outputs": [
    {
     "data": {
      "text/html": [
       "<div>\n",
       "<style scoped>\n",
       "    .dataframe tbody tr th:only-of-type {\n",
       "        vertical-align: middle;\n",
       "    }\n",
       "\n",
       "    .dataframe tbody tr th {\n",
       "        vertical-align: top;\n",
       "    }\n",
       "\n",
       "    .dataframe thead th {\n",
       "        text-align: right;\n",
       "    }\n",
       "</style>\n",
       "<table border=\"1\" class=\"dataframe\">\n",
       "  <thead>\n",
       "    <tr style=\"text-align: right;\">\n",
       "      <th></th>\n",
       "      <th>RMSE</th>\n",
       "    </tr>\n",
       "  </thead>\n",
       "  <tbody>\n",
       "    <tr>\n",
       "      <th>DecisionTreeRegressor1</th>\n",
       "      <td>4.3192</td>\n",
       "    </tr>\n",
       "    <tr>\n",
       "      <th>Ridge</th>\n",
       "      <td>4.3646</td>\n",
       "    </tr>\n",
       "    <tr>\n",
       "      <th>LinearRegression</th>\n",
       "      <td>4.3653</td>\n",
       "    </tr>\n",
       "    <tr>\n",
       "      <th>NuSVR</th>\n",
       "      <td>4.3896</td>\n",
       "    </tr>\n",
       "    <tr>\n",
       "      <th>SVR</th>\n",
       "      <td>4.4062</td>\n",
       "    </tr>\n",
       "    <tr>\n",
       "      <th>DecisionTreeRegressor3</th>\n",
       "      <td>4.4298</td>\n",
       "    </tr>\n",
       "    <tr>\n",
       "      <th>Lasso</th>\n",
       "      <td>4.4375</td>\n",
       "    </tr>\n",
       "    <tr>\n",
       "      <th>KNeighborsRegressor10</th>\n",
       "      <td>4.4873</td>\n",
       "    </tr>\n",
       "    <tr>\n",
       "      <th>DecisionTreeRegressor5</th>\n",
       "      <td>4.7410</td>\n",
       "    </tr>\n",
       "    <tr>\n",
       "      <th>KNeighborsRegressor3</th>\n",
       "      <td>4.8915</td>\n",
       "    </tr>\n",
       "    <tr>\n",
       "      <th>DecisionTreeRegressor10</th>\n",
       "      <td>5.3526</td>\n",
       "    </tr>\n",
       "  </tbody>\n",
       "</table>\n",
       "</div>"
      ],
      "text/latex": [
       "{\\centering\n",
       "\\begin{tabular}{lr}\n",
       "\\toprule\n",
       "{} &                 RMSE \\\\\n",
       "\\midrule\n",
       "DecisionTreeRegressor1  &               4.3192 \\\\\n",
       "Ridge                   &               4.3646 \\\\\n",
       "LinearRegression        &               4.3653 \\\\\n",
       "NuSVR                   &               4.3896 \\\\\n",
       "SVR                     &               4.4062 \\\\\n",
       "DecisionTreeRegressor3  &               4.4298 \\\\\n",
       "Lasso                   &               4.4375 \\\\\n",
       "KNeighborsRegressor10   &               4.4873 \\\\\n",
       "DecisionTreeRegressor5  &               4.7410 \\\\\n",
       "KNeighborsRegressor3    &               4.8915 \\\\\n",
       "DecisionTreeRegressor10 &               5.3526 \\\\\n",
       "\\bottomrule\n",
       "\\end{tabular}\n",
       "\n",
       "\\medskip}"
      ],
      "text/plain": [
       "                                        RMSE\n",
       "DecisionTreeRegressor1                4.3192\n",
       "Ridge                                 4.3646\n",
       "LinearRegression                      4.3653\n",
       "NuSVR                                 4.3896\n",
       "SVR                                   4.4062\n",
       "DecisionTreeRegressor3                4.4298\n",
       "Lasso                                 4.4375\n",
       "KNeighborsRegressor10                 4.4873\n",
       "DecisionTreeRegressor5                4.7410\n",
       "KNeighborsRegressor3                  4.8915\n",
       "DecisionTreeRegressor10               5.3526"
      ]
     },
     "metadata": {},
     "output_type": "display_data"
    }
   ],
   "source": [
    "scaler = skpre.StandardScaler()\n",
    "\n",
    "scores = {}\n",
    "for model in reg_models:\n",
    "    pipe = pipeline.make_pipeline(scaler, model)\n",
    "    preds = skms.cross_val_predict(pipe, \n",
    "                                   student_ftrs, student_tgt, \n",
    "                                   cv=10)\n",
    "    key = (get_model_name(model) + \n",
    "           str(model.get_params().get('max_depth', \"\")) + \n",
    "           str(model.get_params().get('n_neighbors', \"\")))\n",
    "    scores[key] = rms_error(student_tgt, preds)\n",
    "\n",
    "df = pd.DataFrame.from_dict(scores, orient='index').sort_values(0)\n",
    "df.columns=['RMSE']\n",
    "display(df)"
   ]
  },
  {
   "cell_type": "code",
   "execution_count": 33,
   "metadata": {},
   "outputs": [
    {
     "data": {
      "image/png": "[encoded data removed]",
      "text/plain": [
       "<Figure size 576x288 with 1 Axes>"
      ]
     },
     "metadata": {
      "needs_background": "light"
     },
     "output_type": "display_data"
    }
   ],
   "source": [
    "better_models = [tree.DecisionTreeRegressor(max_depth=1),\n",
    "                 linear_model.Ridge(),\n",
    "                 linear_model.LinearRegression(),\n",
    "                 svm.NuSVR()]\n",
    "\n",
    "fig, ax = plt.subplots(1, 1, figsize=(8,4))\n",
    "for model in better_models:\n",
    "    pipe = pipeline.make_pipeline(scaler, model)    \n",
    "    cv_results = skms.cross_val_score(pipe, \n",
    "                                      student_ftrs, student_tgt, \n",
    "                                      scoring = rms_scorer, \n",
    "                                      cv=10)\n",
    "\n",
    "    my_lbl = \"{:s} ({:5.3f}$\\pm${:.2f})\".format(get_model_name(model), \n",
    "                                                cv_results.mean(), \n",
    "                                                cv_results.std())\n",
    "    ax.plot(cv_results, 'o--', label=my_lbl)\n",
    "    ax.set_xlabel('CV-Fold #')\n",
    "    ax.set_ylabel(\"RMSE\")\n",
    "    ax.legend()"
   ]
  }
 ],
 "metadata": {
  "kernelspec": {
   "display_name": "Python 3",
   "language": "python",
   "name": "python3"
  },
  "language_info": {
   "codemirror_mode": {
    "name": "ipython",
    "version": 3
   },
   "file_extension": ".py",
   "mimetype": "text/x-python",
   "name": "python",
   "nbconvert_exporter": "python",
   "pygments_lexer": "ipython3",
   "version": "3.7.7"
  }
 },
 "nbformat": 4,
 "nbformat_minor": 2
}
