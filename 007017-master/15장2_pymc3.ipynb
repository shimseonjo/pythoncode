{
 "cells": [
  {
   "cell_type": "code",
   "execution_count": 1,
   "metadata": {},
   "outputs": [],
   "source": [
    "from mlwpy import *\n",
    "import pymc3 as pm\n",
    "\n",
    "# 너무 많은 내용을 출력하지 않도록 설정합니다.\n",
    "import logging\n",
    "pymc3_log = logging.getLogger('pymc3')\n",
    "pymc3_log.setLevel(2**20)"
   ]
  },
  {
   "cell_type": "code",
   "execution_count": 2,
   "metadata": {},
   "outputs": [
    {
     "data": {
      "text/html": [
       "<div>\n",
       "<style scoped>\n",
       "    .dataframe tbody tr th:only-of-type {\n",
       "        vertical-align: middle;\n",
       "    }\n",
       "\n",
       "    .dataframe tbody tr th {\n",
       "        vertical-align: top;\n",
       "    }\n",
       "\n",
       "    .dataframe thead th {\n",
       "        text-align: right;\n",
       "    }\n",
       "</style>\n",
       "<table border=\"1\" class=\"dataframe\">\n",
       "  <thead>\n",
       "    <tr style=\"text-align: right;\">\n",
       "      <th></th>\n",
       "      <th>ftr_1</th>\n",
       "      <th>ones</th>\n",
       "      <th>tgt</th>\n",
       "    </tr>\n",
       "  </thead>\n",
       "  <tbody>\n",
       "    <tr>\n",
       "      <th>0</th>\n",
       "      <td>0.0000</td>\n",
       "      <td>1.0000</td>\n",
       "      <td>2.0000</td>\n",
       "    </tr>\n",
       "    <tr>\n",
       "      <th>1</th>\n",
       "      <td>1.0000</td>\n",
       "      <td>1.0000</td>\n",
       "      <td>5.0000</td>\n",
       "    </tr>\n",
       "    <tr>\n",
       "      <th>2</th>\n",
       "      <td>2.0000</td>\n",
       "      <td>1.0000</td>\n",
       "      <td>8.0000</td>\n",
       "    </tr>\n",
       "  </tbody>\n",
       "</table>\n",
       "</div>"
      ],
      "text/latex": [
       "{\\centering\n",
       "\\begin{tabular}{lrrr}\n",
       "\\toprule\n",
       "{} &                ftr\\_1 &                 ones &                  tgt \\\\\n",
       "\\midrule\n",
       "0 &               0.0000 &               1.0000 &               2.0000 \\\\\n",
       "1 &               1.0000 &               1.0000 &               5.0000 \\\\\n",
       "2 &               2.0000 &               1.0000 &               8.0000 \\\\\n",
       "\\bottomrule\n",
       "\\end{tabular}\n",
       "\n",
       "\\medskip}"
      ],
      "text/plain": [
       "                 ftr_1                 ones                  tgt\n",
       "0               0.0000               1.0000               2.0000\n",
       "1               1.0000               1.0000               5.0000\n",
       "2               2.0000               1.0000               8.0000"
      ]
     },
     "execution_count": 2,
     "metadata": {},
     "output_type": "execute_result"
    }
   ],
   "source": [
    "# 새로운 노트북이므로, 이전에 작업하던 데이터를 다시 만들어줍니다.\n",
    "linreg_ftrs_p1 = np.c_[np.arange(10), np.ones(10)] # +1 트릭\n",
    "\n",
    "true_wgts  = m,b = w_1, w_0 = 3,2\n",
    "linreg_tgt = rdot(true_wgts, linreg_ftrs_p1)\n",
    "\n",
    "linreg_table = pd.DataFrame(linreg_ftrs_p1, \n",
    "                            columns=['ftr_1', 'ones'])\n",
    "linreg_table['tgt'] = linreg_tgt\n",
    "linreg_table[:3]"
   ]
  },
  {
   "cell_type": "code",
   "execution_count": 3,
   "metadata": {},
   "outputs": [
    {
     "data": {
      "text/html": [
       "<div>\n",
       "<style scoped>\n",
       "    .dataframe tbody tr th:only-of-type {\n",
       "        vertical-align: middle;\n",
       "    }\n",
       "\n",
       "    .dataframe tbody tr th {\n",
       "        vertical-align: top;\n",
       "    }\n",
       "\n",
       "    .dataframe thead th {\n",
       "        text-align: right;\n",
       "    }\n",
       "</style>\n",
       "<table border=\"1\" class=\"dataframe\">\n",
       "  <thead>\n",
       "    <tr style=\"text-align: right;\">\n",
       "      <th></th>\n",
       "      <th>ftr_1</th>\n",
       "      <th>ones</th>\n",
       "      <th>tgt</th>\n",
       "    </tr>\n",
       "  </thead>\n",
       "  <tbody>\n",
       "    <tr>\n",
       "      <th>0</th>\n",
       "      <td>8.7454</td>\n",
       "      <td>1.0000</td>\n",
       "      <td>1</td>\n",
       "    </tr>\n",
       "    <tr>\n",
       "      <th>1</th>\n",
       "      <td>14.5071</td>\n",
       "      <td>1.0000</td>\n",
       "      <td>0</td>\n",
       "    </tr>\n",
       "    <tr>\n",
       "      <th>2</th>\n",
       "      <td>12.3199</td>\n",
       "      <td>1.0000</td>\n",
       "      <td>0</td>\n",
       "    </tr>\n",
       "    <tr>\n",
       "      <th>3</th>\n",
       "      <td>10.9866</td>\n",
       "      <td>1.0000</td>\n",
       "      <td>0</td>\n",
       "    </tr>\n",
       "    <tr>\n",
       "      <th>4</th>\n",
       "      <td>6.5602</td>\n",
       "      <td>1.0000</td>\n",
       "      <td>1</td>\n",
       "    </tr>\n",
       "  </tbody>\n",
       "</table>\n",
       "</div>"
      ],
      "text/latex": [
       "{\\centering\n",
       "\\begin{tabular}{lrrr}\n",
       "\\toprule\n",
       "{} &                ftr\\_1 &                 ones &  tgt \\\\\n",
       "\\midrule\n",
       "0 &               8.7454 &               1.0000 &    1 \\\\\n",
       "1 &              14.5071 &               1.0000 &    0 \\\\\n",
       "2 &              12.3199 &               1.0000 &    0 \\\\\n",
       "3 &              10.9866 &               1.0000 &    0 \\\\\n",
       "4 &               6.5602 &               1.0000 &    1 \\\\\n",
       "\\bottomrule\n",
       "\\end{tabular}\n",
       "\n",
       "\\medskip}"
      ],
      "text/plain": [
       "                 ftr_1                 ones  tgt\n",
       "0               8.7454               1.0000    1\n",
       "1              14.5071               1.0000    0\n",
       "2              12.3199               1.0000    0\n",
       "3              10.9866               1.0000    0\n",
       "4               6.5602               1.0000    1"
      ]
     },
     "metadata": {},
     "output_type": "display_data"
    }
   ],
   "source": [
    "logreg_ftr = np.random.uniform(5,15, size=(100,))\n",
    "\n",
    "true_wgts  = m,b = -2, 20\n",
    "line_of_logodds = m*logreg_ftr + b\n",
    "prob_at_x = np.exp(line_of_logodds) / (1 + np.exp(line_of_logodds))\n",
    "\n",
    "logreg_tgt = np.random.binomial(1, prob_at_x, len(logreg_ftr))\n",
    "\n",
    "logreg_ftrs_p1 = np.c_[logreg_ftr,\n",
    "                       np.ones_like(logreg_ftr)]\n",
    "\n",
    "logreg_table = pd.DataFrame(logreg_ftrs_p1, \n",
    "                            columns=['ftr_1','ones'])\n",
    "logreg_table['tgt'] = logreg_tgt\n",
    "display(logreg_table.head())"
   ]
  },
  {
   "cell_type": "code",
   "execution_count": 4,
   "metadata": {},
   "outputs": [],
   "source": [
    "with pm.Model() as model:\n",
    "    # 우리가 아직 모르는 것들을 추측하기 위해\n",
    "    # 분포를 설정하는 템플릿입니다.\n",
    "    sd      = pm.HalfNormal('sd', sd=1)\n",
    "    intercept  = pm.Normal('Intercept', 0, sd=20)\n",
    "    ftr_1_wgt  = pm.Normal('ftr_1_wgt', 0, sd=20)\n",
    "\n",
    "    # 초기 추측과 입력 데이터를 통해 결과를 출력합니다.\n",
    "    # 이는 y = m x + b의 형태입니다.\n",
    "    preds = ftr_1_wgt * linreg_table['ftr_1'] + intercept \n",
    "\n",
    "    # 추측과 입력 데이터, 실제 출력간의 관계\n",
    "    # target = preds + noise(sd)  (noise == 오차 허용 범위)\n",
    "    target = pm.Normal('tgt', \n",
    "                       mu=preds, sd=sd, \n",
    "                       observed=linreg_table['tgt'])\n",
    "\n",
    "    linreg_trace = pm.sample(1000, progressbar=False)"
   ]
  },
  {
   "cell_type": "code",
   "execution_count": 5,
   "metadata": {},
   "outputs": [
    {
     "data": {
      "text/html": [
       "<div>\n",
       "<style scoped>\n",
       "    .dataframe tbody tr th:only-of-type {\n",
       "        vertical-align: middle;\n",
       "    }\n",
       "\n",
       "    .dataframe tbody tr th {\n",
       "        vertical-align: top;\n",
       "    }\n",
       "\n",
       "    .dataframe thead th {\n",
       "        text-align: right;\n",
       "    }\n",
       "</style>\n",
       "<table border=\"1\" class=\"dataframe\">\n",
       "  <thead>\n",
       "    <tr style=\"text-align: right;\">\n",
       "      <th></th>\n",
       "      <th>mean</th>\n",
       "    </tr>\n",
       "  </thead>\n",
       "  <tbody>\n",
       "    <tr>\n",
       "      <th>Intercept</th>\n",
       "      <td>2.0000</td>\n",
       "    </tr>\n",
       "    <tr>\n",
       "      <th>ftr_1_wgt</th>\n",
       "      <td>3.0000</td>\n",
       "    </tr>\n",
       "    <tr>\n",
       "      <th>sd</th>\n",
       "      <td>0.0000</td>\n",
       "    </tr>\n",
       "  </tbody>\n",
       "</table>\n",
       "</div>"
      ],
      "text/latex": [
       "{\\centering\n",
       "\\begin{tabular}{lr}\n",
       "\\toprule\n",
       "{} &                 mean \\\\\n",
       "\\midrule\n",
       "Intercept &               2.0000 \\\\\n",
       "ftr\\_1\\_wgt &               3.0000 \\\\\n",
       "sd        &               0.0000 \\\\\n",
       "\\bottomrule\n",
       "\\end{tabular}\n",
       "\n",
       "\\medskip}"
      ],
      "text/plain": [
       "                          mean\n",
       "Intercept               2.0000\n",
       "ftr_1_wgt               3.0000\n",
       "sd                      0.0000"
      ]
     },
     "execution_count": 5,
     "metadata": {},
     "output_type": "execute_result"
    }
   ],
   "source": [
    "pm.summary(linreg_trace)[['mean']]"
   ]
  },
  {
   "cell_type": "code",
   "execution_count": 6,
   "metadata": {},
   "outputs": [
    {
     "data": {
      "text/html": [
       "<div>\n",
       "<style scoped>\n",
       "    .dataframe tbody tr th:only-of-type {\n",
       "        vertical-align: middle;\n",
       "    }\n",
       "\n",
       "    .dataframe tbody tr th {\n",
       "        vertical-align: top;\n",
       "    }\n",
       "\n",
       "    .dataframe thead th {\n",
       "        text-align: right;\n",
       "    }\n",
       "</style>\n",
       "<table border=\"1\" class=\"dataframe\">\n",
       "  <thead>\n",
       "    <tr style=\"text-align: right;\">\n",
       "      <th></th>\n",
       "      <th>mean</th>\n",
       "    </tr>\n",
       "  </thead>\n",
       "  <tbody>\n",
       "    <tr>\n",
       "      <th>Intercept</th>\n",
       "      <td>2.0000</td>\n",
       "    </tr>\n",
       "    <tr>\n",
       "      <th>ftr_1</th>\n",
       "      <td>3.0000</td>\n",
       "    </tr>\n",
       "    <tr>\n",
       "      <th>sd</th>\n",
       "      <td>0.0000</td>\n",
       "    </tr>\n",
       "  </tbody>\n",
       "</table>\n",
       "</div>"
      ],
      "text/latex": [
       "{\\centering\n",
       "\\begin{tabular}{lr}\n",
       "\\toprule\n",
       "{} &                 mean \\\\\n",
       "\\midrule\n",
       "Intercept &               2.0000 \\\\\n",
       "ftr\\_1     &               3.0000 \\\\\n",
       "sd        &               0.0000 \\\\\n",
       "\\bottomrule\n",
       "\\end{tabular}\n",
       "\n",
       "\\medskip}"
      ],
      "text/plain": [
       "                          mean\n",
       "Intercept               2.0000\n",
       "ftr_1                   3.0000\n",
       "sd                      0.0000"
      ]
     },
     "execution_count": 6,
     "metadata": {},
     "output_type": "execute_result"
    }
   ],
   "source": [
    "with pm.Model() as model:\n",
    "    pm.glm.GLM.from_formula('tgt ~ ftr_1', linreg_table,\n",
    "                           family=pm.glm.families.Normal())\n",
    "    linreg_trace = pm.sample(5000, progressbar=False)\n",
    "pm.summary(linreg_trace)[['mean']]"
   ]
  },
  {
   "cell_type": "code",
   "execution_count": 7,
   "metadata": {},
   "outputs": [
    {
     "data": {
      "image/png": "[encoded data removed]",
      "text/plain": [
       "<Figure size 993.6x248.4 with 3 Axes>"
      ]
     },
     "metadata": {
      "needs_background": "light"
     },
     "output_type": "display_data"
    },
    {
     "data": {
      "text/plain": [
       "<Figure size 288x216 with 0 Axes>"
      ]
     },
     "metadata": {},
     "output_type": "display_data"
    }
   ],
   "source": [
    "pm.plots.plot_posterior(linreg_trace)\n",
    "plt.show()"
   ]
  },
  {
   "cell_type": "code",
   "execution_count": 8,
   "metadata": {},
   "outputs": [
    {
     "data": {
      "text/html": [
       "<div>\n",
       "<style scoped>\n",
       "    .dataframe tbody tr th:only-of-type {\n",
       "        vertical-align: middle;\n",
       "    }\n",
       "\n",
       "    .dataframe tbody tr th {\n",
       "        vertical-align: top;\n",
       "    }\n",
       "\n",
       "    .dataframe thead th {\n",
       "        text-align: right;\n",
       "    }\n",
       "</style>\n",
       "<table border=\"1\" class=\"dataframe\">\n",
       "  <thead>\n",
       "    <tr style=\"text-align: right;\">\n",
       "      <th></th>\n",
       "      <th>mean</th>\n",
       "    </tr>\n",
       "  </thead>\n",
       "  <tbody>\n",
       "    <tr>\n",
       "      <th>Intercept</th>\n",
       "      <td>22.6680</td>\n",
       "    </tr>\n",
       "    <tr>\n",
       "      <th>ftr_1</th>\n",
       "      <td>-2.2550</td>\n",
       "    </tr>\n",
       "  </tbody>\n",
       "</table>\n",
       "</div>"
      ],
      "text/latex": [
       "{\\centering\n",
       "\\begin{tabular}{lr}\n",
       "\\toprule\n",
       "{} &                 mean \\\\\n",
       "\\midrule\n",
       "Intercept &              22.6680 \\\\\n",
       "ftr\\_1     &              -2.2550 \\\\\n",
       "\\bottomrule\n",
       "\\end{tabular}\n",
       "\n",
       "\\medskip}"
      ],
      "text/plain": [
       "                          mean\n",
       "Intercept              22.6680\n",
       "ftr_1                  -2.2550"
      ]
     },
     "execution_count": 8,
     "metadata": {},
     "output_type": "execute_result"
    }
   ],
   "source": [
    "with pm.Model() as model:\n",
    "    pm.glm.GLM.from_formula('tgt ~ ftr_1', logreg_table, \n",
    "                            family=pm.glm.families.Binomial())\n",
    "    logreg_trace = pm.sample(10000, progressbar=False)\n",
    "pm.summary(logreg_trace)[['mean']]"
   ]
  },
  {
   "cell_type": "code",
   "execution_count": 9,
   "metadata": {},
   "outputs": [
    {
     "data": {
      "image/png": "[encoded data removed]",
      "text/plain": [
       "<Figure size 288x288 with 3 Axes>"
      ]
     },
     "metadata": {
      "needs_background": "light"
     },
     "output_type": "display_data"
    }
   ],
   "source": [
    "%matplotlib inline\n",
    "\n",
    "df_trace = pm.trace_to_dataframe(logreg_trace)\n",
    "sns.jointplot('ftr_1', 'Intercept', data=df_trace, \n",
    "              kind='kde', stat_func=None, height=4);"
   ]
  }
 ],
 "metadata": {
  "kernelspec": {
   "display_name": "book_base",
   "language": "python",
   "name": "book_base"
  },
  "language_info": {
   "codemirror_mode": {
    "name": "ipython",
    "version": 3
   },
   "file_extension": ".py",
   "mimetype": "text/x-python",
   "name": "python",
   "nbconvert_exporter": "python",
   "pygments_lexer": "ipython3",
   "version": "3.7.7"
  }
 },
 "nbformat": 4,
 "nbformat_minor": 2
}
