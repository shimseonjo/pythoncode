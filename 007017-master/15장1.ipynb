{
 "cells": [
  {
   "cell_type": "code",
   "execution_count": 31,
   "metadata": {},
   "outputs": [],
   "source": [
    "from mlwpy import *\n",
    "\n",
    "# TensorFlow 경고 메시지가 출력되지 않도록 설정합니다.\n",
    "import tensorflow as tf\n",
    "tf.logging.set_verbosity(tf.logging.ERROR)"
   ]
  },
  {
   "cell_type": "code",
   "execution_count": 32,
   "metadata": {},
   "outputs": [
    {
     "data": {
      "image/png": "[encoded data removed]",
      "text/plain": [
       "<Figure size 288x216 with 1 Axes>"
      ]
     },
     "metadata": {
      "needs_background": "light"
     },
     "output_type": "display_data"
    }
   ],
   "source": [
    "xs = np.linspace(-5,5)\n",
    "ys = xs**2\n",
    "\n",
    "fig, ax = plt.subplots(figsize=(4,3))\n",
    "ax.plot(xs, ys)\n",
    "\n",
    "# 아래와 같이 간결하게 쓸 수도 있습니다: \n",
    "# pt = co.namedtuple('Point', ['x', 'y'])(3,3**2)\n",
    "pt_x, pt_y = 3, 3**2\n",
    "ax.plot(pt_x, pt_y, 'ro')\n",
    "\n",
    "line_xs = pt_x + np.array([-2, 2])\n",
    "# line ys = mid_point + (x amount) * slope_of_line\n",
    "# 오른쪽으로 한걸음만 가면 “직선의 기울기”의 한 단위만큼 비용이 증가합니다.\n",
    "line_ys = 3**2 + (line_xs - pt_x) * (2 * pt_x) \n",
    "ax.plot(line_xs, line_ys, 'r-')\n",
    "ax.set_xlabel('weight')\n",
    "ax.set_ylabel('cost');"
   ]
  },
  {
   "cell_type": "code",
   "execution_count": 33,
   "metadata": {},
   "outputs": [
    {
     "name": "stdout",
     "output_type": "stream",
     "text": [
      "Appoximate location of blue graph minimum: 0.0029296875\n"
     ]
    },
    {
     "data": {
      "image/png": "[encoded data removed]",
      "text/plain": [
       "<Figure size 288x216 with 1 Axes>"
      ]
     },
     "metadata": {
      "needs_background": "light"
     },
     "output_type": "display_data"
    }
   ],
   "source": [
    "weights = np.linspace(-5,5)\n",
    "costs   = weights**2\n",
    "\n",
    "fig, ax = plt.subplots(figsize=(4,3))\n",
    "ax.plot(weights, costs, 'b')\n",
    "\n",
    "# 최소점에 대한 현재 시점의 추측\n",
    "weight_min = 3\n",
    "\n",
    "# 시작점에서부터 내리막길을 따라갑니다.\n",
    "# 그리고 파란색 그래프에서 가중치 값이 가장 작아지는 지점을 찾아냅니다. \n",
    "for i in range(10):\n",
    "    # 현재 가중치로부터 비용을 계산합니다.\n",
    "    cost_at_min = weight_min**2\n",
    "    ax.plot(weight_min, cost_at_min, 'ro')\n",
    "\n",
    "    # 그리고 미분을 이용해 기울기를 구할 수 있습니다.\n",
    "    slope_at_min = 2*weight_min\n",
    "    \n",
    "    # 내리막길을 조금 내려가서 다음 가중치를 구합니다.\n",
    "    step_size = .25\n",
    "    weight_min = weight_min - step_size * slope_at_min\n",
    "\n",
    "ax.set_xlabel('weight value')\n",
    "ax.set_ylabel('cost')\n",
    "print(\"Appoximate location of blue graph minimum:\", weight_min)"
   ]
  },
  {
   "cell_type": "code",
   "execution_count": 34,
   "metadata": {},
   "outputs": [
    {
     "data": {
      "text/plain": [
       "array([-0.])"
      ]
     },
     "execution_count": 34,
     "metadata": {},
     "output_type": "execute_result"
    }
   ],
   "source": [
    "from scipy.optimize import fmin as magical_minimum_finder\n",
    "def f(x):\n",
    "    return x**2\n",
    "\n",
    "magical_minimum_finder(f, [3], disp=False)"
   ]
  },
  {
   "cell_type": "code",
   "execution_count": 35,
   "metadata": {},
   "outputs": [
    {
     "data": {
      "text/html": [
       "<div>\n",
       "<style scoped>\n",
       "    .dataframe tbody tr th:only-of-type {\n",
       "        vertical-align: middle;\n",
       "    }\n",
       "\n",
       "    .dataframe tbody tr th {\n",
       "        vertical-align: top;\n",
       "    }\n",
       "\n",
       "    .dataframe thead th {\n",
       "        text-align: right;\n",
       "    }\n",
       "</style>\n",
       "<table border=\"1\" class=\"dataframe\">\n",
       "  <thead>\n",
       "    <tr style=\"text-align: right;\">\n",
       "      <th></th>\n",
       "      <th>ftr_1</th>\n",
       "      <th>ones</th>\n",
       "      <th>tgt</th>\n",
       "    </tr>\n",
       "  </thead>\n",
       "  <tbody>\n",
       "    <tr>\n",
       "      <th>0</th>\n",
       "      <td>0.0000</td>\n",
       "      <td>1.0000</td>\n",
       "      <td>2.0000</td>\n",
       "    </tr>\n",
       "    <tr>\n",
       "      <th>1</th>\n",
       "      <td>1.0000</td>\n",
       "      <td>1.0000</td>\n",
       "      <td>5.0000</td>\n",
       "    </tr>\n",
       "    <tr>\n",
       "      <th>2</th>\n",
       "      <td>2.0000</td>\n",
       "      <td>1.0000</td>\n",
       "      <td>8.0000</td>\n",
       "    </tr>\n",
       "  </tbody>\n",
       "</table>\n",
       "</div>"
      ],
      "text/latex": [
       "{\\centering\n",
       "\\begin{tabular}{lrrr}\n",
       "\\toprule\n",
       "{} &                ftr\\_1 &                 ones &                  tgt \\\\\n",
       "\\midrule\n",
       "0 &               0.0000 &               1.0000 &               2.0000 \\\\\n",
       "1 &               1.0000 &               1.0000 &               5.0000 \\\\\n",
       "2 &               2.0000 &               1.0000 &               8.0000 \\\\\n",
       "\\bottomrule\n",
       "\\end{tabular}\n",
       "\n",
       "\\medskip}"
      ],
      "text/plain": [
       "                 ftr_1                 ones                  tgt\n",
       "0               0.0000               1.0000               2.0000\n",
       "1               1.0000               1.0000               5.0000\n",
       "2               2.0000               1.0000               8.0000"
      ]
     },
     "execution_count": 35,
     "metadata": {},
     "output_type": "execute_result"
    }
   ],
   "source": [
    "linreg_ftrs_p1 = np.c_[np.arange(10), np.ones(10)] # 플러스원 트릭\n",
    "\n",
    "true_wgts  = m,b = w_1, w_0 = 3,2\n",
    "linreg_tgt = rdot(true_wgts, linreg_ftrs_p1)\n",
    "\n",
    "linreg_table = pd.DataFrame(linreg_ftrs_p1, \n",
    "                            columns=['ftr_1', 'ones'])\n",
    "linreg_table['tgt'] = linreg_tgt\n",
    "linreg_table[:3]"
   ]
  },
  {
   "cell_type": "code",
   "execution_count": 36,
   "metadata": {},
   "outputs": [],
   "source": [
    "def linreg_model(weights, ftrs):\n",
    "    return rdot(weights, ftrs)\n",
    "\n",
    "def linreg_loss(predicted, actual):\n",
    "    errors = predicted - actual\n",
    "    return np.dot(errors, errors) # 제곱합\n",
    "\n",
    "def no_penalty(weights):\n",
    "    return 0.0"
   ]
  },
  {
   "cell_type": "code",
   "execution_count": 37,
   "metadata": {},
   "outputs": [],
   "source": [
    "def make_cost(ftrs, tgt, \n",
    "              model_func, loss_func, \n",
    "              c_tradeoff, complexity_penalty):\n",
    "    ' 데이터, 모델, 손실, 페널티로부터 최적화 문제를 만듭니다. '\n",
    "    def cost(weights):\n",
    "        return (loss_func(model_func(weights, ftrs), tgt) + \n",
    "                c_tradeoff * complexity_penalty(weights))\n",
    "    return cost"
   ]
  },
  {
   "cell_type": "code",
   "execution_count": 38,
   "metadata": {},
   "outputs": [
    {
     "name": "stdout",
     "output_type": "stream",
     "text": [
      "   true weights: (3, 2)\n",
      "learned weights: [3. 2.]\n"
     ]
    }
   ],
   "source": [
    "# 선형 회귀 최적화 문제를 설계합니다.\n",
    "linreg_cost = make_cost(linreg_ftrs_p1, linreg_tgt, \n",
    "                        linreg_model, linreg_loss, \n",
    "                        0.0, no_penalty)\n",
    "learned_wgts = magical_minimum_finder(linreg_cost, [5,5], disp=False)\n",
    "\n",
    "print(\"   true weights:\", true_wgts)\n",
    "print(\"learned weights:\", learned_wgts)"
   ]
  },
  {
   "cell_type": "code",
   "execution_count": 39,
   "metadata": {},
   "outputs": [],
   "source": [
    "def L1_penalty(weights):\n",
    "    return np.abs(weights).sum()\n",
    "\n",
    "def L2_penalty(weights):\n",
    "    return np.dot(weights, weights) "
   ]
  },
  {
   "cell_type": "code",
   "execution_count": 40,
   "metadata": {},
   "outputs": [
    {
     "name": "stdout",
     "output_type": "stream",
     "text": [
      "   true weights: (3, 2)\n",
      "learned weights: [3.0212 1.8545]\n"
     ]
    }
   ],
   "source": [
    "# L1 정규화를 사용한 선형 회귀 (라쏘 회귀)\n",
    "linreg_L1_pen_cost = make_cost(linreg_ftrs_p1, linreg_tgt, \n",
    "                               linreg_model, linreg_loss, \n",
    "                               1.0, L1_penalty)\n",
    "learned_wgts = magical_minimum_finder(linreg_L1_pen_cost, [5,5], disp=False)\n",
    "\n",
    "print(\"   true weights:\", true_wgts)\n",
    "print(\"learned weights:\", learned_wgts)"
   ]
  },
  {
   "cell_type": "code",
   "execution_count": 41,
   "metadata": {},
   "outputs": [
    {
     "name": "stdout",
     "output_type": "stream",
     "text": [
      "   true weights: (3, 2)\n",
      "learned weights: [3.0508 1.6102]\n"
     ]
    }
   ],
   "source": [
    "# L2 정규화를 사용한 선형 회귀 (릿지 회귀)\n",
    "linreg_L2_pen_cost = make_cost(linreg_ftrs_p1, linreg_tgt, \n",
    "                               linreg_model, linreg_loss, \n",
    "                               1.0, L2_penalty)\n",
    "learned_wgts = magical_minimum_finder(linreg_L2_pen_cost, [5,5], disp=False)\n",
    "\n",
    "print(\"   true weights:\", true_wgts)\n",
    "print(\"learned weights:\", learned_wgts)"
   ]
  },
  {
   "cell_type": "code",
   "execution_count": 42,
   "metadata": {},
   "outputs": [
    {
     "data": {
      "text/html": [
       "<div>\n",
       "<style scoped>\n",
       "    .dataframe tbody tr th:only-of-type {\n",
       "        vertical-align: middle;\n",
       "    }\n",
       "\n",
       "    .dataframe tbody tr th {\n",
       "        vertical-align: top;\n",
       "    }\n",
       "\n",
       "    .dataframe thead th {\n",
       "        text-align: right;\n",
       "    }\n",
       "</style>\n",
       "<table border=\"1\" class=\"dataframe\">\n",
       "  <thead>\n",
       "    <tr style=\"text-align: right;\">\n",
       "      <th></th>\n",
       "      <th>ftr_1</th>\n",
       "      <th>ones</th>\n",
       "      <th>tgt</th>\n",
       "    </tr>\n",
       "  </thead>\n",
       "  <tbody>\n",
       "    <tr>\n",
       "      <th>0</th>\n",
       "      <td>8.1701</td>\n",
       "      <td>1.0000</td>\n",
       "      <td>1</td>\n",
       "    </tr>\n",
       "    <tr>\n",
       "      <th>1</th>\n",
       "      <td>7.6647</td>\n",
       "      <td>1.0000</td>\n",
       "      <td>1</td>\n",
       "    </tr>\n",
       "    <tr>\n",
       "      <th>2</th>\n",
       "      <td>8.2395</td>\n",
       "      <td>1.0000</td>\n",
       "      <td>1</td>\n",
       "    </tr>\n",
       "    <tr>\n",
       "      <th>3</th>\n",
       "      <td>10.6196</td>\n",
       "      <td>1.0000</td>\n",
       "      <td>1</td>\n",
       "    </tr>\n",
       "    <tr>\n",
       "      <th>4</th>\n",
       "      <td>10.6161</td>\n",
       "      <td>1.0000</td>\n",
       "      <td>0</td>\n",
       "    </tr>\n",
       "  </tbody>\n",
       "</table>\n",
       "</div>"
      ],
      "text/latex": [
       "{\\centering\n",
       "\\begin{tabular}{lrrr}\n",
       "\\toprule\n",
       "{} &                ftr\\_1 &                 ones &  tgt \\\\\n",
       "\\midrule\n",
       "0 &               8.1701 &               1.0000 &    1 \\\\\n",
       "1 &               7.6647 &               1.0000 &    1 \\\\\n",
       "2 &               8.2395 &               1.0000 &    1 \\\\\n",
       "3 &              10.6196 &               1.0000 &    1 \\\\\n",
       "4 &              10.6161 &               1.0000 &    0 \\\\\n",
       "\\bottomrule\n",
       "\\end{tabular}\n",
       "\n",
       "\\medskip}"
      ],
      "text/plain": [
       "                 ftr_1                 ones  tgt\n",
       "0               8.1701               1.0000    1\n",
       "1               7.6647               1.0000    1\n",
       "2               8.2395               1.0000    1\n",
       "3              10.6196               1.0000    1\n",
       "4              10.6161               1.0000    0"
      ]
     },
     "metadata": {},
     "output_type": "display_data"
    }
   ],
   "source": [
    "logreg_ftr = np.random.uniform(5,15, size=(100,))\n",
    "\n",
    "true_wgts  = m,b = -2, 20\n",
    "line_of_logodds = m*logreg_ftr + b\n",
    "prob_at_x = np.exp(line_of_logodds) / (1 + np.exp(line_of_logodds))\n",
    "\n",
    "logreg_tgt = np.random.binomial(1, prob_at_x, len(logreg_ftr))\n",
    "\n",
    "logreg_ftrs_p1 = np.c_[logreg_ftr,\n",
    "                       np.ones_like(logreg_ftr)]\n",
    "\n",
    "logreg_table = pd.DataFrame(logreg_ftrs_p1, \n",
    "                            columns=['ftr_1','ones'])\n",
    "logreg_table['tgt'] = logreg_tgt\n",
    "display(logreg_table.head())"
   ]
  },
  {
   "cell_type": "code",
   "execution_count": 43,
   "metadata": {},
   "outputs": [
    {
     "data": {
      "image/png": "[encoded data removed]",
      "text/plain": [
       "<Figure size 432x288 with 1 Axes>"
      ]
     },
     "metadata": {
      "needs_background": "light"
     },
     "output_type": "display_data"
    }
   ],
   "source": [
    "fig, ax = plt.subplots(figsize=(6,4))\n",
    "ax.plot(logreg_ftr, prob_at_x, 'r.')\n",
    "ax.scatter(logreg_ftr, logreg_tgt, c=logreg_tgt);"
   ]
  },
  {
   "cell_type": "code",
   "execution_count": 44,
   "metadata": {},
   "outputs": [],
   "source": [
    "# 로지스틱 회귀 모델\n",
    "def logreg_model(weights, ftrs):\n",
    "    return rdot(weights, ftrs)\n",
    "\n",
    "def logreg_loss_01(predicted, actual):\n",
    "    # sum(-actual log(predicted) - (1-actual) log(1-predicted))\n",
    "    # 타깃값이 0/1인 경우 다음과 같이 표현할 수 있습니다.\n",
    "    return np.sum(- predicted * actual + np.log(1+np.exp(predicted)))"
   ]
  },
  {
   "cell_type": "code",
   "execution_count": 45,
   "metadata": {},
   "outputs": [
    {
     "name": "stdout",
     "output_type": "stream",
     "text": [
      "   true weights: (-2, 20)\n",
      "learned weights: [-2.3171 24.0075]\n"
     ]
    }
   ],
   "source": [
    "logreg_cost = make_cost(logreg_ftrs_p1, logreg_tgt, \n",
    "                        logreg_model, logreg_loss_01,\n",
    "                        0.0, no_penalty)\n",
    "learned_wgts = magical_minimum_finder(logreg_cost, [5,5], disp=False)\n",
    "\n",
    "print(\"   true weights:\", true_wgts)\n",
    "print(\"learned weights:\", learned_wgts)"
   ]
  },
  {
   "cell_type": "code",
   "execution_count": 46,
   "metadata": {},
   "outputs": [
    {
     "name": "stdout",
     "output_type": "stream",
     "text": [
      "   true weights: (-2, 20)\n",
      "learned weights: [-1.3268 13.8411]\n"
     ]
    }
   ],
   "source": [
    "# 페널티를 적용한 로지스틱 회귀\n",
    "logreg_pen_cost = make_cost(logreg_ftrs_p1, logreg_tgt, \n",
    "                            logreg_model, logreg_loss_01, \n",
    "                            0.5, L1_penalty)\n",
    "learned_wgts = magical_minimum_finder(logreg_pen_cost, [5,5], disp=False)\n",
    "print(\"   true weights:\", true_wgts)\n",
    "print(\"learned weights:\", learned_wgts)"
   ]
  },
  {
   "cell_type": "code",
   "execution_count": 47,
   "metadata": {},
   "outputs": [
    {
     "data": {
      "text/plain": [
       "(-1, 1)"
      ]
     },
     "execution_count": 47,
     "metadata": {},
     "output_type": "execute_result"
    }
   ],
   "source": [
    "def binary_to_pm1(b):\n",
    "    ' {0,1} 또는 {False,True}을 {-1, +1}에 매핑합니다. '\n",
    "    return (b*2)-1\n",
    "binary_to_pm1(0), binary_to_pm1(1)"
   ]
  },
  {
   "cell_type": "code",
   "execution_count": 48,
   "metadata": {},
   "outputs": [],
   "source": [
    "# 로지스틱 회귀\n",
    "def logreg_model(weights, ftrs):\n",
    "    return rdot(weights, ftrs)\n",
    "\n",
    "def logreg_loss_pm1(predicted, actual):\n",
    "    # -actual log(predicted) - (1-actual) log(1-predicted)\n",
    "    # -1/+1 타깃을 적용하면 수식은 다음과 같습니다.\n",
    "    return np.sum(np.log(1+np.exp(-predicted*actual)))"
   ]
  },
  {
   "cell_type": "code",
   "execution_count": 49,
   "metadata": {},
   "outputs": [
    {
     "name": "stdout",
     "output_type": "stream",
     "text": [
      "   true weights: (-2, 20)\n",
      "learned weights: [-2.3171 24.0075]\n"
     ]
    }
   ],
   "source": [
    "logreg_cost = make_cost(logreg_ftrs_p1, binary_to_pm1(logreg_tgt), \n",
    "                        logreg_model, logreg_loss_pm1,\n",
    "                        0.0, no_penalty)\n",
    "learned_wgts = magical_minimum_finder(logreg_cost, [5,5], disp=False)\n",
    "\n",
    "print(\"   true weights:\", true_wgts)\n",
    "print(\"learned weights:\", learned_wgts)"
   ]
  },
  {
   "cell_type": "code",
   "execution_count": 50,
   "metadata": {},
   "outputs": [
    {
     "name": "stdout",
     "output_type": "stream",
     "text": [
      "0.95\n"
     ]
    }
   ],
   "source": [
    "def predict_with_logreg_weights_to_pm1(w_hat, x):\n",
    "    prob = 1 / (1 + np.exp(rdot(w_hat, x)))\n",
    "    thresh = prob < .5\n",
    "    return binary_to_pm1(thresh)\n",
    "\n",
    "preds = predict_with_logreg_weights_to_pm1(learned_wgts, logreg_ftrs_p1)\n",
    "print(metrics.accuracy_score(preds, binary_to_pm1(logreg_tgt)))"
   ]
  },
  {
   "cell_type": "code",
   "execution_count": 51,
   "metadata": {},
   "outputs": [],
   "source": [
    "# SVC\n",
    "def hinge_loss(predicted, actual):\n",
    "    hinge = np.maximum(1-predicted*actual, 0.0)\n",
    "    return np.sum(hinge)\n",
    "\n",
    "def predict_with_svm_weights(w_hat, x):\n",
    "    return np.sign(rdot(w_hat,x)).astype(np.int)"
   ]
  },
  {
   "cell_type": "code",
   "execution_count": 52,
   "metadata": {},
   "outputs": [
    {
     "name": "stdout",
     "output_type": "stream",
     "text": [
      "no penalty accuracy: 0.95\n"
     ]
    }
   ],
   "source": [
    "svm_ftrs = logreg_ftrs_p1\n",
    "svm_tgt  = binary_to_pm1(logreg_tgt)  # SVM은 +/- 1 형식을 필요로 합니다.\n",
    "\n",
    "# SVM 모델은 rdot입니다. 따로 구현할 필요가 없죠.\n",
    "svc_cost = make_cost(svm_ftrs, svm_tgt, rdot, \n",
    "                     hinge_loss, 0.0, no_penalty)\n",
    "learned_weights = magical_minimum_finder(svc_cost, [5,5], disp=False)\n",
    "\n",
    "preds = predict_with_svm_weights(learned_weights, svm_ftrs)\n",
    "print('no penalty accuracy:', \n",
    "      metrics.accuracy_score(preds, svm_tgt))\n"
   ]
  },
  {
   "cell_type": "code",
   "execution_count": 53,
   "metadata": {},
   "outputs": [
    {
     "name": "stdout",
     "output_type": "stream",
     "text": [
      "accuracy with penalty: 0.94\n"
     ]
    }
   ],
   "source": [
    "# 페널티를 추가한 SVC\n",
    "svc_pen_cost = make_cost(svm_ftrs, svm_tgt, rdot, \n",
    "                         hinge_loss, 1.0, L1_penalty)\n",
    "learned_weights = magical_minimum_finder(svc_pen_cost, [5,5], disp=False)\n",
    "\n",
    "preds = predict_with_svm_weights(learned_weights, svm_ftrs)\n",
    "print('accuracy with penalty:', \n",
    "      metrics.accuracy_score(preds, svm_tgt))"
   ]
  },
  {
   "cell_type": "code",
   "execution_count": 54,
   "metadata": {},
   "outputs": [],
   "source": [
    "# keras가 설치되어 있지 않다면 다음 명령어로 설치합니다\n",
    "#(부록 B를 참고하여 필요한 라이브러리와 패키지를 이미 설치했다면 바로 이어서 실습하면 됩니다.)\n",
    "# conda install keras=2.3.1\n",
    "import keras.layers as kl\n",
    "import keras.models as km\n",
    "import keras.optimizers as ko"
   ]
  },
  {
   "cell_type": "code",
   "execution_count": 55,
   "metadata": {},
   "outputs": [],
   "source": [
    "def Keras_LinearRegression(n_ftrs):\n",
    "    model = km.Sequential()\n",
    "    # Dense 층은 기본으로 “bias” (+1 트릭)를 포함합니다.\n",
    "    model.add(kl.Dense(1, \n",
    "                       activation='linear',\n",
    "                       input_dim=n_ftrs))\n",
    "    model.compile(optimizer=ko.SGD(lr=0.01), loss='mse')\n",
    "    return model"
   ]
  },
  {
   "cell_type": "code",
   "execution_count": 56,
   "metadata": {},
   "outputs": [
    {
     "name": "stdout",
     "output_type": "stream",
     "text": [
      "Training MSE: 0.0000\n"
     ]
    }
   ],
   "source": [
    "# 여러가지 이유로 Keras의 +1 트릭을 사용합니다.\n",
    "# 그러므로 1로 채워진 열을 사용하지 않습니다.\n",
    "linreg_ftrs = linreg_ftrs_p1[:,0]\n",
    "\n",
    "linreg_nn = Keras_LinearRegression(1)\n",
    "history = linreg_nn.fit(linreg_ftrs, linreg_tgt, epochs=1000, verbose=0)\n",
    "preds = linreg_nn.predict(linreg_ftrs)\n",
    "\n",
    "mse = metrics.mean_squared_error(preds, linreg_tgt)\n",
    "\n",
    "print(\"Training MSE: {:5.4f}\".format(mse))"
   ]
  },
  {
   "cell_type": "code",
   "execution_count": 57,
   "metadata": {},
   "outputs": [
    {
     "data": {
      "text/plain": [
       "[187.1727752685547,\n",
       " 32.94295120239258,\n",
       " 6.2909698486328125,\n",
       " 1.6797469854354858,\n",
       " 0.876422107219696]"
      ]
     },
     "execution_count": 57,
     "metadata": {},
     "output_type": "execute_result"
    }
   ],
   "source": [
    "history.history['loss'][:5]"
   ]
  },
  {
   "cell_type": "code",
   "execution_count": 58,
   "metadata": {},
   "outputs": [
    {
     "name": "stdout",
     "output_type": "stream",
     "text": [
      "accuracy: 0.92\n"
     ]
    }
   ],
   "source": [
    "def Keras_LogisticRegression(n_ftrs):\n",
    "    model = km.Sequential()\n",
    "    model.add(kl.Dense(1, \n",
    "                       activation='sigmoid',\n",
    "                       input_dim=n_ftrs))\n",
    "    model.compile(optimizer=ko.SGD(), loss='binary_crossentropy')\n",
    "    return model\n",
    "\n",
    "\n",
    "logreg_nn = Keras_LogisticRegression(1)\n",
    "history = logreg_nn.fit(logreg_ftr, logreg_tgt, epochs=1000, verbose=0)\n",
    "\n",
    "# 확률값을 출력합니다.\n",
    "preds = logreg_nn.predict(logreg_ftr) > .5\n",
    "print('accuracy:', metrics.accuracy_score(preds, logreg_tgt))"
   ]
  },
  {
   "cell_type": "code",
   "execution_count": 59,
   "metadata": {},
   "outputs": [
    {
     "name": "stdout",
     "output_type": "stream",
     "text": [
      "0.93\n"
     ]
    }
   ],
   "source": [
    "from keras.utils import to_categorical as k_to_categorical\n",
    "def Keras_MultiLogisticRegression(n_ftrs, n_classes):\n",
    "    model = km.Sequential()\n",
    "    model.add(kl.Dense(n_classes, \n",
    "                       activation='softmax',\n",
    "                       input_dim=n_ftrs))\n",
    "    model.compile(optimizer=ko.SGD(), loss='categorical_crossentropy')\n",
    "    return model\n",
    "\n",
    "logreg_nn2 = Keras_MultiLogisticRegression(1, 2)\n",
    "history = logreg_nn2.fit(logreg_ftr, \n",
    "                         k_to_categorical(logreg_tgt), \n",
    "                         epochs=1000, verbose=0)\n",
    "\n",
    "# 클래스별로 확률값을 출력합니다.\n",
    "# 확률값이 가장 큰 클래스를 선택합니다.\n",
    "preds = logreg_nn2.predict(logreg_ftr).argmax(axis=1)\n",
    "print(metrics.accuracy_score(logreg_tgt, preds))"
   ]
  }
 ],
 "metadata": {
  "kernelspec": {
   "display_name": "book_base",
   "language": "python",
   "name": "book_base"
  },
  "language_info": {
   "codemirror_mode": {
    "name": "ipython",
    "version": 3
   },
   "file_extension": ".py",
   "mimetype": "text/x-python",
   "name": "python",
   "nbconvert_exporter": "python",
   "pygments_lexer": "ipython3",
   "version": "3.7.7"
  }
 },
 "nbformat": 4,
 "nbformat_minor": 2
}
