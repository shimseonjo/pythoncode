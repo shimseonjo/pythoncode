{
 "cells": [
  {
   "cell_type": "code",
   "execution_count": 1,
   "metadata": {},
   "outputs": [],
   "source": [
    "# 환경 설정\n",
    "from mlwpy import *\n",
    "%matplotlib inline\n",
    "\n",
    "diabetes = datasets.load_diabetes()\n",
    "\n",
    "tts = skms.train_test_split(diabetes.data,\n",
    "                            diabetes.target, \n",
    "                            test_size=.25,\n",
    "                            random_state=42)\n",
    "\n",
    "(diabetes_train_ftrs, diabetes_test_ftrs, \n",
    " diabetes_train_tgt,  diabetes_test_tgt) = tts"
   ]
  },
  {
   "cell_type": "code",
   "execution_count": 2,
   "metadata": {},
   "outputs": [],
   "source": [
    "baseline = dummy.DummyRegressor(strategy='median')"
   ]
  },
  {
   "cell_type": "code",
   "execution_count": 3,
   "metadata": {},
   "outputs": [
    {
     "data": {
      "text/html": [
       "<div>\n",
       "<style scoped>\n",
       "    .dataframe tbody tr th:only-of-type {\n",
       "        vertical-align: middle;\n",
       "    }\n",
       "\n",
       "    .dataframe tbody tr th {\n",
       "        vertical-align: top;\n",
       "    }\n",
       "\n",
       "    .dataframe thead th {\n",
       "        text-align: right;\n",
       "    }\n",
       "</style>\n",
       "<table border=\"1\" class=\"dataframe\">\n",
       "  <thead>\n",
       "    <tr style=\"text-align: right;\">\n",
       "      <th></th>\n",
       "      <th>mse</th>\n",
       "    </tr>\n",
       "  </thead>\n",
       "  <tbody>\n",
       "    <tr>\n",
       "      <th>constant</th>\n",
       "      <td>14,657.6847</td>\n",
       "    </tr>\n",
       "    <tr>\n",
       "      <th>quantile</th>\n",
       "      <td>10,216.3874</td>\n",
       "    </tr>\n",
       "    <tr>\n",
       "      <th>mean</th>\n",
       "      <td>5,607.1979</td>\n",
       "    </tr>\n",
       "    <tr>\n",
       "      <th>median</th>\n",
       "      <td>5,542.2252</td>\n",
       "    </tr>\n",
       "  </tbody>\n",
       "</table>\n",
       "</div>"
      ],
      "text/latex": [
       "{\\centering\n",
       "\\begin{tabular}{lr}\n",
       "\\toprule\n",
       "{} &                  mse \\\\\n",
       "\\midrule\n",
       "constant &          14,657.6847 \\\\\n",
       "quantile &          10,216.3874 \\\\\n",
       "mean     &           5,607.1979 \\\\\n",
       "median   &           5,542.2252 \\\\\n",
       "\\bottomrule\n",
       "\\end{tabular}\n",
       "\n",
       "\\medskip}"
      ],
      "text/plain": [
       "                          mse\n",
       "constant          14,657.6847\n",
       "quantile          10,216.3874\n",
       "mean               5,607.1979\n",
       "median             5,542.2252"
      ]
     },
     "metadata": {},
     "output_type": "display_data"
    }
   ],
   "source": [
    "strategies = ['constant', 'quantile', 'mean', 'median', ]\n",
    "baseline_args = [{\"strategy\":s} for s in strategies]\n",
    "\n",
    "# 상수와 분위수를 위한 추가적인 인수\n",
    "baseline_args[0]['constant'] = 50.0\n",
    "baseline_args[1]['quantile'] =  0.75\n",
    "\n",
    "# 5장과 비슷하지만 여기서는 리스트 컴프리헨션을 사용합니다.\n",
    "# 딕셔너리를 인수로 전달합니다.\n",
    "def do_one(**args):\n",
    "    baseline = dummy.DummyRegressor(**args)\n",
    "    baseline.fit(diabetes_train_ftrs, diabetes_train_tgt)\n",
    "    base_preds = baseline.predict(diabetes_test_ftrs)\n",
    "    return metrics.mean_squared_error(base_preds, diabetes_test_tgt)\n",
    "\n",
    "# 리스트 컴프리헨션으로 모든 결과를 종합합니다.\n",
    "mses = [do_one(**bla) for bla in baseline_args]\n",
    "\n",
    "display(pd.DataFrame({'mse':mses}, \n",
    "                     index=strategies))"
   ]
  },
  {
   "cell_type": "code",
   "execution_count": 4,
   "metadata": {},
   "outputs": [
    {
     "data": {
      "text/plain": [
       "array([-58.0034, -64.9886, -63.1431, -61.8124, -57.6243])"
      ]
     },
     "execution_count": 4,
     "metadata": {},
     "output_type": "execute_result"
    }
   ],
   "source": [
    "def rms_error(actual, predicted):\n",
    "    '평균 제곱근 편차 함수(rmse)'\n",
    "    # 값이 적을수록 좋습니다 (a < b는 a가 더 좋다는 것을 의미합니다). \n",
    "    mse = metrics.mean_squared_error(actual, predicted)    \n",
    "    return np.sqrt(mse)\n",
    "\n",
    "def neg_rmse_score(actual, predicted):\n",
    "    ' rmse에 기반한 점수 함수'\n",
    "    # 높은 값이 더 좋습니다 (a < b는 b가 더 좋다는 것을 의미합니다). \n",
    "    return -rms_error(actual, predicted)\n",
    "\n",
    "def neg_rmse_scorer(mod, ftrs, tgt_actual):\n",
    "    '점수 인수에 적합한 rmse 점수 함수'\n",
    "    tgt_pred = mod.predict(ftrs)\n",
    "    return neg_rmse_score(tgt_actual, tgt_pred)\n",
    "\n",
    "\n",
    "knn = neighbors.KNeighborsRegressor(n_neighbors=3)\n",
    "skms.cross_val_score(knn, diabetes.data, diabetes.target, \n",
    "                     cv=skms.KFold(5, shuffle=True),\n",
    "                     scoring=neg_rmse_scorer)"
   ]
  },
  {
   "cell_type": "code",
   "execution_count": 5,
   "metadata": {},
   "outputs": [
    {
     "name": "stdout",
     "output_type": "stream",
     "text": [
      "Returns the coefficient of determination R^2 of the prediction.\n"
     ]
    }
   ],
   "source": [
    "lr = linear_model.LinearRegression()\n",
    "\n",
    "# help(lr.score) # 목록을 전부 출력합니다.\n",
    "print(lr.score.__doc__.splitlines()[0])"
   ]
  },
  {
   "cell_type": "code",
   "execution_count": 6,
   "metadata": {},
   "outputs": [],
   "source": [
    "our_preds  = np.array([1,2,3])\n",
    "mean_preds = np.array([2,2,2])\n",
    "actual     = np.array([2,3,4])\n",
    "\n",
    "sse_ours = np.sum(( our_preds - actual)**2)\n",
    "sse_mean = np.sum((mean_preds - actual)**2)"
   ]
  },
  {
   "cell_type": "code",
   "execution_count": 7,
   "metadata": {},
   "outputs": [
    {
     "name": "stdout",
     "output_type": "stream",
     "text": [
      "manual r2: 0.40\n"
     ]
    }
   ],
   "source": [
    "r_2 = 1 - (sse_ours / sse_mean)\n",
    "print(\"manual r2:{:5.2f}\".format(r_2))"
   ]
  },
  {
   "cell_type": "code",
   "execution_count": 8,
   "metadata": {},
   "outputs": [
    {
     "name": "stdout",
     "output_type": "stream",
     "text": [
      "-0.014016723490579253\n"
     ]
    }
   ],
   "source": [
    "baseline = dummy.DummyRegressor(strategy='mean')\n",
    "\n",
    "baseline.fit(diabetes_train_ftrs, diabetes_train_tgt)\n",
    "base_preds = baseline.predict(diabetes_test_ftrs)\n",
    "\n",
    "# r2는 비대칭적이므로 순서를 지켜야 합니다\n",
    "base_r2_sklearn = metrics.r2_score(diabetes_test_tgt, base_preds)\n",
    "print(base_r2_sklearn)"
   ]
  },
  {
   "cell_type": "code",
   "execution_count": 9,
   "metadata": {},
   "outputs": [
    {
     "name": "stdout",
     "output_type": "stream",
     "text": [
      "sklearn train-mean model SSE(on test): 622398.9703179051\n",
      " manual train-mean model SSE(on test): 622398.9703179051\n",
      " manual test-mean  model SSE(on test): 613795.5675675676\n"
     ]
    }
   ],
   "source": [
    "# sklearn으로 훈련 평균 모델의 테스트 예측을 수행합니다. \n",
    "base_errors    = base_preds - diabetes_test_tgt\n",
    "sse_base_preds = np.dot(base_errors, base_errors)\n",
    "\n",
    "# 훈련 평균을 계산해서 테스트 예측을 수행합니다.\n",
    "train_mean_errors = np.mean(diabetes_train_tgt) - diabetes_test_tgt\n",
    "sse_mean_train    = np.dot(train_mean_errors, train_mean_errors)\n",
    "\n",
    "# 테스트-평균으로 테스트 예측을 수행합니다.\n",
    "test_mean_errors = np.mean(diabetes_test_tgt) - diabetes_test_tgt\n",
    "sse_mean_test    = np.dot(test_mean_errors, test_mean_errors)\n",
    "\n",
    "print(\"sklearn train-mean model SSE(on test):\", sse_base_preds)\n",
    "print(\" manual train-mean model SSE(on test):\", sse_mean_train)\n",
    "print(\" manual test-mean  model SSE(on test):\", sse_mean_test)"
   ]
  },
  {
   "cell_type": "code",
   "execution_count": 10,
   "metadata": {},
   "outputs": [
    {
     "data": {
      "text/plain": [
       "-0.014016723490578809"
      ]
     },
     "execution_count": 10,
     "metadata": {},
     "output_type": "execute_result"
    }
   ],
   "source": [
    "1 - (sse_base_preds / sse_mean_test)"
   ]
  },
  {
   "cell_type": "code",
   "execution_count": 11,
   "metadata": {},
   "outputs": [
    {
     "name": "stdout",
     "output_type": "stream",
     "text": [
      "-0.014016723490579253\n",
      "-0.014016723490578809\n"
     ]
    }
   ],
   "source": [
    "print(base_r2_sklearn)\n",
    "print(1 - (sse_base_preds / sse_mean_test))"
   ]
  },
  {
   "cell_type": "code",
   "execution_count": 12,
   "metadata": {},
   "outputs": [
    {
     "name": "stdout",
     "output_type": "stream",
     "text": [
      "5529.689797906013\n"
     ]
    },
    {
     "data": {
      "text/html": [
       "<div>\n",
       "<style scoped>\n",
       "    .dataframe tbody tr th:only-of-type {\n",
       "        vertical-align: middle;\n",
       "    }\n",
       "\n",
       "    .dataframe tbody tr th {\n",
       "        vertical-align: top;\n",
       "    }\n",
       "\n",
       "    .dataframe thead th {\n",
       "        text-align: right;\n",
       "    }\n",
       "</style>\n",
       "<table border=\"1\" class=\"dataframe\">\n",
       "  <thead>\n",
       "    <tr style=\"text-align: right;\">\n",
       "      <th></th>\n",
       "      <th>R^2</th>\n",
       "      <th>MSE</th>\n",
       "      <th>Norm_MSE</th>\n",
       "      <th>1-R^2</th>\n",
       "    </tr>\n",
       "  </thead>\n",
       "  <tbody>\n",
       "    <tr>\n",
       "      <th>KNeighborsRegressor</th>\n",
       "      <td>0.3722</td>\n",
       "      <td>3,471.4194</td>\n",
       "      <td>0.6278</td>\n",
       "      <td>0.6278</td>\n",
       "    </tr>\n",
       "    <tr>\n",
       "      <th>LinearRegression</th>\n",
       "      <td>0.4849</td>\n",
       "      <td>2,848.2953</td>\n",
       "      <td>0.5151</td>\n",
       "      <td>0.5151</td>\n",
       "    </tr>\n",
       "  </tbody>\n",
       "</table>\n",
       "</div>"
      ],
      "text/latex": [
       "{\\centering\n",
       "\\begin{tabular}{lrrrr}\n",
       "\\toprule\n",
       "{} &                  R\\textasciicircum 2 &                  MSE &             Norm\\_MSE &                1-R\\textasciicircum 2 \\\\\n",
       "\\midrule\n",
       "KNeighborsRegressor &               0.3722 &           3,471.4194 &               0.6278 &               0.6278 \\\\\n",
       "LinearRegression    &               0.4849 &           2,848.2953 &               0.5151 &               0.5151 \\\\\n",
       "\\bottomrule\n",
       "\\end{tabular}\n",
       "\n",
       "\\medskip}"
      ],
      "text/plain": [
       "                                     R^2                  MSE  \\\n",
       "KNeighborsRegressor               0.3722           3,471.4194   \n",
       "LinearRegression                  0.4849           2,848.2953   \n",
       "\n",
       "                                Norm_MSE                1-R^2  \n",
       "KNeighborsRegressor               0.6278               0.6278  \n",
       "LinearRegression                  0.5151               0.5151  "
      ]
     },
     "metadata": {},
     "output_type": "display_data"
    }
   ],
   "source": [
    "# \n",
    "# 주의! 절대로 집에서 따라하지 마세요!\n",
    "# sklearn R^2를 재현하기 위해서 *테스트* 세트를 이용해서 훈련을 합니다.\n",
    "#\n",
    "\n",
    "testbase = dummy.DummyRegressor(strategy='mean')\n",
    "testbase.fit(diabetes_test_ftrs, diabetes_test_tgt)\n",
    "testbase_preds = testbase.predict(diabetes_test_ftrs)\n",
    "testbase_mse = metrics.mean_squared_error(testbase_preds, \n",
    "                                          diabetes_test_tgt)\n",
    "\n",
    "models = [neighbors.KNeighborsRegressor(n_neighbors=3),\n",
    "          linear_model.LinearRegression()]\n",
    "results = co.defaultdict(dict)\n",
    "for m in models:\n",
    "    preds = (m.fit(diabetes_train_ftrs, diabetes_train_tgt)\n",
    "              .predict(diabetes_test_ftrs))\n",
    "             \n",
    "    mse = metrics.mean_squared_error(preds, diabetes_test_tgt)\n",
    "    r2  = metrics.r2_score(diabetes_test_tgt, preds)\n",
    "    results[get_model_name(m)]['R^2'] = r2\n",
    "    results[get_model_name(m)]['MSE'] = mse\n",
    "\n",
    "print(testbase_mse)\n",
    "\n",
    "df = pd.DataFrame(results).T\n",
    "df['Norm_MSE'] = df['MSE'] / testbase_mse\n",
    "df['1-R^2'] = 1-df['R^2']\n",
    "display(df)"
   ]
  },
  {
   "cell_type": "code",
   "execution_count": 13,
   "metadata": {},
   "outputs": [
    {
     "data": {
      "text/html": [
       "<div>\n",
       "<style scoped>\n",
       "    .dataframe tbody tr th:only-of-type {\n",
       "        vertical-align: middle;\n",
       "    }\n",
       "\n",
       "    .dataframe tbody tr th {\n",
       "        vertical-align: top;\n",
       "    }\n",
       "\n",
       "    .dataframe thead th {\n",
       "        text-align: right;\n",
       "    }\n",
       "</style>\n",
       "<table border=\"1\" class=\"dataframe\">\n",
       "  <thead>\n",
       "    <tr style=\"text-align: right;\">\n",
       "      <th></th>\n",
       "      <th>predicted</th>\n",
       "      <th>actual</th>\n",
       "      <th>error</th>\n",
       "    </tr>\n",
       "    <tr>\n",
       "      <th>example</th>\n",
       "      <th></th>\n",
       "      <th></th>\n",
       "      <th></th>\n",
       "    </tr>\n",
       "  </thead>\n",
       "  <tbody>\n",
       "    <tr>\n",
       "      <th>0</th>\n",
       "      <td>4</td>\n",
       "      <td>3</td>\n",
       "      <td>1</td>\n",
       "    </tr>\n",
       "    <tr>\n",
       "      <th>1</th>\n",
       "      <td>2</td>\n",
       "      <td>5</td>\n",
       "      <td>-3</td>\n",
       "    </tr>\n",
       "    <tr>\n",
       "      <th>2</th>\n",
       "      <td>9</td>\n",
       "      <td>7</td>\n",
       "      <td>2</td>\n",
       "    </tr>\n",
       "  </tbody>\n",
       "</table>\n",
       "</div>"
      ],
      "text/latex": [
       "{\\centering\n",
       "\\begin{tabular}{lrrr}\n",
       "\\toprule\n",
       "{} &  predicted &  actual &  error \\\\\n",
       "example &            &         &        \\\\\n",
       "\\midrule\n",
       "0       &          4 &       3 &      1 \\\\\n",
       "1       &          2 &       5 &     -3 \\\\\n",
       "2       &          9 &       7 &      2 \\\\\n",
       "\\bottomrule\n",
       "\\end{tabular}\n",
       "\n",
       "\\medskip}"
      ],
      "text/plain": [
       "         predicted  actual  error\n",
       "example                          \n",
       "0                4       3      1\n",
       "1                2       5     -3\n",
       "2                9       7      2"
      ]
     },
     "metadata": {},
     "output_type": "display_data"
    }
   ],
   "source": [
    "ape_df = pd.DataFrame({'predicted' : [4, 2, 9],\n",
    "                       'actual'    : [3, 5, 7]})\n",
    "\n",
    "ape_df['error'] = ape_df['predicted'] - ape_df['actual']\n",
    "\n",
    "ape_df.index.name = 'example'\n",
    "display(ape_df)"
   ]
  },
  {
   "cell_type": "code",
   "execution_count": 14,
   "metadata": {},
   "outputs": [
    {
     "data": {
      "image/png": "[encoded data removed]",
      "text/plain": [
       "<Figure size 432x216 with 2 Axes>"
      ]
     },
     "metadata": {
      "needs_background": "light"
     },
     "output_type": "display_data"
    }
   ],
   "source": [
    "def regression_errors(figsize, predicted, actual, errors='all'):\n",
    "    ''' figsize -> 플롯; \n",
    "        predicted/actual data -> DataFrame의 열 \n",
    "        errors -> \"all\" 또는 인덱스 시퀀스''' \n",
    "\n",
    "    fig, axes = plt.subplots(1, 2, figsize=figsize, \n",
    "                             sharex=True, sharey=True)\n",
    "    df = pd.DataFrame({'actual':actual, \n",
    "                       'predicted':predicted})\n",
    "\n",
    "    for ax, (x,y) in zip(axes, it.permutations(['actual', \n",
    "                                                'predicted'])):\n",
    "        # 데이터를 ‘.’로 표현합니다. \n",
    "        # 완벽한 데이터는 y=x 직선 상에 위치합니다.\n",
    "        ax.plot(df[x], df[y], '.', label='data')\n",
    "        ax.plot(df['actual'], df['actual'], '-', \n",
    "                label='perfection')\n",
    "        ax.legend()\n",
    "\n",
    "        ax.set_xlabel('{} Value'.format(x.capitalize()))\n",
    "        ax.set_ylabel('{} Value'.format(y.capitalize()))\n",
    "        ax.set_aspect('equal')\n",
    "\n",
    "    axes[1].yaxis.tick_right()\n",
    "    axes[1].yaxis.set_label_position(\"right\")\n",
    "        \n",
    "    # 전체 혹은 지정한 데이터와 직선을 막대로 연결합니다.\n",
    "    if errors == 'all':\n",
    "        errors = range(len(df))\n",
    "    if errors:\n",
    "        acts  = df.actual.iloc[errors]\n",
    "        preds = df.predicted.iloc[errors]\n",
    "        axes[0].vlines(acts, preds, acts, 'r')\n",
    "        axes[1].hlines(acts, preds, acts, 'r')\n",
    "        \n",
    "    \n",
    "regression_errors((6,3), ape_df.predicted, ape_df.actual)"
   ]
  },
  {
   "cell_type": "code",
   "execution_count": 15,
   "metadata": {},
   "outputs": [
    {
     "data": {
      "image/png": "[encoded data removed]",
      "text/plain": [
       "<Figure size 576x288 with 2 Axes>"
      ]
     },
     "metadata": {
      "needs_background": "light"
     },
     "output_type": "display_data"
    }
   ],
   "source": [
    "lr  = linear_model.LinearRegression()\n",
    "preds = (lr.fit(diabetes_train_ftrs, diabetes_train_tgt)\n",
    "           .predict(diabetes_test_ftrs))\n",
    "\n",
    "regression_errors((8,4), preds, diabetes_test_tgt, errors=[-20]) "
   ]
  },
  {
   "cell_type": "code",
   "execution_count": 16,
   "metadata": {},
   "outputs": [
    {
     "data": {
      "text/html": [
       "<div>\n",
       "<style scoped>\n",
       "    .dataframe tbody tr th:only-of-type {\n",
       "        vertical-align: middle;\n",
       "    }\n",
       "\n",
       "    .dataframe tbody tr th {\n",
       "        vertical-align: top;\n",
       "    }\n",
       "\n",
       "    .dataframe thead th {\n",
       "        text-align: right;\n",
       "    }\n",
       "</style>\n",
       "<table border=\"1\" class=\"dataframe\">\n",
       "  <thead>\n",
       "    <tr style=\"text-align: right;\">\n",
       "      <th></th>\n",
       "      <th>predicted</th>\n",
       "      <th>actual</th>\n",
       "      <th>error</th>\n",
       "      <th>resid</th>\n",
       "    </tr>\n",
       "    <tr>\n",
       "      <th>example</th>\n",
       "      <th></th>\n",
       "      <th></th>\n",
       "      <th></th>\n",
       "      <th></th>\n",
       "    </tr>\n",
       "  </thead>\n",
       "  <tbody>\n",
       "    <tr>\n",
       "      <th>0</th>\n",
       "      <td>4</td>\n",
       "      <td>3</td>\n",
       "      <td>1</td>\n",
       "      <td>-1</td>\n",
       "    </tr>\n",
       "    <tr>\n",
       "      <th>1</th>\n",
       "      <td>2</td>\n",
       "      <td>5</td>\n",
       "      <td>-3</td>\n",
       "      <td>3</td>\n",
       "    </tr>\n",
       "    <tr>\n",
       "      <th>2</th>\n",
       "      <td>9</td>\n",
       "      <td>7</td>\n",
       "      <td>2</td>\n",
       "      <td>-2</td>\n",
       "    </tr>\n",
       "  </tbody>\n",
       "</table>\n",
       "</div>"
      ],
      "text/latex": [
       "{\\centering\n",
       "\\begin{tabular}{lrrrr}\n",
       "\\toprule\n",
       "{} &  predicted &  actual &  error &  resid \\\\\n",
       "example &            &         &        &        \\\\\n",
       "\\midrule\n",
       "0       &          4 &       3 &      1 &     -1 \\\\\n",
       "1       &          2 &       5 &     -3 &      3 \\\\\n",
       "2       &          9 &       7 &      2 &     -2 \\\\\n",
       "\\bottomrule\n",
       "\\end{tabular}\n",
       "\n",
       "\\medskip}"
      ],
      "text/plain": [
       "         predicted  actual  error  resid\n",
       "example                                 \n",
       "0                4       3      1     -1\n",
       "1                2       5     -3      3\n",
       "2                9       7      2     -2"
      ]
     },
     "metadata": {},
     "output_type": "display_data"
    }
   ],
   "source": [
    "ape_df = pd.DataFrame({'predicted' : [4, 2, 9],\n",
    "                       'actual'    : [3, 5, 7]})\n",
    "\n",
    "ape_df['error'] = ape_df['predicted'] - ape_df['actual']\n",
    "ape_df['resid'] = ape_df['actual'] - ape_df['predicted']\n",
    "\n",
    "ape_df.index.name = 'example'\n",
    "display(ape_df)"
   ]
  },
  {
   "cell_type": "code",
   "execution_count": 17,
   "metadata": {},
   "outputs": [
    {
     "data": {
      "image/png": "[encoded data removed]",
      "text/plain": [
       "<Figure size 576x288 with 2 Axes>"
      ]
     },
     "metadata": {
      "needs_background": "light"
     },
     "output_type": "display_data"
    }
   ],
   "source": [
    "def regression_residuals(ax, predicted, actual, \n",
    "                         show_errors=None, right=False):\n",
    "    ''' figsize -> 플롯;\n",
    "        predicted/actual data -> 데이터프레임의 열\n",
    "        errors -> “all” 혹은 인덱스 시퀀스''' \n",
    "    df = pd.DataFrame({'actual':actual, \n",
    "                       'predicted':predicted})\n",
    "    df['error'] = df.actual - df.predicted\n",
    "    ax.plot(df.predicted, df.error, '.')\n",
    "    ax.plot(df.predicted, np.zeros_like(predicted), '-')\n",
    "    \n",
    "    if right:\n",
    "        ax.yaxis.tick_right()\n",
    "        ax.yaxis.set_label_position(\"right\")\n",
    "    \n",
    "    ax.set_xlabel('Predicted Value')\n",
    "    ax.set_ylabel('Residual')\n",
    "    \n",
    "    if show_errors == 'all':\n",
    "        show_errors = range(len(df))\n",
    "    if show_errors:\n",
    "        preds = df.predicted.iloc[show_errors]\n",
    "        errors = df.error.iloc[show_errors]\n",
    "        ax.vlines(preds, 0, errors, 'r')\n",
    "\n",
    "fig, (ax1, ax2) = plt.subplots(1,2,figsize=(8,4))\n",
    "\n",
    "ax1.plot(ape_df.predicted, ape_df.actual, 'r.', # 예측값 vs 실제값\n",
    "         [0,10], [0,10], 'b-')                  # 완벽한 직선\n",
    "ax1.set_xlabel('Predicted')\n",
    "ax1.set_ylabel('Actual')\n",
    "regression_residuals(ax2, ape_df.predicted, ape_df.actual, \n",
    "                     'all', right=True) "
   ]
  },
  {
   "cell_type": "code",
   "execution_count": 18,
   "metadata": {},
   "outputs": [
    {
     "data": {
      "image/png": "[encoded data removed]",
      "text/plain": [
       "<Figure size 720x360 with 2 Axes>"
      ]
     },
     "metadata": {
      "needs_background": "light"
     },
     "output_type": "display_data"
    }
   ],
   "source": [
    "lr  = linear_model.LinearRegression()\n",
    "knn = neighbors.KNeighborsRegressor()\n",
    "\n",
    "models = [lr, knn]\n",
    "\n",
    "fig, axes = plt.subplots(1, 2, figsize=(10,5), \n",
    "                         sharex=True, sharey=True)\n",
    "fig.tight_layout()\n",
    "\n",
    "for model, ax, on_right in zip(models, axes, [False, True]):\n",
    "    preds = (model.fit(diabetes_train_ftrs, diabetes_train_tgt)\n",
    "                  .predict(diabetes_test_ftrs))\n",
    "    \n",
    "    regression_residuals(ax, preds, diabetes_test_tgt, [-20], on_right)\n",
    "\n",
    "axes[0].set_title('Linear Regression Residuals')\n",
    "axes[1].set_title('kNN-Regressor Rediduals');"
   ]
  },
  {
   "cell_type": "code",
   "execution_count": 19,
   "metadata": {},
   "outputs": [
    {
     "name": "stdout",
     "output_type": "stream",
     "text": [
      "280.0\n"
     ]
    }
   ],
   "source": [
    "print(diabetes_test_tgt[-20])"
   ]
  },
  {
   "cell_type": "code",
   "execution_count": 20,
   "metadata": {},
   "outputs": [
    {
     "data": {
      "text/html": [
       "<div>\n",
       "<style scoped>\n",
       "    .dataframe tbody tr th:only-of-type {\n",
       "        vertical-align: middle;\n",
       "    }\n",
       "\n",
       "    .dataframe tbody tr th {\n",
       "        vertical-align: top;\n",
       "    }\n",
       "\n",
       "    .dataframe thead th {\n",
       "        text-align: right;\n",
       "    }\n",
       "</style>\n",
       "<table border=\"1\" class=\"dataframe\">\n",
       "  <thead>\n",
       "    <tr style=\"text-align: right;\">\n",
       "      <th></th>\n",
       "      <th>x</th>\n",
       "      <th>std-ized</th>\n",
       "    </tr>\n",
       "  </thead>\n",
       "  <tbody>\n",
       "    <tr>\n",
       "      <th>mean</th>\n",
       "      <td>2.5000</td>\n",
       "      <td>0.0000</td>\n",
       "    </tr>\n",
       "    <tr>\n",
       "      <th>std</th>\n",
       "      <td>4.6706</td>\n",
       "      <td>1.0000</td>\n",
       "    </tr>\n",
       "  </tbody>\n",
       "</table>\n",
       "</div>"
      ],
      "text/latex": [
       "{\\centering\n",
       "\\begin{tabular}{lrr}\n",
       "\\toprule\n",
       "{} &                    x &             std-ized \\\\\n",
       "\\midrule\n",
       "mean &               2.5000 &               0.0000 \\\\\n",
       "std  &               4.6706 &               1.0000 \\\\\n",
       "\\bottomrule\n",
       "\\end{tabular}\n",
       "\n",
       "\\medskip}"
      ],
      "text/plain": [
       "                        x             std-ized\n",
       "mean               2.5000               0.0000\n",
       "std                4.6706               1.0000"
      ]
     },
     "metadata": {},
     "output_type": "display_data"
    },
    {
     "data": {
      "image/png": "[encoded data removed]",
      "text/plain": [
       "<Figure size 216x216 with 1 Axes>"
      ]
     },
     "metadata": {
      "needs_background": "light"
     },
     "output_type": "display_data"
    }
   ],
   "source": [
    "# 1D 표준화\n",
    "# 데이터프레임에 일정한 간격의 값을 저장합니다. \n",
    "xs = np.linspace(-5, 10, 20)\n",
    "df = pd.DataFrame(xs, columns=['x'])\n",
    "\n",
    "# 중앙 (- mean)과 스케일 (/std)\n",
    "df['std-ized'] = (df.x - df.x.mean()) / df.x.std()\n",
    "\n",
    "# 원본 데이터와 새로운 데이터를 보여줍니다.\n",
    "fig, ax = plt.subplots(1,1,figsize=(3,3))\n",
    "sns.stripplot(data=df)\n",
    "display(df.describe().loc[['mean', 'std']])"
   ]
  },
  {
   "cell_type": "code",
   "execution_count": 21,
   "metadata": {},
   "outputs": [
    {
     "data": {
      "text/html": [
       "<div>\n",
       "<style scoped>\n",
       "    .dataframe tbody tr th:only-of-type {\n",
       "        vertical-align: middle;\n",
       "    }\n",
       "\n",
       "    .dataframe tbody tr th {\n",
       "        vertical-align: top;\n",
       "    }\n",
       "\n",
       "    .dataframe thead th {\n",
       "        text-align: right;\n",
       "    }\n",
       "</style>\n",
       "<table border=\"1\" class=\"dataframe\">\n",
       "  <thead>\n",
       "    <tr style=\"text-align: right;\">\n",
       "      <th></th>\n",
       "      <th>x</th>\n",
       "      <th>y</th>\n",
       "    </tr>\n",
       "  </thead>\n",
       "  <tbody>\n",
       "    <tr>\n",
       "      <th>mean</th>\n",
       "      <td>0.0000</td>\n",
       "      <td>-0.0000</td>\n",
       "    </tr>\n",
       "    <tr>\n",
       "      <th>std</th>\n",
       "      <td>1.0000</td>\n",
       "      <td>1.0000</td>\n",
       "    </tr>\n",
       "  </tbody>\n",
       "</table>\n",
       "</div>"
      ],
      "text/latex": [
       "{\\centering\n",
       "\\begin{tabular}{lrr}\n",
       "\\toprule\n",
       "{} &                    x &                    y \\\\\n",
       "\\midrule\n",
       "mean &               0.0000 &              -0.0000 \\\\\n",
       "std  &               1.0000 &               1.0000 \\\\\n",
       "\\bottomrule\n",
       "\\end{tabular}\n",
       "\n",
       "\\medskip}"
      ],
      "text/plain": [
       "                        x                    y\n",
       "mean               0.0000              -0.0000\n",
       "std                1.0000               1.0000"
      ]
     },
     "metadata": {},
     "output_type": "display_data"
    }
   ],
   "source": [
    "# 2 1D 표준화\n",
    "xs = np.linspace(-5, 10, 20)\n",
    "ys = 3*xs + 2 + np.random.uniform(20, 40, 20)\n",
    "\n",
    "df = pd.DataFrame({'x':xs, 'y':ys})\n",
    "df_std_ized = (df - df.mean()) / df.std()\n",
    "\n",
    "display(df_std_ized.describe().loc[['mean', 'std']])"
   ]
  },
  {
   "cell_type": "code",
   "execution_count": 22,
   "metadata": {},
   "outputs": [
    {
     "data": {
      "image/png": "[encoded data removed]",
      "text/plain": [
       "<Figure size 360x360 with 4 Axes>"
      ]
     },
     "metadata": {
      "needs_background": "light"
     },
     "output_type": "display_data"
    }
   ],
   "source": [
    "fig, ax = plt.subplots(2,2, figsize=(5,5))\n",
    "\n",
    "ax[0,0].plot(df.x, df.y, '.')\n",
    "ax[0,1].plot(df_std_ized.x, df_std_ized.y, '.')\n",
    "ax[0,0].set_ylabel('\"Natural\" Scale')\n",
    "\n",
    "ax[1,0].plot(df.x, df.y, '.')\n",
    "ax[1,1].plot(df_std_ized.x, df_std_ized.y, '.')\n",
    "\n",
    "ax[1,0].axis([-10, 50, -10, 50])\n",
    "ax[1,1].axis([-10, 50, -10, 50])\n",
    "\n",
    "ax[1,0].set_ylabel('Fixed/Shared Scale')\n",
    "ax[1,0].set_xlabel('Original Data')\n",
    "ax[1,1].set_xlabel('Standardized Data');"
   ]
  },
  {
   "cell_type": "code",
   "execution_count": 23,
   "metadata": {},
   "outputs": [
    {
     "data": {
      "text/plain": [
       "array([[ 0.5726],\n",
       "       [ 0.9197],\n",
       "       [ 1.9608],\n",
       "       [ 0.7462],\n",
       "       [ 1.7873],\n",
       "       [-0.295 ],\n",
       "       [ 1.6138],\n",
       "       [ 1.4403],\n",
       "       [-0.1215],\n",
       "       [ 1.0932]])"
      ]
     },
     "execution_count": 23,
     "metadata": {},
     "output_type": "execute_result"
    }
   ],
   "source": [
    "train_xs, test_xs = skms.train_test_split(xs.reshape(-1,1), test_size=.5)\n",
    "\n",
    "scaler = skpre.StandardScaler()\n",
    "scaler.fit(train_xs).transform(test_xs)"
   ]
  },
  {
   "cell_type": "code",
   "execution_count": 24,
   "metadata": {},
   "outputs": [
    {
     "data": {
      "text/plain": [
       "array([[17.0989],\n",
       "       [29.4954],\n",
       "       [41.8919],\n",
       "       [36.9333],\n",
       "       [61.7263],\n",
       "       [24.5368],\n",
       "       [31.9747],\n",
       "       [49.3298],\n",
       "       [51.8091],\n",
       "       [59.247 ]])"
      ]
     },
     "execution_count": 24,
     "metadata": {},
     "output_type": "execute_result"
    }
   ],
   "source": [
    "(train_xs, test_xs,\n",
    " train_ys, test_ys)= skms.train_test_split(xs.reshape(-1,1), \n",
    "                                           ys.reshape(-1,1),\n",
    "                                           test_size=.5)\n",
    "\n",
    "scaler = skpre.StandardScaler()\n",
    "lr  = linear_model.LinearRegression()\n",
    "\n",
    "std_lr_pipe  = pipeline.make_pipeline(scaler, lr)\n",
    "\n",
    "std_lr_pipe.fit(train_xs, train_ys).predict(test_xs)"
   ]
  },
  {
   "cell_type": "code",
   "execution_count": 25,
   "metadata": {},
   "outputs": [
    {
     "data": {
      "text/html": [
       "<div>\n",
       "<style scoped>\n",
       "    .dataframe tbody tr th:only-of-type {\n",
       "        vertical-align: middle;\n",
       "    }\n",
       "\n",
       "    .dataframe tbody tr th {\n",
       "        vertical-align: top;\n",
       "    }\n",
       "\n",
       "    .dataframe thead th {\n",
       "        text-align: right;\n",
       "    }\n",
       "</style>\n",
       "<table border=\"1\" class=\"dataframe\">\n",
       "  <thead>\n",
       "    <tr style=\"text-align: right;\">\n",
       "      <th></th>\n",
       "      <th>count</th>\n",
       "      <th>mean</th>\n",
       "      <th>std</th>\n",
       "      <th>min</th>\n",
       "      <th>25%</th>\n",
       "      <th>50%</th>\n",
       "      <th>75%</th>\n",
       "      <th>max</th>\n",
       "    </tr>\n",
       "  </thead>\n",
       "  <tbody>\n",
       "    <tr>\n",
       "      <th>absences</th>\n",
       "      <td>395.0000</td>\n",
       "      <td>5.7089</td>\n",
       "      <td>8.0031</td>\n",
       "      <td>0.0000</td>\n",
       "      <td>0.0000</td>\n",
       "      <td>4.0000</td>\n",
       "      <td>8.0000</td>\n",
       "      <td>75.0000</td>\n",
       "    </tr>\n",
       "  </tbody>\n",
       "</table>\n",
       "</div>"
      ],
      "text/latex": [
       "{\\centering\n",
       "\\begin{tabular}{lrrrrrrrr}\n",
       "\\toprule\n",
       "{} &                count &                 mean &                  std &                  min &                  25\\% &                  50\\% &                  75\\% &                  max \\\\\n",
       "\\midrule\n",
       "absences &             395.0000 &               5.7089 &               8.0031 &               0.0000 &               0.0000 &               4.0000 &               8.0000 &              75.0000 \\\\\n",
       "\\bottomrule\n",
       "\\end{tabular}\n",
       "\n",
       "\\medskip}"
      ],
      "text/plain": [
       "                        count                 mean                  std  \\\n",
       "absences             395.0000               5.7089               8.0031   \n",
       "\n",
       "                          min                  25%                  50%  \\\n",
       "absences               0.0000               0.0000               4.0000   \n",
       "\n",
       "                          75%                  max  \n",
       "absences               8.0000              75.0000  "
      ]
     },
     "metadata": {},
     "output_type": "display_data"
    }
   ],
   "source": [
    "student_df = pd.read_csv('data/portugese_student_numeric.csv')\n",
    "display(student_df[['absences']].describe().T)"
   ]
  },
  {
   "cell_type": "code",
   "execution_count": 26,
   "metadata": {},
   "outputs": [],
   "source": [
    "student_ftrs = student_df[student_df.columns[:-1]]\n",
    "student_tgt  = student_df['G3']"
   ]
  },
  {
   "cell_type": "code",
   "execution_count": 27,
   "metadata": {},
   "outputs": [
    {
     "data": {
      "image/png": "[encoded data removed]",
      "text/plain": [
       "<Figure size 432x288 with 2 Axes>"
      ]
     },
     "metadata": {
      "needs_background": "light"
     },
     "output_type": "display_data"
    }
   ],
   "source": [
    "scaler = skpre.StandardScaler()\n",
    "\n",
    "lr  = linear_model.LinearRegression()\n",
    "knn_3 = neighbors.KNeighborsRegressor(n_neighbors=3)\n",
    "knn_10 =  neighbors.KNeighborsRegressor(n_neighbors=10)\n",
    "\n",
    "std_lr_pipe  = pipeline.make_pipeline(scaler, lr)\n",
    "std_knn3_pipe  = pipeline.make_pipeline(scaler, knn_3)\n",
    "std_knn10_pipe  = pipeline.make_pipeline(scaler, knn_10)\n",
    "\n",
    "# 표준화와 관계 없이 평균은 항상 같아야 합니다.\n",
    "regressors = {'baseline'  : dummy.DummyRegressor(strategy='mean'),\n",
    "              'std_knn3'  : std_knn3_pipe,\n",
    "              'std_knn10' : std_knn10_pipe,\n",
    "              'std_lr'    : std_lr_pipe}\n",
    "\n",
    "msrs = {'MAE'  : metrics.make_scorer(metrics.mean_absolute_error),\n",
    "        'RMSE' : metrics.make_scorer(rms_error)}\n",
    "\n",
    "fig, axes = plt.subplots(2, 1, figsize=(6,4))\n",
    "fig.tight_layout()\n",
    "for mod_name, model in regressors.items():\n",
    "    cv_results = skms.cross_validate(model, \n",
    "                                     student_ftrs, student_tgt, \n",
    "                                     scoring = msrs, cv=10)\n",
    "\n",
    "    for ax, msr in zip(axes, msrs):\n",
    "        msr_results = cv_results[\"test_\" + msr]\n",
    "        my_lbl = \"{:12s} {:.3f} {:.2f}\".format(mod_name, \n",
    "                                               msr_results.mean(), \n",
    "                                               msr_results.std())\n",
    "        ax.plot(msr_results, 'o--', label=my_lbl)\n",
    "        ax.set_title(msr)\n",
    "#         ax.legend() # 범례를 표현하려면 주석을 해제하세요"
   ]
  },
  {
   "cell_type": "code",
   "execution_count": 28,
   "metadata": {},
   "outputs": [
    {
     "data": {
      "image/png": "[encoded data removed]",
      "text/plain": [
       "<Figure size 432x216 with 1 Axes>"
      ]
     },
     "metadata": {
      "needs_background": "light"
     },
     "output_type": "display_data"
    }
   ],
   "source": [
    "fig,ax = plt.subplots(1,1,figsize=(6,3))\n",
    "baseline_results = skms.cross_val_score(regressors['baseline'], \n",
    "                                        student_ftrs, student_tgt, \n",
    "                                        scoring = msrs['RMSE'], cv=10)\n",
    "\n",
    "for mod_name, model in regressors.items():\n",
    "    if mod_name.startswith(\"std_\"):\n",
    "        cv_results = skms.cross_val_score(model, \n",
    "                                          student_ftrs, student_tgt, \n",
    "                                          scoring = msrs['RMSE'], cv=10)\n",
    "\n",
    "        my_lbl = \"{:12s} {:.3f} {:.2f}\".format(mod_name, \n",
    "                                               cv_results.mean(), \n",
    "                                               cv_results.std())\n",
    "\n",
    "        ax.plot(cv_results / baseline_results, 'o--', label=my_lbl)\n",
    "ax.set_title(\"RMSE(model) / RMSE(baseline)\\n$<1$ is better than baseline\")\n",
    "ax.legend();"
   ]
  },
  {
   "cell_type": "code",
   "execution_count": 29,
   "metadata": {},
   "outputs": [
    {
     "data": {
      "image/png": "[encoded data removed]",
      "text/plain": [
       "<Figure size 432x216 with 1 Axes>"
      ]
     },
     "metadata": {
      "needs_background": "light"
     },
     "output_type": "display_data"
    }
   ],
   "source": [
    "fig, ax = plt.subplots(1, 1, figsize=(6,3))\n",
    "for mod_name, model in regressors.items():\n",
    "        cv_results = skms.cross_val_score(model, \n",
    "                                          student_ftrs, student_tgt, \n",
    "                                          cv=10)\n",
    "        my_lbl = \"{:12s} {:.3f} {:.2f}\".format(mod_name, \n",
    "                                               cv_results.mean(), \n",
    "                                               cv_results.std())\n",
    "\n",
    "        ax.plot(cv_results, 'o--', label=my_lbl)\n",
    "ax.set_title(\"$R^2$\");\n",
    "# ax.legend() # 범례를 표현하려면 주석을 해제하세요"
   ]
  },
  {
   "cell_type": "code",
   "execution_count": 30,
   "metadata": {},
   "outputs": [
    {
     "data": {
      "text/html": [
       "<div>\n",
       "<style scoped>\n",
       "    .dataframe tbody tr th:only-of-type {\n",
       "        vertical-align: middle;\n",
       "    }\n",
       "\n",
       "    .dataframe tbody tr th {\n",
       "        vertical-align: top;\n",
       "    }\n",
       "\n",
       "    .dataframe thead th {\n",
       "        text-align: right;\n",
       "    }\n",
       "</style>\n",
       "<table border=\"1\" class=\"dataframe\">\n",
       "  <thead>\n",
       "    <tr style=\"text-align: right;\">\n",
       "      <th></th>\n",
       "      <th>MAD</th>\n",
       "      <th>RMSE</th>\n",
       "    </tr>\n",
       "  </thead>\n",
       "  <tbody>\n",
       "    <tr>\n",
       "      <th>baseline</th>\n",
       "      <td>3.4470</td>\n",
       "      <td>4.6116</td>\n",
       "    </tr>\n",
       "    <tr>\n",
       "      <th>std_knn3</th>\n",
       "      <td>3.7797</td>\n",
       "      <td>4.8915</td>\n",
       "    </tr>\n",
       "    <tr>\n",
       "      <th>std_knn10</th>\n",
       "      <td>3.3666</td>\n",
       "      <td>4.4873</td>\n",
       "    </tr>\n",
       "    <tr>\n",
       "      <th>std_lr</th>\n",
       "      <td>3.3883</td>\n",
       "      <td>4.3653</td>\n",
       "    </tr>\n",
       "  </tbody>\n",
       "</table>\n",
       "</div>"
      ],
      "text/latex": [
       "{\\centering\n",
       "\\begin{tabular}{lrr}\n",
       "\\toprule\n",
       "{} &                  MAD &                 RMSE \\\\\n",
       "\\midrule\n",
       "baseline  &               3.4470 &               4.6116 \\\\\n",
       "std\\_knn3  &               3.7797 &               4.8915 \\\\\n",
       "std\\_knn10 &               3.3666 &               4.4873 \\\\\n",
       "std\\_lr    &               3.3883 &               4.3653 \\\\\n",
       "\\bottomrule\n",
       "\\end{tabular}\n",
       "\n",
       "\\medskip}"
      ],
      "text/plain": [
       "                           MAD                 RMSE\n",
       "baseline                3.4470               4.6116\n",
       "std_knn3                3.7797               4.8915\n",
       "std_knn10               3.3666               4.4873\n",
       "std_lr                  3.3883               4.3653"
      ]
     },
     "execution_count": 30,
     "metadata": {},
     "output_type": "execute_result"
    }
   ],
   "source": [
    "msrs = {'MAD'  : metrics.mean_absolute_error,\n",
    "        'RMSE' : rms_error}\n",
    "\n",
    "results = {}\n",
    "for mod_name, model in regressors.items():\n",
    "    cv_preds = skms.cross_val_predict(model, \n",
    "                                      student_ftrs, student_tgt,\n",
    "                                      cv=10)\n",
    "    for ax, msr in zip(axes, msrs):\n",
    "        msr_results = msrs[msr](student_tgt, cv_preds)\n",
    "        results.setdefault(msr, []).append(msr_results)\n",
    "df = pd.DataFrame(results, index=regressors.keys())\n",
    "df"
   ]
  },
  {
   "cell_type": "code",
   "execution_count": 31,
   "metadata": {},
   "outputs": [
    {
     "data": {
      "text/html": [
       "<div>\n",
       "<style scoped>\n",
       "    .dataframe tbody tr th:only-of-type {\n",
       "        vertical-align: middle;\n",
       "    }\n",
       "\n",
       "    .dataframe tbody tr th {\n",
       "        vertical-align: top;\n",
       "    }\n",
       "\n",
       "    .dataframe thead th {\n",
       "        text-align: right;\n",
       "    }\n",
       "</style>\n",
       "<table border=\"1\" class=\"dataframe\">\n",
       "  <thead>\n",
       "    <tr style=\"text-align: right;\">\n",
       "      <th></th>\n",
       "      <th>count</th>\n",
       "      <th>mean</th>\n",
       "      <th>std</th>\n",
       "      <th>min</th>\n",
       "      <th>25%</th>\n",
       "      <th>50%</th>\n",
       "      <th>75%</th>\n",
       "      <th>max</th>\n",
       "    </tr>\n",
       "  </thead>\n",
       "  <tbody>\n",
       "    <tr>\n",
       "      <th>G3</th>\n",
       "      <td>395.0000</td>\n",
       "      <td>10.4152</td>\n",
       "      <td>4.5814</td>\n",
       "      <td>0.0000</td>\n",
       "      <td>8.0000</td>\n",
       "      <td>11.0000</td>\n",
       "      <td>14.0000</td>\n",
       "      <td>20.0000</td>\n",
       "    </tr>\n",
       "  </tbody>\n",
       "</table>\n",
       "</div>"
      ],
      "text/latex": [
       "{\\centering\n",
       "\\begin{tabular}{lrrrrrrrr}\n",
       "\\toprule\n",
       "{} &                count &                 mean &                  std &                  min &                  25\\% &                  50\\% &                  75\\% &                  max \\\\\n",
       "\\midrule\n",
       "G3 &             395.0000 &              10.4152 &               4.5814 &               0.0000 &               8.0000 &              11.0000 &              14.0000 &              20.0000 \\\\\n",
       "\\bottomrule\n",
       "\\end{tabular}\n",
       "\n",
       "\\medskip}"
      ],
      "text/plain": [
       "                  count                 mean                  std  \\\n",
       "G3             395.0000              10.4152               4.5814   \n",
       "\n",
       "                    min                  25%                  50%  \\\n",
       "G3               0.0000               8.0000              11.0000   \n",
       "\n",
       "                    75%                  max  \n",
       "G3              14.0000              20.0000  "
      ]
     },
     "execution_count": 31,
     "metadata": {},
     "output_type": "execute_result"
    },
    {
     "data": {
      "image/png": "[encoded data removed]",
      "text/plain": [
       "<Figure size 720x360 with 4 Axes>"
      ]
     },
     "metadata": {
      "needs_background": "light"
     },
     "output_type": "display_data"
    }
   ],
   "source": [
    "fig, axes = plt.subplots(1, 4, figsize=(10,5), \n",
    "                         sharex=True, sharey=True)\n",
    "fig.tight_layout()\n",
    "\n",
    "for model_name, ax in zip(regressors, axes):\n",
    "    model = regressors[model_name]\n",
    "    preds = skms.cross_val_predict(model, \n",
    "                                   student_ftrs, student_tgt,\n",
    "                                   cv=10)\n",
    "\n",
    "    regression_residuals(ax, preds, student_tgt)\n",
    "    ax.set_title(model_name + \" residuals\")\n",
    "pd.DataFrame(student_tgt).describe().T"
   ]
  },
  {
   "cell_type": "code",
   "execution_count": null,
   "metadata": {},
   "outputs": [],
   "source": []
  }
 ],
 "metadata": {
  "kernelspec": {
   "display_name": "book_base",
   "language": "python",
   "name": "book_base"
  },
  "language_info": {
   "codemirror_mode": {
    "name": "ipython",
    "version": 3
   },
   "file_extension": ".py",
   "mimetype": "text/x-python",
   "name": "python",
   "nbconvert_exporter": "python",
   "pygments_lexer": "ipython3",
   "version": "3.7.7"
  }
 },
 "nbformat": 4,
 "nbformat_minor": 2
}
