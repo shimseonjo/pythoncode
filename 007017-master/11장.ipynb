{
 "cells": [
  {
   "cell_type": "code",
   "execution_count": 1,
   "metadata": {},
   "outputs": [],
   "source": [
    "# 환경 설정\n",
    "from mlwpy import *\n",
    "%matplotlib inline\n",
    "\n",
    "iris = datasets.load_iris()\n",
    "diabetes = datasets.load_diabetes()\n",
    "digits = datasets.load_digits()"
   ]
  },
  {
   "cell_type": "code",
   "execution_count": 2,
   "metadata": {},
   "outputs": [
    {
     "data": {
      "text/plain": [
       "True"
      ]
     },
     "execution_count": 2,
     "metadata": {},
     "output_type": "execute_result"
    }
   ],
   "source": [
    "def add_three(x):\n",
    "    return 3 + x\n",
    "def add(x, y):\n",
    "    return x + y\n",
    "\n",
    "add(10,3) == add_three(10)"
   ]
  },
  {
   "cell_type": "code",
   "execution_count": 3,
   "metadata": {},
   "outputs": [
    {
     "data": {
      "text/plain": [
       "True"
      ]
     },
     "execution_count": 3,
     "metadata": {},
     "output_type": "execute_result"
    }
   ],
   "source": [
    "def make_adder(k):\n",
    "    def add_k(x):\n",
    "        return x + k\n",
    "    return add_k  \n",
    "\n",
    "# 함수를 만드는 함수를 호출합니다.\n",
    "three_adder = make_adder(3)\n",
    "\n",
    "# 만들어진 함수를 사용합니다.\n",
    "three_adder(10) == add_three(10)"
   ]
  },
  {
   "cell_type": "code",
   "execution_count": 4,
   "metadata": {},
   "outputs": [
    {
     "name": "stdout",
     "output_type": "stream",
     "text": [
      "algorithm leaf_size metric metric_params n_jobs n_neighbors p weights\n"
     ]
    }
   ],
   "source": [
    "knn = neighbors.KNeighborsClassifier()\n",
    "print(\" \".join(knn.get_params().keys()))"
   ]
  },
  {
   "cell_type": "code",
   "execution_count": 5,
   "metadata": {},
   "outputs": [
    {
     "data": {
      "text/plain": [
       "GridSearchCV(cv=10, error_score='raise-deprecating',\n",
       "             estimator=KNeighborsClassifier(algorithm='auto', leaf_size=30,\n",
       "                                            metric='minkowski',\n",
       "                                            metric_params=None, n_jobs=None,\n",
       "                                            n_neighbors=5, p=2,\n",
       "                                            weights='uniform'),\n",
       "             iid='warn', n_jobs=None,\n",
       "             param_grid={'n_neighbors': [1, 3, 5, 10, 20]},\n",
       "             pre_dispatch='2*n_jobs', refit=True, return_train_score=True,\n",
       "             scoring=None, verbose=0)"
      ]
     },
     "execution_count": 5,
     "metadata": {},
     "output_type": "execute_result"
    }
   ],
   "source": [
    "param_grid = {\"n_neighbors\" : [1,3,5,10,20]}\n",
    "\n",
    "knn = neighbors.KNeighborsClassifier()\n",
    "# 주의하세요! 평가기준은 정확도입니다.\n",
    "grid_model = skms.GridSearchCV(knn,\n",
    "                               return_train_score=True,\n",
    "                               param_grid = param_grid, \n",
    "                               cv=10)\n",
    "\n",
    "grid_model.fit(digits.data, digits.target)"
   ]
  },
  {
   "cell_type": "code",
   "execution_count": 6,
   "metadata": {},
   "outputs": [
    {
     "data": {
      "text/html": [
       "<div>\n",
       "<style scoped>\n",
       "    .dataframe tbody tr th:only-of-type {\n",
       "        vertical-align: middle;\n",
       "    }\n",
       "\n",
       "    .dataframe tbody tr th {\n",
       "        vertical-align: top;\n",
       "    }\n",
       "\n",
       "    .dataframe thead th {\n",
       "        text-align: right;\n",
       "    }\n",
       "</style>\n",
       "<table border=\"1\" class=\"dataframe\">\n",
       "  <thead>\n",
       "    <tr style=\"text-align: right;\">\n",
       "      <th></th>\n",
       "      <th>param_n_neighbors</th>\n",
       "      <th>mean_train_score</th>\n",
       "      <th>std_train_score</th>\n",
       "      <th>mean_test_score</th>\n",
       "      <th>std_test_score</th>\n",
       "    </tr>\n",
       "  </thead>\n",
       "  <tbody>\n",
       "    <tr>\n",
       "      <th>0</th>\n",
       "      <td>1</td>\n",
       "      <td>1.0000</td>\n",
       "      <td>0.0000</td>\n",
       "      <td>0.9761</td>\n",
       "      <td>0.0180</td>\n",
       "    </tr>\n",
       "    <tr>\n",
       "      <th>1</th>\n",
       "      <td>3</td>\n",
       "      <td>0.9933</td>\n",
       "      <td>0.0009</td>\n",
       "      <td>0.9777</td>\n",
       "      <td>0.0161</td>\n",
       "    </tr>\n",
       "    <tr>\n",
       "      <th>2</th>\n",
       "      <td>5</td>\n",
       "      <td>0.9907</td>\n",
       "      <td>0.0005</td>\n",
       "      <td>0.9738</td>\n",
       "      <td>0.0167</td>\n",
       "    </tr>\n",
       "    <tr>\n",
       "      <th>3</th>\n",
       "      <td>10</td>\n",
       "      <td>0.9861</td>\n",
       "      <td>0.0011</td>\n",
       "      <td>0.9644</td>\n",
       "      <td>0.0208</td>\n",
       "    </tr>\n",
       "    <tr>\n",
       "      <th>4</th>\n",
       "      <td>20</td>\n",
       "      <td>0.9806</td>\n",
       "      <td>0.0018</td>\n",
       "      <td>0.9610</td>\n",
       "      <td>0.0233</td>\n",
       "    </tr>\n",
       "  </tbody>\n",
       "</table>\n",
       "</div>"
      ],
      "text/latex": [
       "{\\centering\n",
       "\\begin{tabular}{llrrrr}\n",
       "\\toprule\n",
       "{} & param\\_n\\_neighbors &     mean\\_train\\_score &      std\\_train\\_score &      mean\\_test\\_score &       std\\_test\\_score \\\\\n",
       "\\midrule\n",
       "0 &                 1 &               1.0000 &               0.0000 &               0.9761 &               0.0180 \\\\\n",
       "1 &                 3 &               0.9933 &               0.0009 &               0.9777 &               0.0161 \\\\\n",
       "2 &                 5 &               0.9907 &               0.0005 &               0.9738 &               0.0167 \\\\\n",
       "3 &                10 &               0.9861 &               0.0011 &               0.9644 &               0.0208 \\\\\n",
       "4 &                20 &               0.9806 &               0.0018 &               0.9610 &               0.0233 \\\\\n",
       "\\bottomrule\n",
       "\\end{tabular}\n",
       "\n",
       "\\medskip}"
      ],
      "text/plain": [
       "  param_n_neighbors     mean_train_score      std_train_score  \\\n",
       "0                 1               1.0000               0.0000   \n",
       "1                 3               0.9933               0.0009   \n",
       "2                 5               0.9907               0.0005   \n",
       "3                10               0.9861               0.0011   \n",
       "4                20               0.9806               0.0018   \n",
       "\n",
       "       mean_test_score       std_test_score  \n",
       "0               0.9761               0.0180  \n",
       "1               0.9777               0.0161  \n",
       "2               0.9738               0.0167  \n",
       "3               0.9644               0.0208  \n",
       "4               0.9610               0.0233  "
      ]
     },
     "metadata": {},
     "output_type": "display_data"
    }
   ],
   "source": [
    "# .cv_results_에는 열이 많이 들어 있습니다.\n",
    "# 모든 하이퍼파라미터는 `params` 열안에 딕셔너리로 들어 있습니다. \n",
    "param_cols = ['param_n_neighbors']\n",
    "score_cols = ['mean_train_score', 'std_train_score',\n",
    "              'mean_test_score', 'std_test_score']\n",
    "\n",
    "# head()로 첫 5개 하이퍼 파라미터를 살펴봅니다.\n",
    "df = pd.DataFrame(grid_model.cv_results_).head()\n",
    "\n",
    "display(df[param_cols + score_cols])"
   ]
  },
  {
   "cell_type": "code",
   "execution_count": 7,
   "metadata": {},
   "outputs": [
    {
     "data": {
      "text/html": [
       "<div>\n",
       "<style scoped>\n",
       "    .dataframe tbody tr th:only-of-type {\n",
       "        vertical-align: middle;\n",
       "    }\n",
       "\n",
       "    .dataframe tbody tr th {\n",
       "        vertical-align: top;\n",
       "    }\n",
       "\n",
       "    .dataframe thead th {\n",
       "        text-align: right;\n",
       "    }\n",
       "</style>\n",
       "<table border=\"1\" class=\"dataframe\">\n",
       "  <thead>\n",
       "    <tr style=\"text-align: right;\">\n",
       "      <th></th>\n",
       "      <th>mean_train_score</th>\n",
       "      <th>mean_test_score</th>\n",
       "    </tr>\n",
       "    <tr>\n",
       "      <th>param_n_neighbors</th>\n",
       "      <th></th>\n",
       "      <th></th>\n",
       "    </tr>\n",
       "  </thead>\n",
       "  <tbody>\n",
       "    <tr>\n",
       "      <th>1</th>\n",
       "      <td>1.0000</td>\n",
       "      <td>0.9761</td>\n",
       "    </tr>\n",
       "    <tr>\n",
       "      <th>3</th>\n",
       "      <td>0.9933</td>\n",
       "      <td>0.9777</td>\n",
       "    </tr>\n",
       "    <tr>\n",
       "      <th>5</th>\n",
       "      <td>0.9907</td>\n",
       "      <td>0.9738</td>\n",
       "    </tr>\n",
       "    <tr>\n",
       "      <th>10</th>\n",
       "      <td>0.9861</td>\n",
       "      <td>0.9644</td>\n",
       "    </tr>\n",
       "    <tr>\n",
       "      <th>20</th>\n",
       "      <td>0.9806</td>\n",
       "      <td>0.9610</td>\n",
       "    </tr>\n",
       "  </tbody>\n",
       "</table>\n",
       "</div>"
      ],
      "text/latex": [
       "{\\centering\n",
       "\\begin{tabular}{lrr}\n",
       "\\toprule\n",
       "{} &     mean\\_train\\_score &      mean\\_test\\_score \\\\\n",
       "param\\_n\\_neighbors &                      &                      \\\\\n",
       "\\midrule\n",
       "1                 &               1.0000 &               0.9761 \\\\\n",
       "3                 &               0.9933 &               0.9777 \\\\\n",
       "5                 &               0.9907 &               0.9738 \\\\\n",
       "10                &               0.9861 &               0.9644 \\\\\n",
       "20                &               0.9806 &               0.9610 \\\\\n",
       "\\bottomrule\n",
       "\\end{tabular}\n",
       "\n",
       "\\medskip}"
      ],
      "text/plain": [
       "                      mean_train_score      mean_test_score\n",
       "param_n_neighbors                                          \n",
       "1                               1.0000               0.9761\n",
       "3                               0.9933               0.9777\n",
       "5                               0.9907               0.9738\n",
       "10                              0.9861               0.9644\n",
       "20                              0.9806               0.9610"
      ]
     },
     "metadata": {},
     "output_type": "display_data"
    }
   ],
   "source": [
    "# 관심있는 열만 따로 추립니다.  \n",
    "grid_df = pd.DataFrame(grid_model.cv_results_, \n",
    "                       columns=['param_n_neighbors',\n",
    "                                'mean_train_score',\n",
    "                                'mean_test_score'])\n",
    "grid_df.set_index('param_n_neighbors', inplace=True)\n",
    "display(grid_df)"
   ]
  },
  {
   "cell_type": "code",
   "execution_count": 8,
   "metadata": {},
   "outputs": [
    {
     "data": {
      "image/png": "[encoded data removed]",
      "text/plain": [
       "<Figure size 432x288 with 1 Axes>"
      ]
     },
     "metadata": {
      "needs_background": "light"
     },
     "output_type": "display_data"
    }
   ],
   "source": [
    "ax = grid_df.plot.line(marker='.')\n",
    "ax.set_xticks(grid_df.index);"
   ]
  },
  {
   "cell_type": "code",
   "execution_count": 9,
   "metadata": {},
   "outputs": [],
   "source": [
    "def best_model_hyper_params(make_a_model,\n",
    "                            some_hyper_params,\n",
    "                            data):\n",
    "    results = {}\n",
    "    for hyper_params in it.combinations(some_hyper_params):\n",
    "        for train,test in make_cv_split(data):\n",
    "            model = make_a_model(*hyper_params).fit(train)\n",
    "            key = tuple(hyper_params)\n",
    "            if key not in results:\n",
    "                results[key] = []\n",
    "            results[key].append(score(test, model.predict(test)))\n",
    "            # 아니면 위 4줄을 아래와 같이 줄여서 쓸 수도 있습니다.\n",
    "            # (results.setdefault(tuple(hyper_params), [])\n",
    "            #         .append(score(test, model.predict(test)))\n",
    "    \n",
    "    best_hp = max(results, key=results.get)\n",
    "    best_model = make_a_model(*best_hp).fit(data)\n",
    "    return best_model\n",
    "\n",
    "def do_it():\n",
    "    model = pick_a_model # 예) kNN\n",
    "\n",
    "    some_hyper_params = [values_for_hyper_param_1, # 예) n_neighbors=[]\n",
    "                         values_for_hyper_param_2,\n",
    "                         values_for_hyper_param_3]\n",
    "\n",
    "    best_model_hyper_params(model_type, \n",
    "                            some_hyper_params, \n",
    "                            data)\n"
   ]
  },
  {
   "cell_type": "code",
   "execution_count": 10,
   "metadata": {},
   "outputs": [],
   "source": [
    "param_grid = {\"n_neighbors\" : np.arange(1,11),\n",
    "              \"weights\"     : ['uniform', 'distance'],\n",
    "              \"p\"           : [1,2,4,8,16]}\n",
    "\n",
    "knn = neighbors.KNeighborsClassifier()\n",
    "grid_model = skms.GridSearchCV(knn, param_grid = param_grid, cv=10)"
   ]
  },
  {
   "cell_type": "code",
   "execution_count": 11,
   "metadata": {},
   "outputs": [
    {
     "name": "stdout",
     "output_type": "stream",
     "text": [
      "1.16 s ± 0 ns per loop (mean ± std. dev. of 1 run, 1 loop each)\n"
     ]
    }
   ],
   "source": [
    "# digits 데이터는 제 오래된 노트북에서도 30분 정도밖에 걸리지 않습니다.\n",
    "# %timeit -r1 grid_model.fit(digits.data, digits.target)\n",
    "%timeit -r1 grid_model.fit(iris.data, iris.target)"
   ]
  },
  {
   "cell_type": "code",
   "execution_count": 12,
   "metadata": {},
   "outputs": [
    {
     "data": {
      "text/html": [
       "<div>\n",
       "<style scoped>\n",
       "    .dataframe tbody tr th:only-of-type {\n",
       "        vertical-align: middle;\n",
       "    }\n",
       "\n",
       "    .dataframe tbody tr th {\n",
       "        vertical-align: top;\n",
       "    }\n",
       "\n",
       "    .dataframe thead th {\n",
       "        text-align: right;\n",
       "    }\n",
       "</style>\n",
       "<table border=\"1\" class=\"dataframe\">\n",
       "  <thead>\n",
       "    <tr style=\"text-align: right;\">\n",
       "      <th></th>\n",
       "      <th>n_neighbors</th>\n",
       "      <th>p</th>\n",
       "      <th>weights</th>\n",
       "      <th>mean_test_score</th>\n",
       "    </tr>\n",
       "  </thead>\n",
       "  <tbody>\n",
       "    <tr>\n",
       "      <th>79</th>\n",
       "      <td>8</td>\n",
       "      <td>16</td>\n",
       "      <td>distance</td>\n",
       "      <td>0.9800</td>\n",
       "    </tr>\n",
       "    <tr>\n",
       "      <th>78</th>\n",
       "      <td>8</td>\n",
       "      <td>16</td>\n",
       "      <td>uniform</td>\n",
       "      <td>0.9800</td>\n",
       "    </tr>\n",
       "    <tr>\n",
       "      <th>77</th>\n",
       "      <td>8</td>\n",
       "      <td>8</td>\n",
       "      <td>distance</td>\n",
       "      <td>0.9800</td>\n",
       "    </tr>\n",
       "    <tr>\n",
       "      <th>88</th>\n",
       "      <td>9</td>\n",
       "      <td>16</td>\n",
       "      <td>uniform</td>\n",
       "      <td>0.9800</td>\n",
       "    </tr>\n",
       "    <tr>\n",
       "      <th>99</th>\n",
       "      <td>10</td>\n",
       "      <td>16</td>\n",
       "      <td>distance</td>\n",
       "      <td>0.9800</td>\n",
       "    </tr>\n",
       "  </tbody>\n",
       "</table>\n",
       "</div>"
      ],
      "text/latex": [
       "{\\centering\n",
       "\\begin{tabular}{lrrlr}\n",
       "\\toprule\n",
       "{} &  n\\_neighbors &   p &   weights &      mean\\_test\\_score \\\\\n",
       "\\midrule\n",
       "79 &            8 &  16 &  distance &               0.9800 \\\\\n",
       "78 &            8 &  16 &   uniform &               0.9800 \\\\\n",
       "77 &            8 &   8 &  distance &               0.9800 \\\\\n",
       "88 &            9 &  16 &   uniform &               0.9800 \\\\\n",
       "99 &           10 &  16 &  distance &               0.9800 \\\\\n",
       "\\bottomrule\n",
       "\\end{tabular}\n",
       "\n",
       "\\medskip}"
      ],
      "text/plain": [
       "    n_neighbors   p   weights      mean_test_score\n",
       "79            8  16  distance               0.9800\n",
       "78            8  16   uniform               0.9800\n",
       "77            8   8  distance               0.9800\n",
       "88            9  16   uniform               0.9800\n",
       "99           10  16  distance               0.9800"
      ]
     },
     "execution_count": 12,
     "metadata": {},
     "output_type": "execute_result"
    }
   ],
   "source": [
    "param_df = pd.DataFrame.from_records(grid_model.cv_results_['params'])\n",
    "param_df['mean_test_score'] = grid_model.cv_results_['mean_test_score']\n",
    "param_df.sort_values(by=['mean_test_score']).tail()"
   ]
  },
  {
   "cell_type": "code",
   "execution_count": 13,
   "metadata": {},
   "outputs": [
    {
     "name": "stdout",
     "output_type": "stream",
     "text": [
      "Best Estimator:\n",
      "KNeighborsClassifier(algorithm='auto', leaf_size=30, metric='minkowski',\n",
      "                     metric_params=None, n_jobs=None, n_neighbors=8, p=4,\n",
      "                     weights='uniform')\n",
      "Best Score:\n",
      "0.98\n",
      "Best Params:\n",
      "{'n_neighbors': 8, 'p': 4, 'weights': 'uniform'}\n"
     ]
    }
   ],
   "source": [
    "print(\"Best Estimator:\", grid_model.best_estimator_,\n",
    "      \"Best Score:\",     grid_model.best_score_,\n",
    "      \"Best Params:\",    grid_model.best_params_, sep=\"\\n\")"
   ]
  },
  {
   "cell_type": "code",
   "execution_count": 14,
   "metadata": {},
   "outputs": [
    {
     "name": "stdout",
     "output_type": "stream",
     "text": [
      "224 ms ± 0 ns per loop (mean ± std. dev. of 1 run, 1 loop each)\n",
      "0.98\n"
     ]
    }
   ],
   "source": [
    "import scipy.stats as ss\n",
    "knn = neighbors.KNeighborsClassifier()\n",
    "param_dists = {\"n_neighbors\" : ss.randint(1,11), # [1, 10] 사이의 값\n",
    "               \"weights\"     : ['uniform', 'distance'],\n",
    "               \"p\"           : ss.geom(p=.5)}\n",
    "\n",
    "mod = skms.RandomizedSearchCV(knn, \n",
    "                              param_distributions = param_dists,\n",
    "                              cv=10, \n",
    "                              n_iter=20) # 뽑아낼 샘플의 개수\n",
    "\n",
    "# 20개 모델을 적합합니다.\n",
    "%timeit -r1 mod.fit(iris.data, iris.target)\n",
    "print(mod.best_score_)"
   ]
  },
  {
   "cell_type": "code",
   "execution_count": 15,
   "metadata": {},
   "outputs": [],
   "source": [
    "param_grid = {\"n_neighbors\" : np.arange(1,11),\n",
    "              \"weights\"     : ['uniform', 'distance'],\n",
    "              \"p\"           : [1,2,4,8,16]}\n",
    "\n",
    "knn = neighbors.KNeighborsClassifier()\n",
    "grid_knn = skms.GridSearchCV(knn, \n",
    "                             param_grid = param_grid, \n",
    "                             iid=False, cv=3)"
   ]
  },
  {
   "cell_type": "code",
   "execution_count": 16,
   "metadata": {},
   "outputs": [
    {
     "name": "stdout",
     "output_type": "stream",
     "text": [
      "[0.9667 1.     0.9333 0.9667 1.    ]\n"
     ]
    }
   ],
   "source": [
    "outer_scores = skms.cross_val_score(grid_knn, \n",
    "                                    iris.data, iris.target,\n",
    "                                    cv=5)\n",
    "print(outer_scores)"
   ]
  },
  {
   "cell_type": "code",
   "execution_count": 17,
   "metadata": {},
   "outputs": [],
   "source": [
    "def nested_cv_pseudo_code(all_data):\n",
    "    results = []\n",
    "    for outer_train, test in make_cv_split(all_data):\n",
    "        for hyper_params in hyper_paramater_possibilities:\n",
    "            for train, valid in make_cv_split(outer_train):\n",
    "                inner_score = evaluate(model.fit(train).predict(valid))\n",
    "        best_mod = xxx # 최고의 inner_score를 기록한 모델을 선택합니다.\n",
    "        preds = best_model.fit(outer_train).predict(test)\n",
    "        results.append(evaluate(preds))"
   ]
  },
  {
   "cell_type": "code",
   "execution_count": 18,
   "metadata": {},
   "outputs": [
    {
     "name": "stdout",
     "output_type": "stream",
     "text": [
      "[0.9667 0.9667 0.9333 0.9667 1.    ]\n"
     ]
    }
   ],
   "source": [
    "param_grid = {\"n_neighbors\" : np.arange(1,11),\n",
    "              \"weights\"     : ['uniform', 'distance'],\n",
    "              \"p\"           : [1,2,4,8,16]}\n",
    "\n",
    "knn = neighbors.KNeighborsClassifier()\n",
    "grid_knn = skms.GridSearchCV(knn, \n",
    "                             param_grid = param_grid, \n",
    "                             iid=False, cv=2)\n",
    "\n",
    "outer_scores = skms.cross_val_score(grid_knn,\n",
    "                                    iris.data, \n",
    "                                    iris.target,\n",
    "                                    cv=5)\n",
    "# 전반적인 성능은 어떨까요?\n",
    "print(outer_scores)"
   ]
  },
  {
   "cell_type": "code",
   "execution_count": 19,
   "metadata": {},
   "outputs": [
    {
     "data": {
      "text/plain": [
       "KNeighborsClassifier(algorithm='auto', leaf_size=30, metric='minkowski',\n",
       "                     metric_params=None, n_jobs=None, n_neighbors=7, p=4,\n",
       "                     weights='distance')"
      ]
     },
     "execution_count": 19,
     "metadata": {},
     "output_type": "execute_result"
    }
   ],
   "source": [
    "grid_knn.fit(iris.data, iris.target)\n",
    "preferred_params = grid_knn.best_estimator_.get_params()\n",
    "final_knn = neighbors.KNeighborsClassifier(**preferred_params)\n",
    "final_knn.fit(iris.data, iris.target)"
   ]
  },
  {
   "cell_type": "code",
   "execution_count": 20,
   "metadata": {},
   "outputs": [
    {
     "name": "stdout",
     "output_type": "stream",
     "text": [
      "[0.8    0.8667 1.     0.8667 0.9333 0.9333 0.8    0.8667 0.9333 1.    ]\n"
     ]
    }
   ],
   "source": [
    "scaler = skpre.StandardScaler()\n",
    "logreg = linear_model.LogisticRegression()\n",
    "\n",
    "pipe = pipeline.make_pipeline(scaler, logreg)\n",
    "print(skms.cross_val_score(pipe, iris.data, iris.target, cv=10))"
   ]
  },
  {
   "cell_type": "code",
   "execution_count": 21,
   "metadata": {},
   "outputs": [
    {
     "name": "stdout",
     "output_type": "stream",
     "text": [
      "<class 'sklearn.linear_model.logistic.LogisticRegression'>\n",
      "logisticregression\n"
     ]
    }
   ],
   "source": [
    "def extract_name(obj):\n",
    "    return str(logreg.__class__).split('.')[-1][:-2].lower() \n",
    "\n",
    "print(logreg.__class__)\n",
    "print(extract_name(logreg))"
   ]
  },
  {
   "cell_type": "code",
   "execution_count": 22,
   "metadata": {},
   "outputs": [
    {
     "data": {
      "text/plain": [
       "dict_keys(['standardscaler', 'logisticregression'])"
      ]
     },
     "execution_count": 22,
     "metadata": {},
     "output_type": "execute_result"
    }
   ],
   "source": [
    "pipe.named_steps.keys()"
   ]
  },
  {
   "cell_type": "code",
   "execution_count": 23,
   "metadata": {},
   "outputs": [
    {
     "name": "stdout",
     "output_type": "stream",
     "text": [
      "dict_keys(['scaler', 'knn'])\n",
      "[1.     0.9333 1.     0.9333 0.8667 0.9333 0.8667 1.     1.     1.    ]\n"
     ]
    }
   ],
   "source": [
    "pipe = pipeline.Pipeline(steps=[('scaler', scaler),\n",
    "                                ('knn', knn)])\n",
    "\n",
    "cv_scores = skms.cross_val_score(pipe, iris.data, iris.target, \n",
    "                                 cv=10, \n",
    "                                 n_jobs=-1) # all CPUs\n",
    "print(pipe.named_steps.keys())\n",
    "print(cv_scores)"
   ]
  },
  {
   "cell_type": "code",
   "execution_count": 24,
   "metadata": {},
   "outputs": [],
   "source": [
    "from sklearn.base import TransformerMixin\n",
    "class Median_Big_Small(TransformerMixin):\n",
    "    def __init__(self):\n",
    "        pass\n",
    "    def fit(self, ftrs, tgt=None):\n",
    "        self.medians = np.median(ftrs)\n",
    "        return self\n",
    "    def transform(self, ftrs, tgt=None):\n",
    "        return ftrs > self.medians"
   ]
  },
  {
   "cell_type": "code",
   "execution_count": 25,
   "metadata": {},
   "outputs": [
    {
     "name": "stdout",
     "output_type": "stream",
     "text": [
      "[0.6    0.7333 0.8667 0.7333 0.8667 0.7333 0.6667 0.6667 0.8    0.8   ]\n"
     ]
    }
   ],
   "source": [
    "scaler = skpre.StandardScaler()\n",
    "quad_inters = skpre.PolynomialFeatures(degree=2,              \n",
    "                                       interaction_only=True, \n",
    "                                       include_bias=False)\n",
    "median_big_small = Median_Big_Small()\n",
    "knn = neighbors.KNeighborsClassifier()\n",
    "\n",
    "pipe = pipeline.Pipeline(steps=[('scaler', scaler),\n",
    "                                ('inter',  quad_inters),\n",
    "                                ('mbs',    median_big_small),\n",
    "                                ('knn',    knn)])\n",
    "\n",
    "cv_scores = skms.cross_val_score(pipe, iris.data, iris.target, cv=10)\n",
    "\n",
    "print(cv_scores)"
   ]
  },
  {
   "cell_type": "code",
   "execution_count": 26,
   "metadata": {},
   "outputs": [],
   "source": [
    "# 파이프라인 컴포넌트와 파이프라인을 만듭니다.\n",
    "scaler = skpre.StandardScaler()\n",
    "poly   = skpre.PolynomialFeatures()\n",
    "lasso  = linear_model.Lasso(selection='random', tol=.01)\n",
    "pipe = pipeline.make_pipeline(scaler, \n",
    "                              poly, \n",
    "                              lasso)"
   ]
  },
  {
   "cell_type": "code",
   "execution_count": 27,
   "metadata": {},
   "outputs": [
    {
     "name": "stdout",
     "output_type": "stream",
     "text": [
      "{'lasso__alpha': array([ 2.,  4.,  8., 16., 32., 64.]),\n",
      " 'polynomialfeatures__degree': array([2, 3, 4, 5])}\n"
     ]
    }
   ],
   "source": [
    "# 비교할 하이퍼 파라미터들을 설정합니다.\n",
    "param_grid = {\"polynomialfeatures__degree\" : np.arange(2,6),\n",
    "              \"lasso__alpha\" : np.logspace(1,6,6,base=2)}\n",
    "\n",
    "from pprint import pprint as pp\n",
    "pp(param_grid)"
   ]
  },
  {
   "cell_type": "code",
   "execution_count": 28,
   "metadata": {},
   "outputs": [],
   "source": [
    "# 경고를 끄기 위해서 iid를 설정합니다.\n",
    "mod = skms.GridSearchCV(pipe, param_grid, iid=False, n_jobs=-1)\n",
    "mod.fit(diabetes.data, diabetes.target);"
   ]
  },
  {
   "cell_type": "code",
   "execution_count": 29,
   "metadata": {},
   "outputs": [
    {
     "name": "stdout",
     "output_type": "stream",
     "text": [
      "Step: standardscaler\n",
      "      StandardScaler(copy=True, with_mean=True,\n",
      "      with_std=True)\n",
      "Step: polynomialfeatures\n",
      "      PolynomialFeatures(degree=2, include_bias=True,\n",
      "      interaction_only=False,\n",
      "      order='C')\n",
      "Step: lasso\n",
      "      Lasso(alpha=4.0, copy_X=True, fit_intercept=True,\n",
      "      max_iter=1000,       normalize=False,\n",
      "      positive=False, precompute=False,\n",
      "      random_state=None,       selection='random',\n",
      "      tol=0.01, warm_start=False)\n"
     ]
    }
   ],
   "source": [
    "for name, step in mod.best_estimator_.named_steps.items():\n",
    "    print(\"Step:\", name)\n",
    "    print(textwrap.indent(textwrap.fill(str(step), 50), \" \" * 6))"
   ]
  },
  {
   "cell_type": "code",
   "execution_count": 30,
   "metadata": {},
   "outputs": [
    {
     "name": "stdout",
     "output_type": "stream",
     "text": [
      "{'lasso__alpha': 4.0, 'polynomialfeatures__degree': 2}\n"
     ]
    }
   ],
   "source": [
    "pp(mod.best_params_)"
   ]
  }
 ],
 "metadata": {
  "kernelspec": {
   "display_name": "book_base",
   "language": "python",
   "name": "book_base"
  },
  "language_info": {
   "codemirror_mode": {
    "name": "ipython",
    "version": 3
   },
   "file_extension": ".py",
   "mimetype": "text/x-python",
   "name": "python",
   "nbconvert_exporter": "python",
   "pygments_lexer": "ipython3",
   "version": "3.7.7"
  }
 },
 "nbformat": 4,
 "nbformat_minor": 2
}
