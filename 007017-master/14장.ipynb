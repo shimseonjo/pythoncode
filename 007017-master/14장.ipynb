{
 "cells": [
  {
   "cell_type": "code",
   "execution_count": 1,
   "metadata": {},
   "outputs": [],
   "source": [
    "# 환경 설정\n",
    "from mlwpy import *\n",
    "%matplotlib inline\n",
    "\n",
    "import cv2"
   ]
  },
  {
   "cell_type": "code",
   "execution_count": 2,
   "metadata": {},
   "outputs": [],
   "source": [
    "docs = [\"the cat in the hat\",\n",
    "        \"the cow jumped over the moon\",\n",
    "        \"the cat mooed and the cow meowed\",\n",
    "        \"the cat said to the cow cow you are not a cat\"]"
   ]
  },
  {
   "cell_type": "code",
   "execution_count": 3,
   "metadata": {},
   "outputs": [],
   "source": [
    "vocabulary = set(\" \".join(docs).split())"
   ]
  },
  {
   "cell_type": "code",
   "execution_count": 4,
   "metadata": {},
   "outputs": [
    {
     "name": "stdout",
     "output_type": "stream",
     "text": [
      "{'cat', 'cow', 'mooed', 'hat', 'you', 'over', 'said', 'jumped', 'not',\n",
      "'meowed', 'moon'}\n"
     ]
    }
   ],
   "source": [
    "common_words = set(['a', 'to', 'the', 'in', 'and', 'are'])\n",
    "vocabulary = vocabulary - common_words\n",
    "print(textwrap.fill(str(vocabulary)))"
   ]
  },
  {
   "cell_type": "code",
   "execution_count": 5,
   "metadata": {},
   "outputs": [
    {
     "data": {
      "text/html": [
       "<div>\n",
       "<style scoped>\n",
       "    .dataframe tbody tr th:only-of-type {\n",
       "        vertical-align: middle;\n",
       "    }\n",
       "\n",
       "    .dataframe tbody tr th {\n",
       "        vertical-align: top;\n",
       "    }\n",
       "\n",
       "    .dataframe thead th {\n",
       "        text-align: right;\n",
       "    }\n",
       "</style>\n",
       "<table border=\"1\" class=\"dataframe\">\n",
       "  <thead>\n",
       "    <tr style=\"text-align: right;\">\n",
       "      <th></th>\n",
       "      <th>cat</th>\n",
       "      <th>cow</th>\n",
       "      <th>mooed</th>\n",
       "      <th>hat</th>\n",
       "      <th>you</th>\n",
       "      <th>over</th>\n",
       "      <th>said</th>\n",
       "      <th>jumped</th>\n",
       "      <th>not</th>\n",
       "      <th>meowed</th>\n",
       "      <th>moon</th>\n",
       "    </tr>\n",
       "  </thead>\n",
       "  <tbody>\n",
       "    <tr>\n",
       "      <th>0</th>\n",
       "      <td>True</td>\n",
       "      <td>False</td>\n",
       "      <td>False</td>\n",
       "      <td>True</td>\n",
       "      <td>False</td>\n",
       "      <td>False</td>\n",
       "      <td>False</td>\n",
       "      <td>False</td>\n",
       "      <td>False</td>\n",
       "      <td>False</td>\n",
       "      <td>False</td>\n",
       "    </tr>\n",
       "    <tr>\n",
       "      <th>1</th>\n",
       "      <td>False</td>\n",
       "      <td>True</td>\n",
       "      <td>False</td>\n",
       "      <td>False</td>\n",
       "      <td>False</td>\n",
       "      <td>True</td>\n",
       "      <td>False</td>\n",
       "      <td>True</td>\n",
       "      <td>False</td>\n",
       "      <td>False</td>\n",
       "      <td>True</td>\n",
       "    </tr>\n",
       "    <tr>\n",
       "      <th>2</th>\n",
       "      <td>True</td>\n",
       "      <td>True</td>\n",
       "      <td>True</td>\n",
       "      <td>False</td>\n",
       "      <td>False</td>\n",
       "      <td>False</td>\n",
       "      <td>False</td>\n",
       "      <td>False</td>\n",
       "      <td>False</td>\n",
       "      <td>True</td>\n",
       "      <td>False</td>\n",
       "    </tr>\n",
       "    <tr>\n",
       "      <th>3</th>\n",
       "      <td>True</td>\n",
       "      <td>True</td>\n",
       "      <td>False</td>\n",
       "      <td>False</td>\n",
       "      <td>True</td>\n",
       "      <td>False</td>\n",
       "      <td>True</td>\n",
       "      <td>False</td>\n",
       "      <td>True</td>\n",
       "      <td>False</td>\n",
       "      <td>False</td>\n",
       "    </tr>\n",
       "  </tbody>\n",
       "</table>\n",
       "</div>"
      ],
      "text/latex": [
       "{\\centering\n",
       "\\begin{tabular}{llllllllllll}\n",
       "\\toprule\n",
       "{} &    cat &    cow &  mooed &    hat &    you &   over &   said &  jumped &    not &  meowed &   moon \\\\\n",
       "\\midrule\n",
       "0 &   True &  False &  False &   True &  False &  False &  False &   False &  False &   False &  False \\\\\n",
       "1 &  False &   True &  False &  False &  False &   True &  False &    True &  False &   False &   True \\\\\n",
       "2 &   True &   True &   True &  False &  False &  False &  False &   False &  False &    True &  False \\\\\n",
       "3 &   True &   True &  False &  False &   True &  False &   True &   False &   True &   False &  False \\\\\n",
       "\\bottomrule\n",
       "\\end{tabular}\n",
       "\n",
       "\\medskip}"
      ],
      "text/plain": [
       "     cat    cow  mooed    hat    you   over   said  jumped    not  meowed  \\\n",
       "0   True  False  False   True  False  False  False   False  False   False   \n",
       "1  False   True  False  False  False   True  False    True  False   False   \n",
       "2   True   True   True  False  False  False  False   False  False    True   \n",
       "3   True   True  False  False   True  False   True   False   True   False   \n",
       "\n",
       "    moon  \n",
       "0  False  \n",
       "1   True  \n",
       "2  False  \n",
       "3  False  "
      ]
     },
     "metadata": {},
     "output_type": "display_data"
    }
   ],
   "source": [
    "# {k:v for k in lst}로 keys:values로부터 딕셔너리를 생성합니다.\n",
    "# 이를 딕셔너리 컴프리헨션이라고 합니다.\n",
    "doc_contains = [{w:(w in d) for w in vocabulary} for d in docs]\n",
    "display(pd.DataFrame(doc_contains))"
   ]
  },
  {
   "cell_type": "code",
   "execution_count": 8,
   "metadata": {},
   "outputs": [
    {
     "data": {
      "text/html": [
       "<div>\n",
       "<style scoped>\n",
       "    .dataframe tbody tr th:only-of-type {\n",
       "        vertical-align: middle;\n",
       "    }\n",
       "\n",
       "    .dataframe tbody tr th {\n",
       "        vertical-align: top;\n",
       "    }\n",
       "\n",
       "    .dataframe thead th {\n",
       "        text-align: right;\n",
       "    }\n",
       "</style>\n",
       "<table border=\"1\" class=\"dataframe\">\n",
       "  <thead>\n",
       "    <tr style=\"text-align: right;\">\n",
       "      <th></th>\n",
       "      <th>cat</th>\n",
       "      <th>cow</th>\n",
       "      <th>mooed</th>\n",
       "      <th>hat</th>\n",
       "      <th>you</th>\n",
       "      <th>over</th>\n",
       "      <th>said</th>\n",
       "      <th>jumped</th>\n",
       "      <th>not</th>\n",
       "      <th>meowed</th>\n",
       "      <th>moon</th>\n",
       "    </tr>\n",
       "  </thead>\n",
       "  <tbody>\n",
       "    <tr>\n",
       "      <th>0</th>\n",
       "      <td>1</td>\n",
       "      <td>0</td>\n",
       "      <td>0</td>\n",
       "      <td>1</td>\n",
       "      <td>0</td>\n",
       "      <td>0</td>\n",
       "      <td>0</td>\n",
       "      <td>0</td>\n",
       "      <td>0</td>\n",
       "      <td>0</td>\n",
       "      <td>0</td>\n",
       "    </tr>\n",
       "    <tr>\n",
       "      <th>1</th>\n",
       "      <td>0</td>\n",
       "      <td>1</td>\n",
       "      <td>0</td>\n",
       "      <td>0</td>\n",
       "      <td>0</td>\n",
       "      <td>1</td>\n",
       "      <td>0</td>\n",
       "      <td>1</td>\n",
       "      <td>0</td>\n",
       "      <td>0</td>\n",
       "      <td>1</td>\n",
       "    </tr>\n",
       "    <tr>\n",
       "      <th>2</th>\n",
       "      <td>1</td>\n",
       "      <td>1</td>\n",
       "      <td>1</td>\n",
       "      <td>0</td>\n",
       "      <td>0</td>\n",
       "      <td>0</td>\n",
       "      <td>0</td>\n",
       "      <td>0</td>\n",
       "      <td>0</td>\n",
       "      <td>1</td>\n",
       "      <td>0</td>\n",
       "    </tr>\n",
       "    <tr>\n",
       "      <th>3</th>\n",
       "      <td>2</td>\n",
       "      <td>2</td>\n",
       "      <td>0</td>\n",
       "      <td>0</td>\n",
       "      <td>1</td>\n",
       "      <td>0</td>\n",
       "      <td>1</td>\n",
       "      <td>0</td>\n",
       "      <td>1</td>\n",
       "      <td>0</td>\n",
       "      <td>0</td>\n",
       "    </tr>\n",
       "  </tbody>\n",
       "</table>\n",
       "</div>"
      ],
      "text/latex": [
       "{\\centering\n",
       "\\begin{tabular}{lrrrrrrrrrrr}\n",
       "\\toprule\n",
       "{} &  cat &  cow &  mooed &  hat &  you &  over &  said &  jumped &  not &  meowed &  moon \\\\\n",
       "\\midrule\n",
       "0 &    1 &    0 &      0 &    1 &    0 &     0 &     0 &       0 &    0 &       0 &     0 \\\\\n",
       "1 &    0 &    1 &      0 &    0 &    0 &     1 &     0 &       1 &    0 &       0 &     1 \\\\\n",
       "2 &    1 &    1 &      1 &    0 &    0 &     0 &     0 &       0 &    0 &       1 &     0 \\\\\n",
       "3 &    2 &    2 &      0 &    0 &    1 &     0 &     1 &       0 &    1 &       0 &     0 \\\\\n",
       "\\bottomrule\n",
       "\\end{tabular}\n",
       "\n",
       "\\medskip}"
      ],
      "text/plain": [
       "   cat  cow  mooed  hat  you  over  said  jumped  not  meowed  moon\n",
       "0    1    0      0    1    0     0     0       0    0       0     0\n",
       "1    0    1      0    0    0     1     0       1    0       0     1\n",
       "2    1    1      1    0    0     0     0       0    0       1     0\n",
       "3    2    2      0    0    1     0     1       0    1       0     0"
      ]
     },
     "metadata": {},
     "output_type": "display_data"
    }
   ],
   "source": [
    "word_count = [{w:d.count(w) for w in vocabulary} for d in docs]\n",
    "wcs = pd.DataFrame(word_count)\n",
    "display(wcs)"
   ]
  },
  {
   "cell_type": "code",
   "execution_count": 9,
   "metadata": {},
   "outputs": [
    {
     "data": {
      "text/plain": [
       "<4x8 sparse matrix of type '<class 'numpy.int64'>'\n",
       "\twith 12 stored elements in Compressed Sparse Row format>"
      ]
     },
     "execution_count": 9,
     "metadata": {},
     "output_type": "execute_result"
    }
   ],
   "source": [
    "import sklearn.feature_extraction.text as sk_txt\n",
    "sparse = sk_txt.CountVectorizer(stop_words='english').fit_transform(docs)\n",
    "sparse"
   ]
  },
  {
   "cell_type": "code",
   "execution_count": 10,
   "metadata": {},
   "outputs": [
    {
     "data": {
      "text/plain": [
       "matrix([[1, 0, 1, 0, 0, 0, 0, 0],\n",
       "        [0, 1, 0, 1, 0, 0, 1, 0],\n",
       "        [1, 1, 0, 0, 1, 1, 0, 0],\n",
       "        [2, 2, 0, 0, 0, 0, 0, 1]])"
      ]
     },
     "execution_count": 10,
     "metadata": {},
     "output_type": "execute_result"
    }
   ],
   "source": [
    "sparse.todense()"
   ]
  },
  {
   "cell_type": "code",
   "execution_count": 11,
   "metadata": {},
   "outputs": [
    {
     "data": {
      "text/html": [
       "<div>\n",
       "<style scoped>\n",
       "    .dataframe tbody tr th:only-of-type {\n",
       "        vertical-align: middle;\n",
       "    }\n",
       "\n",
       "    .dataframe tbody tr th {\n",
       "        vertical-align: top;\n",
       "    }\n",
       "\n",
       "    .dataframe thead th {\n",
       "        text-align: right;\n",
       "    }\n",
       "</style>\n",
       "<table border=\"1\" class=\"dataframe\">\n",
       "  <thead>\n",
       "    <tr style=\"text-align: right;\">\n",
       "      <th></th>\n",
       "      <th>cat</th>\n",
       "      <th>cow</th>\n",
       "      <th>mooed</th>\n",
       "      <th>hat</th>\n",
       "      <th>you</th>\n",
       "      <th>over</th>\n",
       "      <th>said</th>\n",
       "      <th>jumped</th>\n",
       "      <th>not</th>\n",
       "      <th>meowed</th>\n",
       "      <th>moon</th>\n",
       "    </tr>\n",
       "  </thead>\n",
       "  <tbody>\n",
       "    <tr>\n",
       "      <th>0</th>\n",
       "      <td>3</td>\n",
       "      <td>3</td>\n",
       "      <td>1</td>\n",
       "      <td>1</td>\n",
       "      <td>1</td>\n",
       "      <td>1</td>\n",
       "      <td>1</td>\n",
       "      <td>1</td>\n",
       "      <td>1</td>\n",
       "      <td>1</td>\n",
       "      <td>1</td>\n",
       "    </tr>\n",
       "  </tbody>\n",
       "</table>\n",
       "</div>"
      ],
      "text/latex": [
       "{\\centering\n",
       "\\begin{tabular}{lrrrrrrrrrrr}\n",
       "\\toprule\n",
       "{} &  cat &  cow &  mooed &  hat &  you &  over &  said &  jumped &  not &  meowed &  moon \\\\\n",
       "\\midrule\n",
       "0 &    3 &    3 &      1 &    1 &    1 &     1 &     1 &       1 &    1 &       1 &     1 \\\\\n",
       "\\bottomrule\n",
       "\\end{tabular}\n",
       "\n",
       "\\medskip}"
      ],
      "text/plain": [
       "   cat  cow  mooed  hat  you  over  said  jumped  not  meowed  moon\n",
       "0    3    3      1    1    1     1     1       1    1       1     1"
      ]
     },
     "metadata": {},
     "output_type": "display_data"
    }
   ],
   "source": [
    "doc_freq = pd.DataFrame(wcs.astype(np.bool).sum(axis='rows')).T\n",
    "display(doc_freq)"
   ]
  },
  {
   "cell_type": "code",
   "execution_count": 12,
   "metadata": {},
   "outputs": [
    {
     "data": {
      "text/html": [
       "<div>\n",
       "<style scoped>\n",
       "    .dataframe tbody tr th:only-of-type {\n",
       "        vertical-align: middle;\n",
       "    }\n",
       "\n",
       "    .dataframe tbody tr th {\n",
       "        vertical-align: top;\n",
       "    }\n",
       "\n",
       "    .dataframe thead th {\n",
       "        text-align: right;\n",
       "    }\n",
       "</style>\n",
       "<table border=\"1\" class=\"dataframe\">\n",
       "  <thead>\n",
       "    <tr style=\"text-align: right;\">\n",
       "      <th></th>\n",
       "      <th>cat</th>\n",
       "      <th>cow</th>\n",
       "      <th>mooed</th>\n",
       "      <th>hat</th>\n",
       "      <th>you</th>\n",
       "      <th>over</th>\n",
       "      <th>said</th>\n",
       "      <th>jumped</th>\n",
       "      <th>not</th>\n",
       "      <th>meowed</th>\n",
       "      <th>moon</th>\n",
       "    </tr>\n",
       "  </thead>\n",
       "  <tbody>\n",
       "    <tr>\n",
       "      <th>0</th>\n",
       "      <td>0.2877</td>\n",
       "      <td>0.2877</td>\n",
       "      <td>1.3863</td>\n",
       "      <td>1.3863</td>\n",
       "      <td>1.3863</td>\n",
       "      <td>1.3863</td>\n",
       "      <td>1.3863</td>\n",
       "      <td>1.3863</td>\n",
       "      <td>1.3863</td>\n",
       "      <td>1.3863</td>\n",
       "      <td>1.3863</td>\n",
       "    </tr>\n",
       "  </tbody>\n",
       "</table>\n",
       "</div>"
      ],
      "text/latex": [
       "{\\centering\n",
       "\\begin{tabular}{lrrrrrrrrrrr}\n",
       "\\toprule\n",
       "{} &                  cat &                  cow &                mooed &                  hat &                  you &                 over &                 said &               jumped &                  not &               meowed &                 moon \\\\\n",
       "\\midrule\n",
       "0 &               0.2877 &               0.2877 &               1.3863 &               1.3863 &               1.3863 &               1.3863 &               1.3863 &               1.3863 &               1.3863 &               1.3863 &               1.3863 \\\\\n",
       "\\bottomrule\n",
       "\\end{tabular}\n",
       "\n",
       "\\medskip}"
      ],
      "text/plain": [
       "                   cat                  cow                mooed  \\\n",
       "0               0.2877               0.2877               1.3863   \n",
       "\n",
       "                   hat                  you                 over  \\\n",
       "0               1.3863               1.3863               1.3863   \n",
       "\n",
       "                  said               jumped                  not  \\\n",
       "0               1.3863               1.3863               1.3863   \n",
       "\n",
       "                meowed                 moon  \n",
       "0               1.3863               1.3863  "
      ]
     },
     "metadata": {},
     "output_type": "display_data"
    }
   ],
   "source": [
    "idf = np.log(len(docs) / doc_freq) \n",
    "#  == np.log(len(docs)) - np.log(doc_freq)\n",
    "display(idf)"
   ]
  },
  {
   "cell_type": "code",
   "execution_count": 13,
   "metadata": {},
   "outputs": [
    {
     "data": {
      "text/html": [
       "<div>\n",
       "<style scoped>\n",
       "    .dataframe tbody tr th:only-of-type {\n",
       "        vertical-align: middle;\n",
       "    }\n",
       "\n",
       "    .dataframe tbody tr th {\n",
       "        vertical-align: top;\n",
       "    }\n",
       "\n",
       "    .dataframe thead th {\n",
       "        text-align: right;\n",
       "    }\n",
       "</style>\n",
       "<table border=\"1\" class=\"dataframe\">\n",
       "  <thead>\n",
       "    <tr style=\"text-align: right;\">\n",
       "      <th></th>\n",
       "      <th>cat</th>\n",
       "      <th>cow</th>\n",
       "      <th>mooed</th>\n",
       "      <th>hat</th>\n",
       "      <th>you</th>\n",
       "      <th>over</th>\n",
       "      <th>said</th>\n",
       "      <th>jumped</th>\n",
       "      <th>not</th>\n",
       "      <th>meowed</th>\n",
       "      <th>moon</th>\n",
       "    </tr>\n",
       "  </thead>\n",
       "  <tbody>\n",
       "    <tr>\n",
       "      <th>0</th>\n",
       "      <td>0.2877</td>\n",
       "      <td>0.0000</td>\n",
       "      <td>0.0000</td>\n",
       "      <td>1.3863</td>\n",
       "      <td>0.0000</td>\n",
       "      <td>0.0000</td>\n",
       "      <td>0.0000</td>\n",
       "      <td>0.0000</td>\n",
       "      <td>0.0000</td>\n",
       "      <td>0.0000</td>\n",
       "      <td>0.0000</td>\n",
       "    </tr>\n",
       "    <tr>\n",
       "      <th>1</th>\n",
       "      <td>0.0000</td>\n",
       "      <td>0.2877</td>\n",
       "      <td>0.0000</td>\n",
       "      <td>0.0000</td>\n",
       "      <td>0.0000</td>\n",
       "      <td>1.3863</td>\n",
       "      <td>0.0000</td>\n",
       "      <td>1.3863</td>\n",
       "      <td>0.0000</td>\n",
       "      <td>0.0000</td>\n",
       "      <td>1.3863</td>\n",
       "    </tr>\n",
       "    <tr>\n",
       "      <th>2</th>\n",
       "      <td>0.2877</td>\n",
       "      <td>0.2877</td>\n",
       "      <td>1.3863</td>\n",
       "      <td>0.0000</td>\n",
       "      <td>0.0000</td>\n",
       "      <td>0.0000</td>\n",
       "      <td>0.0000</td>\n",
       "      <td>0.0000</td>\n",
       "      <td>0.0000</td>\n",
       "      <td>1.3863</td>\n",
       "      <td>0.0000</td>\n",
       "    </tr>\n",
       "    <tr>\n",
       "      <th>3</th>\n",
       "      <td>0.5754</td>\n",
       "      <td>0.5754</td>\n",
       "      <td>0.0000</td>\n",
       "      <td>0.0000</td>\n",
       "      <td>1.3863</td>\n",
       "      <td>0.0000</td>\n",
       "      <td>1.3863</td>\n",
       "      <td>0.0000</td>\n",
       "      <td>1.3863</td>\n",
       "      <td>0.0000</td>\n",
       "      <td>0.0000</td>\n",
       "    </tr>\n",
       "  </tbody>\n",
       "</table>\n",
       "</div>"
      ],
      "text/latex": [
       "{\\centering\n",
       "\\begin{tabular}{lrrrrrrrrrrr}\n",
       "\\toprule\n",
       "{} &                  cat &                  cow &                mooed &                  hat &                  you &                 over &                 said &               jumped &                  not &               meowed &                 moon \\\\\n",
       "\\midrule\n",
       "0 &               0.2877 &               0.0000 &               0.0000 &               1.3863 &               0.0000 &               0.0000 &               0.0000 &               0.0000 &               0.0000 &               0.0000 &               0.0000 \\\\\n",
       "1 &               0.0000 &               0.2877 &               0.0000 &               0.0000 &               0.0000 &               1.3863 &               0.0000 &               1.3863 &               0.0000 &               0.0000 &               1.3863 \\\\\n",
       "2 &               0.2877 &               0.2877 &               1.3863 &               0.0000 &               0.0000 &               0.0000 &               0.0000 &               0.0000 &               0.0000 &               1.3863 &               0.0000 \\\\\n",
       "3 &               0.5754 &               0.5754 &               0.0000 &               0.0000 &               1.3863 &               0.0000 &               1.3863 &               0.0000 &               1.3863 &               0.0000 &               0.0000 \\\\\n",
       "\\bottomrule\n",
       "\\end{tabular}\n",
       "\n",
       "\\medskip}"
      ],
      "text/plain": [
       "                   cat                  cow                mooed  \\\n",
       "0               0.2877               0.0000               0.0000   \n",
       "1               0.0000               0.2877               0.0000   \n",
       "2               0.2877               0.2877               1.3863   \n",
       "3               0.5754               0.5754               0.0000   \n",
       "\n",
       "                   hat                  you                 over  \\\n",
       "0               1.3863               0.0000               0.0000   \n",
       "1               0.0000               0.0000               1.3863   \n",
       "2               0.0000               0.0000               0.0000   \n",
       "3               0.0000               1.3863               0.0000   \n",
       "\n",
       "                  said               jumped                  not  \\\n",
       "0               0.0000               0.0000               0.0000   \n",
       "1               0.0000               1.3863               0.0000   \n",
       "2               0.0000               0.0000               0.0000   \n",
       "3               1.3863               0.0000               1.3863   \n",
       "\n",
       "                meowed                 moon  \n",
       "0               0.0000               0.0000  \n",
       "1               0.0000               1.3863  \n",
       "2               1.3863               0.0000  \n",
       "3               0.0000               0.0000  "
      ]
     },
     "metadata": {},
     "output_type": "display_data"
    }
   ],
   "source": [
    "tf_idf  = wcs * idf.iloc[0]   # 곱셈을 위해 열들을 맞춰줍니다.\n",
    "display(tf_idf)"
   ]
  },
  {
   "cell_type": "code",
   "execution_count": 14,
   "metadata": {},
   "outputs": [
    {
     "data": {
      "text/plain": [
       "array([[0.5   , 0.    , 0.    , 0.5   , 0.    , 0.    , 0.    , 0.    ,\n",
       "        0.    , 0.    , 0.    ],\n",
       "       [0.    , 0.25  , 0.    , 0.    , 0.    , 0.25  , 0.    , 0.25  ,\n",
       "        0.    , 0.    , 0.25  ],\n",
       "       [0.25  , 0.25  , 0.25  , 0.    , 0.    , 0.    , 0.    , 0.    ,\n",
       "        0.    , 0.25  , 0.    ],\n",
       "       [0.2857, 0.2857, 0.    , 0.    , 0.1429, 0.    , 0.1429, 0.    ,\n",
       "        0.1429, 0.    , 0.    ]])"
      ]
     },
     "execution_count": 14,
     "metadata": {},
     "output_type": "execute_result"
    }
   ],
   "source": [
    "skpre.Normalizer(norm='l1').fit_transform(wcs)"
   ]
  },
  {
   "cell_type": "code",
   "execution_count": 15,
   "metadata": {},
   "outputs": [
    {
     "data": {
      "text/plain": [
       "matrix([[0.3896, 0.    , 0.6104, 0.    , 0.    , 0.    , 0.    , 0.    ],\n",
       "        [0.    , 0.2419, 0.    , 0.379 , 0.    , 0.    , 0.379 , 0.    ],\n",
       "        [0.1948, 0.1948, 0.    , 0.    , 0.3052, 0.3052, 0.    , 0.    ],\n",
       "        [0.3593, 0.3593, 0.    , 0.    , 0.    , 0.    , 0.    , 0.2814]])"
      ]
     },
     "execution_count": 15,
     "metadata": {},
     "output_type": "execute_result"
    }
   ],
   "source": [
    "sparse = (sk_txt.TfidfVectorizer(norm='l1', stop_words='english')\n",
    "                .fit_transform(docs))\n",
    "sparse.todense()"
   ]
  },
  {
   "cell_type": "code",
   "execution_count": 16,
   "metadata": {},
   "outputs": [],
   "source": [
    "from sklearn.datasets import fetch_20newsgroups\n",
    "twenty_train = fetch_20newsgroups(subset='train')"
   ]
  },
  {
   "cell_type": "code",
   "execution_count": 17,
   "metadata": {},
   "outputs": [
    {
     "name": "stdout",
     "output_type": "stream",
     "text": [
      "the groups:\n",
      "['alt.atheism', 'comp.graphics', 'comp.os.ms-windows.misc',\n",
      "'comp.sys.ibm.pc.hardware', 'comp.sys.mac.hardware', 'comp.windows.x',\n",
      "'misc.forsale', 'rec.autos', 'rec.motorcycles', 'rec.sport.baseball',\n",
      "'rec.sport.hockey', 'sci.crypt', 'sci.electronics', 'sci.med',\n",
      "'sci.space', 'soc.religion.christian', 'talk.politics.guns',\n",
      "'talk.politics.mideast', 'talk.politics.misc', 'talk.religion.misc']\n"
     ]
    }
   ],
   "source": [
    "print(\"the groups:\")\n",
    "print(textwrap.fill(str(twenty_train.target_names)))"
   ]
  },
  {
   "cell_type": "code",
   "execution_count": 18,
   "metadata": {},
   "outputs": [
    {
     "name": "stdout",
     "output_type": "stream",
     "text": [
      "From: lerxst@wam.umd.edu (where's my thing)\n",
      "Subject: WHAT car is this!?\n",
      "Nntp-Posting-Host: rac3.wam.umd.edu\n",
      "Organization: University of Maryland, College Park\n",
      "Lines: 15\n",
      "\n",
      " I was wondering if anyone out there could enlighten me on this car I saw\n",
      "the other day. It was a 2-door sports car, looked to be from the late 60s/\n",
      "early 70s. It was called a Bricklin. The doors were really small. In addition,\n",
      "the front bumper was separate from the rest of the body. This is \n"
     ]
    }
   ],
   "source": [
    "print(\"\\n\".join(twenty_train.data[0].splitlines()[:10]))"
   ]
  },
  {
   "cell_type": "code",
   "execution_count": 19,
   "metadata": {},
   "outputs": [],
   "source": [
    "ct_vect     = sk_txt.CountVectorizer()\n",
    "tfidf_xform = sk_txt.TfidfTransformer()\n",
    "\n",
    "docs_as_counts = ct_vect.fit_transform(twenty_train.data)\n",
    "docs_as_tfidf  = tfidf_xform.fit_transform(docs_as_counts)"
   ]
  },
  {
   "cell_type": "code",
   "execution_count": 20,
   "metadata": {},
   "outputs": [],
   "source": [
    "model = naive_bayes.MultinomialNB().fit(docs_as_tfidf, \n",
    "                                        twenty_train.target)"
   ]
  },
  {
   "cell_type": "code",
   "execution_count": 21,
   "metadata": {},
   "outputs": [],
   "source": [
    "doc_pipeline = pipeline.make_pipeline(sk_txt.CountVectorizer(),\n",
    "                                      sk_txt.TfidfTransformer(),\n",
    "                                      naive_bayes.MultinomialNB())"
   ]
  },
  {
   "cell_type": "code",
   "execution_count": 22,
   "metadata": {},
   "outputs": [],
   "source": [
    "categories = ['misc.forsale',\n",
    "              'comp.graphics', \n",
    "              'sci.med', \n",
    "              'sci.space']"
   ]
  },
  {
   "cell_type": "code",
   "execution_count": 23,
   "metadata": {},
   "outputs": [],
   "source": [
    "twenty_train = fetch_20newsgroups(subset='train',\n",
    "                                  categories=categories, \n",
    "                                  shuffle=True, \n",
    "                                  random_state=42)\n",
    "\n",
    "doc_pipeline = pipeline.make_pipeline(sk_txt.TfidfVectorizer(),\n",
    "                                      naive_bayes.MultinomialNB())\n",
    "\n",
    "\n",
    "model = doc_pipeline.fit(twenty_train.data, twenty_train.target)"
   ]
  },
  {
   "cell_type": "code",
   "execution_count": 24,
   "metadata": {},
   "outputs": [
    {
     "data": {
      "image/png": "[encoded data removed]",
      "text/plain": [
       "<Figure size 432x288 with 2 Axes>"
      ]
     },
     "metadata": {
      "needs_background": "light"
     },
     "output_type": "display_data"
    }
   ],
   "source": [
    "twenty_test = fetch_20newsgroups(subset='test',\n",
    "                                  categories=categories, \n",
    "                                  shuffle=True, \n",
    "                                  random_state=42)\n",
    "\n",
    "doc_preds = model.predict(twenty_test.data)\n",
    "cm = metrics.confusion_matrix(twenty_test.target, doc_preds)\n",
    "ax = sns.heatmap(cm, annot=True, \n",
    "                 xticklabels=twenty_test.target_names, \n",
    "                 yticklabels=twenty_test.target_names,\n",
    "                 fmt='3d') # 셀 안에는 횟수가 기록되어 있습니다.\n",
    "ax.set_xlabel('Predicted')\n",
    "ax.set_ylabel('Actual');"
   ]
  },
  {
   "cell_type": "code",
   "execution_count": 25,
   "metadata": {},
   "outputs": [
    {
     "data": {
      "image/png": "[encoded data removed]",
      "text/plain": [
       "<Figure size 576x288 with 2 Axes>"
      ]
     },
     "metadata": {
      "needs_background": "light"
     },
     "output_type": "display_data"
    }
   ],
   "source": [
    "iris = datasets.load_iris()\n",
    "twod_iris = (decomposition.PCA(n_components=2, whiten=True)\n",
    "                          .fit_transform(iris.data))\n",
    "clusters = cluster.KMeans(n_clusters=3).fit(twod_iris)\n",
    "\n",
    "fig, axes = plt.subplots(1,2,figsize=(8,4))\n",
    "axes[0].scatter(*twod_iris.T, c=iris.target)\n",
    "axes[1].scatter(*twod_iris.T, c=clusters.labels_)\n",
    "\n",
    "axes[0].set_title(\"Truth\"), axes[1].set_title(\"Clustered\");"
   ]
  },
  {
   "cell_type": "code",
   "execution_count": 26,
   "metadata": {},
   "outputs": [
    {
     "name": "stdout",
     "output_type": "stream",
     "text": [
      "number of categories: 102\n",
      "first 10 categories:\n",
      " ['gerenuk', 'hawksbill', 'headphone', 'ant', 'butterfly', 'lamp',\n",
      "'strawberry', 'water_lilly', 'chandelier', 'dragonfly']\n"
     ]
    }
   ],
   "source": [
    "# 브라우저에서 아래 링크에 접속하면 이미지 데이터셋이 다운로드됩니다.\n",
    "# www.vision.caltech.edu/Image_Datasets/Caltech101/101_ObjectCategories.tar.gz\n",
    "# 압축파일을 data 폴더에 넣고 압축을 해제하면\n",
    "# 101_ObjectCategories 폴더가 생성됩니다.\n",
    "\n",
    "# 데이터를 탐색합니다.\n",
    "objcat_path = \"./data/101_ObjectCategories\"\n",
    "cat_paths = glob.glob(osp.join(objcat_path, \"*\"))\n",
    "all_categories = [d.split('/')[-1] for d in cat_paths]\n",
    "\n",
    "print(\"number of categories:\", len(all_categories))\n",
    "print(\"first 10 categories:\\n\",\n",
    "      textwrap.fill(str(all_categories[:10])))"
   ]
  },
  {
   "cell_type": "code",
   "execution_count": 27,
   "metadata": {},
   "outputs": [
    {
     "data": {
      "image/png": "[encoded data removed]",
      "text/plain": [
       "<Figure size 144x144 with 1 Axes>"
      ]
     },
     "metadata": {
      "needs_background": "light"
     },
     "output_type": "display_data"
    }
   ],
   "source": [
    "from skimage.io import imread\n",
    "\n",
    "test_path = osp.join(objcat_path, 'accordion', 'image_0001.jpg')\n",
    "test_img = imread(test_path)\n",
    "\n",
    "fig, ax = plt.subplots(1,1,figsize=(2,2))\n",
    "ax.imshow(test_img)\n",
    "ax.axis('off');"
   ]
  },
  {
   "cell_type": "code",
   "execution_count": 28,
   "metadata": {},
   "outputs": [],
   "source": [
    "def img_to_local_words(img):\n",
    "    ' 이미지로부터 로컬 비주얼 단어를 생성하는 함수입니다. '\n",
    "    sift = cv2.xfeatures2d.SIFT_create()\n",
    "    key_points, descriptors = sift.detectAndCompute(img, None)\n",
    "    return descriptors\n",
    "\n",
    "def id_to_path(img_id):\n",
    "    ' 이미지의 경로를 찾아주는 함수입니다. '\n",
    "    cat, num = img_id\n",
    "    return osp.join(objcat_path, cat, \"image_{:04d}.jpg\".format(num))\n",
    "\n",
    "def add_local_words_for_img(local_ftrs, img_id):\n",
    "    ' local_ftrs의 값을 업데이트합니다. '\n",
    "    cat, _ = img_id\n",
    "    img_path = id_to_path(img_id)\n",
    "    img = imread(img_path)\n",
    "    local_ftrs.setdefault(cat, []).append(img_to_local_words(img))"
   ]
  },
  {
   "cell_type": "code",
   "execution_count": 29,
   "metadata": {},
   "outputs": [],
   "source": [
    "# 상수 파라미터를 설정합니다. \n",
    "use_cats = ['accordion', 'airplanes', 'anchor']\n",
    "use_imgs = range(1,11)\n",
    "\n",
    "img_ids  = list(it.product(use_cats, use_imgs))\n",
    "num_imgs = len(img_ids)\n",
    "\n",
    "global_vocab_size = 20"
   ]
  },
  {
   "cell_type": "code",
   "execution_count": 30,
   "metadata": {},
   "outputs": [
    {
     "name": "stdout",
     "output_type": "stream",
     "text": [
      "dict_keys(['accordion', 'airplanes', 'anchor'])\n"
     ]
    }
   ],
   "source": [
    "# 각 이미지를 로컬 비주얼 단어가 담긴 테이블로 변환합니다.\n",
    "# (이미지 당 테이블 하나, 단어 하나 당 행이 하나씩 생깁니다.)\n",
    "local_words = {}\n",
    "for img_id in img_ids:\n",
    "    add_local_words_for_img(local_words, img_id)\n",
    "print(local_words.keys())"
   ]
  },
  {
   "cell_type": "code",
   "execution_count": 31,
   "metadata": {},
   "outputs": [
    {
     "name": "stdout",
     "output_type": "stream",
     "text": [
      "num of local words for images:\n",
      "[804, 796, 968, 606, 575, 728, 881, 504, 915, 395,\n",
      "350, 207, 466, 562, 617, 288, 348, 671, 328, 243,\n",
      "102, 271, 580, 314, 48, 629, 417, 62, 249, 535]\n"
     ]
    }
   ],
   "source": [
    "# itcfi는 아이템이 담긴 반복자(iterator)로부터 아이템을 꺼내옵니다. \n",
    "# 이름이 길기 때문에 줄여서 표현했습니다.\n",
    "itcfi = it.chain.from_iterable \n",
    "\n",
    "img_local_word_cts = [lf.shape[0] for lf in itcfi(local_words.values())]\n",
    "print(\"num of local words for images:\")\n",
    "print(textwrap.fill(str(img_local_word_cts), width=50))"
   ]
  },
  {
   "cell_type": "code",
   "execution_count": 32,
   "metadata": {},
   "outputs": [
    {
     "name": "stdout",
     "output_type": "stream",
     "text": [
      "total num local words: 14459\n",
      "local word tbl: (14459, 128)\n"
     ]
    }
   ],
   "source": [
    "# 로컬 단어 테이블이 얼마나 가로로 길까요?\n",
    "num_local_words = local_words[use_cats[0]][0].shape[1]\n",
    "\n",
    "# 로컬 단어는 모두 몇개나 될까요?\n",
    "all_local_words = list(itcfi(local_words.values()))\n",
    "tot_num_local_words = sum(lw.shape[0] for lw in all_local_words)\n",
    "print('total num local words:', tot_num_local_words)\n",
    "\n",
    "# 클러스터링을 위해 로컬 테이블을 결합합니다.\n",
    "# np_array_fromiter는 이 장의 마무리에서 소개하겠습니다.\n",
    "lwa_shape = (tot_num_local_words, num_local_words)\n",
    "local_word_arr = np_array_fromiter(itcfi(all_local_words),\n",
    "                                   lwa_shape)\n",
    "print('local word tbl:', local_word_arr.shape)"
   ]
  },
  {
   "cell_type": "code",
   "execution_count": 33,
   "metadata": {},
   "outputs": [
    {
     "name": "stdout",
     "output_type": "stream",
     "text": [
      "translated words shape: (14459,)\n"
     ]
    }
   ],
   "source": [
    "# 로컬 단어를 클러스터링하고 이를 글로벌 단어로 번역합니다.\n",
    "translator = cluster.KMeans(n_clusters=global_vocab_size)\n",
    "global_words = translator.fit_predict(local_word_arr)\n",
    "print('translated words shape:', global_words.shape)"
   ]
  },
  {
   "cell_type": "code",
   "execution_count": 34,
   "metadata": {},
   "outputs": [
    {
     "name": "stdout",
     "output_type": "stream",
     "text": [
      "which img len: 14459\n",
      "shape hist table: (30, 20)\n"
     ]
    }
   ],
   "source": [
    "# 로컬 단어가 어떤 이미지에 속해 있는지 확인합니다.\n",
    "# enumerate_outer는 이 장의 마무리에서 소개합니다.\n",
    "which_img = enumerate_outer(all_local_words)\n",
    "print('which img len:', len(which_img))\n",
    "\n",
    "# 글로벌 단어를 히스토그램으로 변환합니다.\n",
    "counts = co.Counter(zip(which_img, global_words))\n",
    "imgs_as_bogvw = np.zeros((num_imgs, global_vocab_size))\n",
    "for (img, global_word), count in counts.items():\n",
    "    imgs_as_bogvw[img, global_word] = count\n",
    "print('shape hist table:', imgs_as_bogvw.shape)"
   ]
  },
  {
   "cell_type": "code",
   "execution_count": 35,
   "metadata": {},
   "outputs": [
    {
     "name": "stdout",
     "output_type": "stream",
     "text": [
      "img tgt values: [0 0 0 0 0 0 0 0 0 0]\n"
     ]
    }
   ],
   "source": [
    "# local_ftrs.values()는 \n",
    "# [[img1, img2], [img3, img4, img5], etc.]를 반환합니다.\n",
    "# 이미지의 카테고리를 출력해봅니다.\n",
    "img_tgts = enumerate_outer(local_words.values())\n",
    "print('img tgt values:', img_tgts[:10])"
   ]
  },
  {
   "cell_type": "code",
   "execution_count": 36,
   "metadata": {},
   "outputs": [],
   "source": [
    "# 학습 모델을 만들고 훈련합니다.\n",
    "std_svc = pipeline.make_pipeline(skpre.StandardScaler(), svm.SVC())\n",
    "svc = std_svc.fit(imgs_as_bogvw, img_tgts)"
   ]
  },
  {
   "cell_type": "code",
   "execution_count": 37,
   "metadata": {},
   "outputs": [],
   "source": [
    "def image_to_example(img_id, translator):\n",
    "    ' from an id, produce an example with global words '\n",
    "    img_local  = img_to_local_words(imread(id_to_path(img_id)))\n",
    "    img_global = translator.predict(img_local)\n",
    "    img_bogvw  = np.bincount(img_global, \n",
    "                             minlength=translator.n_clusters)     \n",
    "    return img_bogvw.reshape(1,-1).astype(np.float64)"
   ]
  },
  {
   "cell_type": "code",
   "execution_count": 38,
   "metadata": {},
   "outputs": [
    {
     "name": "stdout",
     "output_type": "stream",
     "text": [
      "[0]\n",
      "[1]\n",
      "[2]\n"
     ]
    }
   ],
   "source": [
    "for cat in use_cats:\n",
    "    test = image_to_example((cat, 12), translator)\n",
    "    print(svc.predict(test))"
   ]
  },
  {
   "cell_type": "code",
   "execution_count": 39,
   "metadata": {},
   "outputs": [],
   "source": [
    "class BOVW_XForm:\n",
    "    def __init__(self):\n",
    "        pass\n",
    "    \n",
    "    def _to_local_words(self, img_ids):\n",
    "        # 이미지를 로컬 비주얼 단어로 된 테이블로 변환합니다.\n",
    "        local_words = {}\n",
    "        for img_id in img_ids:\n",
    "            add_local_words_for_img(local_words, img_id)\n",
    "\n",
    "        itcfi = it.chain.from_iterable\n",
    "        all_local_words = list(itcfi(local_words.values()))\n",
    "        return all_local_words\n",
    "    \n",
    "    def fit(self, img_ids, tgt=None):\n",
    "        all_local_words = self._to_local_words(img_ids)\n",
    "        tot_num_local_words = sum(lw.shape[0] for lw in all_local_words)\n",
    "        local_word_arr = np_array_fromiter(itcfi(all_local_words), \n",
    "                                           (tot_num_local_words, num_local_words))\n",
    "        self.translator = cluster.KMeans(n_clusters=global_vocab_size)\n",
    "        self.translator.fit(local_word_arr)\n",
    "        return self\n",
    "\n",
    "    def transform(self, img_ids, tgt=None):\n",
    "        all_local_words = self._to_local_words(img_ids)\n",
    "        tot_num_local_words = sum(lw.shape[0] for lw in all_local_words)\n",
    "        local_word_arr = np_array_fromiter(itcfi(all_local_words), \n",
    "                                           (tot_num_local_words, num_local_words))\n",
    "        global_words = self.translator.predict(local_word_arr)\n",
    "        \n",
    "        # 글로벌 단어를 히스토그램으로 변환합니다.\n",
    "        which_img = enumerate_outer(all_local_words)\n",
    "        counts = co.Counter(zip(which_img, global_words))\n",
    "        imgs_as_bogvw = np.zeros((len(img_ids), global_vocab_size))\n",
    "        for (img, global_word), count in counts.items():\n",
    "            imgs_as_bogvw[img, global_word] = count        \n",
    "        return imgs_as_bogvw"
   ]
  },
  {
   "cell_type": "code",
   "execution_count": 40,
   "metadata": {},
   "outputs": [],
   "source": [
    "use_cats = ['watch', 'umbrella', 'sunflower', 'kangaroo']\n",
    "use_imgs = range(1,40)\n",
    "\n",
    "img_ids  = list(it.product(use_cats, use_imgs))\n",
    "num_imgs = len(img_ids)\n",
    "\n",
    "cat_id = {c:i for i,c in enumerate(use_cats)}\n",
    "img_tgts = [cat_id[ii[0]] for ii in img_ids]"
   ]
  },
  {
   "cell_type": "code",
   "execution_count": 41,
   "metadata": {},
   "outputs": [],
   "source": [
    "(train_img, test_img, \n",
    " train_tgt, test_tgt) = skms.train_test_split(img_ids, img_tgts)\n",
    "bovw_pipe = pipeline.make_pipeline(BOVW_XForm(), \n",
    "                                   skpre.StandardScaler(),\n",
    "                                   svm.SVC())\n",
    "bovw_pipe.fit(train_img, train_tgt);"
   ]
  },
  {
   "cell_type": "code",
   "execution_count": 42,
   "metadata": {},
   "outputs": [
    {
     "data": {
      "image/png": "[encoded data removed]",
      "text/plain": [
       "<Figure size 432x288 with 2 Axes>"
      ]
     },
     "metadata": {
      "needs_background": "light"
     },
     "output_type": "display_data"
    }
   ],
   "source": [
    "img_preds = bovw_pipe.predict(test_img)\n",
    "cm = metrics.confusion_matrix(test_tgt, img_preds)\n",
    "ax = sns.heatmap(cm, annot=True, \n",
    "                 xticklabels=use_cats, \n",
    "                 yticklabels=use_cats,\n",
    "                 fmt='3d')\n",
    "ax.set_xlabel('Predicted')\n",
    "ax.set_ylabel('Actual');"
   ]
  },
  {
   "cell_type": "code",
   "execution_count": 43,
   "metadata": {},
   "outputs": [],
   "source": [
    "def enumerate_outer(outer_seq):\n",
    "    ''' 바깥쪽의 인덱스를 안쪽의 길이만큼 반복합니다.'''\n",
    "    return np.repeat(*zip(*enumerate(map(len, outer_seq))))\n",
    "\n",
    "def np_array_fromiter(itr, shape, dtype=np.float64):\n",
    "    ''' np.fromiter가 1D만 처리하기 때문에 이 함수를 만들었습니다.'''\n",
    "    arr = np.empty(shape, dtype=dtype)\n",
    "    for idx, itm in enumerate(itr):\n",
    "        arr[idx] = itm\n",
    "    return arr"
   ]
  },
  {
   "cell_type": "code",
   "execution_count": 44,
   "metadata": {},
   "outputs": [
    {
     "data": {
      "text/plain": [
       "array([0, 0, 1, 1, 1, 2, 2])"
      ]
     },
     "execution_count": 44,
     "metadata": {},
     "output_type": "execute_result"
    }
   ],
   "source": [
    "enumerate_outer([[0,1], [10, 20,30], [100,200]])"
   ]
  },
  {
   "cell_type": "code",
   "execution_count": 45,
   "metadata": {},
   "outputs": [
    {
     "data": {
      "text/plain": [
       "array([[ 0.,  0.],\n",
       "       [ 1., 10.],\n",
       "       [ 2., 20.],\n",
       "       [ 3., 30.],\n",
       "       [ 4., 40.]])"
      ]
     },
     "execution_count": 45,
     "metadata": {},
     "output_type": "execute_result"
    }
   ],
   "source": [
    "np_array_fromiter(enumerate(range(0,50,10)), (5,2))"
   ]
  },
  {
   "cell_type": "code",
   "execution_count": null,
   "metadata": {},
   "outputs": [],
   "source": []
  }
 ],
 "metadata": {
  "kernelspec": {
   "display_name": "book_base",
   "language": "python",
   "name": "book_base"
  },
  "language_info": {
   "codemirror_mode": {
    "name": "ipython",
    "version": 3
   },
   "file_extension": ".py",
   "mimetype": "text/x-python",
   "name": "python",
   "nbconvert_exporter": "python",
   "pygments_lexer": "ipython3",
   "version": "3.7.7"
  }
 },
 "nbformat": 4,
 "nbformat_minor": 2
}
