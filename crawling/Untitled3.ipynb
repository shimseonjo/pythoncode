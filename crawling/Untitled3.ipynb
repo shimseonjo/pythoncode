{
 "cells": [
  {
   "cell_type": "raw",
   "metadata": {},
   "source": [
    "https://finance.naver.com/marketindex/?tabSel=exchange#tab_section"
   ]
  },
  {
   "cell_type": "code",
   "execution_count": 42,
   "metadata": {},
   "outputs": [],
   "source": [
    "from bs4 import BeautifulSoup\n",
    "import requests"
   ]
  },
  {
   "cell_type": "code",
   "execution_count": 43,
   "metadata": {},
   "outputs": [],
   "source": [
    "url='https://finance.naver.com/marketindex/exchangeList.nhn'"
   ]
  },
  {
   "cell_type": "code",
   "execution_count": 44,
   "metadata": {},
   "outputs": [],
   "source": [
    "r = requests.get(url)"
   ]
  },
  {
   "cell_type": "code",
   "execution_count": 45,
   "metadata": {},
   "outputs": [],
   "source": [
    "soup = BeautifulSoup(r.text,'html.parser')"
   ]
  },
  {
   "cell_type": "code",
   "execution_count": 46,
   "metadata": {},
   "outputs": [],
   "source": [
    "tit=soup.select('td.tit>a')"
   ]
  },
  {
   "cell_type": "code",
   "execution_count": 49,
   "metadata": {
    "collapsed": true,
    "jupyter": {
     "outputs_hidden": true
    }
   },
   "outputs": [
    {
     "name": "stdout",
     "output_type": "stream",
     "text": [
      "미국 USD\n",
      "유럽연합 EUR\n",
      "일본 JPY (100엔)\n",
      "중국 CNY\n",
      "홍콩 HKD\n",
      "대만 TWD\n",
      "영국 GBP\n",
      "오만 OMR\n",
      "캐나다 CAD\n",
      "스위스 CHF\n",
      "스웨덴 SEK\n",
      "호주 AUD\n",
      "뉴질랜드 NZD\n",
      "체코 CZK\n",
      "칠레 CLP\n",
      "터키 TRY\n",
      "몽골 MNT\n",
      "이스라엘 ILS\n",
      "덴마크 DKK\n",
      "노르웨이 NOK\n",
      "사우디아라비아 SAR\n",
      "쿠웨이트 KWD\n",
      "바레인 BHD\n",
      "아랍에미리트 AED\n",
      "요르단 JOD\n",
      "이집트 EGP\n",
      "태국 THB\n",
      "싱가포르 SGD\n",
      "말레이시아 MYR\n",
      "인도네시아 IDR 100\n",
      "카타르 QAR\n",
      "카자흐스탄 KZT\n",
      "브루나이 BND\n",
      "인도 INR\n",
      "파키스탄 PKR\n",
      "방글라데시 BDT\n",
      "필리핀 PHP\n",
      "멕시코 MXN\n",
      "브라질 BRL\n",
      "베트남 VND 100\n",
      "남아프리카 공화국 ZAR\n",
      "러시아 RUB\n",
      "헝가리 HUF\n",
      "폴란드 PLN\n"
     ]
    }
   ],
   "source": [
    "list1=[]\n",
    "for i in tit:\n",
    "    str=i.string.strip()\n",
    "    print(str)\n",
    "    list1.append(str)"
   ]
  },
  {
   "cell_type": "code",
   "execution_count": 35,
   "metadata": {},
   "outputs": [],
   "source": [
    "tit2=soup.select('td.sale') "
   ]
  },
  {
   "cell_type": "code",
   "execution_count": 36,
   "metadata": {
    "collapsed": true,
    "jupyter": {
     "outputs_hidden": true
    }
   },
   "outputs": [
    {
     "name": "stdout",
     "output_type": "stream",
     "text": [
      "1206.50\n",
      "1375.53\n",
      "1128.68\n",
      "172.40\n",
      "155.63\n",
      "40.95\n",
      "1514.34\n",
      "3133.77\n",
      "893.21\n",
      "1275.98\n",
      "132.63\n",
      "843.28\n",
      "791.46\n",
      "51.54\n",
      "1.54\n",
      "175.93\n",
      "0.43\n",
      "351.37\n",
      "184.71\n",
      "129.42\n",
      "321.67\n",
      "3923.58\n",
      "3199.59\n",
      "328.46\n",
      "1701.69\n",
      "75.55\n",
      "38.03\n",
      "866.15\n",
      "282.72\n",
      "8.29\n",
      "331.33\n",
      "2.92\n",
      "865.68\n",
      "16.03\n",
      "7.22\n",
      "14.23\n",
      "24.34\n",
      "53.88\n",
      "224.67\n",
      "5.20\n",
      "72.47\n",
      "16.99\n",
      "3.89\n",
      "306.12\n"
     ]
    }
   ],
   "source": [
    "list2=[]\n",
    "for i in tit2:\n",
    "    str=i.string.strip()\n",
    "    str=str.replace(\",\",\"\")\n",
    "    list2.append(str)\n",
    "    print(str)"
   ]
  },
  {
   "cell_type": "code",
   "execution_count": 40,
   "metadata": {},
   "outputs": [],
   "source": [
    "result=list(zip(list1, list2))"
   ]
  },
  {
   "cell_type": "code",
   "execution_count": 41,
   "metadata": {
    "collapsed": true,
    "jupyter": {
     "outputs_hidden": true
    }
   },
   "outputs": [
    {
     "data": {
      "text/plain": [
       "[('미국 USD', '1206.50'),\n",
       " ('유럽연합 EUR', '1375.53'),\n",
       " ('일본 JPY (100엔)', '1128.68'),\n",
       " ('중국 CNY', '172.40'),\n",
       " ('홍콩 HKD', '155.63'),\n",
       " ('대만 TWD', '40.95'),\n",
       " ('영국 GBP', '1514.34'),\n",
       " ('오만 OMR', '3133.77'),\n",
       " ('캐나다 CAD', '893.21'),\n",
       " ('스위스 CHF', '1275.98'),\n",
       " ('스웨덴 SEK', '132.63'),\n",
       " ('호주 AUD', '843.28'),\n",
       " ('뉴질랜드 NZD', '791.46'),\n",
       " ('체코 CZK', '51.54'),\n",
       " ('칠레 CLP', '1.54'),\n",
       " ('터키 TRY', '175.93'),\n",
       " ('몽골 MNT', '0.43'),\n",
       " ('이스라엘 ILS', '351.37'),\n",
       " ('덴마크 DKK', '184.71'),\n",
       " ('노르웨이 NOK', '129.42'),\n",
       " ('사우디아라비아 SAR', '321.67'),\n",
       " ('쿠웨이트 KWD', '3923.58'),\n",
       " ('바레인 BHD', '3199.59'),\n",
       " ('아랍에미리트 AED', '328.46'),\n",
       " ('요르단 JOD', '1701.69'),\n",
       " ('이집트 EGP', '75.55'),\n",
       " ('태국 THB', '38.03'),\n",
       " ('싱가포르 SGD', '866.15'),\n",
       " ('말레이시아 MYR', '282.72'),\n",
       " ('인도네시아 IDR 100', '8.29'),\n",
       " ('카타르 QAR', '331.33'),\n",
       " ('카자흐스탄 KZT', '2.92'),\n",
       " ('브루나이 BND', '865.68'),\n",
       " ('인도 INR', '16.03'),\n",
       " ('파키스탄 PKR', '7.22'),\n",
       " ('방글라데시 BDT', '14.23'),\n",
       " ('필리핀 PHP', '24.34'),\n",
       " ('멕시코 MXN', '53.88'),\n",
       " ('브라질 BRL', '224.67'),\n",
       " ('베트남 VND 100', '5.20'),\n",
       " ('남아프리카 공화국 ZAR', '72.47'),\n",
       " ('러시아 RUB', '16.99'),\n",
       " ('헝가리 HUF', '3.89'),\n",
       " ('폴란드 PLN', '306.12')]"
      ]
     },
     "execution_count": 41,
     "metadata": {},
     "output_type": "execute_result"
    }
   ],
   "source": [
    "result"
   ]
  }
 ],
 "metadata": {
  "kernelspec": {
   "display_name": "Python 3",
   "language": "python",
   "name": "python3"
  },
  "language_info": {
   "codemirror_mode": {
    "name": "ipython",
    "version": 3
   },
   "file_extension": ".py",
   "mimetype": "text/x-python",
   "name": "python",
   "nbconvert_exporter": "python",
   "pygments_lexer": "ipython3",
   "version": "3.7.6"
  }
 },
 "nbformat": 4,
 "nbformat_minor": 4
}
